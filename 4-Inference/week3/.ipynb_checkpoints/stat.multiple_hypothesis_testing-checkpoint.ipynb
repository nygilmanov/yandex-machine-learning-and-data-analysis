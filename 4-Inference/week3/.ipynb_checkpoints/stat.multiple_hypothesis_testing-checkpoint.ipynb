{
 "cells": [
  {
   "cell_type": "markdown",
   "metadata": {},
   "source": [
    "# Множественная проверка гипотез"
   ]
  },
  {
   "cell_type": "code",
   "execution_count": 1,
   "metadata": {
    "collapsed": false
   },
   "outputs": [],
   "source": [
    "import pandas as pd\n",
    "import numpy as np\n",
    "\n",
    "from scipy.stats import pearsonr\n",
    "from statsmodels.sandbox.stats.multicomp import multipletests "
   ]
  },
  {
   "cell_type": "markdown",
   "metadata": {},
   "source": [
    "## Foodmart product sales "
   ]
  },
  {
   "cell_type": "code",
   "execution_count": 2,
   "metadata": {
    "collapsed": false
   },
   "outputs": [],
   "source": [
    "sales = pd.read_csv('foodmart.sales.tsv', sep = '\\t', header = 0, parse_dates = [2])"
   ]
  },
  {
   "cell_type": "code",
   "execution_count": 3,
   "metadata": {
    "collapsed": false
   },
   "outputs": [
    {
     "data": {
      "text/html": [
       "<div>\n",
       "<table border=\"1\" class=\"dataframe\">\n",
       "  <thead>\n",
       "    <tr style=\"text-align: right;\">\n",
       "      <th></th>\n",
       "      <th>product_id</th>\n",
       "      <th>store_id</th>\n",
       "      <th>date</th>\n",
       "      <th>sales</th>\n",
       "    </tr>\n",
       "  </thead>\n",
       "  <tbody>\n",
       "    <tr>\n",
       "      <th>0</th>\n",
       "      <td>4</td>\n",
       "      <td>6</td>\n",
       "      <td>1997-01-01</td>\n",
       "      <td>4</td>\n",
       "    </tr>\n",
       "    <tr>\n",
       "      <th>1</th>\n",
       "      <td>25</td>\n",
       "      <td>6</td>\n",
       "      <td>1997-01-01</td>\n",
       "      <td>3</td>\n",
       "    </tr>\n",
       "    <tr>\n",
       "      <th>2</th>\n",
       "      <td>48</td>\n",
       "      <td>6</td>\n",
       "      <td>1997-01-01</td>\n",
       "      <td>3</td>\n",
       "    </tr>\n",
       "    <tr>\n",
       "      <th>3</th>\n",
       "      <td>76</td>\n",
       "      <td>6</td>\n",
       "      <td>1997-01-01</td>\n",
       "      <td>4</td>\n",
       "    </tr>\n",
       "    <tr>\n",
       "      <th>4</th>\n",
       "      <td>119</td>\n",
       "      <td>6</td>\n",
       "      <td>1997-01-01</td>\n",
       "      <td>3</td>\n",
       "    </tr>\n",
       "  </tbody>\n",
       "</table>\n",
       "</div>"
      ],
      "text/plain": [
       "   product_id  store_id       date  sales\n",
       "0           4         6 1997-01-01      4\n",
       "1          25         6 1997-01-01      3\n",
       "2          48         6 1997-01-01      3\n",
       "3          76         6 1997-01-01      4\n",
       "4         119         6 1997-01-01      3"
      ]
     },
     "execution_count": 3,
     "metadata": {},
     "output_type": "execute_result"
    }
   ],
   "source": [
    "sales.head()"
   ]
  },
  {
   "cell_type": "code",
   "execution_count": 4,
   "metadata": {
    "collapsed": true
   },
   "outputs": [],
   "source": [
    "products = pd.read_csv('foodmart.products.tsv', sep = '\\t', header = 0)"
   ]
  },
  {
   "cell_type": "code",
   "execution_count": 5,
   "metadata": {
    "collapsed": false
   },
   "outputs": [
    {
     "data": {
      "text/html": [
       "<div>\n",
       "<table border=\"1\" class=\"dataframe\">\n",
       "  <thead>\n",
       "    <tr style=\"text-align: right;\">\n",
       "      <th></th>\n",
       "      <th>product_class_id</th>\n",
       "      <th>product_id</th>\n",
       "      <th>brand_name</th>\n",
       "      <th>product_name</th>\n",
       "      <th>SKU</th>\n",
       "      <th>SRP</th>\n",
       "      <th>gross_weight</th>\n",
       "      <th>net_weight</th>\n",
       "      <th>recyclable_package</th>\n",
       "      <th>low_fat</th>\n",
       "      <th>units_per_case</th>\n",
       "      <th>cases_per_pallet</th>\n",
       "      <th>shelf_width</th>\n",
       "      <th>shelf_height</th>\n",
       "      <th>shelf_depth</th>\n",
       "    </tr>\n",
       "  </thead>\n",
       "  <tbody>\n",
       "    <tr>\n",
       "      <th>0</th>\n",
       "      <td>30</td>\n",
       "      <td>1</td>\n",
       "      <td>Washington</td>\n",
       "      <td>Washington Berry Juice</td>\n",
       "      <td>90748583674</td>\n",
       "      <td>2.85</td>\n",
       "      <td>8.39</td>\n",
       "      <td>6.39</td>\n",
       "      <td>False</td>\n",
       "      <td>False</td>\n",
       "      <td>30</td>\n",
       "      <td>14</td>\n",
       "      <td>16.9</td>\n",
       "      <td>12.60</td>\n",
       "      <td>7.40</td>\n",
       "    </tr>\n",
       "    <tr>\n",
       "      <th>1</th>\n",
       "      <td>52</td>\n",
       "      <td>2</td>\n",
       "      <td>Washington</td>\n",
       "      <td>Washington Mango Drink</td>\n",
       "      <td>96516502499</td>\n",
       "      <td>0.74</td>\n",
       "      <td>7.42</td>\n",
       "      <td>4.42</td>\n",
       "      <td>False</td>\n",
       "      <td>True</td>\n",
       "      <td>18</td>\n",
       "      <td>8</td>\n",
       "      <td>13.4</td>\n",
       "      <td>3.71</td>\n",
       "      <td>22.60</td>\n",
       "    </tr>\n",
       "    <tr>\n",
       "      <th>2</th>\n",
       "      <td>52</td>\n",
       "      <td>3</td>\n",
       "      <td>Washington</td>\n",
       "      <td>Washington Strawberry Drink</td>\n",
       "      <td>58427771925</td>\n",
       "      <td>0.83</td>\n",
       "      <td>13.10</td>\n",
       "      <td>11.10</td>\n",
       "      <td>True</td>\n",
       "      <td>True</td>\n",
       "      <td>17</td>\n",
       "      <td>13</td>\n",
       "      <td>14.4</td>\n",
       "      <td>11.00</td>\n",
       "      <td>7.77</td>\n",
       "    </tr>\n",
       "    <tr>\n",
       "      <th>3</th>\n",
       "      <td>19</td>\n",
       "      <td>4</td>\n",
       "      <td>Washington</td>\n",
       "      <td>Washington Cream Soda</td>\n",
       "      <td>64412155747</td>\n",
       "      <td>3.64</td>\n",
       "      <td>10.60</td>\n",
       "      <td>9.60</td>\n",
       "      <td>True</td>\n",
       "      <td>False</td>\n",
       "      <td>26</td>\n",
       "      <td>10</td>\n",
       "      <td>22.9</td>\n",
       "      <td>18.90</td>\n",
       "      <td>7.93</td>\n",
       "    </tr>\n",
       "    <tr>\n",
       "      <th>4</th>\n",
       "      <td>19</td>\n",
       "      <td>5</td>\n",
       "      <td>Washington</td>\n",
       "      <td>Washington Diet Soda</td>\n",
       "      <td>85561191439</td>\n",
       "      <td>2.19</td>\n",
       "      <td>6.66</td>\n",
       "      <td>4.65</td>\n",
       "      <td>True</td>\n",
       "      <td>False</td>\n",
       "      <td>7</td>\n",
       "      <td>10</td>\n",
       "      <td>20.7</td>\n",
       "      <td>21.90</td>\n",
       "      <td>19.20</td>\n",
       "    </tr>\n",
       "  </tbody>\n",
       "</table>\n",
       "</div>"
      ],
      "text/plain": [
       "   product_class_id  product_id  brand_name                 product_name  \\\n",
       "0                30           1  Washington       Washington Berry Juice   \n",
       "1                52           2  Washington       Washington Mango Drink   \n",
       "2                52           3  Washington  Washington Strawberry Drink   \n",
       "3                19           4  Washington        Washington Cream Soda   \n",
       "4                19           5  Washington         Washington Diet Soda   \n",
       "\n",
       "           SKU   SRP  gross_weight  net_weight recyclable_package low_fat  \\\n",
       "0  90748583674  2.85          8.39        6.39              False   False   \n",
       "1  96516502499  0.74          7.42        4.42              False    True   \n",
       "2  58427771925  0.83         13.10       11.10               True    True   \n",
       "3  64412155747  3.64         10.60        9.60               True   False   \n",
       "4  85561191439  2.19          6.66        4.65               True   False   \n",
       "\n",
       "   units_per_case  cases_per_pallet  shelf_width  shelf_height  shelf_depth  \n",
       "0              30                14         16.9         12.60         7.40  \n",
       "1              18                 8         13.4          3.71        22.60  \n",
       "2              17                13         14.4         11.00         7.77  \n",
       "3              26                10         22.9         18.90         7.93  \n",
       "4               7                10         20.7         21.90        19.20  "
      ]
     },
     "execution_count": 5,
     "metadata": {},
     "output_type": "execute_result"
    }
   ],
   "source": [
    "products.head()"
   ]
  },
  {
   "cell_type": "code",
   "execution_count": 6,
   "metadata": {
    "collapsed": false
   },
   "outputs": [],
   "source": [
    "sales = sales.merge(products[['product_id', 'product_name']], \n",
    "                    on = ['product_id'], how = 'inner')"
   ]
  },
  {
   "cell_type": "code",
   "execution_count": 7,
   "metadata": {
    "collapsed": false
   },
   "outputs": [
    {
     "data": {
      "text/html": [
       "<div>\n",
       "<table border=\"1\" class=\"dataframe\">\n",
       "  <thead>\n",
       "    <tr style=\"text-align: right;\">\n",
       "      <th></th>\n",
       "      <th>product_id</th>\n",
       "      <th>store_id</th>\n",
       "      <th>date</th>\n",
       "      <th>sales</th>\n",
       "      <th>product_name</th>\n",
       "    </tr>\n",
       "  </thead>\n",
       "  <tbody>\n",
       "    <tr>\n",
       "      <th>0</th>\n",
       "      <td>4</td>\n",
       "      <td>6</td>\n",
       "      <td>1997-01-01</td>\n",
       "      <td>4</td>\n",
       "      <td>Washington Cream Soda</td>\n",
       "    </tr>\n",
       "    <tr>\n",
       "      <th>1</th>\n",
       "      <td>4</td>\n",
       "      <td>7</td>\n",
       "      <td>1997-01-05</td>\n",
       "      <td>3</td>\n",
       "      <td>Washington Cream Soda</td>\n",
       "    </tr>\n",
       "    <tr>\n",
       "      <th>2</th>\n",
       "      <td>4</td>\n",
       "      <td>6</td>\n",
       "      <td>1997-01-06</td>\n",
       "      <td>2</td>\n",
       "      <td>Washington Cream Soda</td>\n",
       "    </tr>\n",
       "    <tr>\n",
       "      <th>3</th>\n",
       "      <td>4</td>\n",
       "      <td>17</td>\n",
       "      <td>1997-01-11</td>\n",
       "      <td>2</td>\n",
       "      <td>Washington Cream Soda</td>\n",
       "    </tr>\n",
       "    <tr>\n",
       "      <th>4</th>\n",
       "      <td>4</td>\n",
       "      <td>24</td>\n",
       "      <td>1997-01-11</td>\n",
       "      <td>2</td>\n",
       "      <td>Washington Cream Soda</td>\n",
       "    </tr>\n",
       "  </tbody>\n",
       "</table>\n",
       "</div>"
      ],
      "text/plain": [
       "   product_id  store_id       date  sales           product_name\n",
       "0           4         6 1997-01-01      4  Washington Cream Soda\n",
       "1           4         7 1997-01-05      3  Washington Cream Soda\n",
       "2           4         6 1997-01-06      2  Washington Cream Soda\n",
       "3           4        17 1997-01-11      2  Washington Cream Soda\n",
       "4           4        24 1997-01-11      2  Washington Cream Soda"
      ]
     },
     "execution_count": 7,
     "metadata": {},
     "output_type": "execute_result"
    }
   ],
   "source": [
    "sales.head()"
   ]
  },
  {
   "cell_type": "markdown",
   "metadata": {},
   "source": [
    "## Корреляция Пирсона"
   ]
  },
  {
   "cell_type": "code",
   "execution_count": 8,
   "metadata": {
    "collapsed": false
   },
   "outputs": [],
   "source": [
    "sparse_sales = pd.pivot_table(sales, values='sales', index=['date', 'store_id'],\n",
    "                     columns=['product_name'], fill_value = 0)"
   ]
  },
  {
   "cell_type": "code",
   "execution_count": null,
   "metadata": {
    "collapsed": false,
    "scrolled": true
   },
   "outputs": [
    {
     "data": {
      "text/html": [
       "<div>\n",
       "<table border=\"1\" class=\"dataframe\">\n",
       "  <thead>\n",
       "    <tr style=\"text-align: right;\">\n",
       "      <th></th>\n",
       "      <th>product_name</th>\n",
       "      <th>ADJ Rosy Sunglasses</th>\n",
       "      <th>Akron City Map</th>\n",
       "      <th>Akron Eyeglass Screwdriver</th>\n",
       "      <th>American Beef Bologna</th>\n",
       "      <th>American Chicken Hot Dogs</th>\n",
       "      <th>American Cole Slaw</th>\n",
       "      <th>American Corned Beef</th>\n",
       "      <th>American Foot-Long Hot Dogs</th>\n",
       "      <th>American Low Fat Bologna</th>\n",
       "      <th>American Low Fat Cole Slaw</th>\n",
       "      <th>...</th>\n",
       "      <th>Washington Apple Juice</th>\n",
       "      <th>Washington Berry Juice</th>\n",
       "      <th>Washington Cola</th>\n",
       "      <th>Washington Cranberry Juice</th>\n",
       "      <th>Washington Cream Soda</th>\n",
       "      <th>Washington Diet Cola</th>\n",
       "      <th>Washington Diet Soda</th>\n",
       "      <th>Washington Mango Drink</th>\n",
       "      <th>Washington Orange Juice</th>\n",
       "      <th>Washington Strawberry Drink</th>\n",
       "    </tr>\n",
       "    <tr>\n",
       "      <th>date</th>\n",
       "      <th>store_id</th>\n",
       "      <th></th>\n",
       "      <th></th>\n",
       "      <th></th>\n",
       "      <th></th>\n",
       "      <th></th>\n",
       "      <th></th>\n",
       "      <th></th>\n",
       "      <th></th>\n",
       "      <th></th>\n",
       "      <th></th>\n",
       "      <th></th>\n",
       "      <th></th>\n",
       "      <th></th>\n",
       "      <th></th>\n",
       "      <th></th>\n",
       "      <th></th>\n",
       "      <th></th>\n",
       "      <th></th>\n",
       "      <th></th>\n",
       "      <th></th>\n",
       "      <th></th>\n",
       "    </tr>\n",
       "  </thead>\n",
       "  <tbody>\n",
       "    <tr>\n",
       "      <th rowspan=\"2\" valign=\"top\">1997-01-01</th>\n",
       "      <th>6</th>\n",
       "      <td>0</td>\n",
       "      <td>0</td>\n",
       "      <td>0</td>\n",
       "      <td>0</td>\n",
       "      <td>0</td>\n",
       "      <td>0</td>\n",
       "      <td>0</td>\n",
       "      <td>0</td>\n",
       "      <td>0</td>\n",
       "      <td>0</td>\n",
       "      <td>...</td>\n",
       "      <td>0</td>\n",
       "      <td>0</td>\n",
       "      <td>0</td>\n",
       "      <td>0</td>\n",
       "      <td>4</td>\n",
       "      <td>0</td>\n",
       "      <td>0</td>\n",
       "      <td>0</td>\n",
       "      <td>0</td>\n",
       "      <td>0</td>\n",
       "    </tr>\n",
       "    <tr>\n",
       "      <th>14</th>\n",
       "      <td>0</td>\n",
       "      <td>0</td>\n",
       "      <td>0</td>\n",
       "      <td>0</td>\n",
       "      <td>0</td>\n",
       "      <td>0</td>\n",
       "      <td>0</td>\n",
       "      <td>0</td>\n",
       "      <td>0</td>\n",
       "      <td>0</td>\n",
       "      <td>...</td>\n",
       "      <td>0</td>\n",
       "      <td>0</td>\n",
       "      <td>0</td>\n",
       "      <td>0</td>\n",
       "      <td>0</td>\n",
       "      <td>0</td>\n",
       "      <td>0</td>\n",
       "      <td>0</td>\n",
       "      <td>0</td>\n",
       "      <td>0</td>\n",
       "    </tr>\n",
       "    <tr>\n",
       "      <th rowspan=\"2\" valign=\"top\">1997-01-02</th>\n",
       "      <th>11</th>\n",
       "      <td>0</td>\n",
       "      <td>0</td>\n",
       "      <td>0</td>\n",
       "      <td>0</td>\n",
       "      <td>0</td>\n",
       "      <td>0</td>\n",
       "      <td>0</td>\n",
       "      <td>0</td>\n",
       "      <td>0</td>\n",
       "      <td>0</td>\n",
       "      <td>...</td>\n",
       "      <td>0</td>\n",
       "      <td>0</td>\n",
       "      <td>0</td>\n",
       "      <td>0</td>\n",
       "      <td>0</td>\n",
       "      <td>0</td>\n",
       "      <td>0</td>\n",
       "      <td>0</td>\n",
       "      <td>0</td>\n",
       "      <td>0</td>\n",
       "    </tr>\n",
       "    <tr>\n",
       "      <th>23</th>\n",
       "      <td>0</td>\n",
       "      <td>0</td>\n",
       "      <td>0</td>\n",
       "      <td>0</td>\n",
       "      <td>0</td>\n",
       "      <td>0</td>\n",
       "      <td>0</td>\n",
       "      <td>0</td>\n",
       "      <td>0</td>\n",
       "      <td>0</td>\n",
       "      <td>...</td>\n",
       "      <td>0</td>\n",
       "      <td>0</td>\n",
       "      <td>0</td>\n",
       "      <td>0</td>\n",
       "      <td>0</td>\n",
       "      <td>0</td>\n",
       "      <td>0</td>\n",
       "      <td>0</td>\n",
       "      <td>0</td>\n",
       "      <td>0</td>\n",
       "    </tr>\n",
       "    <tr>\n",
       "      <th>1997-01-03</th>\n",
       "      <th>7</th>\n",
       "      <td>0</td>\n",
       "      <td>0</td>\n",
       "      <td>0</td>\n",
       "      <td>0</td>\n",
       "      <td>0</td>\n",
       "      <td>0</td>\n",
       "      <td>0</td>\n",
       "      <td>0</td>\n",
       "      <td>0</td>\n",
       "      <td>0</td>\n",
       "      <td>...</td>\n",
       "      <td>0</td>\n",
       "      <td>4</td>\n",
       "      <td>0</td>\n",
       "      <td>0</td>\n",
       "      <td>0</td>\n",
       "      <td>0</td>\n",
       "      <td>0</td>\n",
       "      <td>0</td>\n",
       "      <td>0</td>\n",
       "      <td>0</td>\n",
       "    </tr>\n",
       "  </tbody>\n",
       "</table>\n",
       "<p>5 rows × 1559 columns</p>\n",
       "</div>"
      ],
      "text/plain": [
       "product_name         ADJ Rosy Sunglasses  Akron City Map  \\\n",
       "date       store_id                                        \n",
       "1997-01-01 6                           0               0   \n",
       "           14                          0               0   \n",
       "1997-01-02 11                          0               0   \n",
       "           23                          0               0   \n",
       "1997-01-03 7                           0               0   \n",
       "\n",
       "product_name         Akron Eyeglass Screwdriver  American Beef Bologna  \\\n",
       "date       store_id                                                      \n",
       "1997-01-01 6                                  0                      0   \n",
       "           14                                 0                      0   \n",
       "1997-01-02 11                                 0                      0   \n",
       "           23                                 0                      0   \n",
       "1997-01-03 7                                  0                      0   \n",
       "\n",
       "product_name         American Chicken Hot Dogs  American Cole Slaw  \\\n",
       "date       store_id                                                  \n",
       "1997-01-01 6                                 0                   0   \n",
       "           14                                0                   0   \n",
       "1997-01-02 11                                0                   0   \n",
       "           23                                0                   0   \n",
       "1997-01-03 7                                 0                   0   \n",
       "\n",
       "product_name         American Corned Beef  American Foot-Long Hot Dogs  \\\n",
       "date       store_id                                                      \n",
       "1997-01-01 6                            0                            0   \n",
       "           14                           0                            0   \n",
       "1997-01-02 11                           0                            0   \n",
       "           23                           0                            0   \n",
       "1997-01-03 7                            0                            0   \n",
       "\n",
       "product_name         American Low Fat Bologna  American Low Fat Cole Slaw  \\\n",
       "date       store_id                                                         \n",
       "1997-01-01 6                                0                           0   \n",
       "           14                               0                           0   \n",
       "1997-01-02 11                               0                           0   \n",
       "           23                               0                           0   \n",
       "1997-01-03 7                                0                           0   \n",
       "\n",
       "product_name                    ...               Washington Apple Juice  \\\n",
       "date       store_id             ...                                        \n",
       "1997-01-01 6                    ...                                    0   \n",
       "           14                   ...                                    0   \n",
       "1997-01-02 11                   ...                                    0   \n",
       "           23                   ...                                    0   \n",
       "1997-01-03 7                    ...                                    0   \n",
       "\n",
       "product_name         Washington Berry Juice  Washington Cola  \\\n",
       "date       store_id                                            \n",
       "1997-01-01 6                              0                0   \n",
       "           14                             0                0   \n",
       "1997-01-02 11                             0                0   \n",
       "           23                             0                0   \n",
       "1997-01-03 7                              4                0   \n",
       "\n",
       "product_name         Washington Cranberry Juice  Washington Cream Soda  \\\n",
       "date       store_id                                                      \n",
       "1997-01-01 6                                  0                      4   \n",
       "           14                                 0                      0   \n",
       "1997-01-02 11                                 0                      0   \n",
       "           23                                 0                      0   \n",
       "1997-01-03 7                                  0                      0   \n",
       "\n",
       "product_name         Washington Diet Cola  Washington Diet Soda  \\\n",
       "date       store_id                                               \n",
       "1997-01-01 6                            0                     0   \n",
       "           14                           0                     0   \n",
       "1997-01-02 11                           0                     0   \n",
       "           23                           0                     0   \n",
       "1997-01-03 7                            0                     0   \n",
       "\n",
       "product_name         Washington Mango Drink  Washington Orange Juice  \\\n",
       "date       store_id                                                    \n",
       "1997-01-01 6                              0                        0   \n",
       "           14                             0                        0   \n",
       "1997-01-02 11                             0                        0   \n",
       "           23                             0                        0   \n",
       "1997-01-03 7                              0                        0   \n",
       "\n",
       "product_name         Washington Strawberry Drink  \n",
       "date       store_id                               \n",
       "1997-01-01 6                                   0  \n",
       "           14                                  0  \n",
       "1997-01-02 11                                  0  \n",
       "           23                                  0  \n",
       "1997-01-03 7                                   0  \n",
       "\n",
       "[5 rows x 1559 columns]"
      ]
     },
     "execution_count": 9,
     "metadata": {},
     "output_type": "execute_result"
    }
   ],
   "source": [
    "sparse_sales.head()"
   ]
  },
  {
   "cell_type": "code",
   "execution_count": null,
   "metadata": {
    "collapsed": false,
    "scrolled": true
   },
   "outputs": [],
   "source": [
    "%%time \n",
    "corr_data = []\n",
    "\n",
    "for i, lhs_column in enumerate(sparse_sales.columns):\n",
    "    for j, rhs_column in enumerate(sparse_sales.columns):\n",
    "        if i >= j:\n",
    "            continue\n",
    "        \n",
    "        corr, p = pearsonr(sparse_sales[lhs_column], sparse_sales[rhs_column])\n",
    "        corr_data.append([lhs_column, rhs_column, corr, p])"
   ]
  },
  {
   "cell_type": "code",
   "execution_count": null,
   "metadata": {
    "collapsed": false
   },
   "outputs": [],
   "source": [
    "sales_correlation = pd.DataFrame.from_records(corr_data)\n",
    "sales_correlation.columns = ['product_A', 'product_B', 'corr', 'p']"
   ]
  },
  {
   "cell_type": "code",
   "execution_count": null,
   "metadata": {
    "collapsed": false
   },
   "outputs": [],
   "source": [
    "sales_correlation.head()"
   ]
  },
  {
   "cell_type": "markdown",
   "metadata": {},
   "source": [
    "Сколько гипотез об отсутствии корреляции отвергается без поправки на множественную проверку?"
   ]
  },
  {
   "cell_type": "code",
   "execution_count": null,
   "metadata": {
    "collapsed": false
   },
   "outputs": [],
   "source": [
    "(sales_correlation.p < 0.05).value_counts()"
   ]
  },
  {
   "cell_type": "markdown",
   "metadata": {},
   "source": [
    "## Поправка на множественную проверку"
   ]
  },
  {
   "cell_type": "markdown",
   "metadata": {},
   "source": [
    "### Метод Холма"
   ]
  },
  {
   "cell_type": "code",
   "execution_count": null,
   "metadata": {
    "collapsed": false
   },
   "outputs": [],
   "source": [
    "reject, p_corrected, a1, a2 = multipletests(sales_correlation.p, \n",
    "                                            alpha = 0.05, \n",
    "                                            method = 'holm') "
   ]
  },
  {
   "cell_type": "code",
   "execution_count": null,
   "metadata": {
    "collapsed": false
   },
   "outputs": [],
   "source": [
    "sales_correlation['p_corrected'] = p_corrected\n",
    "sales_correlation['reject'] = reject"
   ]
  },
  {
   "cell_type": "code",
   "execution_count": null,
   "metadata": {
    "collapsed": false
   },
   "outputs": [],
   "source": [
    "sales_correlation.head()"
   ]
  },
  {
   "cell_type": "code",
   "execution_count": null,
   "metadata": {
    "collapsed": false
   },
   "outputs": [],
   "source": [
    "sales_correlation.reject.value_counts()"
   ]
  },
  {
   "cell_type": "code",
   "execution_count": null,
   "metadata": {
    "collapsed": false
   },
   "outputs": [],
   "source": [
    "sales_correlation[sales_correlation.reject == True].sort_values(by='corr', ascending=False)"
   ]
  },
  {
   "cell_type": "markdown",
   "metadata": {},
   "source": [
    "### Метод Бенджамини-Хохберга"
   ]
  },
  {
   "cell_type": "code",
   "execution_count": null,
   "metadata": {
    "collapsed": true
   },
   "outputs": [],
   "source": [
    "reject, p_corrected, a1, a2 = multipletests(sales_correlation.p, \n",
    "                                            alpha = 0.05, \n",
    "                                            method = 'fdr_bh') "
   ]
  },
  {
   "cell_type": "code",
   "execution_count": null,
   "metadata": {
    "collapsed": true
   },
   "outputs": [],
   "source": [
    "sales_correlation['p_corrected'] = p_corrected\n",
    "sales_correlation['reject'] = reject"
   ]
  },
  {
   "cell_type": "code",
   "execution_count": null,
   "metadata": {
    "collapsed": false
   },
   "outputs": [],
   "source": [
    "sales_correlation.head()"
   ]
  },
  {
   "cell_type": "code",
   "execution_count": null,
   "metadata": {
    "collapsed": false
   },
   "outputs": [],
   "source": [
    "sales_correlation.reject.value_counts()"
   ]
  },
  {
   "cell_type": "code",
   "execution_count": null,
   "metadata": {
    "collapsed": false
   },
   "outputs": [],
   "source": [
    "sales_correlation[sales_correlation.reject == True].sort_values(by='corr', ascending=False)"
   ]
  },
  {
   "cell_type": "code",
   "execution_count": null,
   "metadata": {
    "collapsed": true
   },
   "outputs": [],
   "source": []
  }
 ],
 "metadata": {
  "anaconda-cloud": {},
  "kernelspec": {
   "display_name": "Python [conda root]",
   "language": "python",
   "name": "conda-root-py"
  },
  "language_info": {
   "codemirror_mode": {
    "name": "ipython",
    "version": 3
   },
   "file_extension": ".py",
   "mimetype": "text/x-python",
   "name": "python",
   "nbconvert_exporter": "python",
   "pygments_lexer": "ipython3",
   "version": "3.5.2"
  }
 },
 "nbformat": 4,
 "nbformat_minor": 0
}

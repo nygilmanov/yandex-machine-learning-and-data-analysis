{
 "cells": [
  {
   "cell_type": "markdown",
   "metadata": {
    "deletable": true,
    "editable": true
   },
   "source": [
    "## Анализ данных в задаче кредитного скоринга (Гаршин Василий)"
   ]
  },
  {
   "cell_type": "code",
   "execution_count": 2,
   "metadata": {
    "collapsed": true,
    "deletable": true,
    "editable": true
   },
   "outputs": [],
   "source": [
    "import statsmodels\n",
    "import scipy as sc\n",
    "import numpy as np\n",
    "import pandas as pd\n",
    "import statsmodels.formula.api as smf\n",
    "import statsmodels.stats.api as sms\n",
    "from statsmodels.graphics.regressionplots import plot_leverage_resid2\n",
    "import matplotlib.pyplot as plt\n",
    "import scipy\n",
    "from statsmodels.stats.weightstats import *"
   ]
  },
  {
   "cell_type": "code",
   "execution_count": 3,
   "metadata": {
    "collapsed": false,
    "deletable": true,
    "editable": true
   },
   "outputs": [
    {
     "name": "stdout",
     "output_type": "stream",
     "text": [
      "Populating the interactive namespace from numpy and matplotlib\n"
     ]
    }
   ],
   "source": [
    "%pylab inline"
   ]
  },
  {
   "cell_type": "markdown",
   "metadata": {
    "deletable": true,
    "editable": true
   },
   "source": [
    "___\n",
    "### Загрузка данных"
   ]
  },
  {
   "cell_type": "code",
   "execution_count": 4,
   "metadata": {
    "collapsed": false,
    "deletable": true,
    "editable": true
   },
   "outputs": [
    {
     "data": {
      "text/html": [
       "<div>\n",
       "<table border=\"1\" class=\"dataframe\">\n",
       "  <thead>\n",
       "    <tr style=\"text-align: right;\">\n",
       "      <th></th>\n",
       "      <th>ID</th>\n",
       "      <th>LIMIT_BAL</th>\n",
       "      <th>SEX</th>\n",
       "      <th>EDUCATION</th>\n",
       "      <th>MARRIAGE</th>\n",
       "      <th>AGE</th>\n",
       "      <th>PAY_0</th>\n",
       "      <th>PAY_2</th>\n",
       "      <th>PAY_3</th>\n",
       "      <th>PAY_4</th>\n",
       "      <th>...</th>\n",
       "      <th>BILL_AMT4</th>\n",
       "      <th>BILL_AMT5</th>\n",
       "      <th>BILL_AMT6</th>\n",
       "      <th>PAY_AMT1</th>\n",
       "      <th>PAY_AMT2</th>\n",
       "      <th>PAY_AMT3</th>\n",
       "      <th>PAY_AMT4</th>\n",
       "      <th>PAY_AMT5</th>\n",
       "      <th>PAY_AMT6</th>\n",
       "      <th>default</th>\n",
       "    </tr>\n",
       "  </thead>\n",
       "  <tbody>\n",
       "    <tr>\n",
       "      <th>0</th>\n",
       "      <td>1</td>\n",
       "      <td>20000</td>\n",
       "      <td>2</td>\n",
       "      <td>2</td>\n",
       "      <td>1</td>\n",
       "      <td>24</td>\n",
       "      <td>2</td>\n",
       "      <td>2</td>\n",
       "      <td>0</td>\n",
       "      <td>0</td>\n",
       "      <td>...</td>\n",
       "      <td>0</td>\n",
       "      <td>0</td>\n",
       "      <td>0</td>\n",
       "      <td>0</td>\n",
       "      <td>689</td>\n",
       "      <td>0</td>\n",
       "      <td>0</td>\n",
       "      <td>0</td>\n",
       "      <td>0</td>\n",
       "      <td>1</td>\n",
       "    </tr>\n",
       "    <tr>\n",
       "      <th>1</th>\n",
       "      <td>2</td>\n",
       "      <td>120000</td>\n",
       "      <td>2</td>\n",
       "      <td>2</td>\n",
       "      <td>2</td>\n",
       "      <td>26</td>\n",
       "      <td>0</td>\n",
       "      <td>2</td>\n",
       "      <td>0</td>\n",
       "      <td>0</td>\n",
       "      <td>...</td>\n",
       "      <td>3272</td>\n",
       "      <td>3455</td>\n",
       "      <td>3261</td>\n",
       "      <td>0</td>\n",
       "      <td>1000</td>\n",
       "      <td>1000</td>\n",
       "      <td>1000</td>\n",
       "      <td>0</td>\n",
       "      <td>2000</td>\n",
       "      <td>1</td>\n",
       "    </tr>\n",
       "    <tr>\n",
       "      <th>2</th>\n",
       "      <td>3</td>\n",
       "      <td>90000</td>\n",
       "      <td>2</td>\n",
       "      <td>2</td>\n",
       "      <td>2</td>\n",
       "      <td>34</td>\n",
       "      <td>0</td>\n",
       "      <td>0</td>\n",
       "      <td>0</td>\n",
       "      <td>0</td>\n",
       "      <td>...</td>\n",
       "      <td>14331</td>\n",
       "      <td>14948</td>\n",
       "      <td>15549</td>\n",
       "      <td>1518</td>\n",
       "      <td>1500</td>\n",
       "      <td>1000</td>\n",
       "      <td>1000</td>\n",
       "      <td>1000</td>\n",
       "      <td>5000</td>\n",
       "      <td>0</td>\n",
       "    </tr>\n",
       "    <tr>\n",
       "      <th>3</th>\n",
       "      <td>4</td>\n",
       "      <td>50000</td>\n",
       "      <td>2</td>\n",
       "      <td>2</td>\n",
       "      <td>1</td>\n",
       "      <td>37</td>\n",
       "      <td>0</td>\n",
       "      <td>0</td>\n",
       "      <td>0</td>\n",
       "      <td>0</td>\n",
       "      <td>...</td>\n",
       "      <td>28314</td>\n",
       "      <td>28959</td>\n",
       "      <td>29547</td>\n",
       "      <td>2000</td>\n",
       "      <td>2019</td>\n",
       "      <td>1200</td>\n",
       "      <td>1100</td>\n",
       "      <td>1069</td>\n",
       "      <td>1000</td>\n",
       "      <td>0</td>\n",
       "    </tr>\n",
       "    <tr>\n",
       "      <th>4</th>\n",
       "      <td>5</td>\n",
       "      <td>50000</td>\n",
       "      <td>1</td>\n",
       "      <td>2</td>\n",
       "      <td>1</td>\n",
       "      <td>57</td>\n",
       "      <td>0</td>\n",
       "      <td>0</td>\n",
       "      <td>0</td>\n",
       "      <td>0</td>\n",
       "      <td>...</td>\n",
       "      <td>20940</td>\n",
       "      <td>19146</td>\n",
       "      <td>19131</td>\n",
       "      <td>2000</td>\n",
       "      <td>36681</td>\n",
       "      <td>10000</td>\n",
       "      <td>9000</td>\n",
       "      <td>689</td>\n",
       "      <td>679</td>\n",
       "      <td>0</td>\n",
       "    </tr>\n",
       "  </tbody>\n",
       "</table>\n",
       "<p>5 rows × 25 columns</p>\n",
       "</div>"
      ],
      "text/plain": [
       "   ID  LIMIT_BAL  SEX  EDUCATION  MARRIAGE  AGE  PAY_0  PAY_2  PAY_3  PAY_4  \\\n",
       "0   1      20000    2          2         1   24      2      2      0      0   \n",
       "1   2     120000    2          2         2   26      0      2      0      0   \n",
       "2   3      90000    2          2         2   34      0      0      0      0   \n",
       "3   4      50000    2          2         1   37      0      0      0      0   \n",
       "4   5      50000    1          2         1   57      0      0      0      0   \n",
       "\n",
       "    ...     BILL_AMT4  BILL_AMT5  BILL_AMT6  PAY_AMT1  PAY_AMT2  PAY_AMT3  \\\n",
       "0   ...             0          0          0         0       689         0   \n",
       "1   ...          3272       3455       3261         0      1000      1000   \n",
       "2   ...         14331      14948      15549      1518      1500      1000   \n",
       "3   ...         28314      28959      29547      2000      2019      1200   \n",
       "4   ...         20940      19146      19131      2000     36681     10000   \n",
       "\n",
       "   PAY_AMT4  PAY_AMT5  PAY_AMT6  default  \n",
       "0         0         0         0        1  \n",
       "1      1000         0      2000        1  \n",
       "2      1000      1000      5000        0  \n",
       "3      1100      1069      1000        0  \n",
       "4      9000       689       679        0  \n",
       "\n",
       "[5 rows x 25 columns]"
      ]
     },
     "execution_count": 4,
     "metadata": {},
     "output_type": "execute_result"
    }
   ],
   "source": [
    "raw = pd.read_csv('credit_card_default_analysis.csv', sep = ',') \n",
    "raw.head()"
   ]
  },
  {
   "cell_type": "markdown",
   "metadata": {
    "deletable": true,
    "editable": true
   },
   "source": [
    "Для выполнения этого задания вам понадобятся данные о кредитных историях клиентов одного из банков. Поля в предоставляемых данных имеют следующий смысл:\n",
    "- LIMIT_BAL: размер кредитного лимита (в том числе и на семью клиента)\n",
    "- SEX: пол клиента (1 = мужской, 2 = женский )\n",
    "- EDUCATION: образование (0 = доктор, 1 = магистр; 2 = бакалавр; 3 = выпускник школы; 4 = начальное образование; 5= прочее; 6 = нет данных ).\n",
    "- MARRIAGE: (0 = отказываюсь отвечать; 1 = замужем/женат; 2 = холост; 3 = нет данных).\n",
    "- AGE: возраст в годах\n",
    "- PAY_0 - PAY_6 : История прошлых платежей по кредиту. PAY_6 - платеж в апреле, ... Pay_0 - платеж в сентябре. Платеж = (0 = исправный платеж, 1=задержка в один месяц, 2=задержка в 2 месяца ...)\n",
    "- BILL_AMT1 - BILL_AMT6: задолженность, BILL_AMT6 - на апрель, BILL_AMT1 - на сентябрь\n",
    "- PAY_AMT1 - PAY_AMT6: сумма уплаченная в PAY_AMT6 - апреле, ..., PAY_AMT1 - сентябре\n",
    "- default - индикатор невозврата денежных средств"
   ]
  },
  {
   "cell_type": "markdown",
   "metadata": {
    "collapsed": true,
    "deletable": true,
    "editable": true
   },
   "source": [
    "___\n",
    "### Задание 1"
   ]
  },
  {
   "cell_type": "markdown",
   "metadata": {
    "collapsed": true,
    "deletable": true,
    "editable": true
   },
   "source": [
    "Размер кредитного лимита (LIMIT_BAL). В двух группах, тех людей, кто вернул кредит (default = 0) и тех, кто его не вернул (default = 1) проверьте гипотезы: \n",
    "\n",
    "a) о равенстве медианных значений кредитного лимита с помощью подходящей интервальной оценки \n",
    "\n",
    "b) о равенстве распределений с помощью одного из подходящих непараметрических критериев проверки равенства средних. \n",
    "\n",
    "Значимы ли полученные результаты с практической точки зрения ?"
   ]
  },
  {
   "cell_type": "code",
   "execution_count": 5,
   "metadata": {
    "collapsed": false,
    "deletable": true,
    "editable": true
   },
   "outputs": [
    {
     "data": {
      "image/png": "[encoded data removed]",
      "text/plain": [
       "<matplotlib.figure.Figure at 0xc358b70>"
      ]
     },
     "metadata": {},
     "output_type": "display_data"
    }
   ],
   "source": [
    "plt.figure(figsize(24, 6))\n",
    "plt.subplot(1, 3, 1)\n",
    "plt.hist(raw.LIMIT_BAL)\n",
    "plt.xlabel('size of credit limit', fontsize = 12)\n",
    "plt.ylabel('observations', fontsize = 12)\n",
    "plt.title('Histogram for credit limit', fontsize = 16)\n",
    "plt.subplot(1, 3, 2)\n",
    "plt.scatter(raw.default, raw.LIMIT_BAL)\n",
    "plt.xlabel('default', fontsize = 12)\n",
    "plt.ylabel('credit limit', fontsize = 12)\n",
    "plt.title('Credit limit vs. defaults', fontsize = 16)\n",
    "plt.subplot(1, 3, 3)\n",
    "plt.hist(raw.default)\n",
    "plt.xlabel('default', fontsize = 12)\n",
    "plt.ylabel('observations', fontsize = 12)\n",
    "plt.title('Histogram for default variable', fontsize = 16)\n",
    "pylab.show()"
   ]
  },
  {
   "cell_type": "markdown",
   "metadata": {
    "deletable": true,
    "editable": true
   },
   "source": [
    "По графикам можем предположить, что для случаев дефолта средний лимит возможно ниже. На гистограмме видим, что дефолтов существенно меньше, чем недефолтных случаев, что логично."
   ]
  },
  {
   "cell_type": "markdown",
   "metadata": {
    "deletable": true,
    "editable": true
   },
   "source": [
    "Оценим распределения на нормальность через анализ QQ-графика и увидим, что распределение похоже далеко от нормального."
   ]
  },
  {
   "cell_type": "code",
   "execution_count": 6,
   "metadata": {
    "collapsed": false,
    "deletable": true,
    "editable": true
   },
   "outputs": [
    {
     "data": {
      "image/png": "[encoded data removed]",
      "text/plain": [
       "<matplotlib.figure.Figure at 0xc438710>"
      ]
     },
     "metadata": {},
     "output_type": "display_data"
    }
   ],
   "source": [
    "plt.figure(figsize=(16, 8))\n",
    "plt.subplot(2, 2, 1)\n",
    "stats.probplot(raw[raw.default == 1].LIMIT_BAL, dist = 'norm', plot = pylab)\n",
    "plt.title('QQ plot for credit limit, default = 1', fontsize = 12)\n",
    "plt.subplot(2, 2, 2)\n",
    "stats.probplot(raw[raw.default == 0].LIMIT_BAL, dist=\"norm\", plot=pylab)\n",
    "plt.title('QQ plot for credit limit, default = 0', fontsize = 12)\n",
    "plt.show()"
   ]
  },
  {
   "cell_type": "markdown",
   "metadata": {
    "deletable": true,
    "editable": true
   },
   "source": [
    "Применим бутстреп-критерий для проверки гипотезы о равенстве медиан."
   ]
  },
  {
   "cell_type": "code",
   "execution_count": 7,
   "metadata": {
    "collapsed": false,
    "deletable": true,
    "editable": true
   },
   "outputs": [],
   "source": [
    "def get_bootstrap_samples(data, n_samples):\n",
    "    indices = np.random.randint(0, len(data), (n_samples, len(data)))\n",
    "    samples = data[indices]\n",
    "    return samples\n",
    "\n",
    "def stat_intervals(stat, alpha):\n",
    "    boundaries = np.percentile(stat, [100 * alpha / 2., 100 * (1 - alpha / 2.)])\n",
    "    return boundaries"
   ]
  },
  {
   "cell_type": "markdown",
   "metadata": {
    "deletable": true,
    "editable": true
   },
   "source": [
    "Доверительные 95% интервалы на основе бутстрапа для медианных значений кредитных лимитов в случае отсутствия дефолта и в случае дефолта:"
   ]
  },
  {
   "cell_type": "code",
   "execution_count": 8,
   "metadata": {
    "collapsed": false,
    "deletable": true,
    "editable": true
   },
   "outputs": [
    {
     "name": "stdout",
     "output_type": "stream",
     "text": [
      "median for the credit limit if no default:  150000.0\n",
      "median for the credit limit if default:     90000.0\n",
      "\n",
      "95% confidence interval for the credit limit if no default:  [ 150000.  150000.]\n",
      "95% confidence interval for the credit limit if default:  [ 80000.  90000.]\n"
     ]
    }
   ],
   "source": [
    "np.random.seed(0)\n",
    "\n",
    "credlim_def0 = raw[raw.default == 0].LIMIT_BAL.values\n",
    "credlim_def1 = raw[raw.default == 1].LIMIT_BAL.values\n",
    "\n",
    "credlim_def0_scores = map(np.median, get_bootstrap_samples(credlim_def0, 1000))\n",
    "credlim_def1_scores = map(np.median, get_bootstrap_samples(credlim_def1, 1000))\n",
    "\n",
    "print \"median for the credit limit if no default: \", np.median(credlim_def0)\n",
    "print \"median for the credit limit if default:    \", np.median(credlim_def1)\n",
    "print \n",
    "print \"95% confidence interval for the credit limit if no default: \",  stat_intervals(credlim_def0_scores, 0.05)\n",
    "print \"95% confidence interval for the credit limit if default: \",  stat_intervals(credlim_def1_scores, 0.05)"
   ]
  },
  {
   "cell_type": "markdown",
   "metadata": {
    "deletable": true,
    "editable": true
   },
   "source": [
    "Интервальная оценка разности медиан:"
   ]
  },
  {
   "cell_type": "code",
   "execution_count": 9,
   "metadata": {
    "collapsed": false,
    "deletable": true,
    "editable": true
   },
   "outputs": [
    {
     "name": "stdout",
     "output_type": "stream",
     "text": [
      "95% confidence interval for the difference between medians [-70000. -60000.]\n"
     ]
    }
   ],
   "source": [
    "delta_median_scores = map(lambda x: x[1] - x[0], zip(credlim_def0_scores, credlim_def1_scores))\n",
    "print \"95% confidence interval for the difference between medians\",  stat_intervals(delta_median_scores, 0.05)"
   ]
  },
  {
   "cell_type": "markdown",
   "metadata": {
    "deletable": true,
    "editable": true
   },
   "source": [
    "#### Вывод 1.а. Медианные значения кредитных лимитов для двух групп людей - кто вернул кредит (default = 0) и кто его не вернул (default = 1) - НЕ СОВПАДАЮТ на 95% доверительном уровне."
   ]
  },
  {
   "cell_type": "markdown",
   "metadata": {
    "deletable": true,
    "editable": true
   },
   "source": [
    "Проверим гипотезу о равенстве распределений с помощью одного из подходящих непараметрических критериев проверки равенства средних. Для начала построим гистограммы, чтобы хоть как-то оценить формы распределений."
   ]
  },
  {
   "cell_type": "code",
   "execution_count": 10,
   "metadata": {
    "collapsed": false,
    "deletable": true,
    "editable": true
   },
   "outputs": [
    {
     "data": {
      "text/plain": [
       "<matplotlib.text.Text at 0xde42940>"
      ]
     },
     "execution_count": 10,
     "metadata": {},
     "output_type": "execute_result"
    },
    {
     "data": {
      "image/png": "[encoded data removed]",
      "text/plain": [
       "<matplotlib.figure.Figure at 0xdb89470>"
      ]
     },
     "metadata": {},
     "output_type": "display_data"
    }
   ],
   "source": [
    "plt.figure(figsize(24, 6))\n",
    "plt.subplot(1, 2, 1)\n",
    "plt.hist(credlim_def0)\n",
    "plt.xlabel('size of credit limit', fontsize = 12)\n",
    "plt.ylabel('observations', fontsize = 12)\n",
    "plt.title('Histogram for credit limit if no default', fontsize = 16)\n",
    "plt.subplot(1, 2, 2)\n",
    "plt.hist(credlim_def1)\n",
    "plt.xlabel('size of credit limit', fontsize = 12)\n",
    "plt.ylabel('observations', fontsize = 12)\n",
    "plt.title('Histogram for credit limit if default', fontsize = 16)"
   ]
  },
  {
   "cell_type": "markdown",
   "metadata": {
    "deletable": true,
    "editable": true
   },
   "source": [
    "Попробуем ранговый критерий Манна-Уитни. Ограничения применимости данного критерия:\n",
    "- В каждой из выборок должно быть не менее 3 значений признака. Допускается, чтобы в одной выборке было два значения, но во второй тогда не менее пяти.\n",
    "- В выборочных данных не должно быть совпадающих значений (все числа — разные) или таких совпадений должно быть очень мало (до 10).\n",
    "\n",
    "Поэтому данный критерий здесь не применим, тем не менее, рассчитаем его."
   ]
  },
  {
   "cell_type": "code",
   "execution_count": 11,
   "metadata": {
    "collapsed": false,
    "deletable": true,
    "editable": true
   },
   "outputs": [
    {
     "name": "stdout",
     "output_type": "stream",
     "text": [
      "95% confidence interval for the mean of credit limit if no default:  (176411.91449742022, 179787.53765118445)\n",
      "95% confidence interval for the mean of credit limit if default:     (127333.65333983443, 132885.65949922524)\n"
     ]
    }
   ],
   "source": [
    "print '95% confidence interval for the mean of credit limit if no default: ', zconfint(credlim_def0)\n",
    "print '95% confidence interval for the mean of credit limit if default:    ', zconfint(credlim_def1)"
   ]
  },
  {
   "cell_type": "code",
   "execution_count": 12,
   "metadata": {
    "collapsed": false,
    "deletable": true,
    "editable": true
   },
   "outputs": [
    {
     "data": {
      "text/plain": [
       "MannwhitneyuResult(statistic=59257217.5, pvalue=6.1277429091116516e-190)"
      ]
     },
     "execution_count": 12,
     "metadata": {},
     "output_type": "execute_result"
    }
   ],
   "source": [
    "stats.mannwhitneyu(credlim_def0, credlim_def1)"
   ]
  },
  {
   "cell_type": "markdown",
   "metadata": {
    "deletable": true,
    "editable": true
   },
   "source": [
    "Теперь воспользуемся непосредственно перестановочным критерием:"
   ]
  },
  {
   "cell_type": "code",
   "execution_count": 13,
   "metadata": {
    "collapsed": true,
    "deletable": true,
    "editable": true
   },
   "outputs": [],
   "source": [
    "def permutation_t_stat_ind(sample1, sample2):\n",
    "    return np.mean(sample1) - np.mean(sample2)\n",
    "\n",
    "def get_random_combinations(n1, n2, max_combinations):\n",
    "    index = range(n1 + n2)\n",
    "    indices = set([tuple(index)])\n",
    "    for i in range(max_combinations - 1):\n",
    "        np.random.shuffle(index)\n",
    "        indices.add(tuple(index))\n",
    "    return [(index[:n1], index[n1:]) for index in indices]\n",
    "\n",
    "def permutation_zero_dist_ind(sample1, sample2, max_combinations = None):\n",
    "    joined_sample = np.hstack((sample1, sample2))\n",
    "    n1 = len(sample1)\n",
    "    n = len(joined_sample)\n",
    "    \n",
    "    if max_combinations:\n",
    "        indices = get_random_combinations(n1, len(sample2), max_combinations)\n",
    "    else:\n",
    "        indices = [(list(index), filter(lambda i: i not in index, range(n))) \\\n",
    "                    for index in itertools.combinations(range(n), n1)]\n",
    "    \n",
    "    distr = [joined_sample[list(i[0])].mean() - joined_sample[list(i[1])].mean() \\\n",
    "             for i in indices]\n",
    "    return distr\n",
    "\n",
    "def permutation_test(sample, mean, max_permutations = None, alternative = 'two-sided'):\n",
    "    if alternative not in ('two-sided', 'less', 'greater'):\n",
    "        raise ValueError(\"alternative not recognized\\n\"\n",
    "                         \"should be 'two-sided', 'less' or 'greater'\")\n",
    "    \n",
    "    t_stat = permutation_t_stat_ind(sample, mean)\n",
    "    \n",
    "    zero_distr = permutation_zero_dist_ind(sample, mean, max_permutations)\n",
    "    \n",
    "    if alternative == 'two-sided':\n",
    "        return sum([1. if abs(x) >= abs(t_stat) else 0. for x in zero_distr]) / len(zero_distr)\n",
    "    \n",
    "    if alternative == 'less':\n",
    "        return sum([1. if x <= t_stat else 0. for x in zero_distr]) / len(zero_distr)\n",
    "\n",
    "    if alternative == 'greater':\n",
    "        return sum([1. if x >= t_stat else 0. for x in zero_distr]) / len(zero_distr)"
   ]
  },
  {
   "cell_type": "code",
   "execution_count": 14,
   "metadata": {
    "collapsed": false,
    "deletable": true,
    "editable": true
   },
   "outputs": [
    {
     "data": {
      "image/png": "[encoded data removed]",
      "text/plain": [
       "<matplotlib.figure.Figure at 0xddbc940>"
      ]
     },
     "metadata": {},
     "output_type": "display_data"
    }
   ],
   "source": [
    "pylab.hist(permutation_zero_dist_ind(credlim_def0, credlim_def1, max_combinations = 10000))\n",
    "pylab.show()"
   ]
  },
  {
   "cell_type": "code",
   "execution_count": 15,
   "metadata": {
    "collapsed": false,
    "deletable": true,
    "editable": true
   },
   "outputs": [
    {
     "name": "stdout",
     "output_type": "stream",
     "text": [
      "p-value: 0.000100\n"
     ]
    }
   ],
   "source": [
    "print \"p-value: %f\" % permutation_test(credlim_def0, credlim_def1, max_permutations = 10000)"
   ]
  },
  {
   "cell_type": "markdown",
   "metadata": {
    "collapsed": true,
    "deletable": true,
    "editable": true
   },
   "source": [
    "#### Вывод 1.b. Гипотеза о равенстве распределений с помощью одного из подходящих непараметрических критериев проверки равенства средних ОТВЕРГАЕТСЯ. С практической точки зрения данный результат позволяет применять различные методики управления рисками, связанными с невозвратом кредитов. Как пример, устанавливать разную стоимость кредита в зависимости от лимитов и / или предлагать разные программы реструктуризации."
   ]
  },
  {
   "cell_type": "markdown",
   "metadata": {
    "deletable": true,
    "editable": true
   },
   "source": [
    "___\n",
    "### Задание 2"
   ]
  },
  {
   "cell_type": "markdown",
   "metadata": {
    "deletable": true,
    "editable": true
   },
   "source": [
    "Пол (SEX): Проверьте гипотезу о том, что гендерный состав группы людей вернувших и не вернувших кредит отличается. Хорошо, если вы предоставите несколько различных решений этой задачи (с помощью доверительного интервала и подходящего статистического критерия)\n"
   ]
  },
  {
   "cell_type": "code",
   "execution_count": 16,
   "metadata": {
    "collapsed": false,
    "deletable": true,
    "editable": true
   },
   "outputs": [
    {
     "data": {
      "image/png": "[encoded data removed]",
      "text/plain": [
       "<matplotlib.figure.Figure at 0xbf4fcc0>"
      ]
     },
     "metadata": {},
     "output_type": "display_data"
    }
   ],
   "source": [
    "plt.figure(figsize(24, 6))\n",
    "\n",
    "plt.subplot(1, 3, 1)\n",
    "plt.hist(raw.SEX)\n",
    "plt.xlabel('sex, 1 = male, 2 = female', fontsize = 12)\n",
    "plt.ylabel('observations', fontsize = 12)\n",
    "plt.title('Histogram for sex variable', fontsize = 16)\n",
    "\n",
    "plt.subplot(1, 3, 2)\n",
    "bins = np.linspace(.75, 2.25, 10)\n",
    "plt.hist(raw[raw.default == 0].SEX, bins, alpha=.5, label = 'no_default')\n",
    "plt.hist(raw[raw.default == 1].SEX, bins + .25, alpha=.5, label = 'default')\n",
    "plt.xlabel('sex, 1 = male, 2 = female', fontsize = 12)\n",
    "plt.ylabel('observations', fontsize = 12)\n",
    "plt.legend(loc='upper left')\n",
    "plt.title('Sex vs. defaults', fontsize = 16)\n",
    "\n",
    "plt.subplot(1, 3, 3)\n",
    "plt.hist(raw.default)\n",
    "plt.xlabel('default', fontsize = 12)\n",
    "plt.ylabel('observations', fontsize = 12)\n",
    "plt.title('Histogram for default variable', fontsize = 16)\n",
    "\n",
    "pylab.show()"
   ]
  },
  {
   "cell_type": "markdown",
   "metadata": {
    "collapsed": false,
    "deletable": true,
    "editable": true
   },
   "source": [
    "Воспользуемся доверительным интервалов для разности долей (независимые выборки):"
   ]
  },
  {
   "cell_type": "code",
   "execution_count": 17,
   "metadata": {
    "collapsed": true,
    "deletable": true,
    "editable": true
   },
   "outputs": [],
   "source": [
    "def proportions_confint_diff_ind(sample1, sample2, alpha = 0.05):    \n",
    "    z = scipy.stats.norm.ppf(1 - alpha / 2.)   \n",
    "    p1 = float(sum(sample1)) / len(sample1)\n",
    "    p2 = float(sum(sample2)) / len(sample2)\n",
    "    \n",
    "    left_boundary = (p1 - p2) - z * np.sqrt(p1 * (1 - p1)/ len(sample1) + p2 * (1 - p2)/ len(sample2))\n",
    "    right_boundary = (p1 - p2) + z * np.sqrt(p1 * (1 - p1)/ len(sample1) + p2 * (1 - p2)/ len(sample2))\n",
    "    \n",
    "    return (left_boundary, right_boundary)"
   ]
  },
  {
   "cell_type": "code",
   "execution_count": 18,
   "metadata": {
    "collapsed": false,
    "deletable": true,
    "editable": true
   },
   "outputs": [
    {
     "name": "stdout",
     "output_type": "stream",
     "text": [
      "male default rate:    0.241672274563\n",
      "female default rate:  0.207762809187\n",
      "difference is:        0.0339094653753\n",
      "\n",
      "confidence interval, 95% level:  (0.024207372179792706, 0.043611558570817201)\n"
     ]
    }
   ],
   "source": [
    "def_male = raw[raw.SEX == 1].default.values\n",
    "def_female = raw[raw.SEX == 2].default.values\n",
    "\n",
    "print 'male default rate:   ', float(sum(def_male)) / len(def_male)\n",
    "print 'female default rate: ', float(sum(def_female)) / len(def_female)\n",
    "print 'difference is:       ', float(sum(def_male)) / len(def_male) - float(sum(def_female)) / len(def_female)\n",
    "print\n",
    "print 'confidence interval, 95% level: ', proportions_confint_diff_ind(def_male, def_female)"
   ]
  },
  {
   "cell_type": "markdown",
   "metadata": {
    "deletable": true,
    "editable": true
   },
   "source": [
    "#### Вывод 2.1. Гипотеза о том, что гендерный состав группы людей вернувших и не вернувших кредит НЕ отличается, ОТВЕРГАЕТСЯ на 95% доверительном уровне через оценку доверительного интервала для разности долей."
   ]
  },
  {
   "cell_type": "markdown",
   "metadata": {
    "deletable": true,
    "editable": true
   },
   "source": [
    "Воспользуемся теперь Z-критерием для разности долей (независимые выборки):"
   ]
  },
  {
   "cell_type": "code",
   "execution_count": 19,
   "metadata": {
    "collapsed": true,
    "deletable": true,
    "editable": true
   },
   "outputs": [],
   "source": [
    "def proportions_diff_confint_ind(sample1, sample2, alpha = 0.05):    \n",
    "    z = scipy.stats.norm.ppf(1 - alpha / 2.)\n",
    "    \n",
    "    p1 = float(sum(sample1)) / len(sample1)\n",
    "    p2 = float(sum(sample2)) / len(sample2)\n",
    "    \n",
    "    left_boundary = (p1 - p2) - z * np.sqrt(p1 * (1 - p1)/ len(sample1) + p2 * (1 - p2)/ len(sample2))\n",
    "    right_boundary = (p1 - p2) + z * np.sqrt(p1 * (1 - p1)/ len(sample1) + p2 * (1 - p2)/ len(sample2))\n",
    "    \n",
    "    return (left_boundary, right_boundary)\n",
    "\n",
    "def proportions_diff_z_stat_ind(sample1, sample2):\n",
    "    n1 = len(sample1)\n",
    "    n2 = len(sample2)\n",
    "    \n",
    "    p1 = float(sum(sample1)) / n1\n",
    "    p2 = float(sum(sample2)) / n2 \n",
    "    P = float(p1*n1 + p2*n2) / (n1 + n2)\n",
    "    \n",
    "    return (p1 - p2) / np.sqrt(P * (1 - P) * (1. / n1 + 1. / n2))\n",
    "\n",
    "def proportions_diff_z_test(z_stat, alternative = 'two-sided'):\n",
    "    if alternative not in ('two-sided', 'less', 'greater'):\n",
    "        raise ValueError(\"alternative not recognized\\n\"\n",
    "                         \"should be 'two-sided', 'less' or 'greater'\")\n",
    "    \n",
    "    if alternative == 'two-sided':\n",
    "        return 2 * (1 - scipy.stats.norm.cdf(np.abs(z_stat)))\n",
    "    \n",
    "    if alternative == 'less':\n",
    "        return scipy.stats.norm.cdf(z_stat)\n",
    "\n",
    "    if alternative == 'greater':\n",
    "        return 1 - scipy.stats.norm.cdf(z_stat)"
   ]
  },
  {
   "cell_type": "code",
   "execution_count": 20,
   "metadata": {
    "collapsed": false,
    "deletable": true,
    "editable": true
   },
   "outputs": [
    {
     "name": "stdout",
     "output_type": "stream",
     "text": [
      "male default rate:    0.241672274563\n",
      "female default rate:  0.207762809187\n",
      "difference is:        0.0339094653753\n",
      "\n",
      "confidence interval, 95% level:  (0.024207372179792706, 0.043611558570817201)\n"
     ]
    }
   ],
   "source": [
    "print 'male default rate:   ', float(sum(def_male)) / len(def_male)\n",
    "print 'female default rate: ', float(sum(def_female)) / len(def_female)\n",
    "print 'difference is:       ', float(sum(def_male)) / len(def_male) - float(sum(def_female)) / len(def_female)\n",
    "print\n",
    "print 'confidence interval, 95% level: ', proportions_diff_confint_ind(def_male, def_female)"
   ]
  },
  {
   "cell_type": "code",
   "execution_count": 21,
   "metadata": {
    "collapsed": false,
    "deletable": true,
    "editable": true
   },
   "outputs": [
    {
     "name": "stdout",
     "output_type": "stream",
     "text": [
      "p-value:  4.47286652161e-12\n"
     ]
    }
   ],
   "source": [
    "print 'p-value: ', proportions_diff_z_test(proportions_diff_z_stat_ind(def_male, def_female))"
   ]
  },
  {
   "cell_type": "markdown",
   "metadata": {
    "deletable": true,
    "editable": true
   },
   "source": [
    "#### Вывод 2.2. Гипотеза о том, что гендерный состав группы людей вернувших и не вернувших кредит НЕ отличается, ОТВЕРГАЕТСЯ на 95% доверительном уровне на основании Z-критерия для разности долей."
   ]
  },
  {
   "cell_type": "markdown",
   "metadata": {
    "deletable": true,
    "editable": true
   },
   "source": [
    "___\n",
    "### Задание 3"
   ]
  },
  {
   "cell_type": "markdown",
   "metadata": {
    "collapsed": true,
    "deletable": true,
    "editable": true
   },
   "source": [
    "Образование (EDUCATION): Проверьте гипотезу о том, что образование не влияет на то, вернет ли человек долг. Предложите способ наглядного представления разницы в ожидаемых и наблюдаемых значениях количества человек вернувших и не вернувших долг. Например, составьте таблицу сопряженности \"образование\" на \"возврат долга\", где значением ячейки была бы разность между наблюдаемым и ожидаемым количеством человек. Как бы вы предложили модифицировать таблицу так, чтобы привести значения ячеек к одному масштабу не потеряв в интерпретируемости ? Наличие какого образования является наилучшим индикатором того, что человек отдаст долг ? наоборт, не отдаст долг ?"
   ]
  },
  {
   "cell_type": "markdown",
   "metadata": {
    "deletable": true,
    "editable": true
   },
   "source": [
    "Для начала просто построим гистограмму распределения наблюдений по категориям образования:"
   ]
  },
  {
   "cell_type": "code",
   "execution_count": 22,
   "metadata": {
    "collapsed": false,
    "deletable": true,
    "editable": true
   },
   "outputs": [
    {
     "data": {
      "image/png": "[encoded data removed]",
      "text/plain": [
       "<matplotlib.figure.Figure at 0xddcba20>"
      ]
     },
     "metadata": {},
     "output_type": "display_data"
    }
   ],
   "source": [
    "plt.figure(figsize(6, 4))\n",
    "\n",
    "plt.hist(raw.EDUCATION, 7)\n",
    "plt.xlabel('education, 0=phd, 1=ma, 2=bc, 3=graduate, 4=primary, 5=other, 6=na', fontsize = 12)\n",
    "plt.ylabel('observations', fontsize = 12)\n",
    "plt.title('Histogram for education variable', fontsize = 16)\n",
    "\n",
    "pylab.show()"
   ]
  },
  {
   "cell_type": "markdown",
   "metadata": {
    "deletable": true,
    "editable": true
   },
   "source": [
    "Далее для наглядности выведем сводную таблицу и оценим распределение дефолтов в разрезе видов образования."
   ]
  },
  {
   "cell_type": "code",
   "execution_count": 23,
   "metadata": {
    "collapsed": false,
    "deletable": true,
    "editable": true
   },
   "outputs": [
    {
     "name": "stdout",
     "output_type": "stream",
     "text": [
      "0=phd, 1=ma, 2=bc, 3=graduate, 4=primary, 5=other, 6=na\n"
     ]
    },
    {
     "data": {
      "text/html": [
       "<div>\n",
       "<table border=\"1\" class=\"dataframe\">\n",
       "  <thead>\n",
       "    <tr style=\"text-align: right;\">\n",
       "      <th>EDUCATION</th>\n",
       "      <th>0</th>\n",
       "      <th>1</th>\n",
       "      <th>2</th>\n",
       "      <th>3</th>\n",
       "      <th>4</th>\n",
       "      <th>5</th>\n",
       "      <th>6</th>\n",
       "    </tr>\n",
       "    <tr>\n",
       "      <th>default</th>\n",
       "      <th></th>\n",
       "      <th></th>\n",
       "      <th></th>\n",
       "      <th></th>\n",
       "      <th></th>\n",
       "      <th></th>\n",
       "      <th></th>\n",
       "    </tr>\n",
       "  </thead>\n",
       "  <tbody>\n",
       "    <tr>\n",
       "      <th>0</th>\n",
       "      <td>14</td>\n",
       "      <td>8549</td>\n",
       "      <td>10700</td>\n",
       "      <td>3680</td>\n",
       "      <td>116</td>\n",
       "      <td>262</td>\n",
       "      <td>43</td>\n",
       "    </tr>\n",
       "    <tr>\n",
       "      <th>1</th>\n",
       "      <td>0</td>\n",
       "      <td>2036</td>\n",
       "      <td>3330</td>\n",
       "      <td>1237</td>\n",
       "      <td>7</td>\n",
       "      <td>18</td>\n",
       "      <td>8</td>\n",
       "    </tr>\n",
       "  </tbody>\n",
       "</table>\n",
       "</div>"
      ],
      "text/plain": [
       "EDUCATION   0     1      2     3    4    5   6\n",
       "default                                       \n",
       "0          14  8549  10700  3680  116  262  43\n",
       "1           0  2036   3330  1237    7   18   8"
      ]
     },
     "execution_count": 23,
     "metadata": {},
     "output_type": "execute_result"
    }
   ],
   "source": [
    "edu_pivot = pd.pivot_table(raw, values='ID', index=['default'], columns=['EDUCATION'], aggfunc='count', fill_value = 0)\n",
    "print '0=phd, 1=ma, 2=bc, 3=graduate, 4=primary, 5=other, 6=na'\n",
    "edu_pivot"
   ]
  },
  {
   "cell_type": "markdown",
   "metadata": {
    "deletable": true,
    "editable": true
   },
   "source": [
    "Мало статистики по докторам (phd), по ним также нет ни одного дефолта. Много дефолтов в категориях образования 1, 2 и 3 (магистры, бакалавры и выпускники), при этом доля дефолтов для магистров и бакалавров примерно одинакова, для выпускников доля дефолтов выше. \n",
    "\n",
    "Посмотрим детальнее на долю возвратов и дефолтов в каждой из категорий переменной EDUCATION:"
   ]
  },
  {
   "cell_type": "code",
   "execution_count": 24,
   "metadata": {
    "collapsed": false,
    "deletable": true,
    "editable": true
   },
   "outputs": [
    {
     "data": {
      "text/html": [
       "<div>\n",
       "<table border=\"1\" class=\"dataframe\">\n",
       "  <thead>\n",
       "    <tr style=\"text-align: right;\">\n",
       "      <th>EDUCATION</th>\n",
       "      <th>0</th>\n",
       "      <th>1</th>\n",
       "      <th>2</th>\n",
       "      <th>3</th>\n",
       "      <th>4</th>\n",
       "      <th>5</th>\n",
       "      <th>6</th>\n",
       "    </tr>\n",
       "    <tr>\n",
       "      <th>default</th>\n",
       "      <th></th>\n",
       "      <th></th>\n",
       "      <th></th>\n",
       "      <th></th>\n",
       "      <th></th>\n",
       "      <th></th>\n",
       "      <th></th>\n",
       "    </tr>\n",
       "  </thead>\n",
       "  <tbody>\n",
       "    <tr>\n",
       "      <th>0</th>\n",
       "      <td>1.0</td>\n",
       "      <td>0.807652</td>\n",
       "      <td>0.762651</td>\n",
       "      <td>0.748424</td>\n",
       "      <td>0.943089</td>\n",
       "      <td>0.935714</td>\n",
       "      <td>0.843137</td>\n",
       "    </tr>\n",
       "    <tr>\n",
       "      <th>1</th>\n",
       "      <td>0.0</td>\n",
       "      <td>0.192348</td>\n",
       "      <td>0.237349</td>\n",
       "      <td>0.251576</td>\n",
       "      <td>0.056911</td>\n",
       "      <td>0.064286</td>\n",
       "      <td>0.156863</td>\n",
       "    </tr>\n",
       "  </tbody>\n",
       "</table>\n",
       "</div>"
      ],
      "text/plain": [
       "EDUCATION    0         1         2         3         4         5         6\n",
       "default                                                                   \n",
       "0          1.0  0.807652  0.762651  0.748424  0.943089  0.935714  0.843137\n",
       "1          0.0  0.192348  0.237349  0.251576  0.056911  0.064286  0.156863"
      ]
     },
     "execution_count": 24,
     "metadata": {},
     "output_type": "execute_result"
    }
   ],
   "source": [
    "edu_props = edu_pivot.div(edu_pivot.sum(axis=0), axis=1)\n",
    "edu_props"
   ]
  },
  {
   "cell_type": "markdown",
   "metadata": {
    "deletable": true,
    "editable": true
   },
   "source": [
    "Построим соответствующую диаграмму, на которой будет отражена доля дефолтов и доля возвратов для каждой из категорий образования:"
   ]
  },
  {
   "cell_type": "code",
   "execution_count": 25,
   "metadata": {
    "collapsed": false,
    "deletable": true,
    "editable": true
   },
   "outputs": [
    {
     "name": "stdout",
     "output_type": "stream",
     "text": [
      "0=phd, 1=ma, 2=bc, 3=graduate, 4=primary, 5=other, 6=na\n"
     ]
    },
    {
     "data": {
      "text/plain": [
       "<matplotlib.text.Text at 0xbdda5f8>"
      ]
     },
     "execution_count": 25,
     "metadata": {},
     "output_type": "execute_result"
    },
    {
     "data": {
      "text/plain": [
       "<matplotlib.figure.Figure at 0xc4440b8>"
      ]
     },
     "metadata": {},
     "output_type": "display_data"
    },
    {
     "data": {
      "image/png": "[encoded data removed]",
      "text/plain": [
       "<matplotlib.figure.Figure at 0xdeca0b8>"
      ]
     },
     "metadata": {},
     "output_type": "display_data"
    }
   ],
   "source": [
    "print '0=phd, 1=ma, 2=bc, 3=graduate, 4=primary, 5=other, 6=na'\n",
    "\n",
    "plt.figure(figsize(10, 4))\n",
    "edu_props.plot.bar()\n",
    "plt.ylabel('observations', fontsize = 12)\n",
    "plt.xlabel('default', fontsize = 12)\n",
    "plt.title('Defaults by education type', fontsize = 16)"
   ]
  },
  {
   "cell_type": "markdown",
   "metadata": {
    "deletable": true,
    "editable": true
   },
   "source": [
    "Теперь проверим гипотезу о том, что образование не влияет на то, вернет ли человек долг. Гипотезой будем считать равномерное распределение доли возвратов / дефолтов по всем категориям образования (то есть, зависимостиот образования нет), альтернатива - что распределение отлично от равномерного, то есть образование влияет на статистику возвратов / дефолтов. "
   ]
  },
  {
   "cell_type": "markdown",
   "metadata": {
    "collapsed": true,
    "deletable": true,
    "editable": true
   },
   "source": [
    "Воспользуемся статистикой хи-квадрат для оценки ожидаемых значений количества человек вернувших и не вернувших кредит, то есть найдем ожидаемые частоты, которые бы наблюдались, если бы данные имели равномерное распределение."
   ]
  },
  {
   "cell_type": "code",
   "execution_count": 26,
   "metadata": {
    "collapsed": false,
    "deletable": true,
    "editable": true
   },
   "outputs": [
    {
     "data": {
      "text/plain": [
       "(163.21655786997073,\n",
       " 1.2332626245415605e-32,\n",
       " 6L,\n",
       " array([[  1.09032000e+01,   8.24359800e+03,   1.09265640e+04,\n",
       "           3.82935960e+03,   9.57924000e+01,   2.18064000e+02,\n",
       "           3.97188000e+01],\n",
       "        [  3.09680000e+00,   2.34140200e+03,   3.10343600e+03,\n",
       "           1.08764040e+03,   2.72076000e+01,   6.19360000e+01,\n",
       "           1.12812000e+01]]))"
      ]
     },
     "execution_count": 26,
     "metadata": {},
     "output_type": "execute_result"
    }
   ],
   "source": [
    "stats.chi2_contingency(edu_pivot)"
   ]
  },
  {
   "cell_type": "markdown",
   "metadata": {
    "deletable": true,
    "editable": true
   },
   "source": [
    "Гипотеза о равномерном распределении уверенно отвергается."
   ]
  },
  {
   "cell_type": "markdown",
   "metadata": {
    "deletable": true,
    "editable": true
   },
   "source": [
    "Таблица сопряженности \"образование\" на \"возврат долга\", где значения ячейки - это разность между наблюдаемым и ожидаемым количеством человек:"
   ]
  },
  {
   "cell_type": "code",
   "execution_count": 27,
   "metadata": {
    "collapsed": false,
    "deletable": true,
    "editable": true
   },
   "outputs": [
    {
     "data": {
      "text/html": [
       "<div>\n",
       "<table border=\"1\" class=\"dataframe\">\n",
       "  <thead>\n",
       "    <tr style=\"text-align: right;\">\n",
       "      <th>EDUCATION</th>\n",
       "      <th>0</th>\n",
       "      <th>1</th>\n",
       "      <th>2</th>\n",
       "      <th>3</th>\n",
       "      <th>4</th>\n",
       "      <th>5</th>\n",
       "      <th>6</th>\n",
       "    </tr>\n",
       "    <tr>\n",
       "      <th>default</th>\n",
       "      <th></th>\n",
       "      <th></th>\n",
       "      <th></th>\n",
       "      <th></th>\n",
       "      <th></th>\n",
       "      <th></th>\n",
       "      <th></th>\n",
       "    </tr>\n",
       "  </thead>\n",
       "  <tbody>\n",
       "    <tr>\n",
       "      <th>0</th>\n",
       "      <td>3.0968</td>\n",
       "      <td>305.402</td>\n",
       "      <td>-226.564</td>\n",
       "      <td>-149.3596</td>\n",
       "      <td>20.2076</td>\n",
       "      <td>43.936</td>\n",
       "      <td>3.2812</td>\n",
       "    </tr>\n",
       "    <tr>\n",
       "      <th>1</th>\n",
       "      <td>-3.0968</td>\n",
       "      <td>-305.402</td>\n",
       "      <td>226.564</td>\n",
       "      <td>149.3596</td>\n",
       "      <td>-20.2076</td>\n",
       "      <td>-43.936</td>\n",
       "      <td>-3.2812</td>\n",
       "    </tr>\n",
       "  </tbody>\n",
       "</table>\n",
       "</div>"
      ],
      "text/plain": [
       "EDUCATION       0        1        2         3        4       5       6\n",
       "default                                                               \n",
       "0          3.0968  305.402 -226.564 -149.3596  20.2076  43.936  3.2812\n",
       "1         -3.0968 -305.402  226.564  149.3596 -20.2076 -43.936 -3.2812"
      ]
     },
     "execution_count": 27,
     "metadata": {},
     "output_type": "execute_result"
    }
   ],
   "source": [
    "exp = stats.chi2_contingency(edu_pivot)[3].tolist()\n",
    "edu_pivot - pd.DataFrame(exp)"
   ]
  },
  {
   "cell_type": "markdown",
   "metadata": {
    "deletable": true,
    "editable": true
   },
   "source": [
    "Мне таблица представлется не очень наглядной и удобной для анализа, лучше рассмотреть данные в терминах долей дефолтов по различным категориям - сравнить наблюдаемые доли с ожидаемыми в случае равномерного распределения."
   ]
  },
  {
   "cell_type": "code",
   "execution_count": 28,
   "metadata": {
    "collapsed": false,
    "deletable": true,
    "editable": true
   },
   "outputs": [
    {
     "name": "stdout",
     "output_type": "stream",
     "text": [
      "[0.0, 0.19234766178554558, 0.23734853884533144, 0.2515761643278422, 0.056910569105691054, 0.06428571428571428, 0.1568627450980392]\n",
      "[0.2212, 0.2212, 0.2212, 0.2212, 0.2212, 0.2212, 0.2212]\n"
     ]
    },
    {
     "data": {
      "text/plain": [
       "<matplotlib.text.Text at 0x7bfac9b0>"
      ]
     },
     "execution_count": 28,
     "metadata": {},
     "output_type": "execute_result"
    },
    {
     "data": {
      "image/png": "[encoded data removed]",
      "text/plain": [
       "<matplotlib.figure.Figure at 0x7bf8fac8>"
      ]
     },
     "metadata": {},
     "output_type": "display_data"
    }
   ],
   "source": [
    "default_share = [float(x[1]) / (x[0]+x[1]) for x in zip(edu_pivot.loc[[0]].values.tolist()[0], \n",
    "                                                        edu_pivot.loc[[1]].values.tolist()[0])]\n",
    "default_exp = [float(x[1]) / (x[0]+x[1]) for x in zip(exp[0], exp[1])]\n",
    "\n",
    "print default_share\n",
    "print default_exp\n",
    "\n",
    "plt.figure(figsize(10, 6))\n",
    "bins = [0, 1, 2, 3, 4, 5, 6]\n",
    "plt.bar(bins, default_exp, alpha=.5, label = 'expected')\n",
    "plt.bar(bins, default_share, alpha=.5, label = 'observed')\n",
    "plt.xlabel('education, 0=phd, 1=ma, 2=bc, 3=graduate, 4=primary, 5=other, 6=na', fontsize = 12)\n",
    "plt.ylabel('default share', fontsize = 12)\n",
    "plt.legend(loc='upper left')\n",
    "plt.title('Default share expected vs observed for education types', fontsize = 16)"
   ]
  },
  {
   "cell_type": "markdown",
   "metadata": {
    "deletable": true,
    "editable": true
   },
   "source": [
    "Видно, что с равномерным распределением не совпадает, значит гипотеза о независимости дефолтов от образования неверна."
   ]
  },
  {
   "cell_type": "markdown",
   "metadata": {
    "deletable": true,
    "editable": true
   },
   "source": [
    "#### Выводы: (1) гипотеза о том, что образование не влияет на то, вернет ли человек долг, НЕВЕРНА; (2) наилучшим индикатором того, что человек отдаст долг, является наличие у человека PhD (что в целом логично, высокий уровень образования = выше доход); (3) наихудшим индикатором - то, что человек является выпускником."
   ]
  },
  {
   "cell_type": "markdown",
   "metadata": {
    "deletable": true,
    "editable": true
   },
   "source": [
    "___\n",
    "### Задание 4"
   ]
  },
  {
   "cell_type": "markdown",
   "metadata": {
    "collapsed": true,
    "deletable": true,
    "editable": true
   },
   "source": [
    "Семейное положение (MARRIAGE): Проверьте, как связан семейный статус с индикатором дефолта: нужно предложить меру, по которой можно измерить возможную связь этих переменных и посчитать ее значение."
   ]
  },
  {
   "cell_type": "code",
   "execution_count": 29,
   "metadata": {
    "collapsed": false,
    "deletable": true,
    "editable": true
   },
   "outputs": [
    {
     "data": {
      "image/png": "[encoded data removed]",
      "text/plain": [
       "<matplotlib.figure.Figure at 0x7bf8f048>"
      ]
     },
     "metadata": {},
     "output_type": "display_data"
    }
   ],
   "source": [
    "plt.figure(figsize(6, 4))\n",
    "\n",
    "plt.hist(raw.MARRIAGE, 7)\n",
    "plt.xlabel('marriage, 0=no answer, 1=married, 2=single, 3=na', fontsize = 12)\n",
    "plt.ylabel('observations', fontsize = 12)\n",
    "plt.title('Histogram for marriage variable', fontsize = 16)\n",
    "\n",
    "pylab.show()"
   ]
  },
  {
   "cell_type": "code",
   "execution_count": 30,
   "metadata": {
    "collapsed": false,
    "deletable": true,
    "editable": true
   },
   "outputs": [
    {
     "name": "stdout",
     "output_type": "stream",
     "text": [
      "0=no answer, 1=married, 2=single, 3=na\n"
     ]
    },
    {
     "data": {
      "text/html": [
       "<div>\n",
       "<table border=\"1\" class=\"dataframe\">\n",
       "  <thead>\n",
       "    <tr style=\"text-align: right;\">\n",
       "      <th>MARRIAGE</th>\n",
       "      <th>0</th>\n",
       "      <th>1</th>\n",
       "      <th>2</th>\n",
       "      <th>3</th>\n",
       "    </tr>\n",
       "    <tr>\n",
       "      <th>default</th>\n",
       "      <th></th>\n",
       "      <th></th>\n",
       "      <th></th>\n",
       "      <th></th>\n",
       "    </tr>\n",
       "  </thead>\n",
       "  <tbody>\n",
       "    <tr>\n",
       "      <th>0</th>\n",
       "      <td>49</td>\n",
       "      <td>10453</td>\n",
       "      <td>12623</td>\n",
       "      <td>239</td>\n",
       "    </tr>\n",
       "    <tr>\n",
       "      <th>1</th>\n",
       "      <td>5</td>\n",
       "      <td>3206</td>\n",
       "      <td>3341</td>\n",
       "      <td>84</td>\n",
       "    </tr>\n",
       "  </tbody>\n",
       "</table>\n",
       "</div>"
      ],
      "text/plain": [
       "MARRIAGE   0      1      2    3\n",
       "default                        \n",
       "0         49  10453  12623  239\n",
       "1          5   3206   3341   84"
      ]
     },
     "execution_count": 30,
     "metadata": {},
     "output_type": "execute_result"
    }
   ],
   "source": [
    "marr_pivot = pd.pivot_table(raw, values='ID', index=['default'], columns=['MARRIAGE'], aggfunc='count', fill_value = 0)\n",
    "print '0=no answer, 1=married, 2=single, 3=na'\n",
    "marr_pivot"
   ]
  },
  {
   "cell_type": "markdown",
   "metadata": {
    "deletable": true,
    "editable": true
   },
   "source": [
    "Поскольку доля людей, по которым нет данных или кто не захотел отвечать на подобный вопрос, мала, то предлагаю просто исключить их из дальнейшего анализа. Тем более, что по факту эти люди либо одиноки, либо состоят в браке, то есть никакой новой существенно  информации эти пропущенные данные не могут привнести."
   ]
  },
  {
   "cell_type": "code",
   "execution_count": 31,
   "metadata": {
    "collapsed": false,
    "deletable": true,
    "editable": true
   },
   "outputs": [
    {
     "data": {
      "text/html": [
       "<div>\n",
       "<table border=\"1\" class=\"dataframe\">\n",
       "  <thead>\n",
       "    <tr style=\"text-align: right;\">\n",
       "      <th>MARRIAGE</th>\n",
       "      <th>0</th>\n",
       "      <th>1</th>\n",
       "      <th>2</th>\n",
       "      <th>3</th>\n",
       "    </tr>\n",
       "    <tr>\n",
       "      <th>default</th>\n",
       "      <th></th>\n",
       "      <th></th>\n",
       "      <th></th>\n",
       "      <th></th>\n",
       "    </tr>\n",
       "  </thead>\n",
       "  <tbody>\n",
       "    <tr>\n",
       "      <th>0</th>\n",
       "      <td>0.907407</td>\n",
       "      <td>0.765283</td>\n",
       "      <td>0.790717</td>\n",
       "      <td>0.739938</td>\n",
       "    </tr>\n",
       "    <tr>\n",
       "      <th>1</th>\n",
       "      <td>0.092593</td>\n",
       "      <td>0.234717</td>\n",
       "      <td>0.209283</td>\n",
       "      <td>0.260062</td>\n",
       "    </tr>\n",
       "  </tbody>\n",
       "</table>\n",
       "</div>"
      ],
      "text/plain": [
       "MARRIAGE         0         1         2         3\n",
       "default                                         \n",
       "0         0.907407  0.765283  0.790717  0.739938\n",
       "1         0.092593  0.234717  0.209283  0.260062"
      ]
     },
     "execution_count": 31,
     "metadata": {},
     "output_type": "execute_result"
    }
   ],
   "source": [
    "marr_props = marr_pivot.div(marr_pivot.sum(axis=0), axis=1)\n",
    "marr_props"
   ]
  },
  {
   "cell_type": "code",
   "execution_count": 32,
   "metadata": {
    "collapsed": false,
    "deletable": true,
    "editable": true
   },
   "outputs": [
    {
     "name": "stdout",
     "output_type": "stream",
     "text": [
      "0=no answer, 1=married, 2=single, 3=na\n"
     ]
    },
    {
     "data": {
      "text/plain": [
       "<matplotlib.text.Text at 0x97af1cf8>"
      ]
     },
     "execution_count": 32,
     "metadata": {},
     "output_type": "execute_result"
    },
    {
     "data": {
      "text/plain": [
       "<matplotlib.figure.Figure at 0x2a550898>"
      ]
     },
     "metadata": {},
     "output_type": "display_data"
    },
    {
     "data": {
      "image/png": "[encoded data removed]",
      "text/plain": [
       "<matplotlib.figure.Figure at 0x1341a6550>"
      ]
     },
     "metadata": {},
     "output_type": "display_data"
    }
   ],
   "source": [
    "print '0=no answer, 1=married, 2=single, 3=na'\n",
    "\n",
    "plt.figure(figsize(10, 4))\n",
    "marr_props.plot.bar()\n",
    "plt.ylabel('observations', fontsize = 12)\n",
    "plt.xlabel('default', fontsize = 12)\n",
    "plt.title('Defaults by marriage type', fontsize = 16)"
   ]
  },
  {
   "cell_type": "markdown",
   "metadata": {
    "deletable": true,
    "editable": true
   },
   "source": [
    "Интервальные оценки долей:"
   ]
  },
  {
   "cell_type": "code",
   "execution_count": 33,
   "metadata": {
    "collapsed": true,
    "deletable": true,
    "editable": true
   },
   "outputs": [],
   "source": [
    "def_marr = raw[raw.MARRIAGE == 1].default.values\n",
    "def_sing = raw[raw.MARRIAGE == 2].default.values"
   ]
  },
  {
   "cell_type": "code",
   "execution_count": 34,
   "metadata": {
    "collapsed": false,
    "deletable": true,
    "editable": true
   },
   "outputs": [
    {
     "name": "stdout",
     "output_type": "stream",
     "text": [
      "interval for married default rate:  (0.22768464802142566, 0.24189859922313958)\n",
      "interval for single default rate:   (0.20304332502846192, 0.21566332834499138)\n"
     ]
    }
   ],
   "source": [
    "from statsmodels.stats.proportion import proportion_confint\n",
    "conf_interval_banner_a = proportion_confint(sum(def_marr), \n",
    "                                            def_marr.shape[0],\n",
    "                                            method = 'wilson')\n",
    "conf_interval_banner_b = proportion_confint(sum(def_sing), \n",
    "                                            def_sing.shape[0],\n",
    "                                            method = 'wilson')\n",
    "print 'interval for married default rate: ', conf_interval_banner_a\n",
    "print 'interval for single default rate:  ', conf_interval_banner_b"
   ]
  },
  {
   "cell_type": "code",
   "execution_count": 35,
   "metadata": {
    "collapsed": false,
    "deletable": true,
    "editable": true
   },
   "outputs": [
    {
     "name": "stdout",
     "output_type": "stream",
     "text": [
      "married default rate:  0.234717036386\n",
      "single default rate:   0.209283387622\n",
      "difference is:  0.0254336487641\n",
      "\n",
      "confidence interval, 95% level:  (0.015928989280945341, 0.034938308247285874)\n"
     ]
    }
   ],
   "source": [
    "print 'married default rate: ', float(sum(def_marr)) / len(def_marr)\n",
    "print 'single default rate:  ', float(sum(def_sing)) / len(def_sing)\n",
    "print 'difference is: ', float(sum(def_marr)) / len(def_marr) - float(sum(def_sing)) / len(def_sing)\n",
    "print\n",
    "print 'confidence interval, 95% level: ', proportions_confint_diff_ind(def_marr, def_sing)"
   ]
  },
  {
   "cell_type": "markdown",
   "metadata": {
    "deletable": true,
    "editable": true
   },
   "source": [
    "Дополнительно можно посмотреть на корреляцию семейного статуса с индикатором дефолта:"
   ]
  },
  {
   "cell_type": "code",
   "execution_count": 36,
   "metadata": {
    "collapsed": false,
    "deletable": true,
    "editable": true
   },
   "outputs": [
    {
     "data": {
      "text/html": [
       "<div>\n",
       "<table border=\"1\" class=\"dataframe\">\n",
       "  <thead>\n",
       "    <tr style=\"text-align: right;\">\n",
       "      <th></th>\n",
       "      <th>default</th>\n",
       "      <th>MARRIAGE</th>\n",
       "    </tr>\n",
       "  </thead>\n",
       "  <tbody>\n",
       "    <tr>\n",
       "      <th>default</th>\n",
       "      <td>1.000000</td>\n",
       "      <td>-0.024339</td>\n",
       "    </tr>\n",
       "    <tr>\n",
       "      <th>MARRIAGE</th>\n",
       "      <td>-0.024339</td>\n",
       "      <td>1.000000</td>\n",
       "    </tr>\n",
       "  </tbody>\n",
       "</table>\n",
       "</div>"
      ],
      "text/plain": [
       "           default  MARRIAGE\n",
       "default   1.000000 -0.024339\n",
       "MARRIAGE -0.024339  1.000000"
      ]
     },
     "execution_count": 36,
     "metadata": {},
     "output_type": "execute_result"
    }
   ],
   "source": [
    "raw[['default', 'MARRIAGE']].corr()"
   ]
  },
  {
   "cell_type": "code",
   "execution_count": 44,
   "metadata": {
    "collapsed": false,
    "deletable": true,
    "editable": true
   },
   "outputs": [
    {
     "data": {
      "text/html": [
       "<div>\n",
       "<table border=\"1\" class=\"dataframe\">\n",
       "  <thead>\n",
       "    <tr style=\"text-align: right;\">\n",
       "      <th></th>\n",
       "      <th>default</th>\n",
       "      <th>MARRIAGE</th>\n",
       "    </tr>\n",
       "  </thead>\n",
       "  <tbody>\n",
       "    <tr>\n",
       "      <th>default</th>\n",
       "      <td>1.00000</td>\n",
       "      <td>-0.02649</td>\n",
       "    </tr>\n",
       "    <tr>\n",
       "      <th>MARRIAGE</th>\n",
       "      <td>-0.02649</td>\n",
       "      <td>1.00000</td>\n",
       "    </tr>\n",
       "  </tbody>\n",
       "</table>\n",
       "</div>"
      ],
      "text/plain": [
       "          default  MARRIAGE\n",
       "default   1.00000  -0.02649\n",
       "MARRIAGE -0.02649   1.00000"
      ]
     },
     "execution_count": 44,
     "metadata": {},
     "output_type": "execute_result"
    }
   ],
   "source": [
    "raw[['default', 'MARRIAGE']].corr(method='spearman')"
   ]
  },
  {
   "cell_type": "markdown",
   "metadata": {
    "deletable": true,
    "editable": true
   },
   "source": [
    "Корреляция есть, но незначительная. В целом, подтверждается то, что мы видели выше - для женатых / замужних людей дефолт наблюдается чаще."
   ]
  },
  {
   "cell_type": "markdown",
   "metadata": {
    "deletable": true,
    "editable": true
   },
   "source": [
    "Для оценки корреляции в данном случае лучше всего будет применить Коэффициент корреляции Мэтьюса — как меру силы взаимосвязи между двумя бинарными переменными. Она может быть использована и в случае, если размеры классов сильно различаются."
   ]
  },
  {
   "cell_type": "code",
   "execution_count": 45,
   "metadata": {
    "collapsed": false,
    "deletable": true,
    "editable": true
   },
   "outputs": [
    {
     "name": "stdout",
     "output_type": "stream",
     "text": [
      "[[10453 12623]\n",
      " [ 3206  3341]]\n"
     ]
    }
   ],
   "source": [
    "X = np.array([[marr_pivot.loc[0, 1], marr_pivot.loc[0, 2]], [marr_pivot.loc[1, 1], marr_pivot.loc[1, 2]]])\n",
    "print X"
   ]
  },
  {
   "cell_type": "code",
   "execution_count": 46,
   "metadata": {
    "collapsed": false,
    "deletable": true,
    "editable": true
   },
   "outputs": [
    {
     "name": "stdout",
     "output_type": "stream",
     "text": [
      "Matthews correlation coefficient:  -0.0305553699204\n",
      "              and p-value for it:  1.5633210356e-07\n"
     ]
    }
   ],
   "source": [
    "MCC_X = (X[0, 0] * X[1, 1] - X[0, 1] * X[1, 0]) / (((X[0, 0] + X[0, 1]) * \n",
    "                                                    (X[0, 0] + X[1, 0]) * \n",
    "                                                    (X[0, 1] + X[1, 1]) * \n",
    "                                                    (X[1, 0] + X[1, 1])) ** .5)\n",
    "print 'Matthews correlation coefficient: ', MCC_X\n",
    "print '              and p-value for it: ', stats.chi2_contingency(X)[1]"
   ]
  },
  {
   "cell_type": "markdown",
   "metadata": {
    "deletable": true,
    "editable": true
   },
   "source": [
    "Коэффициент корреляции значим на хорошем уровне."
   ]
  },
  {
   "cell_type": "markdown",
   "metadata": {},
   "source": [
    "#### UPDATE\n",
    "В ходе проверки моей работы было сделано замечание, что для данной задачи нужно использовать коэффициент Крамера. Честно говоря, мне не очень понятно, почему нельзя использовать Коэффициент корреляции Мэтьюса в предположении, что наблюдения, в которых люди отказались отвечать о свем семейном статусе или нет данных, можно исключить в силу их незначимости в общей выборке. Исключая такие наблюдения, мы фактически переходим к сравнению двух бинарных факторов - дефолт / недефолт, в браке / не в браке и получаем таблицу сопряжения для расчета корреляции Мэтьюса (см. неск. строчек выше).\n",
    "\n",
    "Тем не менее, замечание верное, коэффициент Крамера подходит для задачи и рассчитаем его:"
   ]
  },
  {
   "cell_type": "code",
   "execution_count": 50,
   "metadata": {
    "collapsed": false
   },
   "outputs": [
    {
     "data": {
      "text/plain": [
       "array([[   49, 10453, 12623,   239],\n",
       "       [    5,  3206,  3341,    84]], dtype=int64)"
      ]
     },
     "execution_count": 50,
     "metadata": {},
     "output_type": "execute_result"
    }
   ],
   "source": [
    "T = np.array(marr_pivot)\n",
    "T"
   ]
  },
  {
   "cell_type": "code",
   "execution_count": 51,
   "metadata": {
    "collapsed": false
   },
   "outputs": [
    {
     "name": "stdout",
     "output_type": "stream",
     "text": [
      "(35.662395834336088, 8.8258624575773752e-08, 3L, array([[  4.20552000e+01,   1.06376292e+04,   1.24327632e+04,\n",
      "          2.51552400e+02],\n",
      "       [  1.19448000e+01,   3.02137080e+03,   3.53123680e+03,\n",
      "          7.14476000e+01]]))\n"
     ]
    }
   ],
   "source": [
    "print stats.chi2_contingency(T)"
   ]
  },
  {
   "cell_type": "code",
   "execution_count": 55,
   "metadata": {
    "collapsed": false
   },
   "outputs": [
    {
     "name": "stdout",
     "output_type": "stream",
     "text": [
      "Kramer coefficient:  0.0344782036628\n"
     ]
    }
   ],
   "source": [
    "chi = stats.chi2_contingency(T)[0]\n",
    "print 'Kramer coefficient: ', (chi / (sum(sum(T)) * (2 - 1))) ** .5"
   ]
  },
  {
   "cell_type": "markdown",
   "metadata": {
    "deletable": true,
    "editable": true
   },
   "source": [
    "#### Выводы: (1) гипотеза о влиянии статуса клиента (в браке / не в браке) на вероятность дефолта подтверждена; (3) связь между переменными default и MARRIAGE есть, статистически значима. Как ни странно, но люди в браке немного чаще допускают дефолт."
   ]
  },
  {
   "cell_type": "markdown",
   "metadata": {
    "deletable": true,
    "editable": true
   },
   "source": [
    "___\n",
    "### Задание 5"
   ]
  },
  {
   "cell_type": "markdown",
   "metadata": {
    "collapsed": true,
    "deletable": true,
    "editable": true
   },
   "source": [
    "Возраст (AGE): Относительно двух групп людей вернувших и не вернувших кредит проверьте следующие гипотезы: a) о равенстве медианных значений возрастов людей b) о равенстве распределений с помощью одного из подходящих непараметрических критериев проверки равенства средних. Значимы ли полученные результаты с практической точки зрения ?"
   ]
  },
  {
   "cell_type": "markdown",
   "metadata": {
    "deletable": true,
    "editable": true
   },
   "source": [
    "Построим гистограмму по показателю AGE:"
   ]
  },
  {
   "cell_type": "code",
   "execution_count": 56,
   "metadata": {
    "collapsed": false,
    "deletable": true,
    "editable": true
   },
   "outputs": [
    {
     "data": {
      "image/png": "[encoded data removed]",
      "text/plain": [
       "<matplotlib.figure.Figure at 0xa5c79cc0>"
      ]
     },
     "metadata": {},
     "output_type": "display_data"
    }
   ],
   "source": [
    "plt.figure(figsize(6, 4))\n",
    "\n",
    "plt.hist(raw.AGE)\n",
    "plt.xlabel('age, years', fontsize = 12)\n",
    "plt.ylabel('observations', fontsize = 12)\n",
    "plt.title('Histogram for age variable', fontsize = 16)\n",
    "\n",
    "pylab.show()"
   ]
  },
  {
   "cell_type": "markdown",
   "metadata": {
    "deletable": true,
    "editable": true
   },
   "source": [
    "Попробуем посмотреть на статистику дефолтов в зависимости от возраста детальнее:"
   ]
  },
  {
   "cell_type": "code",
   "execution_count": 57,
   "metadata": {
    "collapsed": false,
    "deletable": true,
    "editable": true
   },
   "outputs": [
    {
     "data": {
      "text/html": [
       "<div>\n",
       "<table border=\"1\" class=\"dataframe\">\n",
       "  <thead>\n",
       "    <tr style=\"text-align: right;\">\n",
       "      <th>AGE</th>\n",
       "      <th>21</th>\n",
       "      <th>22</th>\n",
       "      <th>23</th>\n",
       "      <th>24</th>\n",
       "      <th>25</th>\n",
       "      <th>26</th>\n",
       "      <th>27</th>\n",
       "      <th>28</th>\n",
       "      <th>29</th>\n",
       "      <th>30</th>\n",
       "      <th>...</th>\n",
       "      <th>67</th>\n",
       "      <th>68</th>\n",
       "      <th>69</th>\n",
       "      <th>70</th>\n",
       "      <th>71</th>\n",
       "      <th>72</th>\n",
       "      <th>73</th>\n",
       "      <th>74</th>\n",
       "      <th>75</th>\n",
       "      <th>79</th>\n",
       "    </tr>\n",
       "    <tr>\n",
       "      <th>default</th>\n",
       "      <th></th>\n",
       "      <th></th>\n",
       "      <th></th>\n",
       "      <th></th>\n",
       "      <th></th>\n",
       "      <th></th>\n",
       "      <th></th>\n",
       "      <th></th>\n",
       "      <th></th>\n",
       "      <th></th>\n",
       "      <th></th>\n",
       "      <th></th>\n",
       "      <th></th>\n",
       "      <th></th>\n",
       "      <th></th>\n",
       "      <th></th>\n",
       "      <th></th>\n",
       "      <th></th>\n",
       "      <th></th>\n",
       "      <th></th>\n",
       "      <th></th>\n",
       "    </tr>\n",
       "  </thead>\n",
       "  <tbody>\n",
       "    <tr>\n",
       "      <th>0</th>\n",
       "      <td>53</td>\n",
       "      <td>391</td>\n",
       "      <td>684</td>\n",
       "      <td>827</td>\n",
       "      <td>884</td>\n",
       "      <td>1003</td>\n",
       "      <td>1164</td>\n",
       "      <td>1123</td>\n",
       "      <td>1292</td>\n",
       "      <td>1121</td>\n",
       "      <td>...</td>\n",
       "      <td>11</td>\n",
       "      <td>4</td>\n",
       "      <td>12</td>\n",
       "      <td>8</td>\n",
       "      <td>3</td>\n",
       "      <td>2</td>\n",
       "      <td>1</td>\n",
       "      <td>1</td>\n",
       "      <td>2</td>\n",
       "      <td>1</td>\n",
       "    </tr>\n",
       "    <tr>\n",
       "      <th>1</th>\n",
       "      <td>14</td>\n",
       "      <td>169</td>\n",
       "      <td>247</td>\n",
       "      <td>300</td>\n",
       "      <td>302</td>\n",
       "      <td>253</td>\n",
       "      <td>313</td>\n",
       "      <td>286</td>\n",
       "      <td>313</td>\n",
       "      <td>274</td>\n",
       "      <td>...</td>\n",
       "      <td>5</td>\n",
       "      <td>1</td>\n",
       "      <td>3</td>\n",
       "      <td>2</td>\n",
       "      <td>0</td>\n",
       "      <td>1</td>\n",
       "      <td>3</td>\n",
       "      <td>0</td>\n",
       "      <td>1</td>\n",
       "      <td>0</td>\n",
       "    </tr>\n",
       "  </tbody>\n",
       "</table>\n",
       "<p>2 rows × 56 columns</p>\n",
       "</div>"
      ],
      "text/plain": [
       "AGE      21   22   23   24   25    26    27    28    29    30 ...  67  68  69  \\\n",
       "default                                                       ...               \n",
       "0        53  391  684  827  884  1003  1164  1123  1292  1121 ...  11   4  12   \n",
       "1        14  169  247  300  302   253   313   286   313   274 ...   5   1   3   \n",
       "\n",
       "AGE      70  71  72  73  74  75  79  \n",
       "default                              \n",
       "0         8   3   2   1   1   2   1  \n",
       "1         2   0   1   3   0   1   0  \n",
       "\n",
       "[2 rows x 56 columns]"
      ]
     },
     "execution_count": 57,
     "metadata": {},
     "output_type": "execute_result"
    }
   ],
   "source": [
    "age_pivot = pd.pivot_table(raw, values='ID', index=['default'], columns=['AGE'], aggfunc='count', fill_value = 0)\n",
    "age_pivot"
   ]
  },
  {
   "cell_type": "markdown",
   "metadata": {
    "deletable": true,
    "editable": true
   },
   "source": [
    "В том числе построим график зависимости дефолта от возраста:"
   ]
  },
  {
   "cell_type": "code",
   "execution_count": 58,
   "metadata": {
    "collapsed": false,
    "deletable": true,
    "editable": true
   },
   "outputs": [
    {
     "data": {
      "text/plain": [
       "<matplotlib.axes._subplots.AxesSubplot at 0xb9c5630>"
      ]
     },
     "execution_count": 58,
     "metadata": {},
     "output_type": "execute_result"
    },
    {
     "data": {
      "text/plain": [
       "<matplotlib.figure.Figure at 0x2218c940>"
      ]
     },
     "metadata": {},
     "output_type": "display_data"
    },
    {
     "data": {
      "image/png": "[encoded data removed]",
      "text/plain": [
       "<matplotlib.figure.Figure at 0xa5c66f28>"
      ]
     },
     "metadata": {},
     "output_type": "display_data"
    }
   ],
   "source": [
    "age_props = age_pivot.div(age_pivot.sum(axis=0), axis=1)\n",
    "plt.figure(figsize(16, 6))\n",
    "age_props.transpose().plot()"
   ]
  },
  {
   "cell_type": "markdown",
   "metadata": {
    "deletable": true,
    "editable": true
   },
   "source": [
    "Видим, что за исключением возрастов 60+ (в интервале 60+ наблюдений мало и сильные скачки), доля дефолтов достачно стабильна и не сильно зависит от возраста, хотя есть слегка заметное повышение в сторону увеличения возраста."
   ]
  },
  {
   "cell_type": "markdown",
   "metadata": {
    "deletable": true,
    "editable": true
   },
   "source": [
    "Оценим распределения на нормальность:"
   ]
  },
  {
   "cell_type": "code",
   "execution_count": 59,
   "metadata": {
    "collapsed": false,
    "deletable": true,
    "editable": true
   },
   "outputs": [
    {
     "data": {
      "image/png": "[encoded data removed]",
      "text/plain": [
       "<matplotlib.figure.Figure at 0x9be74080>"
      ]
     },
     "metadata": {},
     "output_type": "display_data"
    }
   ],
   "source": [
    "plt.figure(figsize=(16, 8))\n",
    "plt.subplot(2, 2, 1)\n",
    "stats.probplot(raw[raw.default == 1].AGE, dist = 'norm', plot = pylab)\n",
    "plt.title('QQ plot for credit limit, default = 1', fontsize = 12)\n",
    "plt.subplot(2, 2, 2)\n",
    "stats.probplot(raw[raw.default == 0].AGE, dist=\"norm\", plot=pylab)\n",
    "plt.title('QQ plot for credit limit, default = 0', fontsize = 12)\n",
    "plt.show()"
   ]
  },
  {
   "cell_type": "markdown",
   "metadata": {
    "deletable": true,
    "editable": true
   },
   "source": [
    "Применим бутстреп-критерий для проверки гипотезы о равенстве медиан."
   ]
  },
  {
   "cell_type": "markdown",
   "metadata": {
    "deletable": true,
    "editable": true
   },
   "source": [
    "Доверительные 95% интервалы на основе бутстрапа для медианных значений возраста в случае отсутствия дефолта и в случае дефолта:"
   ]
  },
  {
   "cell_type": "code",
   "execution_count": 60,
   "metadata": {
    "collapsed": false,
    "deletable": true,
    "editable": true
   },
   "outputs": [
    {
     "name": "stdout",
     "output_type": "stream",
     "text": [
      "median for the age if no default:  34.0\n",
      "median for the age if default:     34.0\n",
      "\n",
      "95% confidence interval for the age if no default:  [ 34.  34.]\n",
      "95% confidence interval for the age if default:     [ 34.  35.]\n"
     ]
    }
   ],
   "source": [
    "np.random.seed(0)\n",
    "\n",
    "age_def0 = raw[raw.default == 0].AGE.values\n",
    "age_def1 = raw[raw.default == 1].AGE.values\n",
    "\n",
    "age_def0_scores = map(np.median, get_bootstrap_samples(age_def0, 1000))\n",
    "age_def1_scores = map(np.median, get_bootstrap_samples(age_def1, 1000))\n",
    "\n",
    "print \"median for the age if no default: \", np.median(age_def0)\n",
    "print \"median for the age if default:    \", np.median(age_def1)\n",
    "print \n",
    "print \"95% confidence interval for the age if no default: \",  stat_intervals(age_def0_scores, 0.05)\n",
    "print \"95% confidence interval for the age if default:    \",  stat_intervals(age_def1_scores, 0.05)"
   ]
  },
  {
   "cell_type": "markdown",
   "metadata": {
    "deletable": true,
    "editable": true
   },
   "source": [
    "Интервальная оценка разности медиан:"
   ]
  },
  {
   "cell_type": "code",
   "execution_count": 61,
   "metadata": {
    "collapsed": false,
    "deletable": true,
    "editable": true
   },
   "outputs": [
    {
     "name": "stdout",
     "output_type": "stream",
     "text": [
      "95% confidence interval for the difference between medians [ 0.  1.]\n"
     ]
    }
   ],
   "source": [
    "delta_median_scores = map(lambda x: x[1] - x[0], zip(age_def0_scores, age_def1_scores))\n",
    "print \"95% confidence interval for the difference between medians\",  stat_intervals(delta_median_scores, 0.05)"
   ]
  },
  {
   "cell_type": "markdown",
   "metadata": {
    "deletable": true,
    "editable": true
   },
   "source": [
    "#### Вывод 5.a. Медианные значения возрастов для двух групп людей - кто вернул кредит (default = 0) и кто его не вернул (default = 1) - СОВПАДАЮТ на 95% доверительном уровне."
   ]
  },
  {
   "cell_type": "markdown",
   "metadata": {
    "deletable": true,
    "editable": true
   },
   "source": [
    "Проверим гипотезу о равенстве распределений с помощью одного из подходящих непараметрических критериев проверки равенства средних. Для начала построим гистограммы, чтобы хоть как-то оценить формы распределений."
   ]
  },
  {
   "cell_type": "code",
   "execution_count": 62,
   "metadata": {
    "collapsed": false,
    "deletable": true,
    "editable": true
   },
   "outputs": [
    {
     "data": {
      "text/plain": [
       "<matplotlib.text.Text at 0xc75f9b0>"
      ]
     },
     "execution_count": 62,
     "metadata": {},
     "output_type": "execute_result"
    },
    {
     "data": {
      "image/png": "[encoded data removed]",
      "text/plain": [
       "<matplotlib.figure.Figure at 0xbf68748>"
      ]
     },
     "metadata": {},
     "output_type": "display_data"
    }
   ],
   "source": [
    "plt.figure(figsize(24, 6))\n",
    "plt.subplot(1, 2, 1)\n",
    "plt.hist(age_def0)\n",
    "plt.xlabel('age, years', fontsize = 12)\n",
    "plt.ylabel('observations', fontsize = 12)\n",
    "plt.title('Histogram for age if no default', fontsize = 16)\n",
    "plt.subplot(1, 2, 2)\n",
    "plt.hist(age_def1)\n",
    "plt.xlabel('age, years', fontsize = 12)\n",
    "plt.ylabel('observations', fontsize = 12)\n",
    "plt.title('Histogram for age if default', fontsize = 16)"
   ]
  },
  {
   "cell_type": "markdown",
   "metadata": {
    "deletable": true,
    "editable": true
   },
   "source": [
    "Воспользуемся перестановочным критерием:"
   ]
  },
  {
   "cell_type": "code",
   "execution_count": 63,
   "metadata": {
    "collapsed": false,
    "deletable": true,
    "editable": true
   },
   "outputs": [
    {
     "data": {
      "image/png": "[encoded data removed]",
      "text/plain": [
       "<matplotlib.figure.Figure at 0xc5f5be0>"
      ]
     },
     "metadata": {},
     "output_type": "display_data"
    }
   ],
   "source": [
    "pylab.hist(permutation_zero_dist_ind(age_def0, age_def1, max_combinations = 10000))\n",
    "pylab.show()"
   ]
  },
  {
   "cell_type": "code",
   "execution_count": 64,
   "metadata": {
    "collapsed": false,
    "deletable": true,
    "editable": true
   },
   "outputs": [
    {
     "name": "stdout",
     "output_type": "stream",
     "text": [
      "p-value: 0.017200\n"
     ]
    }
   ],
   "source": [
    "print \"p-value: %f\" % permutation_test(age_def0, age_def1, max_permutations = 10000)"
   ]
  },
  {
   "cell_type": "markdown",
   "metadata": {
    "collapsed": true,
    "deletable": true,
    "editable": true
   },
   "source": [
    "#### Вывод 5.b. Гипотеза о равенстве распределений с помощью непараметрическиго критерия проверки равенства средних ОТВЕРГАЕТСЯ на 95% доверительном уровне. Вместе с тем, полученный результат не значим с практической точки зрения, так как медианные значения совпадают, средние значения очень близки, что не позволяет значимо сегментировать клиентов и управлять рисками в данной задаче скоринга."
   ]
  },
  {
   "cell_type": "code",
   "execution_count": null,
   "metadata": {
    "collapsed": true,
    "deletable": true,
    "editable": true
   },
   "outputs": [],
   "source": []
  }
 ],
 "metadata": {
  "kernelspec": {
   "display_name": "Python 3",
   "language": "python",
   "name": "python3"
  },
  "language_info": {
   "codemirror_mode": {
    "name": "ipython",
    "version": 3
   },
   "file_extension": ".py",
   "mimetype": "text/x-python",
   "name": "python",
   "nbconvert_exporter": "python",
   "pygments_lexer": "ipython3",
   "version": "3.6.0"
  }
 },
 "nbformat": 4,
 "nbformat_minor": 0
}

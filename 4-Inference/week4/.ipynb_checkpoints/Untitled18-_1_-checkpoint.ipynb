{
 "cells": [
  {
   "cell_type": "markdown",
   "metadata": {},
   "source": [
    "# Инструкции"
   ]
  },
  {
   "cell_type": "markdown",
   "metadata": {},
   "source": [
    "Для выполнения этого задания вам понадобятся данные о кредитных историях клиентов одного из банков. Поля в предоставляемых данных имеют следующий смысл:\n",
    "\n",
    "LIMIT_BAL: размер кредитного лимита (в том числе и на семью клиента)\n",
    "\n",
    "SEX: пол клиента (1 = мужской, 2 = женский )\n",
    "\n",
    "EDUCATION: образование (0 = доктор, 1 = магистр; 2 = бакалавр; 3 = выпускник школы; 4 = начальное образование; 5= прочее; 6 = нет данных ).\n",
    "\n",
    "MARRIAGE: (0 = отказываюсь отвечать; 1 = замужем/женат; 2 = холост; 3 = нет данных).\n",
    "\n",
    "AGE: возраст в годах\n",
    "\n",
    "PAY_0 - PAY_6 : История прошлых платежей по кредиту. PAY_6 - платеж в апреле, ... Pay_0 - платеж в сентябре. Платеж = (0 = исправный платеж, 1=задержка в один месяц, 2=задержка в 2 месяца ...)\n",
    "\n",
    "BILL_AMT1 - BILL_AMT6: задолженность, BILL_AMT6 - на апрель, BILL_AMT1 - на сентябрь\n",
    "\n",
    "PAY_AMT1 - PAY_AMT6: сумма уплаченная в PAY_AMT6 - апреле, ..., PAY_AMT1 - сентябре\n",
    "\n",
    "default - индикатор невозврата денежных средств"
   ]
  },
  {
   "cell_type": "markdown",
   "metadata": {},
   "source": [
    "# Задание"
   ]
  },
  {
   "cell_type": "markdown",
   "metadata": {},
   "source": [
    "1. Размер кредитного лимита (LIMIT_BAL). В двух группах, тех людей, кто вернул кредит (default = 0) и тех, кто его не вернул (default = 1) проверьте гипотезы: a) о равенстве медианных значений кредитного лимита с помощью подходящей интервальной оценки b) о равенстве распределений с помощью одного из подходящих непараметрических критериев проверки равенства средних. Значимы ли полученные результаты с практической точки зрения ?\n",
    "2. Пол (SEX): Проверьте гипотезу о том, что гендерный состав группы людей вернувших и не вернувших кредит отличается. Хорошо, если вы предоставите несколько различных решений этой задачи (с помощью доверительного интервала и подходящего статистического критерия)\n",
    "3. Образование (EDUCATION): Проверьте гипотезу о том, что образование не влияет на то, вернет ли человек долг. Предложите способ наглядного представления разницы в ожидаемых и наблюдаемых значениях количества человек вернувших и не вернувших долг. Например, составьте таблицу сопряженности \"образование\" на \"возврат долга\", где значением ячейки была бы разность между наблюдаемым и ожидаемым количеством человек. Как бы вы предложили модифицировать таблицу так, чтобы привести значения ячеек к одному масштабу не потеряв в интерпретируемости ? Наличие какого образования является наилучшим индикатором того, что человек отдаст долг ? наоборт, не отдаст долг ?\n",
    "4. Семейное положение (MARRIAGE): Проверьте, как связан семейный статус с индикатором дефолта: нужно предложить меру, по которой можно измерить возможную связь этих переменных и посчитать ее значение.\n",
    "5. Возраст (AGE): Относительно двух групп людей вернувших и не вернувших кредит проверьте следующие гипотезы: a) о равенстве медианных значений возрастов людей b) о равенстве распределений с помощью одного из подходящих непараметрических критериев проверки равенства средних. Значимы ли полученные результаты с практической точки зрения ?"
   ]
  },
  {
   "cell_type": "markdown",
   "metadata": {},
   "source": [
    "# Критерии"
   ]
  },
  {
   "cell_type": "markdown",
   "metadata": {},
   "source": [
    "1. Выполнение каждого пункта задания должно начинаться с графика с данными, которые вы собираетесь анализировать. Еще лучше, если вы разложите графики анализируемого фактора по переменной (default), на которую хотите изучить влияние этого фактора, и проинтерпретируете отличия в полученных распределениях.\n",
    "2. При использовании статистических критериев необходимо убедиться в том, что условия их применимости выполняются. Например, если вы видите, что данные бинарные, то не нужно применять критерий Стьюдента.\n",
    "3. При каждом использовании любого критерия необходимо указать, какая проверяется гипотеза, против какой альтернативы, чему равен достигаемый уровень значимости, принимается или отвергается нулевая гипотеза на уровне значимости 0.05. Если задача позволяет, нужно оценить размер эффекта и предположить, имеет ли этот результат практическую значимость.\n",
    "4. Выполненное задание необходимо представить в ipython-ноутбука."
   ]
  },
  {
   "cell_type": "code",
   "execution_count": 1,
   "metadata": {
    "collapsed": true
   },
   "outputs": [],
   "source": [
    "import pandas as pd\n",
    "import numpy as np\n",
    "from matplotlib import pylab as plt\n",
    "from statsmodels import stats\n",
    "from scipy import stats as stats1"
   ]
  },
  {
   "cell_type": "code",
   "execution_count": 2,
   "metadata": {
    "collapsed": false
   },
   "outputs": [
    {
     "data": {
      "text/html": [
       "<div>\n",
       "<table border=\"1\" class=\"dataframe\">\n",
       "  <thead>\n",
       "    <tr style=\"text-align: right;\">\n",
       "      <th></th>\n",
       "      <th>ID</th>\n",
       "      <th>LIMIT_BAL</th>\n",
       "      <th>SEX</th>\n",
       "      <th>EDUCATION</th>\n",
       "      <th>MARRIAGE</th>\n",
       "      <th>AGE</th>\n",
       "      <th>PAY_0</th>\n",
       "      <th>PAY_2</th>\n",
       "      <th>PAY_3</th>\n",
       "      <th>PAY_4</th>\n",
       "      <th>...</th>\n",
       "      <th>BILL_AMT4</th>\n",
       "      <th>BILL_AMT5</th>\n",
       "      <th>BILL_AMT6</th>\n",
       "      <th>PAY_AMT1</th>\n",
       "      <th>PAY_AMT2</th>\n",
       "      <th>PAY_AMT3</th>\n",
       "      <th>PAY_AMT4</th>\n",
       "      <th>PAY_AMT5</th>\n",
       "      <th>PAY_AMT6</th>\n",
       "      <th>default</th>\n",
       "    </tr>\n",
       "  </thead>\n",
       "  <tbody>\n",
       "    <tr>\n",
       "      <th>0</th>\n",
       "      <td>1</td>\n",
       "      <td>20000</td>\n",
       "      <td>2</td>\n",
       "      <td>2</td>\n",
       "      <td>1</td>\n",
       "      <td>24</td>\n",
       "      <td>2</td>\n",
       "      <td>2</td>\n",
       "      <td>0</td>\n",
       "      <td>0</td>\n",
       "      <td>...</td>\n",
       "      <td>0</td>\n",
       "      <td>0</td>\n",
       "      <td>0</td>\n",
       "      <td>0</td>\n",
       "      <td>689</td>\n",
       "      <td>0</td>\n",
       "      <td>0</td>\n",
       "      <td>0</td>\n",
       "      <td>0</td>\n",
       "      <td>1</td>\n",
       "    </tr>\n",
       "    <tr>\n",
       "      <th>1</th>\n",
       "      <td>2</td>\n",
       "      <td>120000</td>\n",
       "      <td>2</td>\n",
       "      <td>2</td>\n",
       "      <td>2</td>\n",
       "      <td>26</td>\n",
       "      <td>0</td>\n",
       "      <td>2</td>\n",
       "      <td>0</td>\n",
       "      <td>0</td>\n",
       "      <td>...</td>\n",
       "      <td>3272</td>\n",
       "      <td>3455</td>\n",
       "      <td>3261</td>\n",
       "      <td>0</td>\n",
       "      <td>1000</td>\n",
       "      <td>1000</td>\n",
       "      <td>1000</td>\n",
       "      <td>0</td>\n",
       "      <td>2000</td>\n",
       "      <td>1</td>\n",
       "    </tr>\n",
       "    <tr>\n",
       "      <th>2</th>\n",
       "      <td>3</td>\n",
       "      <td>90000</td>\n",
       "      <td>2</td>\n",
       "      <td>2</td>\n",
       "      <td>2</td>\n",
       "      <td>34</td>\n",
       "      <td>0</td>\n",
       "      <td>0</td>\n",
       "      <td>0</td>\n",
       "      <td>0</td>\n",
       "      <td>...</td>\n",
       "      <td>14331</td>\n",
       "      <td>14948</td>\n",
       "      <td>15549</td>\n",
       "      <td>1518</td>\n",
       "      <td>1500</td>\n",
       "      <td>1000</td>\n",
       "      <td>1000</td>\n",
       "      <td>1000</td>\n",
       "      <td>5000</td>\n",
       "      <td>0</td>\n",
       "    </tr>\n",
       "    <tr>\n",
       "      <th>3</th>\n",
       "      <td>4</td>\n",
       "      <td>50000</td>\n",
       "      <td>2</td>\n",
       "      <td>2</td>\n",
       "      <td>1</td>\n",
       "      <td>37</td>\n",
       "      <td>0</td>\n",
       "      <td>0</td>\n",
       "      <td>0</td>\n",
       "      <td>0</td>\n",
       "      <td>...</td>\n",
       "      <td>28314</td>\n",
       "      <td>28959</td>\n",
       "      <td>29547</td>\n",
       "      <td>2000</td>\n",
       "      <td>2019</td>\n",
       "      <td>1200</td>\n",
       "      <td>1100</td>\n",
       "      <td>1069</td>\n",
       "      <td>1000</td>\n",
       "      <td>0</td>\n",
       "    </tr>\n",
       "    <tr>\n",
       "      <th>4</th>\n",
       "      <td>5</td>\n",
       "      <td>50000</td>\n",
       "      <td>1</td>\n",
       "      <td>2</td>\n",
       "      <td>1</td>\n",
       "      <td>57</td>\n",
       "      <td>0</td>\n",
       "      <td>0</td>\n",
       "      <td>0</td>\n",
       "      <td>0</td>\n",
       "      <td>...</td>\n",
       "      <td>20940</td>\n",
       "      <td>19146</td>\n",
       "      <td>19131</td>\n",
       "      <td>2000</td>\n",
       "      <td>36681</td>\n",
       "      <td>10000</td>\n",
       "      <td>9000</td>\n",
       "      <td>689</td>\n",
       "      <td>679</td>\n",
       "      <td>0</td>\n",
       "    </tr>\n",
       "  </tbody>\n",
       "</table>\n",
       "<p>5 rows × 25 columns</p>\n",
       "</div>"
      ],
      "text/plain": [
       "   ID  LIMIT_BAL  SEX  EDUCATION  MARRIAGE  AGE  PAY_0  PAY_2  PAY_3  PAY_4  \\\n",
       "0   1      20000    2          2         1   24      2      2      0      0   \n",
       "1   2     120000    2          2         2   26      0      2      0      0   \n",
       "2   3      90000    2          2         2   34      0      0      0      0   \n",
       "3   4      50000    2          2         1   37      0      0      0      0   \n",
       "4   5      50000    1          2         1   57      0      0      0      0   \n",
       "\n",
       "    ...     BILL_AMT4  BILL_AMT5  BILL_AMT6  PAY_AMT1  PAY_AMT2  PAY_AMT3  \\\n",
       "0   ...             0          0          0         0       689         0   \n",
       "1   ...          3272       3455       3261         0      1000      1000   \n",
       "2   ...         14331      14948      15549      1518      1500      1000   \n",
       "3   ...         28314      28959      29547      2000      2019      1200   \n",
       "4   ...         20940      19146      19131      2000     36681     10000   \n",
       "\n",
       "   PAY_AMT4  PAY_AMT5  PAY_AMT6  default  \n",
       "0         0         0         0        1  \n",
       "1      1000         0      2000        1  \n",
       "2      1000      1000      5000        0  \n",
       "3      1100      1069      1000        0  \n",
       "4      9000       689       679        0  \n",
       "\n",
       "[5 rows x 25 columns]"
      ]
     },
     "execution_count": 2,
     "metadata": {},
     "output_type": "execute_result"
    }
   ],
   "source": [
    "df=pd.read_csv('credit_card_default_analysis.csv')\n",
    "df.head()"
   ]
  },
  {
   "cell_type": "code",
   "execution_count": 3,
   "metadata": {
    "collapsed": false
   },
   "outputs": [
    {
     "name": "stdout",
     "output_type": "stream",
     "text": [
      "(30000, 25)\n",
      "(30000, 25)\n"
     ]
    }
   ],
   "source": [
    "#Проверяю на наличие na\n",
    "print df.shape\n",
    "print df.dropna().shape"
   ]
  },
  {
   "cell_type": "markdown",
   "metadata": {},
   "source": [
    "# Первый взгляд на данные"
   ]
  },
  {
   "cell_type": "code",
   "execution_count": 4,
   "metadata": {
    "collapsed": false
   },
   "outputs": [
    {
     "data": {
      "text/html": [
       "<div>\n",
       "<table border=\"1\" class=\"dataframe\">\n",
       "  <thead>\n",
       "    <tr style=\"text-align: right;\">\n",
       "      <th></th>\n",
       "      <th>ID</th>\n",
       "      <th>LIMIT_BAL</th>\n",
       "      <th>SEX</th>\n",
       "      <th>EDUCATION</th>\n",
       "      <th>MARRIAGE</th>\n",
       "      <th>AGE</th>\n",
       "      <th>PAY_0</th>\n",
       "      <th>PAY_2</th>\n",
       "      <th>PAY_3</th>\n",
       "      <th>PAY_4</th>\n",
       "      <th>...</th>\n",
       "      <th>BILL_AMT4</th>\n",
       "      <th>BILL_AMT5</th>\n",
       "      <th>BILL_AMT6</th>\n",
       "      <th>PAY_AMT1</th>\n",
       "      <th>PAY_AMT2</th>\n",
       "      <th>PAY_AMT3</th>\n",
       "      <th>PAY_AMT4</th>\n",
       "      <th>PAY_AMT5</th>\n",
       "      <th>PAY_AMT6</th>\n",
       "      <th>default</th>\n",
       "    </tr>\n",
       "  </thead>\n",
       "  <tbody>\n",
       "    <tr>\n",
       "      <th>count</th>\n",
       "      <td>30000.000000</td>\n",
       "      <td>30000.000000</td>\n",
       "      <td>30000.000000</td>\n",
       "      <td>30000.000000</td>\n",
       "      <td>30000.000000</td>\n",
       "      <td>30000.000000</td>\n",
       "      <td>30000.000000</td>\n",
       "      <td>30000.000000</td>\n",
       "      <td>30000.000000</td>\n",
       "      <td>30000.000000</td>\n",
       "      <td>...</td>\n",
       "      <td>30000.000000</td>\n",
       "      <td>30000.000000</td>\n",
       "      <td>30000.000000</td>\n",
       "      <td>30000.000000</td>\n",
       "      <td>3.000000e+04</td>\n",
       "      <td>30000.00000</td>\n",
       "      <td>30000.000000</td>\n",
       "      <td>30000.000000</td>\n",
       "      <td>30000.000000</td>\n",
       "      <td>30000.000000</td>\n",
       "    </tr>\n",
       "    <tr>\n",
       "      <th>mean</th>\n",
       "      <td>15000.500000</td>\n",
       "      <td>167484.322667</td>\n",
       "      <td>1.603733</td>\n",
       "      <td>1.853133</td>\n",
       "      <td>1.551867</td>\n",
       "      <td>35.485500</td>\n",
       "      <td>0.356767</td>\n",
       "      <td>0.320033</td>\n",
       "      <td>0.304067</td>\n",
       "      <td>0.258767</td>\n",
       "      <td>...</td>\n",
       "      <td>43262.948967</td>\n",
       "      <td>40311.400967</td>\n",
       "      <td>38871.760400</td>\n",
       "      <td>5663.580500</td>\n",
       "      <td>5.921163e+03</td>\n",
       "      <td>5225.68150</td>\n",
       "      <td>4826.076867</td>\n",
       "      <td>4799.387633</td>\n",
       "      <td>5215.502567</td>\n",
       "      <td>0.221200</td>\n",
       "    </tr>\n",
       "    <tr>\n",
       "      <th>std</th>\n",
       "      <td>8660.398374</td>\n",
       "      <td>129747.661567</td>\n",
       "      <td>0.489129</td>\n",
       "      <td>0.790349</td>\n",
       "      <td>0.521970</td>\n",
       "      <td>9.217904</td>\n",
       "      <td>0.760594</td>\n",
       "      <td>0.801727</td>\n",
       "      <td>0.790589</td>\n",
       "      <td>0.761113</td>\n",
       "      <td>...</td>\n",
       "      <td>64332.856134</td>\n",
       "      <td>60797.155770</td>\n",
       "      <td>59554.107537</td>\n",
       "      <td>16563.280354</td>\n",
       "      <td>2.304087e+04</td>\n",
       "      <td>17606.96147</td>\n",
       "      <td>15666.159744</td>\n",
       "      <td>15278.305679</td>\n",
       "      <td>17777.465775</td>\n",
       "      <td>0.415062</td>\n",
       "    </tr>\n",
       "    <tr>\n",
       "      <th>min</th>\n",
       "      <td>1.000000</td>\n",
       "      <td>10000.000000</td>\n",
       "      <td>1.000000</td>\n",
       "      <td>0.000000</td>\n",
       "      <td>0.000000</td>\n",
       "      <td>21.000000</td>\n",
       "      <td>0.000000</td>\n",
       "      <td>0.000000</td>\n",
       "      <td>0.000000</td>\n",
       "      <td>0.000000</td>\n",
       "      <td>...</td>\n",
       "      <td>-170000.000000</td>\n",
       "      <td>-81334.000000</td>\n",
       "      <td>-339603.000000</td>\n",
       "      <td>0.000000</td>\n",
       "      <td>0.000000e+00</td>\n",
       "      <td>0.00000</td>\n",
       "      <td>0.000000</td>\n",
       "      <td>0.000000</td>\n",
       "      <td>0.000000</td>\n",
       "      <td>0.000000</td>\n",
       "    </tr>\n",
       "    <tr>\n",
       "      <th>25%</th>\n",
       "      <td>7500.750000</td>\n",
       "      <td>50000.000000</td>\n",
       "      <td>1.000000</td>\n",
       "      <td>1.000000</td>\n",
       "      <td>1.000000</td>\n",
       "      <td>28.000000</td>\n",
       "      <td>0.000000</td>\n",
       "      <td>0.000000</td>\n",
       "      <td>0.000000</td>\n",
       "      <td>0.000000</td>\n",
       "      <td>...</td>\n",
       "      <td>2326.750000</td>\n",
       "      <td>1763.000000</td>\n",
       "      <td>1256.000000</td>\n",
       "      <td>1000.000000</td>\n",
       "      <td>8.330000e+02</td>\n",
       "      <td>390.00000</td>\n",
       "      <td>296.000000</td>\n",
       "      <td>252.500000</td>\n",
       "      <td>117.750000</td>\n",
       "      <td>0.000000</td>\n",
       "    </tr>\n",
       "    <tr>\n",
       "      <th>50%</th>\n",
       "      <td>15000.500000</td>\n",
       "      <td>140000.000000</td>\n",
       "      <td>2.000000</td>\n",
       "      <td>2.000000</td>\n",
       "      <td>2.000000</td>\n",
       "      <td>34.000000</td>\n",
       "      <td>0.000000</td>\n",
       "      <td>0.000000</td>\n",
       "      <td>0.000000</td>\n",
       "      <td>0.000000</td>\n",
       "      <td>...</td>\n",
       "      <td>19052.000000</td>\n",
       "      <td>18104.500000</td>\n",
       "      <td>17071.000000</td>\n",
       "      <td>2100.000000</td>\n",
       "      <td>2.009000e+03</td>\n",
       "      <td>1800.00000</td>\n",
       "      <td>1500.000000</td>\n",
       "      <td>1500.000000</td>\n",
       "      <td>1500.000000</td>\n",
       "      <td>0.000000</td>\n",
       "    </tr>\n",
       "    <tr>\n",
       "      <th>75%</th>\n",
       "      <td>22500.250000</td>\n",
       "      <td>240000.000000</td>\n",
       "      <td>2.000000</td>\n",
       "      <td>2.000000</td>\n",
       "      <td>2.000000</td>\n",
       "      <td>41.000000</td>\n",
       "      <td>0.000000</td>\n",
       "      <td>0.000000</td>\n",
       "      <td>0.000000</td>\n",
       "      <td>0.000000</td>\n",
       "      <td>...</td>\n",
       "      <td>54506.000000</td>\n",
       "      <td>50190.500000</td>\n",
       "      <td>49198.250000</td>\n",
       "      <td>5006.000000</td>\n",
       "      <td>5.000000e+03</td>\n",
       "      <td>4505.00000</td>\n",
       "      <td>4013.250000</td>\n",
       "      <td>4031.500000</td>\n",
       "      <td>4000.000000</td>\n",
       "      <td>0.000000</td>\n",
       "    </tr>\n",
       "    <tr>\n",
       "      <th>max</th>\n",
       "      <td>30000.000000</td>\n",
       "      <td>1000000.000000</td>\n",
       "      <td>2.000000</td>\n",
       "      <td>6.000000</td>\n",
       "      <td>3.000000</td>\n",
       "      <td>79.000000</td>\n",
       "      <td>8.000000</td>\n",
       "      <td>8.000000</td>\n",
       "      <td>8.000000</td>\n",
       "      <td>8.000000</td>\n",
       "      <td>...</td>\n",
       "      <td>891586.000000</td>\n",
       "      <td>927171.000000</td>\n",
       "      <td>961664.000000</td>\n",
       "      <td>873552.000000</td>\n",
       "      <td>1.684259e+06</td>\n",
       "      <td>896040.00000</td>\n",
       "      <td>621000.000000</td>\n",
       "      <td>426529.000000</td>\n",
       "      <td>528666.000000</td>\n",
       "      <td>1.000000</td>\n",
       "    </tr>\n",
       "  </tbody>\n",
       "</table>\n",
       "<p>8 rows × 25 columns</p>\n",
       "</div>"
      ],
      "text/plain": [
       "                 ID       LIMIT_BAL           SEX     EDUCATION      MARRIAGE  \\\n",
       "count  30000.000000    30000.000000  30000.000000  30000.000000  30000.000000   \n",
       "mean   15000.500000   167484.322667      1.603733      1.853133      1.551867   \n",
       "std     8660.398374   129747.661567      0.489129      0.790349      0.521970   \n",
       "min        1.000000    10000.000000      1.000000      0.000000      0.000000   \n",
       "25%     7500.750000    50000.000000      1.000000      1.000000      1.000000   \n",
       "50%    15000.500000   140000.000000      2.000000      2.000000      2.000000   \n",
       "75%    22500.250000   240000.000000      2.000000      2.000000      2.000000   \n",
       "max    30000.000000  1000000.000000      2.000000      6.000000      3.000000   \n",
       "\n",
       "                AGE         PAY_0         PAY_2         PAY_3         PAY_4  \\\n",
       "count  30000.000000  30000.000000  30000.000000  30000.000000  30000.000000   \n",
       "mean      35.485500      0.356767      0.320033      0.304067      0.258767   \n",
       "std        9.217904      0.760594      0.801727      0.790589      0.761113   \n",
       "min       21.000000      0.000000      0.000000      0.000000      0.000000   \n",
       "25%       28.000000      0.000000      0.000000      0.000000      0.000000   \n",
       "50%       34.000000      0.000000      0.000000      0.000000      0.000000   \n",
       "75%       41.000000      0.000000      0.000000      0.000000      0.000000   \n",
       "max       79.000000      8.000000      8.000000      8.000000      8.000000   \n",
       "\n",
       "           ...           BILL_AMT4      BILL_AMT5      BILL_AMT6  \\\n",
       "count      ...        30000.000000   30000.000000   30000.000000   \n",
       "mean       ...        43262.948967   40311.400967   38871.760400   \n",
       "std        ...        64332.856134   60797.155770   59554.107537   \n",
       "min        ...      -170000.000000  -81334.000000 -339603.000000   \n",
       "25%        ...         2326.750000    1763.000000    1256.000000   \n",
       "50%        ...        19052.000000   18104.500000   17071.000000   \n",
       "75%        ...        54506.000000   50190.500000   49198.250000   \n",
       "max        ...       891586.000000  927171.000000  961664.000000   \n",
       "\n",
       "            PAY_AMT1      PAY_AMT2      PAY_AMT3       PAY_AMT4  \\\n",
       "count   30000.000000  3.000000e+04   30000.00000   30000.000000   \n",
       "mean     5663.580500  5.921163e+03    5225.68150    4826.076867   \n",
       "std     16563.280354  2.304087e+04   17606.96147   15666.159744   \n",
       "min         0.000000  0.000000e+00       0.00000       0.000000   \n",
       "25%      1000.000000  8.330000e+02     390.00000     296.000000   \n",
       "50%      2100.000000  2.009000e+03    1800.00000    1500.000000   \n",
       "75%      5006.000000  5.000000e+03    4505.00000    4013.250000   \n",
       "max    873552.000000  1.684259e+06  896040.00000  621000.000000   \n",
       "\n",
       "            PAY_AMT5       PAY_AMT6       default  \n",
       "count   30000.000000   30000.000000  30000.000000  \n",
       "mean     4799.387633    5215.502567      0.221200  \n",
       "std     15278.305679   17777.465775      0.415062  \n",
       "min         0.000000       0.000000      0.000000  \n",
       "25%       252.500000     117.750000      0.000000  \n",
       "50%      1500.000000    1500.000000      0.000000  \n",
       "75%      4031.500000    4000.000000      0.000000  \n",
       "max    426529.000000  528666.000000      1.000000  \n",
       "\n",
       "[8 rows x 25 columns]"
      ]
     },
     "execution_count": 4,
     "metadata": {},
     "output_type": "execute_result"
    }
   ],
   "source": [
    "df.describe()"
   ]
  },
  {
   "cell_type": "code",
   "execution_count": 5,
   "metadata": {
    "collapsed": false
   },
   "outputs": [
    {
     "data": {
      "image/png": "[encoded data removed]",
      "text/plain": [
       "<matplotlib.figure.Figure at 0x9f03e50>"
      ]
     },
     "metadata": {},
     "output_type": "display_data"
    }
   ],
   "source": [
    "fig, axes = plt.subplots(nrows=6, ncols=4, figsize=(10, 20))\n",
    "for idx, feature in enumerate(df.columns[1:-1]):\n",
    "    df.plot(feature, \"default\", subplots=True, kind=\"scatter\", ax=axes[idx / 4, idx % 4])\n",
    "plt.show()"
   ]
  },
  {
   "cell_type": "markdown",
   "metadata": {},
   "source": [
    "В общем по субплотам мало, что понятно.\n",
    "\n",
    "Определим типы данных:\n",
    "\n",
    "Результат (default) - бинарный\n",
    "\n",
    "Входы:\n",
    "\n",
    "LIMIT_BAL, AGE - количественные\n",
    "\n",
    "SEX - бинарный, но лучше свести к диапазону (0, 1)\n",
    "\n",
    "EDUCATION - категориальный (0 = доктор, 1 = магистр; 2 = бакалавр; 3 = выпускник школы; 4 = начальное образование; 5= прочее; 6 = нет данных ).\n",
    "\n",
    "MARRIAGE: здесь на самом деле 2 признака: бинарный (сообщил/не сообщил) и категориальный (1 = замужем/женат; 2 = холост; 3 = нет данных). Но при анализе достаточно их преобразовать в 4 бинарных признака\n",
    "\n",
    "PAY, BILL_AMT, PAY_AMT - временные ряды (с апреля - 6 по сентябрь - 0). В задании обработка временных рядов не предусмотрена, а жаль :( А они, судя по графикам, сильно влияют на default"
   ]
  },
  {
   "cell_type": "markdown",
   "metadata": {},
   "source": [
    "## Преобразуем категориальные данные в бинарные, а также уберем данные, которые не нужны согласно задания"
   ]
  },
  {
   "cell_type": "code",
   "execution_count": 6,
   "metadata": {
    "collapsed": false
   },
   "outputs": [
    {
     "data": {
      "text/plain": [
       "Index([u'ID', u'LIMIT_BAL', u'SEX', u'EDUCATION', u'MARRIAGE', u'AGE',\n",
       "       u'PAY_0', u'PAY_2', u'PAY_3', u'PAY_4', u'PAY_5', u'PAY_6',\n",
       "       u'BILL_AMT1', u'BILL_AMT2', u'BILL_AMT3', u'BILL_AMT4', u'BILL_AMT5',\n",
       "       u'BILL_AMT6', u'PAY_AMT1', u'PAY_AMT2', u'PAY_AMT3', u'PAY_AMT4',\n",
       "       u'PAY_AMT5', u'PAY_AMT6', u'default'],\n",
       "      dtype='object')"
      ]
     },
     "execution_count": 6,
     "metadata": {},
     "output_type": "execute_result"
    }
   ],
   "source": [
    "df.columns"
   ]
  },
  {
   "cell_type": "code",
   "execution_count": 3,
   "metadata": {
    "collapsed": false
   },
   "outputs": [
    {
     "data": {
      "text/html": [
       "<div>\n",
       "<table border=\"1\" class=\"dataframe\">\n",
       "  <thead>\n",
       "    <tr style=\"text-align: right;\">\n",
       "      <th></th>\n",
       "      <th>LIMIT_BAL</th>\n",
       "      <th>SEX</th>\n",
       "      <th>EDUCATION</th>\n",
       "      <th>MARRIAGE</th>\n",
       "      <th>AGE</th>\n",
       "      <th>default</th>\n",
       "      <th>MARRIAGE_0</th>\n",
       "      <th>MARRIAGE_1</th>\n",
       "      <th>MARRIAGE_2</th>\n",
       "      <th>MARRIAGE_3</th>\n",
       "      <th>EDUCATION_0</th>\n",
       "      <th>EDUCATION_1</th>\n",
       "      <th>EDUCATION_2</th>\n",
       "      <th>EDUCATION_3</th>\n",
       "      <th>EDUCATION_4</th>\n",
       "      <th>EDUCATION_5</th>\n",
       "      <th>EDUCATION_6</th>\n",
       "    </tr>\n",
       "  </thead>\n",
       "  <tbody>\n",
       "    <tr>\n",
       "      <th>0</th>\n",
       "      <td>20000</td>\n",
       "      <td>1</td>\n",
       "      <td>2</td>\n",
       "      <td>1</td>\n",
       "      <td>24</td>\n",
       "      <td>1</td>\n",
       "      <td>0</td>\n",
       "      <td>1</td>\n",
       "      <td>0</td>\n",
       "      <td>0</td>\n",
       "      <td>0</td>\n",
       "      <td>0</td>\n",
       "      <td>1</td>\n",
       "      <td>0</td>\n",
       "      <td>0</td>\n",
       "      <td>0</td>\n",
       "      <td>0</td>\n",
       "    </tr>\n",
       "    <tr>\n",
       "      <th>1</th>\n",
       "      <td>120000</td>\n",
       "      <td>1</td>\n",
       "      <td>2</td>\n",
       "      <td>2</td>\n",
       "      <td>26</td>\n",
       "      <td>1</td>\n",
       "      <td>0</td>\n",
       "      <td>0</td>\n",
       "      <td>1</td>\n",
       "      <td>0</td>\n",
       "      <td>0</td>\n",
       "      <td>0</td>\n",
       "      <td>1</td>\n",
       "      <td>0</td>\n",
       "      <td>0</td>\n",
       "      <td>0</td>\n",
       "      <td>0</td>\n",
       "    </tr>\n",
       "    <tr>\n",
       "      <th>2</th>\n",
       "      <td>90000</td>\n",
       "      <td>1</td>\n",
       "      <td>2</td>\n",
       "      <td>2</td>\n",
       "      <td>34</td>\n",
       "      <td>0</td>\n",
       "      <td>0</td>\n",
       "      <td>0</td>\n",
       "      <td>1</td>\n",
       "      <td>0</td>\n",
       "      <td>0</td>\n",
       "      <td>0</td>\n",
       "      <td>1</td>\n",
       "      <td>0</td>\n",
       "      <td>0</td>\n",
       "      <td>0</td>\n",
       "      <td>0</td>\n",
       "    </tr>\n",
       "    <tr>\n",
       "      <th>3</th>\n",
       "      <td>50000</td>\n",
       "      <td>1</td>\n",
       "      <td>2</td>\n",
       "      <td>1</td>\n",
       "      <td>37</td>\n",
       "      <td>0</td>\n",
       "      <td>0</td>\n",
       "      <td>1</td>\n",
       "      <td>0</td>\n",
       "      <td>0</td>\n",
       "      <td>0</td>\n",
       "      <td>0</td>\n",
       "      <td>1</td>\n",
       "      <td>0</td>\n",
       "      <td>0</td>\n",
       "      <td>0</td>\n",
       "      <td>0</td>\n",
       "    </tr>\n",
       "    <tr>\n",
       "      <th>4</th>\n",
       "      <td>50000</td>\n",
       "      <td>0</td>\n",
       "      <td>2</td>\n",
       "      <td>1</td>\n",
       "      <td>57</td>\n",
       "      <td>0</td>\n",
       "      <td>0</td>\n",
       "      <td>1</td>\n",
       "      <td>0</td>\n",
       "      <td>0</td>\n",
       "      <td>0</td>\n",
       "      <td>0</td>\n",
       "      <td>1</td>\n",
       "      <td>0</td>\n",
       "      <td>0</td>\n",
       "      <td>0</td>\n",
       "      <td>0</td>\n",
       "    </tr>\n",
       "  </tbody>\n",
       "</table>\n",
       "</div>"
      ],
      "text/plain": [
       "   LIMIT_BAL  SEX  EDUCATION  MARRIAGE  AGE  default  MARRIAGE_0  MARRIAGE_1  \\\n",
       "0      20000    1          2         1   24        1           0           1   \n",
       "1     120000    1          2         2   26        1           0           0   \n",
       "2      90000    1          2         2   34        0           0           0   \n",
       "3      50000    1          2         1   37        0           0           1   \n",
       "4      50000    0          2         1   57        0           0           1   \n",
       "\n",
       "   MARRIAGE_2  MARRIAGE_3  EDUCATION_0  EDUCATION_1  EDUCATION_2  EDUCATION_3  \\\n",
       "0           0           0            0            0            1            0   \n",
       "1           1           0            0            0            1            0   \n",
       "2           1           0            0            0            1            0   \n",
       "3           0           0            0            0            1            0   \n",
       "4           0           0            0            0            1            0   \n",
       "\n",
       "   EDUCATION_4  EDUCATION_5  EDUCATION_6  \n",
       "0            0            0            0  \n",
       "1            0            0            0  \n",
       "2            0            0            0  \n",
       "3            0            0            0  \n",
       "4            0            0            0  "
      ]
     },
     "execution_count": 3,
     "metadata": {},
     "output_type": "execute_result"
    }
   ],
   "source": [
    "df=df.drop(df.columns[6:-1],axis=1).drop(['ID'],axis=1)\n",
    "df.SEX=map(lambda x: x-1,df.SEX)\n",
    "for i in range(4):\n",
    "    df['MARRIAGE_'+str(i)]=map(lambda x: 1 if x==i else 0, df.MARRIAGE)\n",
    "for i in range(7):\n",
    "    df['EDUCATION_'+str(i)]=map(lambda x: 1 if x==i else 0, df.EDUCATION)\n",
    "\n",
    "df.head()"
   ]
  },
  {
   "cell_type": "code",
   "execution_count": 4,
   "metadata": {
    "collapsed": false
   },
   "outputs": [
    {
     "data": {
      "text/html": [
       "<div>\n",
       "<table border=\"1\" class=\"dataframe\">\n",
       "  <thead>\n",
       "    <tr style=\"text-align: right;\">\n",
       "      <th></th>\n",
       "      <th>LIMIT_BAL</th>\n",
       "      <th>SEX</th>\n",
       "      <th>AGE</th>\n",
       "      <th>default</th>\n",
       "      <th>MARRIAGE_0</th>\n",
       "      <th>MARRIAGE_1</th>\n",
       "      <th>MARRIAGE_2</th>\n",
       "      <th>MARRIAGE_3</th>\n",
       "      <th>EDUCATION_0</th>\n",
       "      <th>EDUCATION_1</th>\n",
       "      <th>EDUCATION_2</th>\n",
       "      <th>EDUCATION_3</th>\n",
       "      <th>EDUCATION_4</th>\n",
       "      <th>EDUCATION_5</th>\n",
       "      <th>EDUCATION_6</th>\n",
       "    </tr>\n",
       "  </thead>\n",
       "  <tbody>\n",
       "    <tr>\n",
       "      <th>0</th>\n",
       "      <td>20000</td>\n",
       "      <td>1</td>\n",
       "      <td>24</td>\n",
       "      <td>1</td>\n",
       "      <td>0</td>\n",
       "      <td>1</td>\n",
       "      <td>0</td>\n",
       "      <td>0</td>\n",
       "      <td>0</td>\n",
       "      <td>0</td>\n",
       "      <td>1</td>\n",
       "      <td>0</td>\n",
       "      <td>0</td>\n",
       "      <td>0</td>\n",
       "      <td>0</td>\n",
       "    </tr>\n",
       "    <tr>\n",
       "      <th>1</th>\n",
       "      <td>120000</td>\n",
       "      <td>1</td>\n",
       "      <td>26</td>\n",
       "      <td>1</td>\n",
       "      <td>0</td>\n",
       "      <td>0</td>\n",
       "      <td>1</td>\n",
       "      <td>0</td>\n",
       "      <td>0</td>\n",
       "      <td>0</td>\n",
       "      <td>1</td>\n",
       "      <td>0</td>\n",
       "      <td>0</td>\n",
       "      <td>0</td>\n",
       "      <td>0</td>\n",
       "    </tr>\n",
       "    <tr>\n",
       "      <th>2</th>\n",
       "      <td>90000</td>\n",
       "      <td>1</td>\n",
       "      <td>34</td>\n",
       "      <td>0</td>\n",
       "      <td>0</td>\n",
       "      <td>0</td>\n",
       "      <td>1</td>\n",
       "      <td>0</td>\n",
       "      <td>0</td>\n",
       "      <td>0</td>\n",
       "      <td>1</td>\n",
       "      <td>0</td>\n",
       "      <td>0</td>\n",
       "      <td>0</td>\n",
       "      <td>0</td>\n",
       "    </tr>\n",
       "    <tr>\n",
       "      <th>3</th>\n",
       "      <td>50000</td>\n",
       "      <td>1</td>\n",
       "      <td>37</td>\n",
       "      <td>0</td>\n",
       "      <td>0</td>\n",
       "      <td>1</td>\n",
       "      <td>0</td>\n",
       "      <td>0</td>\n",
       "      <td>0</td>\n",
       "      <td>0</td>\n",
       "      <td>1</td>\n",
       "      <td>0</td>\n",
       "      <td>0</td>\n",
       "      <td>0</td>\n",
       "      <td>0</td>\n",
       "    </tr>\n",
       "    <tr>\n",
       "      <th>4</th>\n",
       "      <td>50000</td>\n",
       "      <td>0</td>\n",
       "      <td>57</td>\n",
       "      <td>0</td>\n",
       "      <td>0</td>\n",
       "      <td>1</td>\n",
       "      <td>0</td>\n",
       "      <td>0</td>\n",
       "      <td>0</td>\n",
       "      <td>0</td>\n",
       "      <td>1</td>\n",
       "      <td>0</td>\n",
       "      <td>0</td>\n",
       "      <td>0</td>\n",
       "      <td>0</td>\n",
       "    </tr>\n",
       "  </tbody>\n",
       "</table>\n",
       "</div>"
      ],
      "text/plain": [
       "   LIMIT_BAL  SEX  AGE  default  MARRIAGE_0  MARRIAGE_1  MARRIAGE_2  \\\n",
       "0      20000    1   24        1           0           1           0   \n",
       "1     120000    1   26        1           0           0           1   \n",
       "2      90000    1   34        0           0           0           1   \n",
       "3      50000    1   37        0           0           1           0   \n",
       "4      50000    0   57        0           0           1           0   \n",
       "\n",
       "   MARRIAGE_3  EDUCATION_0  EDUCATION_1  EDUCATION_2  EDUCATION_3  \\\n",
       "0           0            0            0            1            0   \n",
       "1           0            0            0            1            0   \n",
       "2           0            0            0            1            0   \n",
       "3           0            0            0            1            0   \n",
       "4           0            0            0            1            0   \n",
       "\n",
       "   EDUCATION_4  EDUCATION_5  EDUCATION_6  \n",
       "0            0            0            0  \n",
       "1            0            0            0  \n",
       "2            0            0            0  \n",
       "3            0            0            0  \n",
       "4            0            0            0  "
      ]
     },
     "execution_count": 4,
     "metadata": {},
     "output_type": "execute_result"
    }
   ],
   "source": [
    "df=df.drop(['EDUCATION','MARRIAGE'],axis=1)\n",
    "df.head()"
   ]
  },
  {
   "cell_type": "code",
   "execution_count": 50,
   "metadata": {
    "collapsed": false
   },
   "outputs": [
    {
     "data": {
      "text/html": [
       "<div>\n",
       "<table border=\"1\" class=\"dataframe\">\n",
       "  <thead>\n",
       "    <tr style=\"text-align: right;\">\n",
       "      <th></th>\n",
       "      <th>LIMIT_BAL</th>\n",
       "      <th>SEX</th>\n",
       "      <th>AGE</th>\n",
       "      <th>default</th>\n",
       "      <th>MARRIAGE_0</th>\n",
       "      <th>MARRIAGE_1</th>\n",
       "      <th>MARRIAGE_2</th>\n",
       "      <th>MARRIAGE_3</th>\n",
       "      <th>EDUCATION_0</th>\n",
       "      <th>EDUCATION_1</th>\n",
       "      <th>EDUCATION_2</th>\n",
       "      <th>EDUCATION_3</th>\n",
       "      <th>EDUCATION_4</th>\n",
       "      <th>EDUCATION_5</th>\n",
       "      <th>EDUCATION_6</th>\n",
       "    </tr>\n",
       "  </thead>\n",
       "  <tbody>\n",
       "    <tr>\n",
       "      <th>count</th>\n",
       "      <td>30000.000000</td>\n",
       "      <td>30000.000000</td>\n",
       "      <td>30000.000000</td>\n",
       "      <td>30000.000000</td>\n",
       "      <td>30000.000000</td>\n",
       "      <td>30000.000000</td>\n",
       "      <td>30000.000000</td>\n",
       "      <td>30000.000000</td>\n",
       "      <td>30000.000000</td>\n",
       "      <td>30000.000000</td>\n",
       "      <td>30000.000000</td>\n",
       "      <td>30000.000000</td>\n",
       "      <td>30000.000000</td>\n",
       "      <td>30000.000000</td>\n",
       "      <td>30000.000000</td>\n",
       "    </tr>\n",
       "    <tr>\n",
       "      <th>mean</th>\n",
       "      <td>167484.322667</td>\n",
       "      <td>0.603733</td>\n",
       "      <td>35.485500</td>\n",
       "      <td>0.221200</td>\n",
       "      <td>0.001800</td>\n",
       "      <td>0.455300</td>\n",
       "      <td>0.532133</td>\n",
       "      <td>0.010767</td>\n",
       "      <td>0.000467</td>\n",
       "      <td>0.352833</td>\n",
       "      <td>0.467667</td>\n",
       "      <td>0.163900</td>\n",
       "      <td>0.004100</td>\n",
       "      <td>0.009333</td>\n",
       "      <td>0.001700</td>\n",
       "    </tr>\n",
       "    <tr>\n",
       "      <th>std</th>\n",
       "      <td>129747.661567</td>\n",
       "      <td>0.489129</td>\n",
       "      <td>9.217904</td>\n",
       "      <td>0.415062</td>\n",
       "      <td>0.042389</td>\n",
       "      <td>0.498006</td>\n",
       "      <td>0.498975</td>\n",
       "      <td>0.103204</td>\n",
       "      <td>0.021598</td>\n",
       "      <td>0.477859</td>\n",
       "      <td>0.498962</td>\n",
       "      <td>0.370191</td>\n",
       "      <td>0.063901</td>\n",
       "      <td>0.096159</td>\n",
       "      <td>0.041197</td>\n",
       "    </tr>\n",
       "    <tr>\n",
       "      <th>min</th>\n",
       "      <td>10000.000000</td>\n",
       "      <td>0.000000</td>\n",
       "      <td>21.000000</td>\n",
       "      <td>0.000000</td>\n",
       "      <td>0.000000</td>\n",
       "      <td>0.000000</td>\n",
       "      <td>0.000000</td>\n",
       "      <td>0.000000</td>\n",
       "      <td>0.000000</td>\n",
       "      <td>0.000000</td>\n",
       "      <td>0.000000</td>\n",
       "      <td>0.000000</td>\n",
       "      <td>0.000000</td>\n",
       "      <td>0.000000</td>\n",
       "      <td>0.000000</td>\n",
       "    </tr>\n",
       "    <tr>\n",
       "      <th>25%</th>\n",
       "      <td>50000.000000</td>\n",
       "      <td>0.000000</td>\n",
       "      <td>28.000000</td>\n",
       "      <td>0.000000</td>\n",
       "      <td>0.000000</td>\n",
       "      <td>0.000000</td>\n",
       "      <td>0.000000</td>\n",
       "      <td>0.000000</td>\n",
       "      <td>0.000000</td>\n",
       "      <td>0.000000</td>\n",
       "      <td>0.000000</td>\n",
       "      <td>0.000000</td>\n",
       "      <td>0.000000</td>\n",
       "      <td>0.000000</td>\n",
       "      <td>0.000000</td>\n",
       "    </tr>\n",
       "    <tr>\n",
       "      <th>50%</th>\n",
       "      <td>140000.000000</td>\n",
       "      <td>1.000000</td>\n",
       "      <td>34.000000</td>\n",
       "      <td>0.000000</td>\n",
       "      <td>0.000000</td>\n",
       "      <td>0.000000</td>\n",
       "      <td>1.000000</td>\n",
       "      <td>0.000000</td>\n",
       "      <td>0.000000</td>\n",
       "      <td>0.000000</td>\n",
       "      <td>0.000000</td>\n",
       "      <td>0.000000</td>\n",
       "      <td>0.000000</td>\n",
       "      <td>0.000000</td>\n",
       "      <td>0.000000</td>\n",
       "    </tr>\n",
       "    <tr>\n",
       "      <th>75%</th>\n",
       "      <td>240000.000000</td>\n",
       "      <td>1.000000</td>\n",
       "      <td>41.000000</td>\n",
       "      <td>0.000000</td>\n",
       "      <td>0.000000</td>\n",
       "      <td>1.000000</td>\n",
       "      <td>1.000000</td>\n",
       "      <td>0.000000</td>\n",
       "      <td>0.000000</td>\n",
       "      <td>1.000000</td>\n",
       "      <td>1.000000</td>\n",
       "      <td>0.000000</td>\n",
       "      <td>0.000000</td>\n",
       "      <td>0.000000</td>\n",
       "      <td>0.000000</td>\n",
       "    </tr>\n",
       "    <tr>\n",
       "      <th>max</th>\n",
       "      <td>1000000.000000</td>\n",
       "      <td>1.000000</td>\n",
       "      <td>79.000000</td>\n",
       "      <td>1.000000</td>\n",
       "      <td>1.000000</td>\n",
       "      <td>1.000000</td>\n",
       "      <td>1.000000</td>\n",
       "      <td>1.000000</td>\n",
       "      <td>1.000000</td>\n",
       "      <td>1.000000</td>\n",
       "      <td>1.000000</td>\n",
       "      <td>1.000000</td>\n",
       "      <td>1.000000</td>\n",
       "      <td>1.000000</td>\n",
       "      <td>1.000000</td>\n",
       "    </tr>\n",
       "  </tbody>\n",
       "</table>\n",
       "</div>"
      ],
      "text/plain": [
       "            LIMIT_BAL           SEX           AGE       default    MARRIAGE_0  \\\n",
       "count    30000.000000  30000.000000  30000.000000  30000.000000  30000.000000   \n",
       "mean    167484.322667      0.603733     35.485500      0.221200      0.001800   \n",
       "std     129747.661567      0.489129      9.217904      0.415062      0.042389   \n",
       "min      10000.000000      0.000000     21.000000      0.000000      0.000000   \n",
       "25%      50000.000000      0.000000     28.000000      0.000000      0.000000   \n",
       "50%     140000.000000      1.000000     34.000000      0.000000      0.000000   \n",
       "75%     240000.000000      1.000000     41.000000      0.000000      0.000000   \n",
       "max    1000000.000000      1.000000     79.000000      1.000000      1.000000   \n",
       "\n",
       "         MARRIAGE_1    MARRIAGE_2    MARRIAGE_3   EDUCATION_0   EDUCATION_1  \\\n",
       "count  30000.000000  30000.000000  30000.000000  30000.000000  30000.000000   \n",
       "mean       0.455300      0.532133      0.010767      0.000467      0.352833   \n",
       "std        0.498006      0.498975      0.103204      0.021598      0.477859   \n",
       "min        0.000000      0.000000      0.000000      0.000000      0.000000   \n",
       "25%        0.000000      0.000000      0.000000      0.000000      0.000000   \n",
       "50%        0.000000      1.000000      0.000000      0.000000      0.000000   \n",
       "75%        1.000000      1.000000      0.000000      0.000000      1.000000   \n",
       "max        1.000000      1.000000      1.000000      1.000000      1.000000   \n",
       "\n",
       "        EDUCATION_2   EDUCATION_3   EDUCATION_4   EDUCATION_5   EDUCATION_6  \n",
       "count  30000.000000  30000.000000  30000.000000  30000.000000  30000.000000  \n",
       "mean       0.467667      0.163900      0.004100      0.009333      0.001700  \n",
       "std        0.498962      0.370191      0.063901      0.096159      0.041197  \n",
       "min        0.000000      0.000000      0.000000      0.000000      0.000000  \n",
       "25%        0.000000      0.000000      0.000000      0.000000      0.000000  \n",
       "50%        0.000000      0.000000      0.000000      0.000000      0.000000  \n",
       "75%        1.000000      0.000000      0.000000      0.000000      0.000000  \n",
       "max        1.000000      1.000000      1.000000      1.000000      1.000000  "
      ]
     },
     "execution_count": 50,
     "metadata": {},
     "output_type": "execute_result"
    }
   ],
   "source": [
    "df.describe()"
   ]
  },
  {
   "cell_type": "code",
   "execution_count": 51,
   "metadata": {
    "collapsed": false
   },
   "outputs": [
    {
     "data": {
      "text/html": [
       "<div>\n",
       "<table border=\"1\" class=\"dataframe\">\n",
       "  <thead>\n",
       "    <tr style=\"text-align: right;\">\n",
       "      <th></th>\n",
       "      <th>LIMIT_BAL</th>\n",
       "      <th>SEX</th>\n",
       "      <th>AGE</th>\n",
       "      <th>default</th>\n",
       "      <th>MARRIAGE_0</th>\n",
       "      <th>MARRIAGE_1</th>\n",
       "      <th>MARRIAGE_2</th>\n",
       "      <th>MARRIAGE_3</th>\n",
       "      <th>EDUCATION_0</th>\n",
       "      <th>EDUCATION_1</th>\n",
       "      <th>EDUCATION_2</th>\n",
       "      <th>EDUCATION_3</th>\n",
       "      <th>EDUCATION_4</th>\n",
       "      <th>EDUCATION_5</th>\n",
       "      <th>EDUCATION_6</th>\n",
       "    </tr>\n",
       "  </thead>\n",
       "  <tbody>\n",
       "    <tr>\n",
       "      <th>count</th>\n",
       "      <td>23364.000000</td>\n",
       "      <td>23364.000000</td>\n",
       "      <td>23364.000000</td>\n",
       "      <td>23364.0</td>\n",
       "      <td>23364.000000</td>\n",
       "      <td>23364.000000</td>\n",
       "      <td>23364.000000</td>\n",
       "      <td>23364.000000</td>\n",
       "      <td>23364.000000</td>\n",
       "      <td>23364.000000</td>\n",
       "      <td>23364.000000</td>\n",
       "      <td>23364.000000</td>\n",
       "      <td>23364.000000</td>\n",
       "      <td>23364.000000</td>\n",
       "      <td>23364.000000</td>\n",
       "    </tr>\n",
       "    <tr>\n",
       "      <th>mean</th>\n",
       "      <td>178099.726074</td>\n",
       "      <td>0.614150</td>\n",
       "      <td>35.417266</td>\n",
       "      <td>0.0</td>\n",
       "      <td>0.002097</td>\n",
       "      <td>0.447398</td>\n",
       "      <td>0.540276</td>\n",
       "      <td>0.010229</td>\n",
       "      <td>0.000599</td>\n",
       "      <td>0.365905</td>\n",
       "      <td>0.457970</td>\n",
       "      <td>0.157507</td>\n",
       "      <td>0.004965</td>\n",
       "      <td>0.011214</td>\n",
       "      <td>0.001840</td>\n",
       "    </tr>\n",
       "    <tr>\n",
       "      <th>std</th>\n",
       "      <td>131628.359660</td>\n",
       "      <td>0.486806</td>\n",
       "      <td>9.077355</td>\n",
       "      <td>0.0</td>\n",
       "      <td>0.045749</td>\n",
       "      <td>0.497236</td>\n",
       "      <td>0.498386</td>\n",
       "      <td>0.100624</td>\n",
       "      <td>0.024472</td>\n",
       "      <td>0.481693</td>\n",
       "      <td>0.498241</td>\n",
       "      <td>0.364286</td>\n",
       "      <td>0.070288</td>\n",
       "      <td>0.105302</td>\n",
       "      <td>0.042862</td>\n",
       "    </tr>\n",
       "    <tr>\n",
       "      <th>min</th>\n",
       "      <td>10000.000000</td>\n",
       "      <td>0.000000</td>\n",
       "      <td>21.000000</td>\n",
       "      <td>0.0</td>\n",
       "      <td>0.000000</td>\n",
       "      <td>0.000000</td>\n",
       "      <td>0.000000</td>\n",
       "      <td>0.000000</td>\n",
       "      <td>0.000000</td>\n",
       "      <td>0.000000</td>\n",
       "      <td>0.000000</td>\n",
       "      <td>0.000000</td>\n",
       "      <td>0.000000</td>\n",
       "      <td>0.000000</td>\n",
       "      <td>0.000000</td>\n",
       "    </tr>\n",
       "    <tr>\n",
       "      <th>25%</th>\n",
       "      <td>70000.000000</td>\n",
       "      <td>0.000000</td>\n",
       "      <td>28.000000</td>\n",
       "      <td>0.0</td>\n",
       "      <td>0.000000</td>\n",
       "      <td>0.000000</td>\n",
       "      <td>0.000000</td>\n",
       "      <td>0.000000</td>\n",
       "      <td>0.000000</td>\n",
       "      <td>0.000000</td>\n",
       "      <td>0.000000</td>\n",
       "      <td>0.000000</td>\n",
       "      <td>0.000000</td>\n",
       "      <td>0.000000</td>\n",
       "      <td>0.000000</td>\n",
       "    </tr>\n",
       "    <tr>\n",
       "      <th>50%</th>\n",
       "      <td>150000.000000</td>\n",
       "      <td>1.000000</td>\n",
       "      <td>34.000000</td>\n",
       "      <td>0.0</td>\n",
       "      <td>0.000000</td>\n",
       "      <td>0.000000</td>\n",
       "      <td>1.000000</td>\n",
       "      <td>0.000000</td>\n",
       "      <td>0.000000</td>\n",
       "      <td>0.000000</td>\n",
       "      <td>0.000000</td>\n",
       "      <td>0.000000</td>\n",
       "      <td>0.000000</td>\n",
       "      <td>0.000000</td>\n",
       "      <td>0.000000</td>\n",
       "    </tr>\n",
       "    <tr>\n",
       "      <th>75%</th>\n",
       "      <td>250000.000000</td>\n",
       "      <td>1.000000</td>\n",
       "      <td>41.000000</td>\n",
       "      <td>0.0</td>\n",
       "      <td>0.000000</td>\n",
       "      <td>1.000000</td>\n",
       "      <td>1.000000</td>\n",
       "      <td>0.000000</td>\n",
       "      <td>0.000000</td>\n",
       "      <td>1.000000</td>\n",
       "      <td>1.000000</td>\n",
       "      <td>0.000000</td>\n",
       "      <td>0.000000</td>\n",
       "      <td>0.000000</td>\n",
       "      <td>0.000000</td>\n",
       "    </tr>\n",
       "    <tr>\n",
       "      <th>max</th>\n",
       "      <td>1000000.000000</td>\n",
       "      <td>1.000000</td>\n",
       "      <td>79.000000</td>\n",
       "      <td>0.0</td>\n",
       "      <td>1.000000</td>\n",
       "      <td>1.000000</td>\n",
       "      <td>1.000000</td>\n",
       "      <td>1.000000</td>\n",
       "      <td>1.000000</td>\n",
       "      <td>1.000000</td>\n",
       "      <td>1.000000</td>\n",
       "      <td>1.000000</td>\n",
       "      <td>1.000000</td>\n",
       "      <td>1.000000</td>\n",
       "      <td>1.000000</td>\n",
       "    </tr>\n",
       "  </tbody>\n",
       "</table>\n",
       "</div>"
      ],
      "text/plain": [
       "            LIMIT_BAL           SEX           AGE  default    MARRIAGE_0  \\\n",
       "count    23364.000000  23364.000000  23364.000000  23364.0  23364.000000   \n",
       "mean    178099.726074      0.614150     35.417266      0.0      0.002097   \n",
       "std     131628.359660      0.486806      9.077355      0.0      0.045749   \n",
       "min      10000.000000      0.000000     21.000000      0.0      0.000000   \n",
       "25%      70000.000000      0.000000     28.000000      0.0      0.000000   \n",
       "50%     150000.000000      1.000000     34.000000      0.0      0.000000   \n",
       "75%     250000.000000      1.000000     41.000000      0.0      0.000000   \n",
       "max    1000000.000000      1.000000     79.000000      0.0      1.000000   \n",
       "\n",
       "         MARRIAGE_1    MARRIAGE_2    MARRIAGE_3   EDUCATION_0   EDUCATION_1  \\\n",
       "count  23364.000000  23364.000000  23364.000000  23364.000000  23364.000000   \n",
       "mean       0.447398      0.540276      0.010229      0.000599      0.365905   \n",
       "std        0.497236      0.498386      0.100624      0.024472      0.481693   \n",
       "min        0.000000      0.000000      0.000000      0.000000      0.000000   \n",
       "25%        0.000000      0.000000      0.000000      0.000000      0.000000   \n",
       "50%        0.000000      1.000000      0.000000      0.000000      0.000000   \n",
       "75%        1.000000      1.000000      0.000000      0.000000      1.000000   \n",
       "max        1.000000      1.000000      1.000000      1.000000      1.000000   \n",
       "\n",
       "        EDUCATION_2   EDUCATION_3   EDUCATION_4   EDUCATION_5   EDUCATION_6  \n",
       "count  23364.000000  23364.000000  23364.000000  23364.000000  23364.000000  \n",
       "mean       0.457970      0.157507      0.004965      0.011214      0.001840  \n",
       "std        0.498241      0.364286      0.070288      0.105302      0.042862  \n",
       "min        0.000000      0.000000      0.000000      0.000000      0.000000  \n",
       "25%        0.000000      0.000000      0.000000      0.000000      0.000000  \n",
       "50%        0.000000      0.000000      0.000000      0.000000      0.000000  \n",
       "75%        1.000000      0.000000      0.000000      0.000000      0.000000  \n",
       "max        1.000000      1.000000      1.000000      1.000000      1.000000  "
      ]
     },
     "execution_count": 51,
     "metadata": {},
     "output_type": "execute_result"
    }
   ],
   "source": [
    "df[df.default==0].describe()"
   ]
  },
  {
   "cell_type": "code",
   "execution_count": 52,
   "metadata": {
    "collapsed": false
   },
   "outputs": [
    {
     "data": {
      "text/html": [
       "<div>\n",
       "<table border=\"1\" class=\"dataframe\">\n",
       "  <thead>\n",
       "    <tr style=\"text-align: right;\">\n",
       "      <th></th>\n",
       "      <th>LIMIT_BAL</th>\n",
       "      <th>SEX</th>\n",
       "      <th>AGE</th>\n",
       "      <th>default</th>\n",
       "      <th>MARRIAGE_0</th>\n",
       "      <th>MARRIAGE_1</th>\n",
       "      <th>MARRIAGE_2</th>\n",
       "      <th>MARRIAGE_3</th>\n",
       "      <th>EDUCATION_0</th>\n",
       "      <th>EDUCATION_1</th>\n",
       "      <th>EDUCATION_2</th>\n",
       "      <th>EDUCATION_3</th>\n",
       "      <th>EDUCATION_4</th>\n",
       "      <th>EDUCATION_5</th>\n",
       "      <th>EDUCATION_6</th>\n",
       "    </tr>\n",
       "  </thead>\n",
       "  <tbody>\n",
       "    <tr>\n",
       "      <th>count</th>\n",
       "      <td>6636.000000</td>\n",
       "      <td>6636.000000</td>\n",
       "      <td>6636.000000</td>\n",
       "      <td>6636.0</td>\n",
       "      <td>6636.000000</td>\n",
       "      <td>6636.000000</td>\n",
       "      <td>6636.000000</td>\n",
       "      <td>6636.000000</td>\n",
       "      <td>6636.0</td>\n",
       "      <td>6636.000000</td>\n",
       "      <td>6636.000000</td>\n",
       "      <td>6636.000000</td>\n",
       "      <td>6636.000000</td>\n",
       "      <td>6636.000000</td>\n",
       "      <td>6636.000000</td>\n",
       "    </tr>\n",
       "    <tr>\n",
       "      <th>mean</th>\n",
       "      <td>130109.656420</td>\n",
       "      <td>0.567058</td>\n",
       "      <td>35.725738</td>\n",
       "      <td>1.0</td>\n",
       "      <td>0.000753</td>\n",
       "      <td>0.483122</td>\n",
       "      <td>0.503466</td>\n",
       "      <td>0.012658</td>\n",
       "      <td>0.0</td>\n",
       "      <td>0.306811</td>\n",
       "      <td>0.501808</td>\n",
       "      <td>0.186407</td>\n",
       "      <td>0.001055</td>\n",
       "      <td>0.002712</td>\n",
       "      <td>0.001206</td>\n",
       "    </tr>\n",
       "    <tr>\n",
       "      <th>std</th>\n",
       "      <td>115378.540571</td>\n",
       "      <td>0.495520</td>\n",
       "      <td>9.693438</td>\n",
       "      <td>0.0</td>\n",
       "      <td>0.027441</td>\n",
       "      <td>0.499753</td>\n",
       "      <td>0.500026</td>\n",
       "      <td>0.111803</td>\n",
       "      <td>0.0</td>\n",
       "      <td>0.461205</td>\n",
       "      <td>0.500034</td>\n",
       "      <td>0.389464</td>\n",
       "      <td>0.032464</td>\n",
       "      <td>0.052015</td>\n",
       "      <td>0.034703</td>\n",
       "    </tr>\n",
       "    <tr>\n",
       "      <th>min</th>\n",
       "      <td>10000.000000</td>\n",
       "      <td>0.000000</td>\n",
       "      <td>21.000000</td>\n",
       "      <td>1.0</td>\n",
       "      <td>0.000000</td>\n",
       "      <td>0.000000</td>\n",
       "      <td>0.000000</td>\n",
       "      <td>0.000000</td>\n",
       "      <td>0.0</td>\n",
       "      <td>0.000000</td>\n",
       "      <td>0.000000</td>\n",
       "      <td>0.000000</td>\n",
       "      <td>0.000000</td>\n",
       "      <td>0.000000</td>\n",
       "      <td>0.000000</td>\n",
       "    </tr>\n",
       "    <tr>\n",
       "      <th>25%</th>\n",
       "      <td>50000.000000</td>\n",
       "      <td>0.000000</td>\n",
       "      <td>28.000000</td>\n",
       "      <td>1.0</td>\n",
       "      <td>0.000000</td>\n",
       "      <td>0.000000</td>\n",
       "      <td>0.000000</td>\n",
       "      <td>0.000000</td>\n",
       "      <td>0.0</td>\n",
       "      <td>0.000000</td>\n",
       "      <td>0.000000</td>\n",
       "      <td>0.000000</td>\n",
       "      <td>0.000000</td>\n",
       "      <td>0.000000</td>\n",
       "      <td>0.000000</td>\n",
       "    </tr>\n",
       "    <tr>\n",
       "      <th>50%</th>\n",
       "      <td>90000.000000</td>\n",
       "      <td>1.000000</td>\n",
       "      <td>34.000000</td>\n",
       "      <td>1.0</td>\n",
       "      <td>0.000000</td>\n",
       "      <td>0.000000</td>\n",
       "      <td>1.000000</td>\n",
       "      <td>0.000000</td>\n",
       "      <td>0.0</td>\n",
       "      <td>0.000000</td>\n",
       "      <td>1.000000</td>\n",
       "      <td>0.000000</td>\n",
       "      <td>0.000000</td>\n",
       "      <td>0.000000</td>\n",
       "      <td>0.000000</td>\n",
       "    </tr>\n",
       "    <tr>\n",
       "      <th>75%</th>\n",
       "      <td>200000.000000</td>\n",
       "      <td>1.000000</td>\n",
       "      <td>42.000000</td>\n",
       "      <td>1.0</td>\n",
       "      <td>0.000000</td>\n",
       "      <td>1.000000</td>\n",
       "      <td>1.000000</td>\n",
       "      <td>0.000000</td>\n",
       "      <td>0.0</td>\n",
       "      <td>1.000000</td>\n",
       "      <td>1.000000</td>\n",
       "      <td>0.000000</td>\n",
       "      <td>0.000000</td>\n",
       "      <td>0.000000</td>\n",
       "      <td>0.000000</td>\n",
       "    </tr>\n",
       "    <tr>\n",
       "      <th>max</th>\n",
       "      <td>740000.000000</td>\n",
       "      <td>1.000000</td>\n",
       "      <td>75.000000</td>\n",
       "      <td>1.0</td>\n",
       "      <td>1.000000</td>\n",
       "      <td>1.000000</td>\n",
       "      <td>1.000000</td>\n",
       "      <td>1.000000</td>\n",
       "      <td>0.0</td>\n",
       "      <td>1.000000</td>\n",
       "      <td>1.000000</td>\n",
       "      <td>1.000000</td>\n",
       "      <td>1.000000</td>\n",
       "      <td>1.000000</td>\n",
       "      <td>1.000000</td>\n",
       "    </tr>\n",
       "  </tbody>\n",
       "</table>\n",
       "</div>"
      ],
      "text/plain": [
       "           LIMIT_BAL          SEX          AGE  default   MARRIAGE_0  \\\n",
       "count    6636.000000  6636.000000  6636.000000   6636.0  6636.000000   \n",
       "mean   130109.656420     0.567058    35.725738      1.0     0.000753   \n",
       "std    115378.540571     0.495520     9.693438      0.0     0.027441   \n",
       "min     10000.000000     0.000000    21.000000      1.0     0.000000   \n",
       "25%     50000.000000     0.000000    28.000000      1.0     0.000000   \n",
       "50%     90000.000000     1.000000    34.000000      1.0     0.000000   \n",
       "75%    200000.000000     1.000000    42.000000      1.0     0.000000   \n",
       "max    740000.000000     1.000000    75.000000      1.0     1.000000   \n",
       "\n",
       "        MARRIAGE_1   MARRIAGE_2   MARRIAGE_3  EDUCATION_0  EDUCATION_1  \\\n",
       "count  6636.000000  6636.000000  6636.000000       6636.0  6636.000000   \n",
       "mean      0.483122     0.503466     0.012658          0.0     0.306811   \n",
       "std       0.499753     0.500026     0.111803          0.0     0.461205   \n",
       "min       0.000000     0.000000     0.000000          0.0     0.000000   \n",
       "25%       0.000000     0.000000     0.000000          0.0     0.000000   \n",
       "50%       0.000000     1.000000     0.000000          0.0     0.000000   \n",
       "75%       1.000000     1.000000     0.000000          0.0     1.000000   \n",
       "max       1.000000     1.000000     1.000000          0.0     1.000000   \n",
       "\n",
       "       EDUCATION_2  EDUCATION_3  EDUCATION_4  EDUCATION_5  EDUCATION_6  \n",
       "count  6636.000000  6636.000000  6636.000000  6636.000000  6636.000000  \n",
       "mean      0.501808     0.186407     0.001055     0.002712     0.001206  \n",
       "std       0.500034     0.389464     0.032464     0.052015     0.034703  \n",
       "min       0.000000     0.000000     0.000000     0.000000     0.000000  \n",
       "25%       0.000000     0.000000     0.000000     0.000000     0.000000  \n",
       "50%       1.000000     0.000000     0.000000     0.000000     0.000000  \n",
       "75%       1.000000     0.000000     0.000000     0.000000     0.000000  \n",
       "max       1.000000     1.000000     1.000000     1.000000     1.000000  "
      ]
     },
     "execution_count": 52,
     "metadata": {},
     "output_type": "execute_result"
    }
   ],
   "source": [
    "df[df.default==1].describe()"
   ]
  },
  {
   "cell_type": "markdown",
   "metadata": {},
   "source": [
    "# Задание 1"
   ]
  },
  {
   "cell_type": "markdown",
   "metadata": {},
   "source": [
    "1. Размер кредитного лимита (LIMIT_BAL). В двух группах, тех людей, кто вернул кредит (default = 0) и тех, кто его не вернул (default = 1) проверьте гипотезы: a) о равенстве медианных значений кредитного лимита с помощью подходящей интервальной оценки b) о равенстве распределений с помощью одного из подходящих непараметрических критериев проверки равенства средних. Значимы ли полученные результаты с практической точки зрения ?"
   ]
  },
  {
   "cell_type": "code",
   "execution_count": 12,
   "metadata": {
    "collapsed": false
   },
   "outputs": [
    {
     "data": {
      "image/png": "[encoded data removed]",
      "text/plain": [
       "<matplotlib.figure.Figure at 0x9ed49f0>"
      ]
     },
     "metadata": {},
     "output_type": "display_data"
    }
   ],
   "source": [
    "plt.hist(df.LIMIT_BAL)\n",
    "plt.title('Common Hist')\n",
    "plt.show()"
   ]
  },
  {
   "cell_type": "markdown",
   "metadata": {},
   "source": [
    "Вывод: распределение явно не нормальное. Критерий Стьюдента явно не подойдет"
   ]
  },
  {
   "cell_type": "code",
   "execution_count": 13,
   "metadata": {
    "collapsed": false
   },
   "outputs": [
    {
     "data": {
      "image/png": "[encoded data removed]",
      "text/plain": [
       "<matplotlib.figure.Figure at 0xf0189d0>"
      ]
     },
     "metadata": {},
     "output_type": "display_data"
    }
   ],
   "source": [
    "fig, axes = plt.subplots(nrows=1, ncols=2, figsize=(10, 5))\n",
    "for i in range(2):\n",
    "    axes[i].hist(df[df.default==i].LIMIT_BAL/1000.)\n",
    "    axes[i].set_xlabel('default == '+str(i))\n",
    "plt.show()"
   ]
  },
  {
   "cell_type": "markdown",
   "metadata": {},
   "source": [
    "То же самое. Распределение не нормальное. Поэкспериментируем с непараметрическими критериями для несвязанных выборок. "
   ]
  },
  {
   "cell_type": "markdown",
   "metadata": {},
   "source": [
    "## Ранговый критерий Манна-Уитни\n",
    "\n",
    "H0: LIMIT_BAL(default==0) = LIMIT_BAL(default==1)\n",
    "\n",
    "H1: LIMIT_BAL(default==0) > LIMIT_BAL(default==1)"
   ]
  },
  {
   "cell_type": "code",
   "execution_count": 14,
   "metadata": {
    "collapsed": false
   },
   "outputs": [
    {
     "data": {
      "text/plain": [
       "MannwhitneyuResult(statistic=95786286.5, pvalue=6.1277429091116516e-190)"
      ]
     },
     "execution_count": 14,
     "metadata": {},
     "output_type": "execute_result"
    }
   ],
   "source": [
    "stats1.mannwhitneyu(df[df.default==0].LIMIT_BAL, df[df.default==1].LIMIT_BAL, alternative='greater')\n"
   ]
  },
  {
   "cell_type": "markdown",
   "metadata": {},
   "source": [
    "Вывод: гипотеза отвергнута (pvalue<0.05). Делаем вывод: LIMIT_BAL(default=0) > LIMIT_BAL(default=1)\n",
    "\n",
    "Т.е средняя величина ограничения на размер кредита  у невозвращенных кредитов ниже, чем у возвращенных"
   ]
  },
  {
   "cell_type": "markdown",
   "metadata": {},
   "source": [
    "## Попробуем сделать интервальные оценки для медиан методом бутстра:"
   ]
  },
  {
   "cell_type": "code",
   "execution_count": 5,
   "metadata": {
    "collapsed": true
   },
   "outputs": [],
   "source": [
    "data0=np.array(df[df.default==0].LIMIT_BAL)\n",
    "data1=np.array(df[df.default==1].LIMIT_BAL)\n"
   ]
  },
  {
   "cell_type": "code",
   "execution_count": 25,
   "metadata": {
    "collapsed": false
   },
   "outputs": [],
   "source": [
    "dts0=np.median(data0[np.random.randint(0,len(data0),(1000, len(data0)))],axis=1)\n",
    "dts1=np.median(data1[np.random.randint(0,len(data1),(1000, len(data1)))],axis=1)\n"
   ]
  },
  {
   "cell_type": "code",
   "execution_count": 35,
   "metadata": {
    "collapsed": false
   },
   "outputs": [
    {
     "name": "stdout",
     "output_type": "stream",
     "text": [
      "95% confidence interval for the LIMIT_BAL(default==0): [ 150000.  150000.]\n",
      "95% confidence interval for the LIMIT_BAL(default==1): [ 80000.  90000.]\n"
     ]
    }
   ],
   "source": [
    "print '95% confidence interval for the LIMIT_BAL(default==0):', np.percentile(dts0,[100*0.025,100*(1.-0.025)])\n",
    "print '95% confidence interval for the LIMIT_BAL(default==1):', np.percentile(dts1,[100*0.025,100*(1.-0.025)])\n"
   ]
  },
  {
   "cell_type": "markdown",
   "metadata": {
    "collapsed": true
   },
   "source": [
    "Таким образом, медиана для возвращенных кредитов существенно выше, чем у невозвращенных, что подтверждает вывод по критерию Манна-Уитни"
   ]
  },
  {
   "cell_type": "markdown",
   "metadata": {
    "collapsed": true
   },
   "source": [
    "## Попробуем решить эту задачу с помощью перестановочного метода\n",
    "Гипотеза: распределения равны. Альтернативная гипотеза: у возвращенных кредитов она смещена правее."
   ]
  },
  {
   "cell_type": "code",
   "execution_count": 4,
   "metadata": {
    "collapsed": true
   },
   "outputs": [],
   "source": [
    "def permutation_t_stat_ind(sample1, sample2):\n",
    "    return np.mean(sample1) - np.mean(sample2)\n",
    "\n",
    "def get_random_combinations(n1, n2, max_combinations):\n",
    "    index = range(n1 + n2)\n",
    "    indices = set([tuple(index)])\n",
    "    for i in range(max_combinations - 1):\n",
    "        np.random.shuffle(index)\n",
    "        indices.add(tuple(index))\n",
    "    return [(index[:n1], index[n1:]) for index in indices]\n",
    "\n",
    "def permutation_zero_dist_ind(sample1, sample2, max_combinations = None):\n",
    "    joined_sample = np.hstack((sample1, sample2))\n",
    "    n1 = len(sample1)\n",
    "    n = len(joined_sample)\n",
    "    \n",
    "    if max_combinations:\n",
    "        indices = get_random_combinations(n1, len(sample2), max_combinations)\n",
    "    else:\n",
    "        indices = [(list(index), filter(lambda i: i not in index, range(n))) \\\n",
    "                    for index in itertools.combinations(range(n), n1)]\n",
    "    \n",
    "    distr = [joined_sample[list(i[0])].mean() - joined_sample[list(i[1])].mean() \\\n",
    "             for i in indices]\n",
    "    return distr\n",
    "\n",
    "def permutation_test(sample, mean, max_permutations = None, alternaАtive = 'two-sided'):\n",
    "    if alternative not in ('two-sided', 'less', 'greater'):\n",
    "        raise ValueError(\"alternative not recognized\\n\"\n",
    "                         \"should be 'two-sided', 'less' or 'greater'\")\n",
    "    \n",
    "    t_stat = permutation_t_stat_ind(sample, mean)\n",
    "    \n",
    "    zero_distr = permutation_zero_dist_ind(sample, mean, max_permutations)\n",
    "    \n",
    "    if alternative == 'two-sided':\n",
    "        return sum([1. if abs(x) >= abs(t_stat) else 0. for x in zero_distr]) / len(zero_distr)\n",
    "    \n",
    "    if alternative == 'less':\n",
    "        return sum([1. if x <= t_stat else 0. for x in zero_distr]) / len(zero_distr)\n",
    "\n",
    "    if alternative == 'greater':\n",
    "        return sum([1. if x >= t_stat else 0. for x in zero_distr]) / len(zero_distr)"
   ]
  },
  {
   "cell_type": "code",
   "execution_count": 8,
   "metadata": {
    "collapsed": false
   },
   "outputs": [
    {
     "name": "stdout",
     "output_type": "stream",
     "text": [
      "p-value: 0.001000\n"
     ]
    }
   ],
   "source": [
    "print \"p-value: %f\" % permutation_test(data0, data1,\n",
    "                                       max_permutations = 1000, alternative='greater')"
   ]
  },
  {
   "cell_type": "markdown",
   "metadata": {
    "collapsed": false
   },
   "source": [
    "Таким образом, на основе перестановочногокритерия также можно отвергнуть гипотезу, что распределения ограничений на сумму кредита равны, в пользу альтернативы, что у возвращенных распределение смещено правее.\n"
   ]
  },
  {
   "cell_type": "markdown",
   "metadata": {
    "collapsed": true
   },
   "source": [
    "## Практическая значимость\n",
    "\n",
    "Все это значит, что в банке система скоринга работает, понижая вероятность выдачи большого кредита клиентам, которые могут его не вернуть"
   ]
  },
  {
   "cell_type": "markdown",
   "metadata": {},
   "source": [
    "# Задание 2\n",
    "Пол (SEX): Проверьте гипотезу о том, что гендерный состав группы людей вернувших и не вернувших кредит отличается. Хорошо, если вы предоставите несколько различных решений этой задачи (с помощью доверительного интервала и подходящего статистического критерия)"
   ]
  },
  {
   "cell_type": "code",
   "execution_count": 19,
   "metadata": {
    "collapsed": false
   },
   "outputs": [
    {
     "data": {
      "image/png": "[encoded data removed]",
      "text/plain": [
       "<matplotlib.figure.Figure at 0x13291b50>"
      ]
     },
     "metadata": {},
     "output_type": "display_data"
    }
   ],
   "source": [
    "plt.bar([0,1],[np.sum(df.SEX==0),np.sum(df.SEX==1)], align='center')\n",
    "plt.xticks((0,1), ('Male', 'Female'))\n",
    "plt.title('Common Bar')\n",
    "plt.show()"
   ]
  },
  {
   "cell_type": "code",
   "execution_count": 26,
   "metadata": {
    "collapsed": false
   },
   "outputs": [
    {
     "data": {
      "image/png": "[encoded data removed]",
      "text/plain": [
       "<matplotlib.figure.Figure at 0x12671230>"
      ]
     },
     "metadata": {},
     "output_type": "display_data"
    }
   ],
   "source": [
    "fig, axes = plt.subplots(nrows=1, ncols=2, figsize=(10, 5))\n",
    "for i in range(2):\n",
    "    mas=df[df.default==i]\n",
    "    axes[i].bar((0,1),(np.sum(mas.SEX==0),np.sum(mas.SEX==1)), align='center')\n",
    "    axes[i].set_xticks((0,1))\n",
    "    axes[i].set_xticklabels(('Male', 'Female'))\n",
    "    axes[i].set_xlabel('default == '+str(i))\n",
    "\n",
    "plt.show()"
   ]
  },
  {
   "cell_type": "markdown",
   "metadata": {},
   "source": [
    "Единственное, что видно, что женщин больше, чем мужчин"
   ]
  },
  {
   "cell_type": "code",
   "execution_count": 27,
   "metadata": {
    "collapsed": false
   },
   "outputs": [
    {
     "data": {
      "image/png": "[encoded data removed]",
      "text/plain": [
       "<matplotlib.figure.Figure at 0x9fd4350>"
      ]
     },
     "metadata": {},
     "output_type": "display_data"
    }
   ],
   "source": [
    "fig, axes = plt.subplots(nrows=1, ncols=2, figsize=(10, 5))\n",
    "labels=['Male', 'Female']\n",
    "for i in range(2):\n",
    "    mas=df[df.SEX==i]\n",
    "    axes[i].bar((0,1),(np.sum(mas.default==0),np.sum(mas.default==1)), align='center')\n",
    "    axes[i].set_xticks((0,1))\n",
    "    axes[i].set_xlabel(labels[i])\n",
    "\n",
    "plt.show()"
   ]
  },
  {
   "cell_type": "markdown",
   "metadata": {},
   "source": [
    "Тоже разницы особой нет, разве что, мужчины чуть больше не возвращают кредитов\n",
    "\n",
    "Проверим гипотезу H0: гендерный состав не влият на возвратность кредитов против гипотезы H1, что у женщин доля возвращенных кредитов больше:\n",
    "\n",
    "H0: P_MALE(default==0) = P_FEMALE(default==0)\n",
    "\n",
    "H1: P_MALE(default==0) < P_FEMALE(default==0)"
   ]
  },
  {
   "cell_type": "code",
   "execution_count": 89,
   "metadata": {
    "collapsed": false
   },
   "outputs": [
    {
     "name": "stdout",
     "output_type": "stream",
     "text": [
      "11888 ,  9015\n",
      "18112 ,  14349\n"
     ]
    }
   ],
   "source": [
    "mas=df[df.SEX==0].default\n",
    "n0=len(mas)\n",
    "male0=n0-np.sum(mas)\n",
    "mas=df[df.SEX==1].default\n",
    "n1=len(mas)\n",
    "female1=n1-np.sum(mas)\n",
    "print n0,', ',male0\n",
    "print n1,', ',female1\n"
   ]
  },
  {
   "cell_type": "code",
   "execution_count": 41,
   "metadata": {
    "collapsed": false
   },
   "outputs": [
    {
     "name": "stdout",
     "output_type": "stream",
     "text": [
      "Доля мужчин, вернувших кредит  (0.7506322478985834, 0.76602320297624837)\n",
      "Доля женщин, вернувших кредит (0.7863287021883999, 0.79814567943704173)\n"
     ]
    }
   ],
   "source": [
    "from statsmodels.stats.proportion import proportion_confint\n",
    "print 'Доля мужчин, вернувших кредит ', proportion_confint(male0,n0, method='normal')\n",
    "print 'Доля женщин, вернувших кредит', proportion_confint(female1,n1, method='normal')\n"
   ]
  },
  {
   "cell_type": "markdown",
   "metadata": {},
   "source": [
    "Доверительные интервалы говорят, что доля мужчин вернувших кредит, несколько ниже, чем доля женщин, вернувших кредит"
   ]
  },
  {
   "cell_type": "code",
   "execution_count": 42,
   "metadata": {
    "collapsed": false
   },
   "outputs": [
    {
     "name": "stdout",
     "output_type": "stream",
     "text": [
      "Доля мужчин, вернувших кредит  (0.75054959002142241, 0.76593896402368833)\n",
      "Доля женщин, вернувших кредит (0.7862670348654015, 0.79808340914036791)\n"
     ]
    }
   ],
   "source": [
    "print 'Доля мужчин, вернувших кредит ', proportion_confint(male0,n0, method='wilson')\n",
    "print 'Доля женщин, вернувших кредит', proportion_confint(female1,n1, method='wilson')\n"
   ]
  },
  {
   "cell_type": "markdown",
   "metadata": {},
   "source": [
    "То же и по распределению Вилсона"
   ]
  },
  {
   "cell_type": "markdown",
   "metadata": {},
   "source": [
    "## Заодно найдем интервал для доли женщин во всей выборке:"
   ]
  },
  {
   "cell_type": "code",
   "execution_count": 36,
   "metadata": {
    "collapsed": false
   },
   "outputs": [
    {
     "name": "stdout",
     "output_type": "stream",
     "text": [
      "(0.59819850937854668, 0.60926815728812)\n"
     ]
    }
   ],
   "source": [
    "print proportion_confint(n1,n1+n0, method='normal')"
   ]
  },
  {
   "cell_type": "markdown",
   "metadata": {},
   "source": [
    "Видно, что доля женщин в выборке значимо больше"
   ]
  },
  {
   "cell_type": "markdown",
   "metadata": {},
   "source": [
    "Оценим разность долей женщин и мужчин, вернувших кредит:"
   ]
  },
  {
   "cell_type": "code",
   "execution_count": 90,
   "metadata": {
    "collapsed": false
   },
   "outputs": [
    {
     "name": "stdout",
     "output_type": "stream",
     "text": [
      "Доверительный интервал для разности долей [0.024207372179792679, 0.043611558570817173]\n",
      "pvalue= 2.2364332608e-12\n"
     ]
    }
   ],
   "source": [
    "p1=float(male0)/n0\n",
    "p2=float(female1)/n1\n",
    "P=(p1*n0+p2*n1)/float(n1+n0)\n",
    "z=stats1.norm.ppf(1.-0.05/2)\n",
    "print 'Доверительный интервал для разности долей', map(lambda x: p2-p1+\n",
    "                                                       x*z*np.sqrt(p1*(1-p1)/n0+p2*(1-p2)/n1),[-1,+1])\n",
    "Z=(p2-p1)/np.sqrt(P*(1-P)*(1./float(n0)+1./float(n1)))\n",
    "print 'pvalue=', (1-stats1.norm.cdf(np.abs(Z)))"
   ]
  },
  {
   "cell_type": "markdown",
   "metadata": {},
   "source": [
    "Видно, что среди женщин более чем на 2.4% больше тех, кто вернул кредиты, чем среди мужчин. И эта разница является статистически значимой"
   ]
  },
  {
   "cell_type": "markdown",
   "metadata": {},
   "source": [
    "## Оценим разность долей с помощью бутстрепа"
   ]
  },
  {
   "cell_type": "code",
   "execution_count": 48,
   "metadata": {
    "collapsed": false
   },
   "outputs": [],
   "source": [
    "Mdef=np.array(df.default)\n",
    "Msex=np.array(df.SEX)\n",
    "ind=np.random.randint(0,len(Mdef),(1000, len(Mdef)))\n",
    "dl=len(Msex)"
   ]
  },
  {
   "cell_type": "code",
   "execution_count": 51,
   "metadata": {
    "collapsed": false
   },
   "outputs": [],
   "source": [
    "res=map(lambda x: float(np.sum(x[0]*(1-x[1])))/float(np.sum(x[0]))-\n",
    "       float(np.sum((1-x[0])*(1-x[1])))/float(dl-np.sum(x[0])),zip(Msex[ind],Mdef[ind]))"
   ]
  },
  {
   "cell_type": "code",
   "execution_count": 55,
   "metadata": {
    "collapsed": false
   },
   "outputs": [
    {
     "name": "stdout",
     "output_type": "stream",
     "text": [
      " Доверительный интервал для разности долей: (0.033689777275884569, 0.034297297334939747)\n",
      "pvalue: 0.0\n"
     ]
    }
   ],
   "source": [
    "from statsmodels.stats import weightstats\n",
    "print 'Доверительный интервал для разности долей:', weightstats.zconfint(res)\n",
    "print 'pvalue:', weightstats.ztest(res)[1]\n",
    "\n"
   ]
  },
  {
   "cell_type": "markdown",
   "metadata": {},
   "source": [
    "# Вывод\n",
    "Гипотеза о равенстве долей мужчин и женщин, возвращающих кредит, отвергнута. Согласно данным выборки женщины более чем на 3% чаще отдают кредиты.\n",
    "## Практическая значимость\n",
    "Следует также указать, что доля женщин, получающих кредиты, составляет в среднем около 60%. \n",
    "Т.е. банк выдает кредиты больше тем, кто лучше их возвращает. Скорее всего, это опять же следствие работы скоринг-системы"
   ]
  },
  {
   "cell_type": "markdown",
   "metadata": {},
   "source": [
    "# Задание 3\n",
    "Образование (EDUCATION): Проверьте гипотезу о том, что образование не влияет на то, вернет ли человек долг. Предложите способ наглядного представления разницы в ожидаемых и наблюдаемых значениях количества человек вернувших и не вернувших долг. Например, составьте таблицу сопряженности \"образование\" на \"возврат долга\", где значением ячейки была бы разность между наблюдаемым и ожидаемым количеством человек. Как бы вы предложили модифицировать таблицу так, чтобы привести значения ячеек к одному масштабу не потеряв в интерпретируемости ? Наличие какого образования является наилучшим индикатором того, что человек отдаст долг ? наоборт, не отдаст долг ?"
   ]
  },
  {
   "cell_type": "markdown",
   "metadata": {},
   "source": [
    "## Оценим доли возврата кредита в зависимости от уровня образования"
   ]
  },
  {
   "cell_type": "code",
   "execution_count": 109,
   "metadata": {
    "collapsed": false
   },
   "outputs": [
    {
     "data": {
      "image/png": "[encoded data removed]",
      "text/plain": [
       "<matplotlib.figure.Figure at 0xf1ec1b0>"
      ]
     },
     "metadata": {},
     "output_type": "display_data"
    }
   ],
   "source": [
    "m0=np.array(df[df.EDUCATION_0==1].default)\n",
    "m1=np.array(df[df.EDUCATION_1==1].default)\n",
    "m2=np.array(df[df.EDUCATION_2==1].default)\n",
    "m3=np.array(df[df.EDUCATION_3==1].default)\n",
    "m4=np.array(df[df.EDUCATION_4==1].default)\n",
    "m5=np.array(df[df.EDUCATION_5==1].default)\n",
    "m6=np.array(df[df.EDUCATION_6==1].default)\n",
    "\n",
    "plt.bar(range(7),[float(np.sum(m0==1))/len(m0),\n",
    "                  float(np.sum(m1==1))/len(m1),\n",
    "                  float(np.sum(m2==1))/len(m2),\n",
    "                  float(np.sum(m3==1))/len(m3),\n",
    "                  float(np.sum(m4==1))/len(m4),\n",
    "                  float(np.sum(m5==1))/len(m5),\n",
    "                  float(np.sum(m6==1))/len(m6)\n",
    "                  ], align='center')\n",
    "plt.xticks(range(7), ('Doctor', 'Master', 'Bachelor', 'High School', 'Primary School','Another','Uncnown'))\n",
    "plt.show() \n"
   ]
  },
  {
   "cell_type": "markdown",
   "metadata": {},
   "source": [
    "Видно, что доктора все возвращают взятые кредиты. По ним невозможно обрабатывать статистику. Добавим их к магистрам. Так же построим график количества выданных кредитов"
   ]
  },
  {
   "cell_type": "code",
   "execution_count": 76,
   "metadata": {
    "collapsed": true
   },
   "outputs": [],
   "source": [
    "df.EDUCATION_1=map(lambda x: x[0]+x[1],zip(df.EDUCATION_0,df.EDUCATION_1))\n",
    "m1=np.array(df[df.EDUCATION_1==1].default)\n"
   ]
  },
  {
   "cell_type": "code",
   "execution_count": 80,
   "metadata": {
    "collapsed": false
   },
   "outputs": [
    {
     "data": {
      "image/png": "[encoded data removed]",
      "text/plain": [
       "<matplotlib.figure.Figure at 0x11e67850>"
      ]
     },
     "metadata": {},
     "output_type": "display_data"
    }
   ],
   "source": [
    "fig, axes = plt.subplots(nrows=1, ncols=2, figsize=(10, 5))\n",
    "labels=['Master', 'Bachelor', 'High School', 'Primary School','Another','Unknown']\n",
    "\n",
    "axes[0].bar(range(6),[float(np.sum(m1==1))/len(m1),\n",
    "                  float(np.sum(m2==1))/len(m2),\n",
    "                  float(np.sum(m3==1))/len(m3),\n",
    "                  float(np.sum(m4==1))/len(m4),\n",
    "                  float(np.sum(m5==1))/len(m5),\n",
    "                  float(np.sum(m6==1))/len(m6),\n",
    "                  ], align='center')\n",
    "\n",
    "axes[0].set_xticks(range(6))\n",
    "axes[0].set_xticklabels(labels)\n",
    "axes[0].set_xlabel('Probability')\n",
    "\n",
    "axes[1].bar(range(6),[len(m1), len(m2), len(m3), len(m4), len(m5), len(m6)], align='center')\n",
    "\n",
    "axes[1].set_xticks(range(6))\n",
    "axes[1].set_xticklabels(labels)\n",
    "axes[1].set_xlabel('Count')\n",
    "\n",
    "\n",
    "plt.show()\n",
    "\n"
   ]
  },
  {
   "cell_type": "markdown",
   "metadata": {},
   "source": [
    "Несмотря на высокие значения вероятности невозврата среди тех, чье образование неизвестно, таких всего 51 человек. Соответственно такой категорией можно пренебречь. Тем более можно обязать менеджеров требовать данные об образовании\n",
    "\n",
    "Для граждан с незаконченным школьным образованием и прочим образованием вероятность невозврата кредита примерно одинаковая. Их немного, так что есть смысл объединить данные по обеим выборкам."
   ]
  },
  {
   "cell_type": "code",
   "execution_count": 81,
   "metadata": {
    "collapsed": true
   },
   "outputs": [],
   "source": [
    "df.EDUCATION_4=map(lambda x: x[0]+x[1],zip(df.EDUCATION_4,df.EDUCATION_5))\n",
    "m4=np.array(df[df.EDUCATION_4==1].default)\n"
   ]
  },
  {
   "cell_type": "code",
   "execution_count": 82,
   "metadata": {
    "collapsed": false
   },
   "outputs": [
    {
     "data": {
      "image/png": "[encoded data removed]",
      "text/plain": [
       "<matplotlib.figure.Figure at 0xec32c90>"
      ]
     },
     "metadata": {},
     "output_type": "display_data"
    }
   ],
   "source": [
    "fig, axes = plt.subplots(nrows=1, ncols=2, figsize=(10, 5))\n",
    "labels=['Master', 'Bachelor', 'High School', 'Another']\n",
    "\n",
    "axes[0].bar(range(4),[float(np.sum(m1==1))/len(m1),\n",
    "                  float(np.sum(m2==1))/len(m2),\n",
    "                  float(np.sum(m3==1))/len(m3),\n",
    "                  float(np.sum(m4==1))/len(m4),\n",
    "                  ], align='center')\n",
    "\n",
    "axes[0].set_xticks(range(4))\n",
    "axes[0].set_xticklabels(labels)\n",
    "axes[0].set_xlabel('Probability')\n",
    "\n",
    "axes[1].bar(range(4),[len(m1), len(m2), len(m3), len(m4)], align='center')\n",
    "\n",
    "axes[1].set_xticks(range(4))\n",
    "axes[1].set_xticklabels(labels)\n",
    "axes[1].set_xlabel('Count')\n",
    "\n",
    "\n",
    "plt.show()\n",
    "\n"
   ]
  },
  {
   "cell_type": "markdown",
   "metadata": {},
   "source": [
    "Определим доверительные интервалы для выделенных четырех групп, причем alpha возьмем равным 0.05/4"
   ]
  },
  {
   "cell_type": "code",
   "execution_count": 83,
   "metadata": {
    "collapsed": false
   },
   "outputs": [
    {
     "name": "stdout",
     "output_type": "stream",
     "text": [
      "Доля магистров и докторов, не вернувших кредит  (0.18253606205310111, 0.20165112541741501)\n",
      "Доля бакалавров, не вернувших кредит (0.22837696316975992, 0.24632011452090297)\n",
      "Доля закончивших школу, не вернувших кредит  (0.23612007310061647, 0.26703225555506793)\n",
      "Доля прочих категорий, не вернувших кредит (0.032022419980178421, 0.09204705892801017)\n"
     ]
    }
   ],
   "source": [
    "print 'Доля магистров и докторов, не вернувших кредит ', proportion_confint(np.sum(m1),\n",
    "                                                                            len(m1), alpha=0.05/4, method='normal')\n",
    "print 'Доля бакалавров, не вернувших кредит', proportion_confint(np.sum(m2),\n",
    "                                                                len(m2), alpha=0.05/4,  method='normal')\n",
    "print 'Доля закончивших школу, не вернувших кредит ', proportion_confint(np.sum(m3),\n",
    "                                                                            len(m3), alpha=0.05/4,  method='normal')\n",
    "print 'Доля прочих категорий, не вернувших кредит', proportion_confint(np.sum(m4),\n",
    "                                                                            len(m4), alpha=0.05/4,  method='normal')\n"
   ]
  },
  {
   "cell_type": "markdown",
   "metadata": {},
   "source": [
    "По результатам видно, что лучше всего возвращают кредиты те, кто либо не закончил школу, либо имеет прочее образование. Это скорее всего, что им сложнее всего получить кредит. Поэтому в этой категории больше всего отсеиваются кандидатуры с другими рисками, а также в этой категории люди потратили много усилий, чтобы получить кредит, поэтому они заботятся о своей репутации.\n",
    "\n",
    "\n",
    "Больше всего рисков невозврата у бакалавров и у окончивших школу. Их границы пересекаются, так что сказать, в какой из этих групп больше вероятность невозврата по этой статистике нельзя.\n",
    "\n",
    "Доля невозврата кредитов у магистров и докторов ниже, чем у бакалавров. "
   ]
  },
  {
   "cell_type": "markdown",
   "metadata": {},
   "source": [
    "Проверим 4 гипотезы:\n",
    "\n",
    "1: Доля невозвращенных кредитов у прочих категорий не отличается от доли невозвращенных кредитов у магистров и докторв. Алтернативная гипотеза: у последних доля выше\n",
    "\n",
    "2: Доля невозвращенных кредитов у магистров и докторов не отличается от доли невозвращенных кредитов у бакалавров. Алтернативная гипотеза: у последних доля выше\n",
    "\n",
    "3: Доля невозвращенных кредитов у докторов и магистров не отличается от доли невозвращенных кредитов у выпускников школы. Алтернативная гипотеза: у последних доля выше\n",
    "\n",
    "4: Доля невозвращенных кредитов у бакалавров не отличается от доли невозвращенных кредитов у выпускников школы. Алтернативная гипотеза: у последних доля выше\n",
    "\n",
    "Потом скорректируем показатели pvalue из-за множественности гипотез\n"
   ]
  },
  {
   "cell_type": "code",
   "execution_count": 107,
   "metadata": {
    "collapsed": false
   },
   "outputs": [
    {
     "name": "stdout",
     "output_type": "stream",
     "text": [
      "1 гипотеза: Доверительный интервал для разности долей [0.10179357556615456, 0.15832413299617296]\n",
      "2 гипотеза: Доверительный интервал для разности долей [0.032690717224879269, 0.057819172995267502]\n",
      "3 гипотеза: Доверительный интервал для разности долей [0.041310141809403886, 0.07765499937576438]\n",
      "4 гипотеза: Доверительный интервал для разности долей [0.00020398810225190703, 0.028251262862769588]\n",
      "Нескорректированные значения pvalue гипотез: [2.5509372392207297e-11, 0.0, 0.0, 0.022365170969109061]\n"
     ]
    }
   ],
   "source": [
    "# 1 гипотеза\n",
    "gipotesis=[]\n",
    "\n",
    "n0=len(m4)\n",
    "r0=np.sum(m4)\n",
    "n1=len(m1)\n",
    "r1=np.sum(m1)\n",
    "\n",
    "p1=float(r0)/n0\n",
    "p2=float(r1)/n1\n",
    "P=(p1*n0+p2*n1)/float(n1+n0)\n",
    "Z=(p2-p1)/np.sqrt(P*(1-P)*(1./float(n0)+1./float(n1)))\n",
    "pv=1-stats1.norm.cdf(np.abs(Z))\n",
    "gipotesis.append(pv)\n",
    "z=stats1.norm.ppf(1.-0.05/2/2) #С поправкой Холма\n",
    "print '1 гипотеза: Доверительный интервал для разности долей', map(lambda x: p2-p1+\n",
    "                                                       x*z*np.sqrt(p1*(1-p1)/n0+p2*(1-p2)/n1),[-1,+1])\n",
    "\n",
    "# 2 гипотеза\n",
    "n0=len(m1)\n",
    "r0=np.sum(m1)\n",
    "n1=len(m2)\n",
    "r1=np.sum(m2)\n",
    "\n",
    "p1=float(r0)/n0\n",
    "p2=float(r1)/n1\n",
    "P=(p1*n0+p2*n1)/float(n1+n0)\n",
    "Z=(p2-p1)/np.sqrt(P*(1-P)*(1./float(n0)+1./float(n1)))\n",
    "pv=1-stats1.norm.cdf(np.abs(Z))\n",
    "gipotesis.append(pv)\n",
    "z=stats1.norm.ppf(1.-0.05/2/3) #С поправкой Холма\n",
    "print '2 гипотеза: Доверительный интервал для разности долей', map(lambda x: p2-p1+\n",
    "                                                       x*z*np.sqrt(p1*(1-p1)/n0+p2*(1-p2)/n1),[-1,+1])\n",
    "\n",
    "# 3 гипотеза\n",
    "n0=len(m1)\n",
    "r0=np.sum(m1)\n",
    "n1=len(m3)\n",
    "r1=np.sum(m3)\n",
    "\n",
    "p1=float(r0)/n0\n",
    "p2=float(r1)/n1\n",
    "P=(p1*n0+p2*n1)/float(n1+n0)\n",
    "Z=(p2-p1)/np.sqrt(P*(1-P)*(1./float(n0)+1./float(n1)))\n",
    "pv=1-stats1.norm.cdf(np.abs(Z))\n",
    "gipotesis.append(pv)\n",
    "z=stats1.norm.ppf(1.-0.05/2/4) #С поправкой Холма\n",
    "print '3 гипотеза: Доверительный интервал для разности долей', map(lambda x: p2-p1+\n",
    "                                                       x*z*np.sqrt(p1*(1-p1)/n0+p2*(1-p2)/n1),[-1,+1])\n",
    "\n",
    "# 4 гипотеза\n",
    "n0=len(m2)\n",
    "r0=np.sum(m2)\n",
    "n1=len(m3)\n",
    "r1=np.sum(m3)\n",
    "\n",
    "p1=float(r0)/n0\n",
    "p2=float(r1)/n1\n",
    "P=(p1*n0+p2*n1)/float(n1+n0)\n",
    "z=stats1.norm.ppf(1.-0.05/2)\n",
    "Z=(p2-p1)/np.sqrt(P*(1-P)*(1./float(n0)+1./float(n1)))\n",
    "pv=1-stats1.norm.cdf(np.abs(Z))\n",
    "gipotesis.append(pv)\n",
    "z=stats1.norm.ppf(1.-0.05/2) #С поправкой Холма\n",
    "print '4 гипотеза: Доверительный интервал для разности долей', map(lambda x: p2-p1+\n",
    "                                                       x*z*np.sqrt(p1*(1-p1)/n0+p2*(1-p2)/n1),[-1,+1])\n",
    "\n",
    "print 'Нескорректированные значения pvalue гипотез:', gipotesis\n"
   ]
  },
  {
   "cell_type": "markdown",
   "metadata": {},
   "source": [
    "Видно, что все разности долей положительны"
   ]
  },
  {
   "cell_type": "code",
   "execution_count": 108,
   "metadata": {
    "collapsed": false
   },
   "outputs": [
    {
     "name": "stdout",
     "output_type": "stream",
     "text": [
      "Скорректированные значения pvalue гипотез: [  5.10187448e-11   0.00000000e+00   0.00000000e+00   2.23651710e-02]\n"
     ]
    }
   ],
   "source": [
    "#Скорректируем pvalue методом Холма\n",
    "from statsmodels.sandbox.stats.multicomp import multipletests\n",
    "reject, p_corr, a1, a2 = multipletests(gipotesis, alpha=0.05,method='holm')\n",
    "\n",
    "print 'Скорректированные значения pvalue гипотез:', p_corr\n"
   ]
  },
  {
   "cell_type": "markdown",
   "metadata": {},
   "source": [
    "### Таким образом, все выдвинутые гипотезы опровергнуты. Следовательно можно утверждать, что:\n",
    "выделенные категории по образованию можно ранжировать в порядке возрастания доли невозвращенных кредитов следующим образом:\n",
    "\n",
    "- люди, имеющие начальное школьное или прочее образование (минимальная доля)\n",
    "- доктора и магистры\n",
    "- бакалавры\n",
    "- люди, закончившие школу (максимальная доля)"
   ]
  },
  {
   "cell_type": "markdown",
   "metadata": {},
   "source": [
    "# Практические рекомендации\n",
    "На мой взгляд, систему скоринга нужно перенастроить:\n",
    "- ужесточить требования к бакалаврам и людям, закончившим школу. В обоих случаях доля невозвращенных кредитов гарантированно больше 20%\n",
    "- ослабить требования к людям, не закончившим школу и имеющим прочее образование. Там доля невозвращенных кредитов менее 10%"
   ]
  },
  {
   "cell_type": "markdown",
   "metadata": {},
   "source": [
    "# Задание 4\n",
    "Семейное положение (MARRIAGE): Проверьте, как связан семейный статус с индикатором дефолта: нужно предложить меру, по которой можно измерить возможную связь этих переменных и посчитать ее значение.\n"
   ]
  },
  {
   "cell_type": "code",
   "execution_count": 5,
   "metadata": {
    "collapsed": false
   },
   "outputs": [
    {
     "data": {
      "image/png": "[encoded data removed]",
      "text/plain": [
       "<matplotlib.figure.Figure at 0x9299550>"
      ]
     },
     "metadata": {},
     "output_type": "display_data"
    }
   ],
   "source": [
    "m0=np.array(df[df.MARRIAGE_0==1].default)\n",
    "m1=np.array(df[df.MARRIAGE_1==1].default)\n",
    "m2=np.array(df[df.MARRIAGE_2==1].default)\n",
    "m3=np.array(df[df.MARRIAGE_3==1].default)\n",
    "\n",
    "fig, axes = plt.subplots(nrows=1, ncols=2, figsize=(10, 5))\n",
    "labels=['Unknown', 'Single', 'Married', 'Rejected']\n",
    "\n",
    "axes[0].bar(range(4),[float(np.sum(m0==1))/len(m0),\n",
    "                  float(np.sum(m1==1))/len(m1),\n",
    "                  float(np.sum(m2==1))/len(m2),\n",
    "                  float(np.sum(m3==1))/len(m3)\n",
    "                  ], align='center')\n",
    "\n",
    "axes[0].set_xticks(range(4))\n",
    "axes[0].set_xticklabels(labels)\n",
    "axes[0].set_xlabel('Probability')\n",
    "\n",
    "axes[1].bar(range(4),[len(m0), len(m1), len(m2), len(m3)], align='center')\n",
    "\n",
    "axes[1].set_xticks(range(4))\n",
    "axes[1].set_xticklabels(labels)\n",
    "axes[1].set_xlabel('Count')\n",
    "\n",
    "\n",
    "plt.show()\n"
   ]
  },
  {
   "cell_type": "markdown",
   "metadata": {
    "collapsed": false
   },
   "source": [
    "Опять же. Неизвестных данных всего 54 записи. Ими можно пренебречь"
   ]
  },
  {
   "cell_type": "code",
   "execution_count": 10,
   "metadata": {
    "collapsed": false
   },
   "outputs": [
    {
     "name": "stdout",
     "output_type": "stream",
     "text": [
      "Доля холостых, не вернувших кредит  (0.22614791486946978, 0.24350868311751273)\n",
      "Доля женатых, не вернувших кредит (0.20168064890623572, 0.21709478826011885)\n",
      "Доля отказавшихся говорить, не вернувших кредит  (0.20617316147308168, 0.32231689779367095)\n"
     ]
    }
   ],
   "source": [
    "from statsmodels.stats.proportion import proportion_confint\n",
    "\n",
    "print 'Доля холостых, не вернувших кредит ', proportion_confint(np.sum(m1),\n",
    "                                                                            len(m1), alpha=0.05/3, method='wilson')\n",
    "print 'Доля женатых, не вернувших кредит', proportion_confint(np.sum(m2),\n",
    "                                                                len(m2), alpha=0.05/3,  method='wilson')\n",
    "print 'Доля отказавшихся говорить, не вернувших кредит ', proportion_confint(np.sum(m3),\n",
    "                                                                            len(m3), alpha=0.05/3,  method='wilson')"
   ]
  },
  {
   "cell_type": "markdown",
   "metadata": {},
   "source": [
    "### Делаю три гипотезы:\n",
    "1) Доля женатых, не вернувших кредит, равна доле холостых, невернувших кредит. Альтернативная гипотеза: доля вторых больше\n",
    "\n",
    "2) Доля женатых, не вернувших кредит, равна доле отказавшихся говорить, невернувших кредит. Альтернативная гипотеза: доля вторых больше\n",
    "\n",
    "3) Доля холостых, не вернувших кредит, равна доле отказавшихся говорить, невернувших кредит. Альтернативная гипотеза: доля вторых больше\n"
   ]
  },
  {
   "cell_type": "code",
   "execution_count": 14,
   "metadata": {
    "collapsed": false
   },
   "outputs": [
    {
     "name": "stdout",
     "output_type": "stream",
     "text": [
      "1 гипотеза: Доверительный интервал для разности долей [0.013824270741691003, 0.037043026786540215]\n",
      "2 гипотеза: Доверительный интервал для разности долей [-0.0044038611709631276, 0.10596092493595137]\n",
      "3 гипотеза: Доверительный интервал для разности долей [-0.023019320394650662, 0.073709086631407683]\n",
      "Нескорректированные значения pvalue гипотез: [7.2425717201340944e-08, 0.013307608559223305, 0.14426565348653775]\n",
      "Скорректированные значения pvalue гипотез методом Холма: [  2.17277152e-07   2.66152171e-02   1.44265653e-01]\n"
     ]
    }
   ],
   "source": [
    "# 1 гипотеза\n",
    "gipotesis=[]\n",
    "\n",
    "n0=len(m2)\n",
    "r0=np.sum(m2)\n",
    "n1=len(m1)\n",
    "r1=np.sum(m1)\n",
    "\n",
    "p1=float(r0)/n0\n",
    "p2=float(r1)/n1\n",
    "P=(p1*n0+p2*n1)/float(n1+n0)\n",
    "Z=(p2-p1)/np.sqrt(P*(1-P)*(1./float(n0)+1./float(n1)))\n",
    "pv=1-stats1.norm.cdf(np.abs(Z))\n",
    "gipotesis.append(pv)\n",
    "z=stats1.norm.ppf(1.-0.05/2/3) #С поправкой Холма\n",
    "print '1 гипотеза: Доверительный интервал для разности долей', map(lambda x: p2-p1+\n",
    "                                                       x*z*np.sqrt(p1*(1-p1)/n0+p2*(1-p2)/n1),[-1,+1])\n",
    "\n",
    "# 2 гипотеза\n",
    "n0=len(m2)\n",
    "r0=np.sum(m2)\n",
    "n1=len(m3)\n",
    "r1=np.sum(m3)\n",
    "\n",
    "p1=float(r0)/n0\n",
    "p2=float(r1)/n1\n",
    "P=(p1*n0+p2*n1)/float(n1+n0)\n",
    "Z=(p2-p1)/np.sqrt(P*(1-P)*(1./float(n0)+1./float(n1)))\n",
    "pv=1-stats1.norm.cdf(np.abs(Z))\n",
    "gipotesis.append(pv)\n",
    "z=stats1.norm.ppf(1.-0.05/2/2) #С поправкой Холма\n",
    "print '2 гипотеза: Доверительный интервал для разности долей', map(lambda x: p2-p1+\n",
    "                                                       x*z*np.sqrt(p1*(1-p1)/n0+p2*(1-p2)/n1),[-1,+1])\n",
    "\n",
    "# 3 гипотеза\n",
    "n0=len(m1)\n",
    "r0=np.sum(m1)\n",
    "n1=len(m3)\n",
    "r1=np.sum(m3)\n",
    "\n",
    "p1=float(r0)/n0\n",
    "p2=float(r1)/n1\n",
    "P=(p1*n0+p2*n1)/float(n1+n0)\n",
    "Z=(p2-p1)/np.sqrt(P*(1-P)*(1./float(n0)+1./float(n1)))\n",
    "pv=1-stats1.norm.cdf(np.abs(Z))\n",
    "gipotesis.append(pv)\n",
    "z=stats1.norm.ppf(1.-0.05/2) #С поправкой Холма\n",
    "print '3 гипотеза: Доверительный интервал для разности долей', map(lambda x: p2-p1+\n",
    "                                                       x*z*np.sqrt(p1*(1-p1)/n0+p2*(1-p2)/n1),[-1,+1])\n",
    "\n",
    "\n",
    "print 'Нескорректированные значения pvalue гипотез:', gipotesis\n",
    "\n",
    "#Скорректируем pvalue методом Холма\n",
    "from statsmodels.sandbox.stats.multicomp import multipletests\n",
    "reject, p_corr, a1, a2 = multipletests(gipotesis, alpha=0.05,method='holm')\n",
    "\n",
    "print 'Скорректированные значения pvalue гипотез методом Холма:', p_corr\n"
   ]
  },
  {
   "cell_type": "markdown",
   "metadata": {},
   "source": [
    "Таким образом, отвергаются первая и вторая гипотеза, т.е. можно говорить, что:\n",
    "- Доля холостых, невернувших кредит, на 1.4-3.7% больше, чем женатых.\n",
    "- доля отказавшихся говорить, невернувших кредит, на 0-10.6% больше, чем у женатых\n",
    "- говорить о том, чья доля невернувших кредит (у холостых или у отказавшихся говорить) нельзя\n"
   ]
  },
  {
   "cell_type": "markdown",
   "metadata": {},
   "source": [
    "## В качестве меры дефолта возьмем коэффициент корреляции Крамера"
   ]
  },
  {
   "cell_type": "code",
   "execution_count": 42,
   "metadata": {
    "collapsed": false
   },
   "outputs": [
    {
     "name": "stdout",
     "output_type": "stream",
     "text": [
      "Коэффициент Крама/Мера дефолта: 0.0318854776337\n",
      "Значимость критерия: 2.44804770425e-07\n"
     ]
    }
   ],
   "source": [
    "m_cram=np.zeros((2,3))\n",
    "m_cram[0,0]=float(np.sum(m1))\n",
    "m_cram[1,0]=float(len(m1)-np.sum(m1))\n",
    "m_cram[0,1]=float(np.sum(m2))\n",
    "m_cram[1,1]=float(len(m2)-np.sum(m2))\n",
    "m_cram[0,2]=float(np.sum(m3))\n",
    "m_cram[1,2]=float(len(m3)-np.sum(m3))\n",
    "s1=np.sum(m_cram,axis=0)\n",
    "s2=np.sum(m_cram,axis=1)\n",
    "Chi2_cram=(np.sum((m_cram**2/s1).T/s2)-1)*np.sum(s1)\n",
    "v_cram=np.sqrt(Chi2_cram/np.sum(s1)/(np.min([2,3])-1))\n",
    "print 'Коэффициент Крама/Мера дефолта:',v_cram\n",
    "Таprint 'Значимость критерия:', stats1.chi2_contingency(m_cram)[1]"
   ]
  },
  {
   "cell_type": "markdown",
   "metadata": {},
   "source": [
    "Таким, степень влияния семейного положения в среднем не превышает 0.1% (0.031**2) \n",
    "\n",
    "# Задание 5\n",
    "Возраст (AGE): Относительно двух групп людей вернувших и не вернувших кредит проверьте следующие гипотезы: a) о равенстве медианных значений возрастов людей b) о равенстве распределений с помощью одного из подходящих непараметрических критериев проверки равенства средних. Значимы ли полученные результаты с практической точки зрения ?"
   ]
  },
  {
   "cell_type": "code",
   "execution_count": 5,
   "metadata": {
    "collapsed": false
   },
   "outputs": [
    {
     "data": {
      "image/png": "[encoded data removed]",
      "text/plain": [
       "<matplotlib.figure.Figure at 0x8c2d3f0>"
      ]
     },
     "metadata": {},
     "output_type": "display_data"
    }
   ],
   "source": [
    "plt.hist(df.AGE)\n",
    "plt.title('AGE')\n",
    "plt.show()"
   ]
  },
  {
   "cell_type": "code",
   "execution_count": 6,
   "metadata": {
    "collapsed": false
   },
   "outputs": [
    {
     "data": {
      "image/png": "[encoded data removed]",
      "text/plain": [
       "<matplotlib.figure.Figure at 0x8fa0850>"
      ]
     },
     "metadata": {},
     "output_type": "display_data"
    }
   ],
   "source": [
    "fig, axes = plt.subplots(nrows=1, ncols=2, figsize=(10, 5))\n",
    "for i in range(2):\n",
    "    axes[i].hist(df[df.default==i].AGE)\n",
    "    axes[i].set_xlabel('default == '+str(i))\n",
    "plt.show()"
   ]
  },
  {
   "cell_type": "markdown",
   "metadata": {},
   "source": [
    "Судя по графику, это нормальное распреление с отсечением слева (банк не выдает кредиты лицам, моложе 20 лет).\n",
    "В этом случае среднее будет смещено и его использовать нельзя. Будем считать медиану. Для ее нахождения воспользуемся бутстрапом."
   ]
  },
  {
   "cell_type": "code",
   "execution_count": 7,
   "metadata": {
    "collapsed": false
   },
   "outputs": [
    {
     "name": "stdout",
     "output_type": "stream",
     "text": [
      "95% confidence interval for the LIMIT_BAL(default==0): [ 34.  34.]\n",
      "95% confidence interval for the LIMIT_BAL(default==1): [ 34.  35.]\n"
     ]
    }
   ],
   "source": [
    "data0=np.array(df[df.default==0].AGE)\n",
    "data1=np.array(df[df.default==1].AGE)\n",
    "dts0=np.median(data0[np.random.randint(0,len(data0),(1000, len(data0)))],axis=1)\n",
    "dts1=np.median(data1[np.random.randint(0,len(data1),(1000, len(data1)))],axis=1)\n",
    "print '95% confidence interval for the LIMIT_BAL(default==0):', np.percentile(dts0,[100*0.025,100*(1.-0.025)])\n",
    "print '95% confidence interval for the LIMIT_BAL(default==1):', np.percentile(dts1,[100*0.025,100*(1.-0.025)])\n"
   ]
  },
  {
   "cell_type": "markdown",
   "metadata": {},
   "source": [
    "Проверим гипотезу о равенстве среднего методом Манна-Уитни против гипотезы о том, что средние не равны"
   ]
  },
  {
   "cell_type": "code",
   "execution_count": 12,
   "metadata": {
    "collapsed": false
   },
   "outputs": [
    {
     "data": {
      "text/plain": [
       "MannwhitneyuResult(statistic=76966879.5, pvalue=0.37250354348986159)"
      ]
     },
     "execution_count": 12,
     "metadata": {},
     "output_type": "execute_result"
    }
   ],
   "source": [
    "stats1.mannwhitneyu(df[df.default==0].AGE, df[df.default==1].AGE, alternative='two-sided')"
   ]
  },
  {
   "cell_type": "markdown",
   "metadata": {},
   "source": [
    "Таким образом гипотеза отвергнута быть не может, что означает, что возможно, что возраст не влияет на возврат кредитов"
   ]
  },
  {
   "cell_type": "markdown",
   "metadata": {},
   "source": [
    "### Проверяем гипотезу о равенстве распределений. \n",
    "Альтернативная гипотеза - распределения не совпадают."
   ]
  },
  {
   "cell_type": "code",
   "execution_count": 13,
   "metadata": {
    "collapsed": false
   },
   "outputs": [
    {
     "name": "stdout",
     "output_type": "stream",
     "text": [
      "p-value: 0.018400\n"
     ]
    }
   ],
   "source": [
    "print \"p-value: %f\" % permutation_test(data0, data1,\n",
    "                                       max_permutations = 5000, alternative='two-sided')"
   ]
  },
  {
   "cell_type": "markdown",
   "metadata": {},
   "source": [
    "Таким образом, гипотеза о совпадении распределений отвергается, в отличии от совпадения среднего. Причина, скорее всего в работе скоринга, который делит искодную выборку неслучайным образом.\n",
    "\n",
    "# Практическое значение\n",
    "Скорее всего, зазличия в распределении не имеют практического значения,а всего лишь говорят о том, что разделение на вернувших и невернувших кредит носит неслучайный характер\n"
   ]
  },
  {
   "cell_type": "code",
   "execution_count": null,
   "metadata": {
    "collapsed": true
   },
   "outputs": [],
   "source": []
  }
 ],
 "metadata": {
  "anaconda-cloud": {},
  "kernelspec": {
   "display_name": "Python 3",
   "language": "python",
   "name": "python3"
  },
  "language_info": {
   "codemirror_mode": {
    "name": "ipython",
    "version": 3
   },
   "file_extension": ".py",
   "mimetype": "text/x-python",
   "name": "python",
   "nbconvert_exporter": "python",
   "pygments_lexer": "ipython3",
   "version": "3.6.0"
  }
 },
 "nbformat": 4,
 "nbformat_minor": 1
}

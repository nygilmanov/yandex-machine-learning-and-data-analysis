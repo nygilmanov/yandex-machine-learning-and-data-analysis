{
 "cells": [
  {
   "cell_type": "markdown",
   "metadata": {},
   "source": [
    "### Task 1"
   ]
  },
  {
   "cell_type": "markdown",
   "metadata": {},
   "source": [
    "Данных недостаточно: поскольку были выбраны пациенты с наибольшим риском, измеренный эффект может объясняться регрессией к среднему. Для оценки эффективности программы нужно использовать контрольную группу пациентов с таким же высоким риском, для которых программа не проводилась, и сравнить изменения в двух группах."
   ]
  },
  {
   "cell_type": "markdown",
   "metadata": {},
   "source": [
    "### Task 2\n",
    "Из 15 клиентов банка, которым менеджер предложил подключить автоплатёж, четверо согласились. Подключение услуги — бинарный признак, который можно описать распределением Бернулли. Запишите функцию правдоподобия L(Xn,p) для такой выборки и посчитайте её значение, если истинная вероятность подключения услуги p=0.2. Запишите ответ с пятью знаками после десятичной точки."
   ]
  },
  {
   "cell_type": "code",
   "execution_count": 12,
   "metadata": {
    "collapsed": false
   },
   "outputs": [
    {
     "name": "stdout",
     "output_type": "stream",
     "text": [
      "0.0016000000000000003\n",
      "0.08589934592000005\n"
     ]
    },
    {
     "data": {
      "text/plain": [
       "0.00014"
      ]
     },
     "execution_count": 12,
     "metadata": {},
     "output_type": "execute_result"
    }
   ],
   "source": [
    "def L(x,p):\n",
    "    n=len(x)\n",
    "    s=sum(x)\n",
    "    t1=p**s# 0.0016\n",
    "    print (t1)\n",
    "    t2=n-s\n",
    "    \n",
    "    t3=(1-p)**t2#0.08589934592\n",
    "    print (t3)\n",
    "    return t1*t3\n",
    "data=[1]*4+11*[0]\n",
    "p=0.2\n",
    "round(L(data,p),5)"
   ]
  },
  {
   "cell_type": "markdown",
   "metadata": {
    "collapsed": false
   },
   "source": [
    "0.01760"
   ]
  },
  {
   "cell_type": "markdown",
   "metadata": {
    "collapsed": false
   },
   "source": [
    "# Task 3"
   ]
  },
  {
   "cell_type": "code",
   "execution_count": 7,
   "metadata": {
    "collapsed": false
   },
   "outputs": [
    {
     "data": {
      "text/plain": [
       "0.267"
      ]
     },
     "execution_count": 7,
     "metadata": {},
     "output_type": "execute_result"
    }
   ],
   "source": [
    "round(sum(data)/len(data),3)"
   ]
  },
  {
   "cell_type": "markdown",
   "metadata": {},
   "source": [
    "### Tesk 4\n",
    "Выберите верные утверждения о регрессии, получаемой методом наименьших квадратов.\n",
    "\n",
    "**Получаемая оценка приближает условное по x матожидание отклика y.**\n",
    "\n",
    "Получаемая оценка приближает условную по x медиану отклика y.\n",
    "\n",
    "Если шум описывается лапласовским распределением с нулевым средним и постоянной дисперсией, метод наименьших квадратов даёт оценку максимального правдоподобия.\n",
    "\n",
    "**Если шум описывается нормальным распределением с нулевым средним и постоянной дисперсией, метод наименьших квадратов даёт оценку максимального правдоподобия.**"
   ]
  },
  {
   "cell_type": "markdown",
   "metadata": {},
   "source": [
    "## Task 5"
   ]
  },
  {
   "cell_type": "markdown",
   "metadata": {},
   "source": [
    "Регуляризаторы.\n",
    "\n",
    "Увеличение количества данных.\n",
    "\n",
    "Упрощение модели."
   ]
  },
  {
   "cell_type": "markdown",
   "metadata": {},
   "source": [
    "### Task 6"
   ]
  },
  {
   "cell_type": "markdown",
   "metadata": {},
   "source": [
    "**Из-за регуляризаторов оценки коэффициентов модели получаются смещённые.**\n",
    "\n",
    "**Регуляризаторы позволяют бороться с переобучением модели.**\n",
    "\n",
    "Оба типа регуляризаторов уменьшают по модулю веса признаков, но L2 некоторые ещё и обнуляет.\n",
    "\n",
    "Регуляризация подходит только для линейной регрессии, к сожалению, в задачах остальных типов её использовать нельзя.\n",
    "\n",
    "Регуляризаторы увеличивают дисперсию оценок коэффициентов регрессионной модели.\n",
    "\n",
    "**Константное слагаемое не должно входить в регуляризатор.**\n",
    "\n",
    "**При использовании L2-регуляризатора в МНК решение можно найти аналитически, а с L1-регуляризатором — только численно.**"
   ]
  },
  {
   "cell_type": "markdown",
   "metadata": {},
   "source": [
    "\n",
    "### Task 7\n",
    "**Оценка параметров модели делается минимизацией кросс-энтропии.**\n",
    "\n",
    "Функция, минимизируемая при настройке параметров модели, невыпуклая, у неё много локальных экстремумов, поэтому задача всегда имеет много решений.\n",
    "\n",
    "Логистическая регрессия позволяет построить линейную модель вероятности P(y=1|X)\n",
    "\n",
    "**При настройке моделей могут возникать проблемы, если классы линейно разделимы в пространстве признаков.**"
   ]
  },
  {
   "cell_type": "code",
   "execution_count": 21,
   "metadata": {
    "collapsed": false
   },
   "outputs": [],
   "source": [
    "pp=[0.9,0.07,0.03]\n",
    "a=[1-p for p in pp]"
   ]
  },
  {
   "cell_type": "code",
   "execution_count": 22,
   "metadata": {
    "collapsed": true
   },
   "outputs": [],
   "source": [
    "t=[c*b for c,b in zip(pp,a)]"
   ]
  },
  {
   "cell_type": "code",
   "execution_count": 24,
   "metadata": {
    "collapsed": false
   },
   "outputs": [],
   "source": [
    "import numpy"
   ]
  },
  {
   "cell_type": "code",
   "execution_count": 25,
   "metadata": {
    "collapsed": false
   },
   "outputs": [
    {
     "data": {
      "text/plain": [
       "0.18419999999999997"
      ]
     },
     "execution_count": 25,
     "metadata": {},
     "output_type": "execute_result"
    }
   ],
   "source": [
    "numpy.sum(t)"
   ]
  },
  {
   "cell_type": "code",
   "execution_count": null,
   "metadata": {
    "collapsed": true
   },
   "outputs": [],
   "source": [
    "0.1842\n",
    "0,1842\n"
   ]
  }
 ],
 "metadata": {
  "kernelspec": {
   "display_name": "Python 3",
   "language": "python",
   "name": "python3"
  },
  "language_info": {
   "codemirror_mode": {
    "name": "ipython",
    "version": 3
   },
   "file_extension": ".py",
   "mimetype": "text/x-python",
   "name": "python",
   "nbconvert_exporter": "python",
   "pygments_lexer": "ipython3",
   "version": "3.6.0"
  }
 },
 "nbformat": 4,
 "nbformat_minor": 2
}

{
 "cells": [
  {
   "cell_type": "code",
   "execution_count": 149,
   "metadata": {
    "collapsed": true
   },
   "outputs": [],
   "source": [
    "import re\n"
   ]
  },
  {
   "cell_type": "code",
   "execution_count": 150,
   "metadata": {
    "collapsed": false
   },
   "outputs": [],
   "source": [
    "# Открываем файл\n",
    "file_obj = open('sentences.txt', 'r')"
   ]
  },
  {
   "cell_type": "code",
   "execution_count": 151,
   "metadata": {
    "collapsed": false
   },
   "outputs": [],
   "source": [
    "# Составляем список слов в тексте\n",
    "data_list = list(file_obj.readlines())\n",
    "uwords = dict()\n",
    "uwords_qty=0\n",
    "lines_qty=0\n",
    "for line in data_list: \n",
    "    lines_qty=lines_qty+1\n",
    "    line_words=re.split('[^a-z]', line.lower())\n",
    "    for word in line_words:\n",
    "        if (len(word)!=0)&(not(word in uwords)):\n",
    "            uwords[word]=uwords_qty\n",
    "            uwords_qty=uwords_qty+1"
   ]
  },
  {
   "cell_type": "code",
   "execution_count": 152,
   "metadata": {
    "collapsed": false
   },
   "outputs": [
    {
     "name": "stdout",
     "output_type": "stream",
     "text": [
      "22\n",
      "254\n"
     ]
    }
   ],
   "source": [
    "print(lines_qty)\n",
    "print(uwords_qty)"
   ]
  },
  {
   "cell_type": "code",
   "execution_count": 153,
   "metadata": {
    "collapsed": false
   },
   "outputs": [],
   "source": [
    "# Создаем матрицу с количеством вхождений слов\n",
    "import numpy as np\n",
    "cur_line=0\n",
    "ma=np.zeros((lines_qty,uwords_qty))\n",
    "for line in data_list: \n",
    "    line_words=re.split('[^a-z]', line.lower())\n",
    "    for word in line_words:\n",
    "        if (len(word)!=0):\n",
    "            ma[cur_line,uwords[word]]=ma[cur_line,uwords[word]]+1\n",
    "    cur_line=cur_line+1"
   ]
  },
  {
   "cell_type": "code",
   "execution_count": 226,
   "metadata": {
    "collapsed": false
   },
   "outputs": [],
   "source": [
    "# Поиск кос. расстояния для строк\n",
    "from scipy.spatial.distance import cosine\n",
    "import operator\n",
    "cos_dict=dict()\n",
    "ref_raw=ma[0,:]\n",
    "for line_num in (range(lines_qty)):\n",
    "    cur_raw=ma[line_num,:]\n",
    "    cos_dict[line_num]=cosine(ref_raw,cur_raw)\n",
    "cos_dict_sorted = sorted(cos_dict.items(), key=operator.itemgetter(1))"
   ]
  },
  {
   "cell_type": "code",
   "execution_count": 228,
   "metadata": {
    "collapsed": false
   },
   "outputs": [],
   "source": [
    "# Записываем № наиболее близких строк в файл\n",
    "res_file_obj=open('submission_result.txt','w')\n",
    "i=0\n",
    "for line in cos_dict_sorted:\n",
    "    i = i+1\n",
    "    if (i<2)|(i>3): continue\n",
    "    res_file_obj.write(str(line[0]))\n",
    "    res_file_obj.write(' ')\n",
    "res_file_obj.close()"
   ]
  },
  {
   "cell_type": "code",
   "execution_count": 230,
   "metadata": {
    "collapsed": false
   },
   "outputs": [
    {
     "data": {
      "text/plain": [
       "[(0, 0.0),\n",
       " (6, 0.7327387580875756),\n",
       " (4, 0.77708871496985887),\n",
       " (21, 0.82503644694405864),\n",
       " (10, 0.83281653622739416),\n",
       " (12, 0.83964325485254543),\n",
       " (16, 0.84063618542208085),\n",
       " (20, 0.84275727449171223),\n",
       " (2, 0.86447381456421235),\n",
       " (13, 0.87035925528956715),\n",
       " (14, 0.87401184233025764),\n",
       " (11, 0.88047713906656067),\n",
       " (8, 0.88427248752843102),\n",
       " (19, 0.88854435748492944),\n",
       " (3, 0.89517151632780823),\n",
       " (9, 0.90550888174769317),\n",
       " (7, 0.92587506833388988),\n",
       " (5, 0.94023856953328033),\n",
       " (15, 0.94427217874246472),\n",
       " (18, 0.94427217874246472),\n",
       " (1, 0.95275444087384664),\n",
       " (17, 0.95664450152379399)]"
      ]
     },
     "execution_count": 230,
     "metadata": {},
     "output_type": "execute_result"
    }
   ],
   "source": [
    "cos_dict_sorted"
   ]
  }
 ],
 "metadata": {
  "anaconda-cloud": {
   "summary": "course_1_week_2_sentences"
  },
  "kernelspec": {
   "display_name": "Python [conda root]",
   "language": "python",
   "name": "conda-root-py"
  },
  "language_info": {
   "codemirror_mode": {
    "name": "ipython",
    "version": 3
   },
   "file_extension": ".py",
   "mimetype": "text/x-python",
   "name": "python",
   "nbconvert_exporter": "python",
   "pygments_lexer": "ipython3",
   "version": "3.5.2"
  }
 },
 "nbformat": 4,
 "nbformat_minor": 1
}

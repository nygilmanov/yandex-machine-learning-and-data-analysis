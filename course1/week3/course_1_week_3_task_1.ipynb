{
 "cells": [
  {
   "cell_type": "markdown",
   "metadata": {},
   "source": [
    "# Задача 1. Минимизация гладкой функции"
   ]
  },
  {
   "cell_type": "code",
   "execution_count": 1,
   "metadata": {
    "collapsed": true
   },
   "outputs": [],
   "source": [
    "import numpy as np\n",
    "import math\n",
    "import pylab\n",
    "from matplotlib import mlab"
   ]
  },
  {
   "cell_type": "code",
   "execution_count": 2,
   "metadata": {
    "collapsed": false
   },
   "outputs": [
    {
     "data": {
      "image/png": "[encoded data removed]",
      "text/plain": [
       "<matplotlib.figure.Figure at 0x1ee41bc8d30>"
      ]
     },
     "metadata": {},
     "output_type": "display_data"
    }
   ],
   "source": [
    "# Описание исходной фуникции f(x) = sin(x / 5) * exp(x / 10) + 5 * exp(-x / 2)\n",
    "def func(x):\n",
    "    return math.sin(x / 5) * math.exp(x / 10) + 5 * math.exp(-x / 2)\n",
    "\n",
    "# Создадим область определения и отрисуем фуникцию\n",
    "xmin = 1\n",
    "xmax = 30\n",
    "dx = 0.01\n",
    "ref_xlist = mlab.frange (xmin, xmax, dx)\n",
    "ref_ylist = [func (x) for x in ref_xlist]\n",
    "pylab.plot (ref_xlist, ref_ylist)\n",
    "pylab.show()"
   ]
  },
  {
   "cell_type": "code",
   "execution_count": 3,
   "metadata": {
    "collapsed": false,
    "scrolled": true
   },
   "outputs": [
    {
     "name": "stdout",
     "output_type": "stream",
     "text": [
      "[ 4.13628824] 1.7452682903319903 True 27 8\n",
      "[ 4.13628697] 1.745268290332218 True 24 7\n",
      "[ 4.13627628] 1.7452682903447336 True 21 6\n",
      "[ 4.13623323] 1.7452682905867012 True 18 5\n",
      "[ 4.13625735] 1.7452682904133416 True 15 4\n",
      "[ 4.13628832] 1.745268290331984 True 21 6\n",
      "[ 4.13628982] 1.7452682903320773 True 24 5\n",
      "[ 4.13628946] 1.745268290332021 True 30 5\n",
      "[ 4.13628868] 1.7452682903319725 True 27 5\n",
      "[ 4.13630218] 1.7452682903470311 True 33 4\n",
      "[ 4.13630023] 1.7452682903429801 True 39 3\n",
      "[ 25.88019285] -11.898894665981311 True 63 2\n",
      "[ 25.88019172] -11.898894665980812 True 36 4\n",
      "[ 88.71203605] -6371.765229165741 True 75 4\n",
      "[ 25.88019315] -11.898894665981317 True 24 2\n",
      "[ 24.67766109] -11.503580757136064 False 63 1\n",
      "[ 25.88019877] -11.898894665971541 True 24 2\n",
      "[ 25.88017663] -11.898894665901345 True 33 6\n",
      "[ 25.88019851] -11.8988946659724 True 27 6\n",
      "[ 25.88017637] -11.898894665898753 True 24 5\n",
      "[ 25.88018742] -11.898894665971952 True 21 4\n",
      "[ 25.88020587] -11.898894665932263 True 21 5\n",
      "[ 25.88019422] -11.898894665980901 True 21 6\n",
      "[ 25.88019285] -11.898894665981311 True 21 6\n",
      "[ 25.88019491] -11.898894665980267 True 18 5\n",
      "[ 25.88018592] -11.89889466596626 True 15 4\n",
      "[ 25.8801953] -11.898894665979789 True 12 3\n",
      "[ 25.88019774] -11.898894665974735 True 15 4\n",
      "[ 25.88019333] -11.898894665981295 True 18 5\n",
      "[ 25.88020429] -11.89889466594364 True 18 5\n"
     ]
    }
   ],
   "source": [
    "from scipy.optimize import minimize\n",
    "min1_x0=range(30)\n",
    "min1_xlist=list()\n",
    "min1_ylist=list()\n",
    "for x0 in min1_x0:\n",
    "    m=minimize(func, x0)\n",
    "    print (m.x,m.fun,m.success,m.nfev,m.nit)\n",
    "    if ((m.x<=30)&(m.success==True)):\n",
    "        min1_xlist.append(x0)\n",
    "        min1_ylist.append(m.fun)"
   ]
  },
  {
   "cell_type": "code",
   "execution_count": 4,
   "metadata": {
    "collapsed": false
   },
   "outputs": [
    {
     "data": {
      "image/png": "[encoded data removed]",
      "text/plain": [
       "<matplotlib.figure.Figure at 0x1ee40f5f9e8>"
      ]
     },
     "metadata": {},
     "output_type": "display_data"
    }
   ],
   "source": [
    "pylab.plot (ref_xlist, ref_ylist,min1_xlist,min1_ylist)\n",
    "pylab.show()"
   ]
  },
  {
   "cell_type": "code",
   "execution_count": 7,
   "metadata": {
    "collapsed": false
   },
   "outputs": [
    {
     "name": "stdout",
     "output_type": "stream",
     "text": [
      "Answer1= 1.75\n"
     ]
    }
   ],
   "source": [
    "min2_x0=2\n",
    "m=minimize(func,min2_x0,method='BFGS')\n",
    "a1=round(m.fun,2)\n",
    "print (\"Answer1=\",a1)"
   ]
  },
  {
   "cell_type": "code",
   "execution_count": 8,
   "metadata": {
    "collapsed": false
   },
   "outputs": [
    {
     "name": "stdout",
     "output_type": "stream",
     "text": [
      "Answer2= -11.9\n"
     ]
    }
   ],
   "source": [
    "min3_x0=30\n",
    "m=minimize(func,min3_x0,method='BFGS')\n",
    "a2=round(m.fun,2)\n",
    "print (\"Answer2=\",a2)"
   ]
  },
  {
   "cell_type": "code",
   "execution_count": 17,
   "metadata": {
    "collapsed": false
   },
   "outputs": [],
   "source": [
    "f=open('result1.txt',\"w\")\n",
    "f.write(str(a1)+\" \"+str(a2))\n",
    "f.close()"
   ]
  },
  {
   "cell_type": "code",
   "execution_count": null,
   "metadata": {
    "collapsed": true
   },
   "outputs": [],
   "source": []
  }
 ],
 "metadata": {
  "anaconda-cloud": {},
  "kernelspec": {
   "display_name": "Python [conda root]",
   "language": "python",
   "name": "conda-root-py"
  },
  "language_info": {
   "codemirror_mode": {
    "name": "ipython",
    "version": 3
   },
   "file_extension": ".py",
   "mimetype": "text/x-python",
   "name": "python",
   "nbconvert_exporter": "python",
   "pygments_lexer": "ipython3",
   "version": "3.5.2"
  }
 },
 "nbformat": 4,
 "nbformat_minor": 1
}

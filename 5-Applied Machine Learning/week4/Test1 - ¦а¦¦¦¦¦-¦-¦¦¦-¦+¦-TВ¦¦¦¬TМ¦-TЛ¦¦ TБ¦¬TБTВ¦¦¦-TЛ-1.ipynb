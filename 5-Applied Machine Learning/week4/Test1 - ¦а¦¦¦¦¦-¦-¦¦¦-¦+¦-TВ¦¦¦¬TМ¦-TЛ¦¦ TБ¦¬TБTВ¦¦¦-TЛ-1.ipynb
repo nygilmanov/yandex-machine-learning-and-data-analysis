{
 "cells": [
  {
   "cell_type": "markdown",
   "metadata": {},
   "source": [
    "# Task 1"
   ]
  },
  {
   "cell_type": "markdown",
   "metadata": {},
   "source": [
    "Чем рекомендации объектов, для которых есть оценки от пользователей, отличаются от рекомендаций объектов, для которых известен только факт покупки/просмотра?\n",
    "* в случае фактов покупки есть негативные примеры, а в случае оценок - нет\n",
    "* **в случае оценок есть негативные примеры, а в случае фактов покупки - нет**"
   ]
  },
  {
   "cell_type": "markdown",
   "metadata": {},
   "source": [
    "# Task 2"
   ]
  },
  {
   "cell_type": "markdown",
   "metadata": {},
   "source": [
    "Какие метрики стоит использовать для оценки оффлайн качества рекомендаций\n",
    "* MAPE\n",
    "* **Precision@k**\n",
    "* RMSE\n",
    "* **Recall@k**\n",
    "* MAE"
   ]
  },
  {
   "cell_type": "markdown",
   "metadata": {},
   "source": [
    "# Task 3"
   ]
  },
  {
   "cell_type": "markdown",
   "metadata": {},
   "source": [
    "Вы внедрили алгоритм рекомендаций, и с этого же месяца конверсия выросла на 5% (от своей величины в прошлом месяце). Какие выводы можно сделать?\n",
    "* Алгоритм повышает конверсию на 5%\n",
    "* Алгоритм повышает конверсию, но нельзя сказать, насколько сильно\n",
    "* ** Никакие выводы про экономический эффект от алгоритма сделать нельзя**"
   ]
  },
  {
   "cell_type": "code",
   "execution_count": null,
   "metadata": {
    "collapsed": true
   },
   "outputs": [],
   "source": []
  }
 ],
 "metadata": {
  "kernelspec": {
   "display_name": "Python [conda root]",
   "language": "python",
   "name": "conda-root-py"
  },
  "language_info": {
   "codemirror_mode": {
    "name": "ipython",
    "version": 3
   },
   "file_extension": ".py",
   "mimetype": "text/x-python",
   "name": "python",
   "nbconvert_exporter": "python",
   "pygments_lexer": "ipython3",
   "version": "3.5.2"
  }
 },
 "nbformat": 4,
 "nbformat_minor": 2
}

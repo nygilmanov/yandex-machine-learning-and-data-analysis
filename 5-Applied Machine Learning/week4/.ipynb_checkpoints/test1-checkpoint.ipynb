{
 "cells": [
  {
   "cell_type": "markdown",
   "metadata": {},
   "source": [
    "# Ранжирование"
   ]
  },
  {
   "cell_type": "code",
   "execution_count": 4,
   "metadata": {
    "collapsed": true
   },
   "outputs": [],
   "source": [
    "import numpy as np"
   ]
  },
  {
   "cell_type": "markdown",
   "metadata": {},
   "source": [
    "# Task 1"
   ]
  },
  {
   "cell_type": "code",
   "execution_count": 13,
   "metadata": {
    "collapsed": false
   },
   "outputs": [],
   "source": [
    "def precision(k,y):\n",
    "    return 1/k*np.sum(y[:k])\n",
    "def avg_precision(k,y):\n",
    "    s=0\n",
    "    for i in range(k):\n",
    "        s=s+y[i]*precision(i+1,y)\n",
    "    return s/sum(y[:k])\n",
    "        "
   ]
  },
  {
   "cell_type": "code",
   "execution_count": 2,
   "metadata": {
    "collapsed": true
   },
   "outputs": [],
   "source": [
    "y1=[1, 0, 0, 1]\n",
    "y2=[1, 1, 0, 0]"
   ]
  },
  {
   "cell_type": "code",
   "execution_count": 10,
   "metadata": {
    "collapsed": false
   },
   "outputs": [
    {
     "data": {
      "text/plain": [
       "0.66666666666666663"
      ]
     },
     "execution_count": 10,
     "metadata": {},
     "output_type": "execute_result"
    }
   ],
   "source": [
    "precision(3,y2)"
   ]
  },
  {
   "cell_type": "code",
   "execution_count": 17,
   "metadata": {
    "collapsed": false
   },
   "outputs": [
    {
     "data": {
      "text/plain": [
       "0.25"
      ]
     },
     "execution_count": 17,
     "metadata": {},
     "output_type": "execute_result"
    }
   ],
   "source": [
    "avg_precision(4,y2)-avg_precision(4,y1)"
   ]
  },
  {
   "cell_type": "markdown",
   "metadata": {},
   "source": [
    "** Ответ 1 **\n",
    "\n",
    "0.25"
   ]
  },
  {
   "cell_type": "markdown",
   "metadata": {},
   "source": [
    "# Task 2\n",
    "В чём принципиальное отличие метрики DCG@k от метрики AP@k?"
   ]
  },
  {
   "cell_type": "markdown",
   "metadata": {},
   "source": [
    "** Ответ 2 **\n",
    "\n",
    "Метрика DCG@k может работать с моделями, выдающими вещественные оценки релевантности"
   ]
  },
  {
   "cell_type": "markdown",
   "metadata": {},
   "source": [
    "# Task 3"
   ]
  },
  {
   "cell_type": "markdown",
   "metadata": {},
   "source": [
    "** Ответ **\n",
    "* В списочном подходе учитывается конкретная метрика качества ранжирования\n",
    "* **В поточечном подходе предлагается предсказывать непосредственно оценки релевантности документов без учёта порядка**\n",
    "* **В попарном подходе строится верхняя оценка на количество дефектных пар**\n",
    "* **Один из вариантов списочного подхода — добавление в формулу для градиентного шага множителя, отражающего изменение метрики качества ранжирования при перестановке двух объектов**\n",
    "* В поточечном подходе непосредственно предсказывается оценка релевантности документа\n",
    "* В попарном подходе непосредственно оптимизируется количество пар объектов, неправильно отсортированных алгоритмом"
   ]
  },
  {
   "cell_type": "code",
   "execution_count": null,
   "metadata": {
    "collapsed": true
   },
   "outputs": [],
   "source": []
  }
 ],
 "metadata": {
  "kernelspec": {
   "display_name": "Python [conda root]",
   "language": "python",
   "name": "conda-root-py"
  },
  "language_info": {
   "codemirror_mode": {
    "name": "ipython",
    "version": 3
   },
   "file_extension": ".py",
   "mimetype": "text/x-python",
   "name": "python",
   "nbconvert_exporter": "python",
   "pygments_lexer": "ipython3",
   "version": "3.5.2"
  }
 },
 "nbformat": 4,
 "nbformat_minor": 2
}

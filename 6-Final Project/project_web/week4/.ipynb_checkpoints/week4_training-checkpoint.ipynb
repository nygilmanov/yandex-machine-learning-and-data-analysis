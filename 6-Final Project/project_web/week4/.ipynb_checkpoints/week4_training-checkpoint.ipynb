{
 "cells": [
  {
   "cell_type": "markdown",
   "metadata": {},
   "source": [
    "<center>\n",
    "<img src=\"https://habrastorage.org/web/677/8e1/337/6778e1337c3d4b159d7e99df94227cb2.jpg\"/>\n",
    "## Специализация \"Машинное обучение и анализ данных\"\n",
    "</center>\n",
    "<center>Автор материала: программист-исследователь Mail.ru Group, старший преподаватель Факультета Компьютерных Наук ВШЭ Юрий Кашницкий"
   ]
  },
  {
   "cell_type": "markdown",
   "metadata": {},
   "source": [
    "# <center> Capstone проект №1. Идентификация пользователей по посещенным веб-страницам\n",
    "<img src='http://i.istockimg.com/file_thumbview_approve/21546327/5/stock-illustration-21546327-identification-de-l-utilisateur.jpg'>\n",
    "\n",
    "# <center>Неделя 4.  Сравнение алгоритмов классификации\n",
    "\n",
    "Теперь мы наконец подойдем к обучению моделей классификации, сравним на кросс-валидации несколько алгоритмов, разберемся, какие параметры длины сессии (*session_length* и *window_size*) лучше использовать. Также для выбранного алгоритма построим кривые валидации (как качество классификации зависит от одного из гиперпараметров алгоритма) и кривые обучения (как качество классификации зависит от объема выборки).\n",
    "\n",
    "**План 4 недели:**\n",
    "- Часть 1. Сравнение нескольких алгоритмов на сессиях из 10 сайтов\n",
    "- Часть 2. Выбор параметров – длины сессии и ширины окна\n",
    "- Часть 3. Идентификация  конкретного пользователя и кривые обучения\n",
    " \n",
    "\n",
    "\n",
    "**В этой части проекта Вам могут быть полезны видеозаписи следующих лекций курса \"Обучение на размеченных данных\":**\n",
    "   - [Линейная классификация](https://www.coursera.org/learn/supervised-learning/lecture/jqLcO/linieinaia-klassifikatsiia)\n",
    "   - [Сравнение алгоритмов и выбор гиперпараметров](https://www.coursera.org/learn/supervised-learning/lecture/aF79U/sravnieniie-alghoritmov-i-vybor-ghipierparamietrov)\n",
    "   - [Кросс-валидация. Sklearn.cross_validation](https://www.coursera.org/learn/supervised-learning/lecture/XbHEk/kross-validatsiia-sklearn-cross-validation)\n",
    "   - [Линейные модели. Sklearn.linear_model. Классификация](https://www.coursera.org/learn/supervised-learning/lecture/EBg9t/linieinyie-modieli-sklearn-linear-model-klassifikatsiia)\n",
    "   - и многие другие\n"
   ]
  },
  {
   "cell_type": "code",
   "execution_count": 1,
   "metadata": {
    "collapsed": true
   },
   "outputs": [],
   "source": [
    "from __future__ import division, print_function\n",
    "# отключим всякие предупреждения Anaconda\n",
    "import warnings\n",
    "warnings.filterwarnings('ignore')\n",
    "from time import time\n",
    "import itertools\n",
    "import os\n",
    "import numpy as np\n",
    "import pandas as pd\n",
    "import seaborn as sns\n",
    "%matplotlib inline\n",
    "from matplotlib import pyplot as plt\n",
    "import pickle\n",
    "from scipy.sparse import csr_matrix\n",
    "from sklearn.model_selection import train_test_split, cross_val_score, StratifiedKFold, GridSearchCV\n",
    "from sklearn.metrics import accuracy_score, f1_score\n",
    "from sklearn import preprocessing"
   ]
  },
  {
   "cell_type": "code",
   "execution_count": 2,
   "metadata": {
    "collapsed": true
   },
   "outputs": [],
   "source": [
    "# Поменяйте на свой путь к данным\n",
    "PATH_TO_DATA = '' "
   ]
  },
  {
   "cell_type": "markdown",
   "metadata": {},
   "source": [
    "## Часть 1. Сравнение нескольких алгоритмов на сессиях из 10 сайтов"
   ]
  },
  {
   "cell_type": "markdown",
   "metadata": {},
   "source": [
    "**Загрузим сериализованные ранее объекты *X_sparse_10users* и *y_10users*, соответствующие обучающей выборке для 10 пользователей.**"
   ]
  },
  {
   "cell_type": "code",
   "execution_count": 3,
   "metadata": {},
   "outputs": [],
   "source": [
    "with open(os.path.join(PATH_TO_DATA, \n",
    "         'X_sparse_10users.pkl'), 'rb') as X_sparse_10users_pkl:\n",
    "    X_sparse_10users = pickle.load(X_sparse_10users_pkl)\n",
    "with open(os.path.join(PATH_TO_DATA, \n",
    "                       'y_10users.pkl'), 'rb') as y_10users_pkl:\n",
    "    y_10users = pickle.load(y_10users_pkl)"
   ]
  },
  {
   "cell_type": "markdown",
   "metadata": {},
   "source": [
    "\n",
    "\n",
    "\n",
    "\n",
    "**Здесь более 14 тысяч сессий и почти 5 тысяч уникальных посещенных сайтов.**"
   ]
  },
  {
   "cell_type": "code",
   "execution_count": 4,
   "metadata": {},
   "outputs": [
    {
     "data": {
      "text/plain": [
       "(14061, 4913)"
      ]
     },
     "execution_count": 4,
     "metadata": {},
     "output_type": "execute_result"
    }
   ],
   "source": [
    "X_sparse_10users.shape"
   ]
  },
  {
   "cell_type": "markdown",
   "metadata": {},
   "source": [
    "**Разобьем выборку на 2 части. На одной будем проводить кросс-валидацию, на второй – оценивать модель, обученную после кросс-валидации.**"
   ]
  },
  {
   "cell_type": "code",
   "execution_count": 5,
   "metadata": {
    "collapsed": true
   },
   "outputs": [],
   "source": [
    "X_train, X_valid, y_train, y_valid = train_test_split(X_sparse_10users, y_10users, \n",
    "                                                      test_size=0.3, \n",
    "                                                     random_state=17, stratify=y_10users)"
   ]
  },
  {
   "cell_type": "markdown",
   "metadata": {},
   "source": [
    "**Зададим заранее тип кросс-валидации: 3-кратная, с перемешиванием, параметр random_state=17 – для воспроизводимости.**"
   ]
  },
  {
   "cell_type": "code",
   "execution_count": 6,
   "metadata": {
    "collapsed": true
   },
   "outputs": [],
   "source": [
    "skf = StratifiedKFold(n_splits=3, shuffle=True, random_state=17)"
   ]
  },
  {
   "cell_type": "markdown",
   "metadata": {},
   "source": [
    "**Вспомогательная функция для отрисовки кривых валидации после запуска GridSearchCV (или RandomizedCV).**"
   ]
  },
  {
   "cell_type": "code",
   "execution_count": 7,
   "metadata": {
    "collapsed": true
   },
   "outputs": [],
   "source": [
    "def plot_validation_curves(param_values, grid_cv_results_):\n",
    "    train_mu, train_std = grid_cv_results_['mean_train_score'], grid_cv_results_['std_train_score']\n",
    "    valid_mu, valid_std = grid_cv_results_['mean_test_score'], grid_cv_results_['std_test_score']\n",
    "    train_line = plt.plot(param_values, train_mu, '-', label='train', color='green')\n",
    "    valid_line = plt.plot(param_values, valid_mu, '-', label='test', color='red')\n",
    "    plt.fill_between(param_values, train_mu - train_std, train_mu + train_std, edgecolor='none',\n",
    "                     facecolor=train_line[0].get_color(), alpha=0.2)\n",
    "    plt.fill_between(param_values, valid_mu - valid_std, valid_mu + valid_std, edgecolor='none',\n",
    "                     facecolor=valid_line[0].get_color(), alpha=0.2)\n",
    "    plt.legend()"
   ]
  },
  {
   "cell_type": "code",
   "execution_count": 8,
   "metadata": {
    "collapsed": true
   },
   "outputs": [],
   "source": [
    "def write_answer_to_file(answer, file_address):\n",
    "    with open(file_address, 'w') as out_f:\n",
    "        out_f.write(str(answer))"
   ]
  },
  {
   "cell_type": "markdown",
   "metadata": {},
   "source": [
    "**1. Обучите `KNeighborsClassifier` со 100 ближайшими соседями (остальные параметры оставьте по умолчанию, только `n_jobs`=-1 для распараллеливания) и посмотрите на долю правильных ответов на 3-кратной кросс-валидации (ради воспроизводимости используйте для этого объект `StratifiedKFold` `skf`) по выборке `(X_train, y_train)` и отдельно на выборке `(X_valid, y_valid)`.**"
   ]
  },
  {
   "cell_type": "code",
   "execution_count": 9,
   "metadata": {
    "collapsed": true
   },
   "outputs": [],
   "source": [
    "from sklearn.neighbors import KNeighborsClassifier"
   ]
  },
  {
   "cell_type": "code",
   "execution_count": 10,
   "metadata": {
    "collapsed": true
   },
   "outputs": [],
   "source": [
    "def get_score(clf):\n",
    "    cv_score=cross_val_score(clf,X_train,y_train,cv=skf).mean()\n",
    "    clf.fit(X_train,y_train)\n",
    "    holdout_score=clf.score(X_valid,y_valid)\n",
    "    return cv_score,holdout_score"
   ]
  },
  {
   "cell_type": "code",
   "execution_count": 146,
   "metadata": {},
   "outputs": [
    {
     "data": {
      "text/plain": [
       "(0.56167298405556676, 0.58402465039108797)"
      ]
     },
     "execution_count": 146,
     "metadata": {},
     "output_type": "execute_result"
    }
   ],
   "source": [
    "knn=KNeighborsClassifier(n_jobs=-1,n_neighbors=100)\n",
    "get_score(knn)"
   ]
  },
  {
   "cell_type": "markdown",
   "metadata": {},
   "source": [
    "**Запишите в файл *answer4_1.txt* доли правильных ответов для KNeighborsClassifier на кросс-валидации и отложенной выборке. Округлите каждое до 3 знаков после запятой и запишите в файл через пробел.**"
   ]
  },
  {
   "cell_type": "code",
   "execution_count": 147,
   "metadata": {},
   "outputs": [],
   "source": [
    "write_answer_to_file(str(round(cv_score,3))+\" \"+str(round(holdout_score,3)),\n",
    "                     'answer4_1.txt')"
   ]
  },
  {
   "cell_type": "markdown",
   "metadata": {},
   "source": [
    "**2. Обучите случайный лес (`RandomForestClassifier`) из 100 деревьев (для воспроизводимости `random_state`=17). Посмотрите на OOB-оценку (для этого надо сразу установить `oob_score`=True) и на долю правильных ответов на выборке `(X_valid, y_valid)`. Для распараллеливания задайте `n_jobs`=-1.**"
   ]
  },
  {
   "cell_type": "code",
   "execution_count": 13,
   "metadata": {
    "collapsed": true
   },
   "outputs": [],
   "source": [
    "from sklearn.ensemble import RandomForestClassifier"
   ]
  },
  {
   "cell_type": "code",
   "execution_count": 14,
   "metadata": {},
   "outputs": [
    {
     "data": {
      "text/plain": [
       "(0.72028043080674664, 0.73003081298885997)"
      ]
     },
     "execution_count": 14,
     "metadata": {},
     "output_type": "execute_result"
    }
   ],
   "source": [
    "forest = RandomForestClassifier(n_estimators=100,random_state=17,oob_score=True,n_jobs=-1)\n",
    "forest.fit(X_train,y_train)\n",
    "oob_score=forest.oob_score_\n",
    "holdout_score=forest.score(X_valid,y_valid)\n",
    "oob_score,holdout_score"
   ]
  },
  {
   "cell_type": "markdown",
   "metadata": {},
   "source": [
    "**Запишите в файл *answer4_2.txt* доли правильных ответов для `RandomForestClassifier` при Out-of-Bag оценке на и отложенной выборке. Округлите каждое до 3 знаков после запятой и запишите в файл через пробел.**"
   ]
  },
  {
   "cell_type": "code",
   "execution_count": 15,
   "metadata": {
    "collapsed": true
   },
   "outputs": [],
   "source": [
    "write_answer_to_file(str(round(oob_score,3))+\" \"+str(round(holdout_score,3)),\n",
    "                     'answer4_2.txt')"
   ]
  },
  {
   "cell_type": "code",
   "execution_count": 16,
   "metadata": {},
   "outputs": [
    {
     "name": "stderr",
     "output_type": "stream",
     "text": [
      "\"cat\" ­Ґ пў«пҐвбп ў­гваҐ­­Ґ© Ё«Ё ў­Ґи­Ґ©\n",
      "Є®¬ ­¤®©, ЁбЇ®«­пҐ¬®© Їа®Ја ¬¬®© Ё«Ё Ї ЄҐв­л¬ д ©«®¬.\n"
     ]
    }
   ],
   "source": [
    "!cat answer4_2.txt"
   ]
  },
  {
   "cell_type": "markdown",
   "metadata": {},
   "source": [
    "**3. Обучите логистическую регрессию (`LogisticRegression`) с параметром `C` по умолчанию и `random_state`=17 (для воспроизводимости). Посмотрите на долю правильных ответов на кросс-валидации (используйте объект `skf`, созданный ранее) и на выборке `(X_valid, y_valid)`. Для распараллеливания задайте `n_jobs=-1`.**"
   ]
  },
  {
   "cell_type": "code",
   "execution_count": 17,
   "metadata": {
    "collapsed": true
   },
   "outputs": [],
   "source": [
    "from sklearn.linear_model import LogisticRegression, LogisticRegressionCV"
   ]
  },
  {
   "cell_type": "code",
   "execution_count": 18,
   "metadata": {},
   "outputs": [
    {
     "data": {
      "text/plain": [
       "(0.76254867130480253, 0.78170182507703245)"
      ]
     },
     "execution_count": 18,
     "metadata": {},
     "output_type": "execute_result"
    }
   ],
   "source": [
    "logit = LogisticRegression(random_state=17)\n",
    "get_score(logit)"
   ]
  },
  {
   "cell_type": "markdown",
   "metadata": {},
   "source": [
    "**Почитайте документацию к [LogisticRegressionCV](http://scikit-learn.org/stable/modules/generated/sklearn.linear_model.LogisticRegressionCV.html). Логистическая регрессия хорошо изучена, и для нее существуют алгоритмы быстрого подбора параметра регуляризации `C` (быстрее, чем с `GridSearchCV`).**\n",
    "\n",
    "**С помощью `LogisticRegressionCV` подберите параметр `C` для `LogisticRegression` сначала в широком диапазоне: 10 значений от 1e-4 до 1e2, используйте `logspace` из `NumPy`. Укажите у `LogisticRegressionCV` параметры `multi_class`='multinomial' и `random_state`=17. Для кросс-валидации используйте объект `skf`, созданный ранее. Для распараллеливания задайте `n_jobs=-1`.**\n",
    "\n",
    "**Нарисуйте кривые валидации по параметру `C`.**"
   ]
  },
  {
   "cell_type": "code",
   "execution_count": 19,
   "metadata": {},
   "outputs": [
    {
     "name": "stdout",
     "output_type": "stream",
     "text": [
      "Wall time: 16.3 s\n"
     ]
    }
   ],
   "source": [
    "%%time\n",
    "logit_c_values1 = np.logspace(-4, 2, 10)\n",
    "\n",
    "logit_grid_searcher1 = LogisticRegressionCV(Cs=logit_c_values1,cv=skf,n_jobs=-1,multi_class='multinomial',random_state=17)\n",
    "logit_grid_searcher1.fit(X_train, y_train)"
   ]
  },
  {
   "cell_type": "code",
   "execution_count": 244,
   "metadata": {},
   "outputs": [],
   "source": [
    "def score_to_array(score):\n",
    "    dictlist = list()\n",
    "    for key, value in score.items():\n",
    "        temp = [value]\n",
    "        dictlist.append(temp)\n",
    "    res=np.array([])\n",
    "    for i in dictlist:\n",
    "        item=np.mean(np.array(i),axis=1)\n",
    "        res=np.append(res,item)\n",
    "    res=res.reshape([10,10])\n",
    "    res=np.mean(res,axis=1)\n",
    "    return res"
   ]
  },
  {
   "cell_type": "code",
   "execution_count": 254,
   "metadata": {
    "collapsed": true
   },
   "outputs": [],
   "source": [
    "scores=pd.DataFrame(columns=[i for i in range(10)])\n",
    "scores\n",
    "for i in logit_grid_searcher1.scores_.values():\n",
    "    scores.loc[len(scores)]=i[0]\n",
    "    scores.loc[len(scores)]=i[1]\n",
    "    scores.loc[len(scores)]=i[2]\n",
    "scores_by_c=scores.mean()"
   ]
  },
  {
   "cell_type": "code",
   "execution_count": 255,
   "metadata": {},
   "outputs": [
    {
     "data": {
      "image/png": "[encoded data removed]",
      "text/plain": [
       "<matplotlib.figure.Figure at 0x2699b3541d0>"
      ]
     },
     "metadata": {},
     "output_type": "display_data"
    }
   ],
   "source": [
    "score=score_to_array(logit_grid_searcher1.scores_)\n",
    "plt.plot(logit_c_values1,scores_by_c)\n",
    "plt.show()"
   ]
  },
  {
   "cell_type": "markdown",
   "metadata": {},
   "source": [
    "Средние значения доли правильных ответов на кросс-валидации по каждому из 10 параметров `C`."
   ]
  },
  {
   "cell_type": "code",
   "execution_count": 256,
   "metadata": {},
   "outputs": [
    {
     "data": {
      "text/plain": [
       "0    0.316799\n",
       "1    0.473586\n",
       "2    0.554767\n",
       "3    0.648551\n",
       "4    0.715507\n",
       "5    0.750054\n",
       "6    0.761025\n",
       "7    0.762447\n",
       "8    0.755029\n",
       "9    0.745886\n",
       "dtype: float64"
      ]
     },
     "execution_count": 256,
     "metadata": {},
     "output_type": "execute_result"
    }
   ],
   "source": [
    "scores_by_c"
   ]
  },
  {
   "cell_type": "markdown",
   "metadata": {},
   "source": [
    "Выведите лучшее значение доли правильных ответов на кросс-валидации и соответствующее значение `C`."
   ]
  },
  {
   "cell_type": "code",
   "execution_count": 21,
   "metadata": {},
   "outputs": [
    {
     "data": {
      "text/plain": [
       "(4.6415888336127722, 0.76244679760874845)"
      ]
     },
     "execution_count": 21,
     "metadata": {},
     "output_type": "execute_result"
    }
   ],
   "source": [
    "logit_grid_searcher1.Cs_[scores.mean().argmax()],scores.mean().max()"
   ]
  },
  {
   "cell_type": "markdown",
   "metadata": {},
   "source": [
    "Нарисуйте график зависимости доли правильных ответов на кросс-валидации от `C`."
   ]
  },
  {
   "cell_type": "code",
   "execution_count": 22,
   "metadata": {},
   "outputs": [
    {
     "data": {
      "image/png": "[encoded data removed]",
      "text/plain": [
       "<matplotlib.figure.Figure at 0x2699a3a1ac8>"
      ]
     },
     "metadata": {},
     "output_type": "display_data"
    }
   ],
   "source": [
    "plt.plot(logit_c_values1, scores.mean());"
   ]
  },
  {
   "cell_type": "markdown",
   "metadata": {},
   "source": [
    "**Теперь то же самое, только значения параметра `C` перебирайте в диапазоне `np.linspace`(3, 7, 20). Опять нарисуйте кривые валидации, определите максимальное значение доли правильных ответов на кросс-валидации.**"
   ]
  },
  {
   "cell_type": "code",
   "execution_count": 23,
   "metadata": {},
   "outputs": [
    {
     "name": "stdout",
     "output_type": "stream",
     "text": [
      "Wall time: 46.7 s\n"
     ]
    }
   ],
   "source": [
    "%%time\n",
    "logit_c_values2 = np.linspace(3, 7, 20)\n",
    "\n",
    "logit_grid_searcher2 =  LogisticRegressionCV(Cs=logit_c_values2,cv=skf,n_jobs=-1,multi_class='multinomial',random_state=17)\n",
    "logit_grid_searcher2.fit(X_train, y_train)"
   ]
  },
  {
   "cell_type": "code",
   "execution_count": 73,
   "metadata": {},
   "outputs": [
    {
     "data": {
      "text/plain": [
       "{31: array([[ 0.76438356,  0.76438356,  0.76407915,  0.76468798,  0.76499239,\n",
       "          0.76377473,  0.76468798,  0.76407915,  0.76407915,  0.76347032,\n",
       "          0.76316591,  0.76133942,  0.76103501,  0.76073059,  0.76012177,\n",
       "          0.75920852,  0.76012177,  0.75981735,  0.76042618,  0.76012177],\n",
       "        [ 0.75846295,  0.76120769,  0.76151266,  0.76151266,  0.76120769,\n",
       "          0.76120769,  0.76120769,  0.76151266,  0.7621226 ,  0.76242757,\n",
       "          0.76242757,  0.76242757,  0.76181763,  0.76181763,  0.76120769,\n",
       "          0.76090271,  0.76090271,  0.76090271,  0.76059774,  0.76059774],\n",
       "        [ 0.76540574,  0.76296522,  0.76388041,  0.76296522,  0.76296522,\n",
       "          0.76266016,  0.76266016,  0.76266016,  0.76357535,  0.76296522,\n",
       "          0.76235509,  0.76174497,  0.76174497,  0.76174497,  0.76174497,\n",
       "          0.76082977,  0.76021965,  0.75960952,  0.75960952,  0.75930445]]),\n",
       " 33: array([[ 0.76438356,  0.76438356,  0.76407915,  0.76468798,  0.76499239,\n",
       "          0.76377473,  0.76468798,  0.76407915,  0.76407915,  0.76347032,\n",
       "          0.76316591,  0.76133942,  0.76103501,  0.76073059,  0.76012177,\n",
       "          0.75920852,  0.76012177,  0.75981735,  0.76042618,  0.76012177],\n",
       "        [ 0.75846295,  0.76120769,  0.76151266,  0.76151266,  0.76120769,\n",
       "          0.76120769,  0.76120769,  0.76151266,  0.7621226 ,  0.76242757,\n",
       "          0.76242757,  0.76242757,  0.76181763,  0.76181763,  0.76120769,\n",
       "          0.76090271,  0.76090271,  0.76090271,  0.76059774,  0.76059774],\n",
       "        [ 0.76540574,  0.76296522,  0.76388041,  0.76296522,  0.76296522,\n",
       "          0.76266016,  0.76266016,  0.76266016,  0.76357535,  0.76296522,\n",
       "          0.76235509,  0.76174497,  0.76174497,  0.76174497,  0.76174497,\n",
       "          0.76082977,  0.76021965,  0.75960952,  0.75960952,  0.75930445]]),\n",
       " 39: array([[ 0.76438356,  0.76438356,  0.76407915,  0.76468798,  0.76499239,\n",
       "          0.76377473,  0.76468798,  0.76407915,  0.76407915,  0.76347032,\n",
       "          0.76316591,  0.76133942,  0.76103501,  0.76073059,  0.76012177,\n",
       "          0.75920852,  0.76012177,  0.75981735,  0.76042618,  0.76012177],\n",
       "        [ 0.75846295,  0.76120769,  0.76151266,  0.76151266,  0.76120769,\n",
       "          0.76120769,  0.76120769,  0.76151266,  0.7621226 ,  0.76242757,\n",
       "          0.76242757,  0.76242757,  0.76181763,  0.76181763,  0.76120769,\n",
       "          0.76090271,  0.76090271,  0.76090271,  0.76059774,  0.76059774],\n",
       "        [ 0.76540574,  0.76296522,  0.76388041,  0.76296522,  0.76296522,\n",
       "          0.76266016,  0.76266016,  0.76266016,  0.76357535,  0.76296522,\n",
       "          0.76235509,  0.76174497,  0.76174497,  0.76174497,  0.76174497,\n",
       "          0.76082977,  0.76021965,  0.75960952,  0.75960952,  0.75930445]]),\n",
       " 50: array([[ 0.76438356,  0.76438356,  0.76407915,  0.76468798,  0.76499239,\n",
       "          0.76377473,  0.76468798,  0.76407915,  0.76407915,  0.76347032,\n",
       "          0.76316591,  0.76133942,  0.76103501,  0.76073059,  0.76012177,\n",
       "          0.75920852,  0.76012177,  0.75981735,  0.76042618,  0.76012177],\n",
       "        [ 0.75846295,  0.76120769,  0.76151266,  0.76151266,  0.76120769,\n",
       "          0.76120769,  0.76120769,  0.76151266,  0.7621226 ,  0.76242757,\n",
       "          0.76242757,  0.76242757,  0.76181763,  0.76181763,  0.76120769,\n",
       "          0.76090271,  0.76090271,  0.76090271,  0.76059774,  0.76059774],\n",
       "        [ 0.76540574,  0.76296522,  0.76388041,  0.76296522,  0.76296522,\n",
       "          0.76266016,  0.76266016,  0.76266016,  0.76357535,  0.76296522,\n",
       "          0.76235509,  0.76174497,  0.76174497,  0.76174497,  0.76174497,\n",
       "          0.76082977,  0.76021965,  0.75960952,  0.75960952,  0.75930445]]),\n",
       " 100: array([[ 0.76438356,  0.76438356,  0.76407915,  0.76468798,  0.76499239,\n",
       "          0.76377473,  0.76468798,  0.76407915,  0.76407915,  0.76347032,\n",
       "          0.76316591,  0.76133942,  0.76103501,  0.76073059,  0.76012177,\n",
       "          0.75920852,  0.76012177,  0.75981735,  0.76042618,  0.76012177],\n",
       "        [ 0.75846295,  0.76120769,  0.76151266,  0.76151266,  0.76120769,\n",
       "          0.76120769,  0.76120769,  0.76151266,  0.7621226 ,  0.76242757,\n",
       "          0.76242757,  0.76242757,  0.76181763,  0.76181763,  0.76120769,\n",
       "          0.76090271,  0.76090271,  0.76090271,  0.76059774,  0.76059774],\n",
       "        [ 0.76540574,  0.76296522,  0.76388041,  0.76296522,  0.76296522,\n",
       "          0.76266016,  0.76266016,  0.76266016,  0.76357535,  0.76296522,\n",
       "          0.76235509,  0.76174497,  0.76174497,  0.76174497,  0.76174497,\n",
       "          0.76082977,  0.76021965,  0.75960952,  0.75960952,  0.75930445]]),\n",
       " 127: array([[ 0.76438356,  0.76438356,  0.76407915,  0.76468798,  0.76499239,\n",
       "          0.76377473,  0.76468798,  0.76407915,  0.76407915,  0.76347032,\n",
       "          0.76316591,  0.76133942,  0.76103501,  0.76073059,  0.76012177,\n",
       "          0.75920852,  0.76012177,  0.75981735,  0.76042618,  0.76012177],\n",
       "        [ 0.75846295,  0.76120769,  0.76151266,  0.76151266,  0.76120769,\n",
       "          0.76120769,  0.76120769,  0.76151266,  0.7621226 ,  0.76242757,\n",
       "          0.76242757,  0.76242757,  0.76181763,  0.76181763,  0.76120769,\n",
       "          0.76090271,  0.76090271,  0.76090271,  0.76059774,  0.76059774],\n",
       "        [ 0.76540574,  0.76296522,  0.76388041,  0.76296522,  0.76296522,\n",
       "          0.76266016,  0.76266016,  0.76266016,  0.76357535,  0.76296522,\n",
       "          0.76235509,  0.76174497,  0.76174497,  0.76174497,  0.76174497,\n",
       "          0.76082977,  0.76021965,  0.75960952,  0.75960952,  0.75930445]]),\n",
       " 128: array([[ 0.76438356,  0.76438356,  0.76407915,  0.76468798,  0.76499239,\n",
       "          0.76377473,  0.76468798,  0.76407915,  0.76407915,  0.76347032,\n",
       "          0.76316591,  0.76133942,  0.76103501,  0.76073059,  0.76012177,\n",
       "          0.75920852,  0.76012177,  0.75981735,  0.76042618,  0.76012177],\n",
       "        [ 0.75846295,  0.76120769,  0.76151266,  0.76151266,  0.76120769,\n",
       "          0.76120769,  0.76120769,  0.76151266,  0.7621226 ,  0.76242757,\n",
       "          0.76242757,  0.76242757,  0.76181763,  0.76181763,  0.76120769,\n",
       "          0.76090271,  0.76090271,  0.76090271,  0.76059774,  0.76059774],\n",
       "        [ 0.76540574,  0.76296522,  0.76388041,  0.76296522,  0.76296522,\n",
       "          0.76266016,  0.76266016,  0.76266016,  0.76357535,  0.76296522,\n",
       "          0.76235509,  0.76174497,  0.76174497,  0.76174497,  0.76174497,\n",
       "          0.76082977,  0.76021965,  0.75960952,  0.75960952,  0.75930445]]),\n",
       " 207: array([[ 0.76438356,  0.76438356,  0.76407915,  0.76468798,  0.76499239,\n",
       "          0.76377473,  0.76468798,  0.76407915,  0.76407915,  0.76347032,\n",
       "          0.76316591,  0.76133942,  0.76103501,  0.76073059,  0.76012177,\n",
       "          0.75920852,  0.76012177,  0.75981735,  0.76042618,  0.76012177],\n",
       "        [ 0.75846295,  0.76120769,  0.76151266,  0.76151266,  0.76120769,\n",
       "          0.76120769,  0.76120769,  0.76151266,  0.7621226 ,  0.76242757,\n",
       "          0.76242757,  0.76242757,  0.76181763,  0.76181763,  0.76120769,\n",
       "          0.76090271,  0.76090271,  0.76090271,  0.76059774,  0.76059774],\n",
       "        [ 0.76540574,  0.76296522,  0.76388041,  0.76296522,  0.76296522,\n",
       "          0.76266016,  0.76266016,  0.76266016,  0.76357535,  0.76296522,\n",
       "          0.76235509,  0.76174497,  0.76174497,  0.76174497,  0.76174497,\n",
       "          0.76082977,  0.76021965,  0.75960952,  0.75960952,  0.75930445]]),\n",
       " 237: array([[ 0.76438356,  0.76438356,  0.76407915,  0.76468798,  0.76499239,\n",
       "          0.76377473,  0.76468798,  0.76407915,  0.76407915,  0.76347032,\n",
       "          0.76316591,  0.76133942,  0.76103501,  0.76073059,  0.76012177,\n",
       "          0.75920852,  0.76012177,  0.75981735,  0.76042618,  0.76012177],\n",
       "        [ 0.75846295,  0.76120769,  0.76151266,  0.76151266,  0.76120769,\n",
       "          0.76120769,  0.76120769,  0.76151266,  0.7621226 ,  0.76242757,\n",
       "          0.76242757,  0.76242757,  0.76181763,  0.76181763,  0.76120769,\n",
       "          0.76090271,  0.76090271,  0.76090271,  0.76059774,  0.76059774],\n",
       "        [ 0.76540574,  0.76296522,  0.76388041,  0.76296522,  0.76296522,\n",
       "          0.76266016,  0.76266016,  0.76266016,  0.76357535,  0.76296522,\n",
       "          0.76235509,  0.76174497,  0.76174497,  0.76174497,  0.76174497,\n",
       "          0.76082977,  0.76021965,  0.75960952,  0.75960952,  0.75930445]]),\n",
       " 241: array([[ 0.76438356,  0.76438356,  0.76407915,  0.76468798,  0.76499239,\n",
       "          0.76377473,  0.76468798,  0.76407915,  0.76407915,  0.76347032,\n",
       "          0.76316591,  0.76133942,  0.76103501,  0.76073059,  0.76012177,\n",
       "          0.75920852,  0.76012177,  0.75981735,  0.76042618,  0.76012177],\n",
       "        [ 0.75846295,  0.76120769,  0.76151266,  0.76151266,  0.76120769,\n",
       "          0.76120769,  0.76120769,  0.76151266,  0.7621226 ,  0.76242757,\n",
       "          0.76242757,  0.76242757,  0.76181763,  0.76181763,  0.76120769,\n",
       "          0.76090271,  0.76090271,  0.76090271,  0.76059774,  0.76059774],\n",
       "        [ 0.76540574,  0.76296522,  0.76388041,  0.76296522,  0.76296522,\n",
       "          0.76266016,  0.76266016,  0.76266016,  0.76357535,  0.76296522,\n",
       "          0.76235509,  0.76174497,  0.76174497,  0.76174497,  0.76174497,\n",
       "          0.76082977,  0.76021965,  0.75960952,  0.75960952,  0.75930445]])}"
      ]
     },
     "execution_count": 73,
     "metadata": {},
     "output_type": "execute_result"
    }
   ],
   "source": [
    "logit_grid_searcher2.scores_"
   ]
  },
  {
   "cell_type": "markdown",
   "metadata": {},
   "source": [
    "Средние значения доли правильных ответов на кросс-валидации по каждому из 10 параметров `C`."
   ]
  },
  {
   "cell_type": "code",
   "execution_count": 25,
   "metadata": {},
   "outputs": [
    {
     "data": {
      "text/plain": [
       "0     0.762751\n",
       "1     0.762852\n",
       "2     0.763157\n",
       "3     0.763055\n",
       "4     0.763055\n",
       "5     0.762548\n",
       "6     0.762852\n",
       "7     0.762751\n",
       "8     0.763259\n",
       "9     0.762954\n",
       "10    0.762650\n",
       "11    0.761837\n",
       "12    0.761533\n",
       "13    0.761431\n",
       "14    0.761025\n",
       "15    0.760314\n",
       "16    0.760415\n",
       "17    0.760110\n",
       "18    0.760211\n",
       "19    0.760008\n",
       "dtype: float64"
      ]
     },
     "execution_count": 25,
     "metadata": {},
     "output_type": "execute_result"
    }
   ],
   "source": [
    "scores=pd.DataFrame(columns=[i for i in range(len(logit_c_values2))])\n",
    "scores\n",
    "for i in logit_grid_searcher2.scores_.values():\n",
    "    scores.loc[len(scores)]=i[0]\n",
    "    scores.loc[len(scores)]=i[1]\n",
    "    scores.loc[len(scores)]=i[2]\n",
    "logit_mean_cv_scores2=scores.mean()\n",
    "logit_mean_cv_scores2"
   ]
  },
  {
   "cell_type": "markdown",
   "metadata": {},
   "source": [
    "Выведите лучшее значение доли правильных ответов на кросс-валидации и соответствующее значение `C`."
   ]
  },
  {
   "cell_type": "code",
   "execution_count": 30,
   "metadata": {},
   "outputs": [
    {
     "data": {
      "text/plain": [
       "(4.6842105263157894, 0.76325903227254022)"
      ]
     },
     "execution_count": 30,
     "metadata": {},
     "output_type": "execute_result"
    }
   ],
   "source": [
    "logit_grid_searcher2.Cs_[logit_mean_cv_scores2.argmax()],logit_mean_cv_scores2.max()"
   ]
  },
  {
   "cell_type": "markdown",
   "metadata": {},
   "source": [
    "Нарисуйте график зависимости доли правильных ответов на кросс-валидации от `C`."
   ]
  },
  {
   "cell_type": "code",
   "execution_count": 31,
   "metadata": {},
   "outputs": [
    {
     "data": {
      "image/png": "[encoded data removed]",
      "text/plain": [
       "<matplotlib.figure.Figure at 0x2699b5cfba8>"
      ]
     },
     "metadata": {},
     "output_type": "display_data"
    }
   ],
   "source": [
    "plt.plot(logit_c_values2, logit_mean_cv_scores2);"
   ]
  },
  {
   "cell_type": "markdown",
   "metadata": {},
   "source": [
    "Выведите долю правильных ответов на выборке `(X_valid, y_valid)` для логистической регрессии с лучшим найденным значением `C`."
   ]
  },
  {
   "cell_type": "code",
   "execution_count": 261,
   "metadata": {},
   "outputs": [
    {
     "data": {
      "text/plain": [
       "0.78170182507703245"
      ]
     },
     "execution_count": 261,
     "metadata": {},
     "output_type": "execute_result"
    }
   ],
   "source": [
    "logit.score(X_valid, y_valid)"
   ]
  },
  {
   "cell_type": "code",
   "execution_count": 33,
   "metadata": {},
   "outputs": [],
   "source": [
    "cv_score,holdout_score=get_score(logit)"
   ]
  },
  {
   "cell_type": "markdown",
   "metadata": {},
   "source": [
    "**Запишите в файл *answer4_3.txt* доли правильных ответов для `logit_grid_searcher2` на кросс-валидации для лучшего значения параметра `C` и на отложенной выборке. Округлите каждое до 3 знаков после запятой и запишите в файл через пробел.**"
   ]
  },
  {
   "cell_type": "code",
   "execution_count": 34,
   "metadata": {},
   "outputs": [],
   "source": [
    "write_answer_to_file(str(round(cv_score,3))+\" \"+str(round(holdout_score,3)),\n",
    "                     'answer4_3.txt')"
   ]
  },
  {
   "cell_type": "markdown",
   "metadata": {},
   "source": [
    "**4. Обучите линейный SVM (`LinearSVC`) с параметром `C`=1 и `random_state`=17 (для воспроизводимости). Посмотрите на долю правильных ответов на кросс-валидации (используйте объект `skf`, созданный ранее) и на выборке `(X_valid, y_valid)`.**"
   ]
  },
  {
   "cell_type": "code",
   "execution_count": 35,
   "metadata": {
    "collapsed": true
   },
   "outputs": [],
   "source": [
    "from sklearn.svm import LinearSVC"
   ]
  },
  {
   "cell_type": "code",
   "execution_count": 36,
   "metadata": {},
   "outputs": [
    {
     "data": {
      "text/plain": [
       "(0.75655369169304965, 0.77696136525242954)"
      ]
     },
     "execution_count": 36,
     "metadata": {},
     "output_type": "execute_result"
    }
   ],
   "source": [
    "svm = LinearSVC(C=1,random_state=17)\n",
    "get_score(svm)"
   ]
  },
  {
   "cell_type": "markdown",
   "metadata": {},
   "source": [
    "**С помощью `GridSearchCV` подберите параметр `C` для SVM сначала в широком диапазоне: 10 значений от 1e-4 до 1e4, используйте `linspace` из NumPy. Нарисуйте кривые валидации.**"
   ]
  },
  {
   "cell_type": "code",
   "execution_count": 37,
   "metadata": {},
   "outputs": [
    {
     "name": "stdout",
     "output_type": "stream",
     "text": [
      "Wall time: 59.3 s\n"
     ]
    }
   ],
   "source": [
    "%%time\n",
    "svm_params1 = {'C': np.linspace(1e-4, 1e4, 10)}\n",
    "\n",
    "svm_grid_searcher1 = GridSearchCV (svm,svm_params1,cv=skf)\n",
    "svm_grid_searcher1.fit(X_train, y_train)"
   ]
  },
  {
   "cell_type": "markdown",
   "metadata": {},
   "source": [
    "Выведите лучшее значение доли правильных ответов на кросс-валидации и соответствующее значение `C`."
   ]
  },
  {
   "cell_type": "code",
   "execution_count": 38,
   "metadata": {},
   "outputs": [
    {
     "data": {
      "text/plain": [
       "({'C': 1111.1112000000001}, 0.68908758382442592)"
      ]
     },
     "execution_count": 38,
     "metadata": {},
     "output_type": "execute_result"
    }
   ],
   "source": [
    "svm_grid_searcher1.best_params_,svm_grid_searcher1.best_score_"
   ]
  },
  {
   "cell_type": "markdown",
   "metadata": {},
   "source": [
    "Нарисуйте график зависимости доли правильных ответов на кросс-валидации от `C`."
   ]
  },
  {
   "cell_type": "code",
   "execution_count": 39,
   "metadata": {},
   "outputs": [
    {
     "data": {
      "image/png": "[encoded data removed]",
      "text/plain": [
       "<matplotlib.figure.Figure at 0x2699b3602b0>"
      ]
     },
     "metadata": {},
     "output_type": "display_data"
    }
   ],
   "source": [
    "plot_validation_curves(svm_params1['C'], svm_grid_searcher1.cv_results_)"
   ]
  },
  {
   "cell_type": "markdown",
   "metadata": {},
   "source": [
    "**Но мы помним, что с параметром регуляризации по умолчанию (С=1) на кросс-валидации доля правильных ответов выше. Это тот случай (не редкий), когда можно ошибиться и перебирать параметры не в том диапазоне (причина в том, что мы взяли равномерную сетку на большом интервале и упустили действительно хороший интервал значений `C`). Здесь намного осмысленней подбирать `C` в районе 1, к тому же, так модель быстрее обучается, чем при больших `C`. **\n",
    "\n",
    "**С помощью `GridSearchCV` подберите параметр `C` для SVM в диапазоне (1e-3, 1), 30 значений, используйте `linspace` из NumPy. Нарисуйте кривые валидации.**"
   ]
  },
  {
   "cell_type": "code",
   "execution_count": 40,
   "metadata": {},
   "outputs": [
    {
     "name": "stdout",
     "output_type": "stream",
     "text": [
      "Wall time: 1min 45s\n"
     ]
    }
   ],
   "source": [
    "%%time\n",
    "svm_params2 = {'C': np.linspace(1e-3, 1, 30)}\n",
    "\n",
    "svm_grid_searcher2 = GridSearchCV (svm,svm_params2,cv=skf)\n",
    "svm_grid_searcher2.fit(X_train, y_train)"
   ]
  },
  {
   "cell_type": "markdown",
   "metadata": {},
   "source": [
    "Выведите лучшее значение доли правильных ответов на кросс-валидации и соответствующее значение `C`."
   ]
  },
  {
   "cell_type": "code",
   "execution_count": 41,
   "metadata": {},
   "outputs": [
    {
     "data": {
      "text/plain": [
       "({'C': 0.24213793103448275}, 0.76498679130258074)"
      ]
     },
     "execution_count": 41,
     "metadata": {},
     "output_type": "execute_result"
    }
   ],
   "source": [
    "svm_grid_searcher2.best_params_,svm_grid_searcher2.best_score_"
   ]
  },
  {
   "cell_type": "markdown",
   "metadata": {},
   "source": [
    "Нарисуйте график зависимости доли правильных ответов на кросс-валидации от С."
   ]
  },
  {
   "cell_type": "code",
   "execution_count": 42,
   "metadata": {},
   "outputs": [
    {
     "data": {
      "image/png": "[encoded data removed]",
      "text/plain": [
       "<matplotlib.figure.Figure at 0x2699b3d2b38>"
      ]
     },
     "metadata": {},
     "output_type": "display_data"
    }
   ],
   "source": [
    "plot_validation_curves(svm_params2['C'], svm_grid_searcher2.cv_results_)"
   ]
  },
  {
   "cell_type": "markdown",
   "metadata": {},
   "source": [
    "Выведите долю правильных ответов на выборке `(X_valid, y_valid)` для `LinearSVC` с лучшим найденным значением `C`."
   ]
  },
  {
   "cell_type": "code",
   "execution_count": 43,
   "metadata": {},
   "outputs": [
    {
     "data": {
      "text/plain": [
       "0.78359800900687371"
      ]
     },
     "execution_count": 43,
     "metadata": {},
     "output_type": "execute_result"
    }
   ],
   "source": [
    "y_pred=svm_grid_searcher2.predict(X_valid)\n",
    "svm_cv_acc = accuracy_score(y_valid,y_pred)\n",
    "svm_cv_acc"
   ]
  },
  {
   "cell_type": "code",
   "execution_count": 44,
   "metadata": {},
   "outputs": [],
   "source": [
    "cv_score,holdout_score=get_score(svm_grid_searcher2)"
   ]
  },
  {
   "cell_type": "markdown",
   "metadata": {},
   "source": [
    "**Запишите в файл *answer4_4.txt* доли правильных ответов для svm_grid_searcher2 на кросс-валидации для лучшего значения параметра С и на отложенной выборке. Округлите каждое до 3 знаков после запятой и запишите в файл через пробел.**"
   ]
  },
  {
   "cell_type": "code",
   "execution_count": 45,
   "metadata": {
    "collapsed": true
   },
   "outputs": [],
   "source": [
    "write_answer_to_file(str(round(cv_score,3))+\" \"+str(round(holdout_score,3)),\n",
    "                     'answer4_4.txt')"
   ]
  },
  {
   "cell_type": "markdown",
   "metadata": {},
   "source": [
    "## Часть 2. Выбор параметров – длины сессии и ширины окна"
   ]
  },
  {
   "cell_type": "markdown",
   "metadata": {},
   "source": [
    "**Возьмем `LinearSVC`, показавший лучшее качество на кросс-валидации в 1 части, и проверим его работу еще на 8 выборках для 10 пользователей (с разными сочетаниями параметров *session_length* и *window_size*). Поскольку тут уже вычислений побольше, мы не будем каждый раз заново подбирать параметр регуляризации `C`.**\n",
    "\n",
    "**Определите функцию `model_assessment`, ее документация описана ниже. Обратите внимание на все детали. Например, на то, что разбиение  выборки с `train_test_split` должно быть стратифицированным. Не теряйте нигде `random_state`.**"
   ]
  },
  {
   "cell_type": "code",
   "execution_count": 46,
   "metadata": {
    "collapsed": true
   },
   "outputs": [],
   "source": [
    "def model_assessment(estimator, path_to_X_pickle, path_to_y_pickle, cv, random_state=17, test_size=0.3):\n",
    "    '''\n",
    "    Estimates CV-accuracy for (1 - test_size) share of (X_sparse, y) \n",
    "    loaded from path_to_X_pickle and path_to_y_pickle and holdout accuracy for (test_size) share of (X_sparse, y).\n",
    "    The split is made with stratified train_test_split with params random_state and test_size.\n",
    "    \n",
    "    :param estimator – Scikit-learn estimator (classifier or regressor)\n",
    "    :param path_to_X_pickle – path to pickled sparse X (instances and their features)\n",
    "    :param path_to_y_pickle – path to pickled y (responses)\n",
    "    :param cv – cross-validation as in cross_val_score (use StratifiedKFold here)\n",
    "    :param random_state –  for train_test_split\n",
    "    :param test_size –  for train_test_split\n",
    "    \n",
    "    :returns mean CV-accuracy for (X_train, y_train) and accuracy for (X_valid, y_valid) where (X_train, y_train)\n",
    "    and (X_valid, y_valid) are (1 - test_size) and (testsize) shares of (X_sparse, y).\n",
    "    '''\n",
    "    \n",
    "    with open(path_to_X_pickle, 'rb') as X_sparse_pkl:\n",
    "        X_sparse = pickle.load(X_sparse_pkl)\n",
    "    with open(path_to_y_pickle, 'rb') as y_pkl:\n",
    "        y_users = pickle.load(y_pkl)\n",
    "    lab_enc = preprocessing.LabelEncoder()\n",
    "    y_users = lab_enc.fit_transform(y_users)\n",
    "    X_train, X_valid, y_train, y_valid = train_test_split(X_sparse, y_users, \n",
    "                                                      test_size=test_size, \n",
    "                                                     random_state=random_state, stratify=y_users)\n",
    "    y_users=list(map(int,y_users))\n",
    "    cv_score=cross_val_score(estimator,X_train,y_train,cv=cv).mean()\n",
    "    estimator.fit(X_train,y_train)\n",
    "    holdout_score=estimator.score(X_valid,y_valid)\n",
    "    return cv_score,holdout_score"
   ]
  },
  {
   "cell_type": "markdown",
   "metadata": {},
   "source": [
    "**Убедитесь, что функция работает.**"
   ]
  },
  {
   "cell_type": "code",
   "execution_count": 47,
   "metadata": {},
   "outputs": [
    {
     "data": {
      "text/plain": [
       "(0.76498658317429324, 0.78359800900687371)"
      ]
     },
     "execution_count": 47,
     "metadata": {},
     "output_type": "execute_result"
    }
   ],
   "source": [
    "model_assessment(svm_grid_searcher2.best_estimator_, \n",
    "                 os.path.join(PATH_TO_DATA, 'X_sparse_10users.pkl'),\n",
    "        os.path.join(PATH_TO_DATA, 'y_10users.pkl'), skf, random_state=17, test_size=0.3)"
   ]
  },
  {
   "cell_type": "markdown",
   "metadata": {},
   "source": [
    "**Примените функцию *model_assessment* для лучшего алгоритма из предыдущей части (а именно, `svm_grid_searcher2.best_estimator_`) и 9 выборок вида с разными сочетаниями параметров *session_length* и *window_size* для 10 пользователей. Выведите в цикле параметры *session_length* и *window_size*, а также результат вывода функции *model_assessment*. \n",
    "Удобно сделать так, чтоб *model_assessment* возвращала 3-им элементом время, за которое она выполнилась. На моем ноуте этот участок кода выполнился за 20 секунд. Но со 150 пользователями каждая итерация занимает уже несколько минут.**"
   ]
  },
  {
   "cell_type": "markdown",
   "metadata": {},
   "source": [
    "Здесь для удобства стоит создать копии ранее созданных pickle-файлов X_sparse_10users.pkl, X_sparse_150users.pkl, y_10users.pkl и y_150users.pkl, добавив к их названиям s10_w10, что означает длину сессии 10 и ширину окна 10. "
   ]
  },
  {
   "cell_type": "code",
   "execution_count": 48,
   "metadata": {},
   "outputs": [
    {
     "data": {
      "text/plain": [
       "(0.82412334030111822, 0.84166864185826029)"
      ]
     },
     "execution_count": 48,
     "metadata": {},
     "output_type": "execute_result"
    }
   ],
   "source": [
    "model_assessment(svm_grid_searcher2.best_estimator_, \n",
    "                 'X_sparse_10users_s15_w10.pkl',\n",
    "        'y_10users_s15_w10.pkl', skf, random_state=17, test_size=0.3)"
   ]
  },
  {
   "cell_type": "code",
   "execution_count": 49,
   "metadata": {},
   "outputs": [
    {
     "name": "stdout",
     "output_type": "stream",
     "text": [
      "5 5 (0.72457100088188031, 0.73779042200094835)\n",
      "5 7 (0.77304177154740927, 0.78828828828828834)\n",
      "7 7 (0.75156145420704468, 0.76339804214368678)\n",
      "5 10 (0.81836230505824814, 0.8285917496443812)\n",
      "7 10 (0.79992559213440051, 0.80736684917869583)\n",
      "5 15 (0.87160977062948997, 0.87731152204836416)\n",
      "7 15 (0.8504951547307148, 0.85564957690393229)\n",
      "10 15 (0.82412334030111822, 0.84166864185826029)\n",
      "Wall time: 53.5 s\n"
     ]
    }
   ],
   "source": [
    "%%time\n",
    "estimator = svm_grid_searcher2.best_estimator_\n",
    "num_users=10\n",
    "#for window_size, session_length in itertools.product([10, 7, 5], [15, 10, 7, 5]):\n",
    "for window_size, session_length in [[5,5],[5,7],[7,7],[5,10],[7,10],[5,15],[7,15],[10,15]]:\n",
    "    if window_size <= session_length:\n",
    "        path_to_X_pkl = 'X_sparse_'+str(num_users)+'users_s'+str(session_length)+'_w'+str(window_size)+'.pkl'\n",
    "        path_to_y_pkl = 'y_'+str(num_users)+'users_s'+str(session_length)+'_w'+str(window_size)+'.pkl'\n",
    "        print (window_size, session_length,model_assessment(estimator, path_to_X_pkl,path_to_y_pkl, skf, random_state=17, test_size=0.3))"
   ]
  },
  {
   "cell_type": "markdown",
   "metadata": {},
   "source": [
    "**Запишите в файл *answer4_5.txt* доли правильных ответов для `LinearSVC` с настроенным параметром `C` и выборки `X_sparse_10users_s15_w5`. Укажите доли правильных ответов на кросс-валидации и на отложенной выборке. Округлите каждое до 3 знаков после запятой и запишите в файл через пробел.**"
   ]
  },
  {
   "cell_type": "code",
   "execution_count": 50,
   "metadata": {
    "collapsed": true
   },
   "outputs": [],
   "source": [
    "s1,s2=model_assessment(svm_grid_searcher2.best_estimator_, \n",
    "                 'X_sparse_10users_s15_w5.pkl',\n",
    "        'y_10users_s15_w5.pkl', skf, random_state=17, test_size=0.3)"
   ]
  },
  {
   "cell_type": "code",
   "execution_count": 51,
   "metadata": {
    "collapsed": true
   },
   "outputs": [],
   "source": [
    "write_answer_to_file(str(round(s1,3))+\" \"+str(round(s2,3)),\n",
    "                     'answer4_5.txt')"
   ]
  },
  {
   "cell_type": "markdown",
   "metadata": {},
   "source": [
    "**Прокомментируйте полученные результаты. Сравните для 150 пользователей доли правильных ответов на кросс-валидации и оставленной выборке для сочетаний параметров (*session_length, window_size*): (5,5), (7,7) и (10,10). На среднем ноуте это может занять до часа – запаситесь терпением, это Data Science :) **\n",
    "\n",
    "**Сделайте вывод о том, как качество классификации зависит от длины сессии и ширины окна.**"
   ]
  },
  {
   "cell_type": "code",
   "execution_count": 200,
   "metadata": {},
   "outputs": [
    {
     "name": "stdout",
     "output_type": "stream",
     "text": [
      "5 5 (0.40982610251362867, 0.4236749890494963)\n",
      "7 7 (0.43749537278498768, 0.45488299213134858)\n"
     ]
    },
    {
     "ename": "FileNotFoundError",
     "evalue": "[Errno 2] No such file or directory: 'X_sparse_150users_s10_w10.pkl'",
     "output_type": "error",
     "traceback": [
      "\u001b[1;31m---------------------------------------------------------------------------\u001b[0m",
      "\u001b[1;31mFileNotFoundError\u001b[0m                         Traceback (most recent call last)",
      "\u001b[1;32m<timed exec>\u001b[0m in \u001b[0;36m<module>\u001b[1;34m()\u001b[0m\n",
      "\u001b[1;32m<ipython-input-192-2f7f5ebf4058>\u001b[0m in \u001b[0;36mmodel_assessment\u001b[1;34m(estimator, path_to_X_pickle, path_to_y_pickle, cv, random_state, test_size)\u001b[0m\n\u001b[0;32m     16\u001b[0m     '''\n\u001b[0;32m     17\u001b[0m \u001b[1;33m\u001b[0m\u001b[0m\n\u001b[1;32m---> 18\u001b[1;33m     \u001b[1;32mwith\u001b[0m \u001b[0mopen\u001b[0m\u001b[1;33m(\u001b[0m\u001b[0mpath_to_X_pickle\u001b[0m\u001b[1;33m,\u001b[0m \u001b[1;34m'rb'\u001b[0m\u001b[1;33m)\u001b[0m \u001b[1;32mas\u001b[0m \u001b[0mX_sparse_pkl\u001b[0m\u001b[1;33m:\u001b[0m\u001b[1;33m\u001b[0m\u001b[0m\n\u001b[0m\u001b[0;32m     19\u001b[0m         \u001b[0mX_sparse\u001b[0m \u001b[1;33m=\u001b[0m \u001b[0mpickle\u001b[0m\u001b[1;33m.\u001b[0m\u001b[0mload\u001b[0m\u001b[1;33m(\u001b[0m\u001b[0mX_sparse_pkl\u001b[0m\u001b[1;33m)\u001b[0m\u001b[1;33m\u001b[0m\u001b[0m\n\u001b[0;32m     20\u001b[0m     \u001b[1;32mwith\u001b[0m \u001b[0mopen\u001b[0m\u001b[1;33m(\u001b[0m\u001b[0mpath_to_y_pickle\u001b[0m\u001b[1;33m,\u001b[0m \u001b[1;34m'rb'\u001b[0m\u001b[1;33m)\u001b[0m \u001b[1;32mas\u001b[0m \u001b[0my_pkl\u001b[0m\u001b[1;33m:\u001b[0m\u001b[1;33m\u001b[0m\u001b[0m\n",
      "\u001b[1;31mFileNotFoundError\u001b[0m: [Errno 2] No such file or directory: 'X_sparse_150users_s10_w10.pkl'"
     ]
    }
   ],
   "source": [
    "%%time\n",
    "estimator = svm_grid_searcher2.best_estimator_\n",
    "num_users=150\n",
    "for window_size, session_length in [(5,5), (7,7), (10,10)]:\n",
    "    path_to_X_pkl = 'X_sparse_'+str(num_users)+'users_s'+str(session_length)+'_w'+str(window_size)+'.pkl'\n",
    "    path_to_y_pkl = 'y_'+str(num_users)+'users_s'+str(session_length)+'_w'+str(window_size)+'.pkl'\n",
    "    print     (window_size, session_length,model_assessment(estimator, path_to_X_pkl,path_to_y_pkl, skf, random_state=17, test_size=0.3))"
   ]
  },
  {
   "cell_type": "markdown",
   "metadata": {},
   "source": [
    "**Запишите в файл *answer4_6.txt* доли правильных ответов для LinearSVC с настроенным параметром C и выборки *X_sparse_150users*. Укажите доли правильных ответов на кросс-валидации и на отложенной выборке. Округлите каждое до 3 знаков после запятой и запишите в файл через пробел.**"
   ]
  },
  {
   "cell_type": "code",
   "execution_count": 201,
   "metadata": {
    "collapsed": true
   },
   "outputs": [],
   "source": [
    "s1,s2=model_assessment(svm_grid_searcher2.best_estimator_, \n",
    "                 'X_sparse_150users.pkl',\n",
    "        'y_150users.pkl', skf, random_state=17, test_size=0.3)"
   ]
  },
  {
   "cell_type": "code",
   "execution_count": 202,
   "metadata": {
    "collapsed": true
   },
   "outputs": [],
   "source": [
    "write_answer_to_file(str(round(s1,3))+\" \"+str(round(s2,3)),\n",
    "                     'answer4_6.txt')"
   ]
  },
  {
   "cell_type": "markdown",
   "metadata": {},
   "source": [
    "## Часть 3. Идентификация  конкретного пользователя и кривые обучения"
   ]
  },
  {
   "cell_type": "markdown",
   "metadata": {},
   "source": [
    "**Поскольку может разочаровать, что многоклассовая доля правильных ответов на выборке из 150 пользовалей невелика, порадуемся тому, что конкретного пользователя можно идентифицировать достаточно хорошо. **"
   ]
  },
  {
   "cell_type": "markdown",
   "metadata": {},
   "source": [
    "**Загрузим сериализованные ранее объекты *X_sparse_150users* и *y_150users*, соответствующие обучающей выборке для 150 пользователей с параметрами (*session_length, window_size*) = (10,10). Так же точно разобьем их на 70% и 30%.**"
   ]
  },
  {
   "cell_type": "code",
   "execution_count": 52,
   "metadata": {
    "collapsed": true
   },
   "outputs": [],
   "source": [
    "with open(os.path.join(PATH_TO_DATA, 'X_sparse_150users.pkl'), 'rb') as X_sparse_150users_pkl:\n",
    "     X_sparse_150users = pickle.load(X_sparse_150users_pkl)\n",
    "with open(os.path.join(PATH_TO_DATA, 'y_150users.pkl'), 'rb') as y_150users_pkl:\n",
    "    y_150users = pickle.load(y_150users_pkl)"
   ]
  },
  {
   "cell_type": "code",
   "execution_count": 53,
   "metadata": {
    "collapsed": true
   },
   "outputs": [],
   "source": [
    "lab_enc = preprocessing.LabelEncoder()\n",
    "y_150users = lab_enc.fit_transform(y_150users)"
   ]
  },
  {
   "cell_type": "code",
   "execution_count": 54,
   "metadata": {
    "collapsed": true
   },
   "outputs": [],
   "source": [
    "X_train_150, X_valid_150, y_train_150, y_valid_150 = train_test_split(X_sparse_150users, \n",
    "                                                                      y_150users, test_size=0.3, \n",
    "                                                     random_state=17, stratify=y_150users)\n"
   ]
  },
  {
   "cell_type": "markdown",
   "metadata": {},
   "source": [
    "**Обучите `LogisticRegressionCV` для одного значения параметра `C` (лучшего на кросс-валидации в 1 части, используйте точное значение, не на глаз). Теперь будем решать 150 задач \"Один-против-Всех\", поэтому укажите аргумент `multi_class`='ovr'. Как всегда, где возможно, указывайте `n_jobs=-1` и `random_state`=17.**"
   ]
  },
  {
   "cell_type": "code",
   "execution_count": 64,
   "metadata": {},
   "outputs": [
    {
     "data": {
      "text/plain": [
       "4.6842105263157894"
      ]
     },
     "execution_count": 64,
     "metadata": {},
     "output_type": "execute_result"
    }
   ],
   "source": [
    "Cs_best"
   ]
  },
  {
   "cell_type": "code",
   "execution_count": 263,
   "metadata": {},
   "outputs": [
    {
     "data": {
      "text/plain": [
       "LogisticRegressionCV(Cs=[4.6842105263157894], class_weight=None, cv=None,\n",
       "           dual=False, fit_intercept=True, intercept_scaling=1.0,\n",
       "           max_iter=100, multi_class='ovr', n_jobs=-1, penalty='l2',\n",
       "           random_state=17, refit=True, scoring=None, solver='lbfgs',\n",
       "           tol=0.0001, verbose=0)"
      ]
     },
     "execution_count": 263,
     "metadata": {},
     "output_type": "execute_result"
    }
   ],
   "source": [
    "logit_cv_150users"
   ]
  },
  {
   "cell_type": "code",
   "execution_count": 264,
   "metadata": {},
   "outputs": [
    {
     "name": "stdout",
     "output_type": "stream",
     "text": [
      "4.68421052632\n"
     ]
    },
    {
     "data": {
      "text/plain": [
       "LogisticRegressionCV(Cs=[4.68421], class_weight=None, cv=None, dual=False,\n",
       "           fit_intercept=True, intercept_scaling=1.0, max_iter=100,\n",
       "           multi_class='ovr', n_jobs=-1, penalty='l2', random_state=17,\n",
       "           refit=True, scoring=None, solver='lbfgs', tol=0.0001, verbose=0)"
      ]
     },
     "execution_count": 264,
     "metadata": {},
     "output_type": "execute_result"
    }
   ],
   "source": [
    "#%%time\n",
    "Cs_best=logit_grid_searcher2.Cs_[logit_mean_cv_scores2.argmax()]\n",
    "Cs_best\n",
    "print (Cs_best)\n",
    "logit_cv_150users = LogisticRegressionCV(Cs=[4.68421],random_state=17,n_jobs=-1,multi_class='ovr')\n",
    "logit_cv_150users.fit(X_train_150, y_train_150)\n"
   ]
  },
  {
   "cell_type": "markdown",
   "metadata": {},
   "source": [
    "**Посмотрите на средние доли правильных ответов на кросс-валидации в задаче идентификации каждого пользователя по отдельности.**"
   ]
  },
  {
   "cell_type": "code",
   "execution_count": 265,
   "metadata": {},
   "outputs": [
    {
     "name": "stdout",
     "output_type": "stream",
     "text": [
      "User 0, CV score: 0.9960272433769436\n",
      "User 1, CV score: 0.9963510246346834\n",
      "User 2, CV score: 0.995266599486151\n",
      "User 3, CV score: 0.9916592959110311\n",
      "User 4, CV score: 0.9903242129868092\n",
      "User 5, CV score: 0.9941301309856043\n",
      "User 6, CV score: 0.9936609317575155\n",
      "User 7, CV score: 0.9859872300654415\n",
      "User 8, CV score: 0.9979772190075838\n",
      "User 9, CV score: 0.9952357772986161\n",
      "User 10, CV score: 0.9943388864456445\n",
      "User 11, CV score: 0.9935150944004606\n",
      "User 12, CV score: 0.996767963083293\n",
      "User 13, CV score: 0.9947765399257253\n",
      "User 14, CV score: 0.9963194919846642\n",
      "User 15, CV score: 0.9962885385423458\n",
      "User 16, CV score: 0.9904706276553775\n",
      "User 17, CV score: 0.9943594697482854\n",
      "User 18, CV score: 0.9945054954925464\n",
      "User 19, CV score: 0.9912734542098433\n",
      "User 20, CV score: 0.9809621804598384\n",
      "User 21, CV score: 0.9969035373552387\n",
      "User 22, CV score: 0.9947238892738456\n",
      "User 23, CV score: 0.990960670225865\n",
      "User 24, CV score: 0.9966220220895724\n",
      "User 25, CV score: 0.9943074588544315\n",
      "User 26, CV score: 0.9950164860897672\n",
      "User 27, CV score: 0.9915123252868835\n",
      "User 28, CV score: 0.9848927224351076\n",
      "User 29, CV score: 0.9970702161585056\n",
      "User 30, CV score: 0.996986987416579\n",
      "User 31, CV score: 0.996736619294527\n",
      "User 32, CV score: 0.9972476980601908\n",
      "User 33, CV score: 0.9965074350387507\n",
      "User 34, CV score: 0.9968093437977116\n",
      "User 35, CV score: 0.9975080193054483\n",
      "User 36, CV score: 0.9875615273352869\n",
      "User 37, CV score: 0.9963613342240354\n",
      "User 38, CV score: 0.9963194687325427\n",
      "User 39, CV score: 0.9965280270733842\n",
      "User 40, CV score: 0.9900015887223304\n",
      "User 41, CV score: 0.9892817491825365\n",
      "User 42, CV score: 0.9961111215569819\n",
      "User 43, CV score: 0.9957044268333092\n",
      "User 44, CV score: 0.9959444287076332\n",
      "User 45, CV score: 0.9949746758345098\n",
      "User 46, CV score: 0.9961632278295559\n",
      "User 47, CV score: 0.9970075697711263\n",
      "User 48, CV score: 0.9949538159762197\n",
      "User 49, CV score: 0.9964758510444457\n",
      "User 50, CV score: 0.9919616865032103\n",
      "User 51, CV score: 0.9959859324188894\n",
      "User 52, CV score: 0.9958607815270945\n",
      "User 53, CV score: 0.9948181898859412\n",
      "User 54, CV score: 0.9972581587385453\n",
      "User 55, CV score: 0.9895948159843474\n",
      "User 56, CV score: 0.992816320570148\n",
      "User 57, CV score: 0.9964551311729316\n",
      "User 58, CV score: 0.9867378985290006\n",
      "User 59, CV score: 0.9894698138113207\n",
      "User 60, CV score: 0.994307129058309\n",
      "User 61, CV score: 0.9900741935470049\n",
      "User 62, CV score: 0.9955793650580507\n",
      "User 63, CV score: 0.9911484108466633\n",
      "User 64, CV score: 0.9972368756015998\n",
      "User 65, CV score: 0.9956630408048008\n",
      "User 66, CV score: 0.9974455661453184\n",
      "User 67, CV score: 0.9958921863402327\n",
      "User 68, CV score: 0.9964860715172611\n",
      "User 69, CV score: 0.996674043611606\n",
      "User 70, CV score: 0.9962151346126973\n",
      "User 71, CV score: 0.9970595995511055\n",
      "User 72, CV score: 0.9964760021334481\n",
      "User 73, CV score: 0.9921390046919516\n",
      "User 74, CV score: 0.9964865093160457\n",
      "User 75, CV score: 0.9921384453184697\n",
      "User 76, CV score: 0.9976645430262677\n",
      "User 77, CV score: 0.9961946752549878\n",
      "User 78, CV score: 0.996371512558604\n",
      "User 79, CV score: 0.9912728696880526\n",
      "User 80, CV score: 0.9966742315247653\n",
      "User 81, CV score: 0.9940154548182459\n",
      "User 82, CV score: 0.996079814118326\n",
      "User 83, CV score: 0.9968825409280755\n",
      "User 84, CV score: 0.9952352179251344\n",
      "User 85, CV score: 0.996913805280391\n",
      "User 86, CV score: 0.9978937975124551\n",
      "User 87, CV score: 0.989167331158749\n",
      "User 88, CV score: 0.9969245148962771\n",
      "User 89, CV score: 0.9952040891935985\n",
      "User 90, CV score: 0.9940466063278567\n",
      "User 91, CV score: 0.9937652736612597\n",
      "User 92, CV score: 0.9842667447605314\n",
      "User 93, CV score: 0.9967991145929037\n",
      "User 94, CV score: 0.9956836183193051\n",
      "User 95, CV score: 0.9917844244987983\n",
      "User 96, CV score: 0.9893970805761435\n",
      "User 97, CV score: 0.9982692792280984\n",
      "User 98, CV score: 0.9905536926843596\n",
      "User 99, CV score: 0.9903348945105305\n",
      "User 100, CV score: 0.9939112156030739\n",
      "User 101, CV score: 0.9866338384949954\n",
      "User 102, CV score: 0.9810660656786729\n",
      "User 103, CV score: 0.9810765592892351\n",
      "User 104, CV score: 0.9916698577562424\n",
      "User 105, CV score: 0.9955580906530977\n",
      "User 106, CV score: 0.9975498712249057\n",
      "User 107, CV score: 0.9972268338359044\n",
      "User 108, CV score: 0.9978003008453765\n",
      "User 109, CV score: 0.9972683564332862\n",
      "User 110, CV score: 0.9951204192349851\n",
      "User 111, CV score: 0.9969659241769069\n",
      "User 112, CV score: 0.9966741797064325\n",
      "User 113, CV score: 0.9969452667519052\n",
      "User 114, CV score: 0.9958499542284605\n",
      "User 115, CV score: 0.9964239714053753\n",
      "User 116, CV score: 0.9947452527953352\n",
      "User 117, CV score: 0.9964868008658708\n",
      "User 118, CV score: 0.9966323844453511\n",
      "User 119, CV score: 0.9956316350435689\n",
      "User 120, CV score: 0.9963612683596202\n",
      "User 121, CV score: 0.9966739443409365\n",
      "User 122, CV score: 0.9968721553201753\n",
      "User 123, CV score: 0.9957459920429844\n",
      "User 124, CV score: 0.9946513323755545\n",
      "User 125, CV score: 0.9968724851162977\n",
      "User 126, CV score: 0.9982377136458718\n",
      "User 127, CV score: 0.996549032706587\n",
      "User 128, CV score: 0.9958188729492613\n",
      "User 129, CV score: 0.99032411513828\n",
      "User 130, CV score: 0.9934524431730386\n",
      "User 131, CV score: 0.9972163450653854\n",
      "User 132, CV score: 0.997122509396145\n",
      "User 133, CV score: 0.9964759300068495\n",
      "User 134, CV score: 0.9977896759800311\n",
      "User 135, CV score: 0.997341430566812\n",
      "User 136, CV score: 0.9969762298743096\n",
      "User 137, CV score: 0.993494154631673\n",
      "User 138, CV score: 0.9950893393779262\n",
      "User 139, CV score: 0.9966221819105673\n",
      "User 140, CV score: 0.9967884427492684\n",
      "User 141, CV score: 0.9976435979433903\n",
      "User 142, CV score: 0.9956421896785033\n",
      "User 143, CV score: 0.9953187290108465\n",
      "User 144, CV score: 0.9971433982946932\n",
      "User 145, CV score: 0.9959547431370285\n",
      "User 146, CV score: 0.9934731582045098\n",
      "User 147, CV score: 0.9966741845464755\n",
      "User 148, CV score: 0.9960902801107704\n",
      "User 149, CV score: 0.9971743280108435\n"
     ]
    }
   ],
   "source": [
    "cv_scores_by_user = {}\n",
    "for user_id in logit_cv_150users.scores_:\n",
    "    cv_scores_by_user[user_id]=logit_cv_150users.scores_[user_id].mean()\n",
    "    print('User {}, CV score: {}'.format(user_id,logit_cv_150users.scores_[user_id].mean()))"
   ]
  },
  {
   "cell_type": "markdown",
   "metadata": {},
   "source": [
    "**Результаты кажутся впечатляющими, но возможно, мы забываем про дисбаланс классов, и высокую долю правильных ответов можно получить константным прогнозом. Посчитайте для каждого пользователя разницу между долей правильных ответов на кросс-валидации (только что посчитанную с помощью `LogisticRegressionCV`) и долей меток в *y_train_150*, отличных от ID \n",
    " этого пользователя (именно такую долю правильных ответов можно получить, если классификатор всегда \"говорит\", что это не пользователь с номером $i$ в задаче классификации $i$-vs-All).**"
   ]
  },
  {
   "cell_type": "code",
   "execution_count": 266,
   "metadata": {},
   "outputs": [],
   "source": [
    "class_distr = np.bincount(y_train_150.astype('int'))\n",
    "total=class_distr.sum()\n",
    "acc_diff_vs_constant=list()\n",
    "for user_id in np.unique(y_train_150):\n",
    "    dol1=cv_scores_by_user[user_id]\n",
    "    dol2=(total-class_distr[user_id])/total\n",
    "    acc_diff_vs_constant.append(dol1-dol2)\n",
    "acc_diff_vs_constant=pd.Series(acc_diff_vs_constant)    "
   ]
  },
  {
   "cell_type": "code",
   "execution_count": 267,
   "metadata": {},
   "outputs": [
    {
     "data": {
      "text/plain": [
       "0.78700000000000003"
      ]
     },
     "execution_count": 267,
     "metadata": {},
     "output_type": "execute_result"
    }
   ],
   "source": [
    "num_better_than_default = (np.array(list(acc_diff_vs_constant.values)) > 0).sum()\n",
    "num_better_than_default=round(num_better_than_default/150,3)\n",
    "num_better_than_default"
   ]
  },
  {
   "cell_type": "markdown",
   "metadata": {},
   "source": [
    "**Запишите в файл *answer4_7.txt* долю пользователей, для которых логистическая регрессия на кросс-валидации дает прогноз лучше константного. Округлите до 3 знаков после запятой. **"
   ]
  },
  {
   "cell_type": "code",
   "execution_count": 124,
   "metadata": {
    "collapsed": true
   },
   "outputs": [],
   "source": [
    "write_answer_to_file(num_better_than_default, \n",
    "                     'answer4_7.txt')"
   ]
  },
  {
   "cell_type": "markdown",
   "metadata": {},
   "source": [
    "**Дальше будем строить кривые обучения для конкретного пользователя, допустим, для 128-го. Составьте новый бинарный вектор на основе *y_150users*, его значения будут 1 или 0 в зависимости от того, равен ли ID-шник пользователя 128.**"
   ]
  },
  {
   "cell_type": "code",
   "execution_count": 141,
   "metadata": {},
   "outputs": [
    {
     "data": {
      "text/plain": [
       "array([125, 102,  42, ...,  18,   0,  34], dtype=int64)"
      ]
     },
     "execution_count": 141,
     "metadata": {},
     "output_type": "execute_result"
    }
   ],
   "source": [
    "y_train_150"
   ]
  },
  {
   "cell_type": "code",
   "execution_count": 142,
   "metadata": {},
   "outputs": [],
   "source": [
    "y_binary_128 = (y_train_150==128)*1"
   ]
  },
  {
   "cell_type": "code",
   "execution_count": 138,
   "metadata": {
    "collapsed": true
   },
   "outputs": [],
   "source": [
    "from sklearn.model_selection import learning_curve\n",
    "\n",
    "def plot_learning_curve(val_train, val_test, train_sizes, \n",
    "                        xlabel='Training Set Size', ylabel='score'):\n",
    "    def plot_with_err(x, data, **kwargs):\n",
    "        mu, std = data.mean(1), data.std(1)\n",
    "        lines = plt.plot(x, mu, '-', **kwargs)\n",
    "        plt.fill_between(x, mu - std, mu + std, edgecolor='none',\n",
    "                         facecolor=lines[0].get_color(), alpha=0.2)\n",
    "    plot_with_err(train_sizes, val_train, label='train')\n",
    "    plot_with_err(train_sizes, val_test, label='valid')\n",
    "    plt.xlabel(xlabel); plt.ylabel(ylabel)\n",
    "    plt.legend(loc='lower right');\n",
    "    plt.show()"
   ]
  },
  {
   "cell_type": "markdown",
   "metadata": {},
   "source": [
    "**Посчитайте доли правильных ответов на кросс-валидации в задаче классификации \"user128-vs-All\" в зависимости от размера выборки. Не помешает посмотреть встроенную документацию для *learning_curve*.**"
   ]
  },
  {
   "cell_type": "code",
   "execution_count": 144,
   "metadata": {},
   "outputs": [
    {
     "name": "stdout",
     "output_type": "stream",
     "text": [
      "Wall time: 15.8 s\n"
     ]
    }
   ],
   "source": [
    "%%time\n",
    "train_sizes = np.linspace(0.25, 1, 20)\n",
    "estimator = svm_grid_searcher2.best_estimator_\n",
    "n_train, val_train, val_test = learning_curve(estimator,X_train_150, y_binary_128,train_sizes=train_sizes, cv=skf)"
   ]
  },
  {
   "cell_type": "code",
   "execution_count": 145,
   "metadata": {},
   "outputs": [
    {
     "data": {
      "image/png": "[encoded data removed]",
      "text/plain": [
       "<matplotlib.figure.Figure at 0x2699b369d30>"
      ]
     },
     "metadata": {},
     "output_type": "display_data"
    }
   ],
   "source": [
    "plot_learning_curve(val_train, val_test, n_train, \n",
    "                    xlabel='train_size', ylabel='accuracy')"
   ]
  },
  {
   "cell_type": "markdown",
   "metadata": {},
   "source": [
    "**Сделайте выводы о том, помогут ли алгоритму новые размеченные данные при той же постановке задачи.**"
   ]
  },
  {
   "cell_type": "markdown",
   "metadata": {},
   "source": [
    "## Пути улучшения\n",
    "В этом проекте свобода творчества на каждом шаге, а 7 неделя посвящена общему описанию проекта (`html`, `ipynb` или `pdf`) и взимному оцениванию. Что еще можно добавить по 4 части проекта:\n",
    "- конечно, можно проверить еще кучу алгоритмов, например, Xgboost, но в такой задаче очень маловероятно, что что-то справится лучше линейных методов\n",
    "- интересно проверить качество алгоритма на данных, где сессии выделялись не по количеству посещенных сайтов, а по времени, например, 5, 7, 10 и 15 минут. Отдельно стоит отметить данные нашего [соревнования](https://inclass.kaggle.com/c/identify-me-if-you-can4) \n",
    "- опять же, если ресурсы позволяют, можно проверить, насколько хорошо можно решить задачу для 3000 пользователей\n",
    "\n",
    "На следующей неделе мы вспомним про линейные модели, обучаемые стохастическим градиентным спуском, и порадуемся тому, насколько быстрее они работают. Также сделаем первые (или не первые) посылки в [соревновании](https://inclass.kaggle.com/c/identify-me-if-you-can4) Kaggle Inclass."
   ]
  }
 ],
 "metadata": {
  "anaconda-cloud": {},
  "kernelspec": {
   "display_name": "Python 3",
   "language": "python",
   "name": "python3"
  },
  "language_info": {
   "codemirror_mode": {
    "name": "ipython",
    "version": 3
   },
   "file_extension": ".py",
   "mimetype": "text/x-python",
   "name": "python",
   "nbconvert_exporter": "python",
   "pygments_lexer": "ipython3",
   "version": "3.5.3"
  }
 },
 "nbformat": 4,
 "nbformat_minor": 1
}

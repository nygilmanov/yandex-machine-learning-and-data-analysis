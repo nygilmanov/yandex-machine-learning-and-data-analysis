{
 "cells": [
  {
   "cell_type": "code",
   "execution_count": 1,
   "metadata": {
    "collapsed": true
   },
   "outputs": [],
   "source": [
    "import pickle\n",
    "import numpy as np\n",
    "import pandas as pd\n",
    "from scipy.sparse import csr_matrix\n",
    "from sklearn.model_selection import train_test_split\n",
    "from sklearn.linear_model import SGDClassifier\n",
    "from sklearn.metrics import accuracy_score\n",
    "from sklearn.feature_extraction.text import CountVectorizer\n",
    "from sklearn.model_selection import cross_val_score\n",
    "from sklearn.model_selection import GridSearchCV\n",
    "from sklearn.metrics import classification_report\n",
    "from datetime import datetime\n",
    "from scipy import sparse \n",
    "from sklearn.linear_model import LogisticRegression\n",
    "from sklearn.preprocessing import OneHotEncoder,StandardScaler"
   ]
  },
  {
   "cell_type": "code",
   "execution_count": 2,
   "metadata": {
    "collapsed": true
   },
   "outputs": [],
   "source": [
    "train_df = pd.read_csv( 'train_sessions.csv',\n",
    "                       index_col='session_id')\n",
    "test_df = pd.read_csv( 'test_sessions.csv',\n",
    "                      index_col='session_id')"
   ]
  },
  {
   "cell_type": "code",
   "execution_count": 3,
   "metadata": {},
   "outputs": [
    {
     "data": {
      "text/html": [
       "<div>\n",
       "<style>\n",
       "    .dataframe thead tr:only-child th {\n",
       "        text-align: right;\n",
       "    }\n",
       "\n",
       "    .dataframe thead th {\n",
       "        text-align: left;\n",
       "    }\n",
       "\n",
       "    .dataframe tbody tr th {\n",
       "        vertical-align: top;\n",
       "    }\n",
       "</style>\n",
       "<table border=\"1\" class=\"dataframe\">\n",
       "  <thead>\n",
       "    <tr style=\"text-align: right;\">\n",
       "      <th></th>\n",
       "      <th>site1</th>\n",
       "      <th>time1</th>\n",
       "      <th>site2</th>\n",
       "      <th>time2</th>\n",
       "      <th>site3</th>\n",
       "      <th>time3</th>\n",
       "      <th>site4</th>\n",
       "      <th>time4</th>\n",
       "      <th>site5</th>\n",
       "      <th>time5</th>\n",
       "      <th>...</th>\n",
       "      <th>time6</th>\n",
       "      <th>site7</th>\n",
       "      <th>time7</th>\n",
       "      <th>site8</th>\n",
       "      <th>time8</th>\n",
       "      <th>site9</th>\n",
       "      <th>time9</th>\n",
       "      <th>site10</th>\n",
       "      <th>time10</th>\n",
       "      <th>user_id</th>\n",
       "    </tr>\n",
       "    <tr>\n",
       "      <th>session_id</th>\n",
       "      <th></th>\n",
       "      <th></th>\n",
       "      <th></th>\n",
       "      <th></th>\n",
       "      <th></th>\n",
       "      <th></th>\n",
       "      <th></th>\n",
       "      <th></th>\n",
       "      <th></th>\n",
       "      <th></th>\n",
       "      <th></th>\n",
       "      <th></th>\n",
       "      <th></th>\n",
       "      <th></th>\n",
       "      <th></th>\n",
       "      <th></th>\n",
       "      <th></th>\n",
       "      <th></th>\n",
       "      <th></th>\n",
       "      <th></th>\n",
       "      <th></th>\n",
       "    </tr>\n",
       "  </thead>\n",
       "  <tbody>\n",
       "    <tr>\n",
       "      <th>1</th>\n",
       "      <td>23713</td>\n",
       "      <td>2014-03-24 15:22:40</td>\n",
       "      <td>23720.0</td>\n",
       "      <td>2014-03-24 15:22:48</td>\n",
       "      <td>23713.0</td>\n",
       "      <td>2014-03-24 15:22:48</td>\n",
       "      <td>23713.0</td>\n",
       "      <td>2014-03-24 15:22:54</td>\n",
       "      <td>23720.0</td>\n",
       "      <td>2014-03-24 15:22:54</td>\n",
       "      <td>...</td>\n",
       "      <td>2014-03-24 15:22:55</td>\n",
       "      <td>23713.0</td>\n",
       "      <td>2014-03-24 15:23:01</td>\n",
       "      <td>23713.0</td>\n",
       "      <td>2014-03-24 15:23:03</td>\n",
       "      <td>23713.0</td>\n",
       "      <td>2014-03-24 15:23:04</td>\n",
       "      <td>23713.0</td>\n",
       "      <td>2014-03-24 15:23:05</td>\n",
       "      <td>653</td>\n",
       "    </tr>\n",
       "    <tr>\n",
       "      <th>2</th>\n",
       "      <td>8726</td>\n",
       "      <td>2014-04-17 14:25:58</td>\n",
       "      <td>8725.0</td>\n",
       "      <td>2014-04-17 14:25:59</td>\n",
       "      <td>665.0</td>\n",
       "      <td>2014-04-17 14:25:59</td>\n",
       "      <td>8727.0</td>\n",
       "      <td>2014-04-17 14:25:59</td>\n",
       "      <td>45.0</td>\n",
       "      <td>2014-04-17 14:25:59</td>\n",
       "      <td>...</td>\n",
       "      <td>2014-04-17 14:26:01</td>\n",
       "      <td>45.0</td>\n",
       "      <td>2014-04-17 14:26:01</td>\n",
       "      <td>5320.0</td>\n",
       "      <td>2014-04-17 14:26:18</td>\n",
       "      <td>5320.0</td>\n",
       "      <td>2014-04-17 14:26:47</td>\n",
       "      <td>5320.0</td>\n",
       "      <td>2014-04-17 14:26:48</td>\n",
       "      <td>198</td>\n",
       "    </tr>\n",
       "    <tr>\n",
       "      <th>3</th>\n",
       "      <td>303</td>\n",
       "      <td>2014-03-21 10:12:24</td>\n",
       "      <td>19.0</td>\n",
       "      <td>2014-03-21 10:12:36</td>\n",
       "      <td>303.0</td>\n",
       "      <td>2014-03-21 10:12:54</td>\n",
       "      <td>303.0</td>\n",
       "      <td>2014-03-21 10:13:01</td>\n",
       "      <td>303.0</td>\n",
       "      <td>2014-03-21 10:13:24</td>\n",
       "      <td>...</td>\n",
       "      <td>2014-03-21 10:13:36</td>\n",
       "      <td>303.0</td>\n",
       "      <td>2014-03-21 10:13:54</td>\n",
       "      <td>309.0</td>\n",
       "      <td>2014-03-21 10:14:01</td>\n",
       "      <td>303.0</td>\n",
       "      <td>2014-03-21 10:14:06</td>\n",
       "      <td>303.0</td>\n",
       "      <td>2014-03-21 10:14:24</td>\n",
       "      <td>34</td>\n",
       "    </tr>\n",
       "  </tbody>\n",
       "</table>\n",
       "<p>3 rows × 21 columns</p>\n",
       "</div>"
      ],
      "text/plain": [
       "            site1                time1    site2                time2    site3  \\\n",
       "session_id                                                                      \n",
       "1           23713  2014-03-24 15:22:40  23720.0  2014-03-24 15:22:48  23713.0   \n",
       "2            8726  2014-04-17 14:25:58   8725.0  2014-04-17 14:25:59    665.0   \n",
       "3             303  2014-03-21 10:12:24     19.0  2014-03-21 10:12:36    303.0   \n",
       "\n",
       "                          time3    site4                time4    site5  \\\n",
       "session_id                                                               \n",
       "1           2014-03-24 15:22:48  23713.0  2014-03-24 15:22:54  23720.0   \n",
       "2           2014-04-17 14:25:59   8727.0  2014-04-17 14:25:59     45.0   \n",
       "3           2014-03-21 10:12:54    303.0  2014-03-21 10:13:01    303.0   \n",
       "\n",
       "                          time5   ...                  time6    site7  \\\n",
       "session_id                        ...                                   \n",
       "1           2014-03-24 15:22:54   ...    2014-03-24 15:22:55  23713.0   \n",
       "2           2014-04-17 14:25:59   ...    2014-04-17 14:26:01     45.0   \n",
       "3           2014-03-21 10:13:24   ...    2014-03-21 10:13:36    303.0   \n",
       "\n",
       "                          time7    site8                time8    site9  \\\n",
       "session_id                                                               \n",
       "1           2014-03-24 15:23:01  23713.0  2014-03-24 15:23:03  23713.0   \n",
       "2           2014-04-17 14:26:01   5320.0  2014-04-17 14:26:18   5320.0   \n",
       "3           2014-03-21 10:13:54    309.0  2014-03-21 10:14:01    303.0   \n",
       "\n",
       "                          time9   site10               time10 user_id  \n",
       "session_id                                                             \n",
       "1           2014-03-24 15:23:04  23713.0  2014-03-24 15:23:05     653  \n",
       "2           2014-04-17 14:26:47   5320.0  2014-04-17 14:26:48     198  \n",
       "3           2014-03-21 10:14:06    303.0  2014-03-21 10:14:24      34  \n",
       "\n",
       "[3 rows x 21 columns]"
      ]
     },
     "execution_count": 3,
     "metadata": {},
     "output_type": "execute_result"
    }
   ],
   "source": [
    "train_df.head(3)"
   ]
  },
  {
   "cell_type": "code",
   "execution_count": 4,
   "metadata": {},
   "outputs": [],
   "source": [
    "def convert_to_sparse(ar):\n",
    "    def tokenizer(s):\n",
    "        return list(s)\n",
    "    vectorizer = CountVectorizer(analyzer=tokenizer)\n",
    "    X = vectorizer.fit_transform(ar)\n",
    "    return X\n",
    "def get_score(clf,X,y):\n",
    "    X_train, X_valid, y_train, y_valid = train_test_split(X, y, test_size=0.3, random_state=17, stratify=y)\n",
    "    cv_score=cross_val_score(clf,X_train,y_train,cv=3).mean()\n",
    "    clf.fit(X_train,y_train)\n",
    "    score=clf.score(X_valid,y_valid)\n",
    "    print (\"CV_Score: \",round(cv_score,3))\n",
    "    print (\"Holdout : \",round(score,3))\n",
    "def write_to_submission_file(predicted_labels, out_file,\n",
    "                             target='user_id', index_label=\"session_id\"):\n",
    "    # turn predictions into data frame and save as csv file\n",
    "    predicted_df = pd.DataFrame(predicted_labels,\n",
    "                                index = np.arange(1, predicted_labels.shape[0] + 1),\n",
    "                                columns=[target])\n",
    "    predicted_df.to_csv(out_file, index_label=index_label)\n",
    "def read_ftr(filename):\n",
    "    with open(filename, 'rb') as file_pkl:\n",
    "        res=pickle.load(file_pkl)\n",
    "    return res"
   ]
  },
  {
   "cell_type": "markdown",
   "metadata": {},
   "source": [
    "## baseline"
   ]
  },
  {
   "cell_type": "code",
   "execution_count": 5,
   "metadata": {
    "collapsed": true
   },
   "outputs": [],
   "source": [
    "def run(train_df,test_df,clf,result_file):\n",
    "    print ('Загрузка данных')\n",
    "    train_test_df = pd.concat([train_df, test_df])\n",
    "    train_test_df_sites = train_test_df[['site1', 'site2', 'site3', \n",
    "                                     'site4','site5', \n",
    "                                     'site6','site7', 'site8', \n",
    "                                     'site9', 'site10']].fillna(0).astype('int')\n",
    "    print('Конвертация в sparse')\n",
    "    X_train_test_sparse=convert_to_sparse(train_test_df_sites.values)[:,1:]\n",
    "    X_train_sparse=X_train_test_sparse[:train_df.shape[0],:]\n",
    "    X_test_sparse = X_train_test_sparse[train_df.shape[0]:,:]\n",
    "    y = train_df.user_id.values\n",
    "    print('Получаем оценку модели на train')\n",
    "    get_score(clf,X_train_sparse,y)\n",
    "    print('Записываем предсказания')\n",
    "    clf.fit(X_train_sparse,y)\n",
    "    y_pred = clf.predict(X_test_sparse)\n",
    "    write_to_submission_file(y_pred,result_file)"
   ]
  },
  {
   "cell_type": "code",
   "execution_count": null,
   "metadata": {},
   "outputs": [
    {
     "name": "stdout",
     "output_type": "stream",
     "text": [
      "Загрузка данных\n",
      "Конвертация в sparse\n",
      "Получаем оценку модели на train\n",
      "CV_Score:  0.291\n",
      "Holdout :  0.302\n",
      "Записываем предсказания\n"
     ]
    }
   ],
   "source": [
    "clf = SGDClassifier(loss='log',random_state=17,n_jobs=-1)\n",
    "run(train_df,test_df,clf,'result_baseline.csv')"
   ]
  },
  {
   "cell_type": "markdown",
   "metadata": {},
   "source": [
    "### window_size = 3\n",
    "base=0.18192"
   ]
  },
  {
   "cell_type": "code",
   "execution_count": 7,
   "metadata": {},
   "outputs": [
    {
     "name": "stdout",
     "output_type": "stream",
     "text": [
      "Загрузка данных\n",
      "Конвертация в sparse\n",
      "Получаем оценку модели на train\n",
      "CV_Score:  0.343\n",
      "Holdout :  0.347\n",
      "Записываем предсказания\n"
     ]
    }
   ],
   "source": [
    "clf = SGDClassifier(loss='log',random_state=17,n_jobs=-1)\n",
    "train_df_new=read_ftr('train_3_session.pkl')\n",
    "run(train_df_new,test_df,clf,'result_3.csv')"
   ]
  },
  {
   "cell_type": "markdown",
   "metadata": {},
   "source": [
    "### window_size = 5\n",
    "base=0.17787"
   ]
  },
  {
   "cell_type": "code",
   "execution_count": 8,
   "metadata": {},
   "outputs": [
    {
     "name": "stdout",
     "output_type": "stream",
     "text": [
      "Загрузка данных\n",
      "Конвертация в sparse\n",
      "Получаем оценку модели на train\n",
      "CV_Score:  0.327\n",
      "Holdout :  0.339\n",
      "Записываем предсказания\n"
     ]
    }
   ],
   "source": [
    "train_df_new=read_ftr('train_5_session.pkl')\n",
    "clf = SGDClassifier(loss='log',random_state=17,n_jobs=-1)\n",
    "run(train_df_new,test_df,clf,'result_5.csv')"
   ]
  },
  {
   "cell_type": "markdown",
   "metadata": {},
   "source": [
    "### window_size = 7"
   ]
  },
  {
   "cell_type": "code",
   "execution_count": 9,
   "metadata": {},
   "outputs": [
    {
     "name": "stdout",
     "output_type": "stream",
     "text": [
      "Загрузка данных\n",
      "Конвертация в sparse\n",
      "Получаем оценку модели на train\n",
      "CV_Score:  0.32\n",
      "Holdout :  0.327\n",
      "Записываем предсказания\n"
     ]
    }
   ],
   "source": [
    "clf = SGDClassifier(loss='log',random_state=17,n_jobs=-1)\n",
    "train_df_new=read_ftr('train_7_session.pkl')\n",
    "run(train_df_new,test_df,clf,'result_7.csv')"
   ]
  },
  {
   "cell_type": "markdown",
   "metadata": {},
   "source": [
    "### window_size = 10"
   ]
  },
  {
   "cell_type": "code",
   "execution_count": 39,
   "metadata": {},
   "outputs": [
    {
     "name": "stdout",
     "output_type": "stream",
     "text": [
      "Загрузка данных\n",
      "Конвертация в sparse\n",
      "Получаем оценку модели на train\n",
      "CV_Score:  0.299\n",
      "Holdout :  0.309\n",
      "Записываем предсказания\n"
     ]
    }
   ],
   "source": [
    "clf = SGDClassifier(loss='log',random_state=17,n_jobs=-1)\n",
    "train_df_new=read_ftr('train_10_session.pkl')\n",
    "run(train_df_new,test_df,clf,'result_10.csv')"
   ]
  },
  {
   "cell_type": "markdown",
   "metadata": {},
   "source": [
    "## Feature 1"
   ]
  },
  {
   "cell_type": "markdown",
   "metadata": {},
   "source": [
    "Функции для генерации новых признаков"
   ]
  },
  {
   "cell_type": "code",
   "execution_count": 56,
   "metadata": {},
   "outputs": [],
   "source": [
    "def ftr_unique_sites(row):\n",
    "    sites=row[['site1', 'site2', 'site3', 'site4','site5', 'site6','site7', 'site8','site9', 'site10']]\n",
    "    return len(np.unique(sites))\n",
    "\n",
    "def ftr_session_timespan(row):\n",
    "    def isNaN(num):\n",
    "        return num != num\n",
    "    time_start= datetime.strptime(row['time1'], '%Y-%m-%d %H:%M:%S')\n",
    "    time_end=row['time10']\n",
    "    if (isNaN(time_end)):\n",
    "        for x in range(9,0,-1):\n",
    "            t=row['time'+str(x)]\n",
    "            if not(isNaN(t)):\n",
    "                time_end= datetime.strptime(t, '%Y-%m-%d %H:%M:%S')\n",
    "                break\n",
    "    else:  \n",
    "        time_end= datetime.strptime(row['time10'], '%Y-%m-%d %H:%M:%S')\n",
    "        \n",
    "    res=(time_end-time_start).total_seconds()\n",
    "    return int(res)\n",
    "\n",
    "def ftr_start_year(row):\n",
    "    time_start= datetime.strptime(row['time1'], '%Y-%m-%d %H:%M:%S')\n",
    "    res=time_start.year\n",
    "    return int(res)\n",
    "def ftr_start_month(row):\n",
    "    time_start= datetime.strptime(row['time1'], '%Y-%m-%d %H:%M:%S')\n",
    "    res=time_start.month\n",
    "    return int(res)\n",
    "def ftr_start_day(row):\n",
    "    time_start= datetime.strptime(row['time1'], '%Y-%m-%d %H:%M:%S')\n",
    "    res=time_start.day\n",
    "    return int(res)\n",
    "def ftr_start_hour(row):\n",
    "    time_start= datetime.strptime(row['time1'], '%Y-%m-%d %H:%M:%S')\n",
    "    res=time_start.hour\n",
    "    return int(res)\n",
    "\n",
    "def ftr_weekday(row):\n",
    "    time_start= datetime.strptime(row['time1'], '%Y-%m-%d %H:%M:%S')\n",
    "    res=time_start.weekday()\n",
    "    return int(res)\n",
    "\n",
    "# Генерация всех новых признаков в виде dataframe\n",
    "def gen_features(df):\n",
    "    newdf=pd.DataFrame(index=df.index)\n",
    "    newdf['unique_sites']=df.apply(ftr_unique_sites, axis=1)\n",
    "    newdf['session_timespan']=df.apply(ftr_session_timespan, axis=1)\n",
    "    newdf['start_year']=df.apply(ftr_start_year, axis=1)\n",
    "    newdf['start_month']=df.apply(ftr_start_month, axis=1)\n",
    "    newdf['start_day']=df.apply(ftr_start_day, axis=1)\n",
    "    newdf['start_hour']=df.apply(ftr_start_hour, axis=1)\n",
    "    newdf['weekday']=df.apply(ftr_weekday, axis=1) \n",
    "    return newdf\n",
    "\n",
    "# Сохранение признаков в файл\n",
    "def save_ftr(ftr_df,filename):\n",
    "    with open(filename, 'wb') as file_pkl:\n",
    "        pickle.dump(ftr_df, file_pkl, protocol=2) \n",
    "\n",
    "# Чтение признаков из файла     \n",
    "def read_ftr(filename):\n",
    "    with open(filename, 'rb') as file_pkl:\n",
    "        res=pickle.load(file_pkl)\n",
    "    return res\n",
    "\n",
    "def myfunc1 (row):\n",
    "    def isNaN(num):\n",
    "        return num != num\n",
    "    \n",
    "    time_start= datetime.strptime(row['time1'], '%Y-%m-%d %H:%M:%S')\n",
    "    ftr_weekday=time_start.weekday()\n",
    "    ftr_start_year=time_start.year\n",
    "    ftr_start_month=time_start.month\n",
    "    ftr_start_day=time_start.day\n",
    "    ftr_start_hour=time_start.hour\n",
    "    \n",
    "    sites=row[['site1', 'site2', 'site3', 'site4','site5', 'site6','site7', 'site8','site9', 'site10']]\n",
    "    ftr_unique_sites=len(np.unique(sites))\n",
    "    \n",
    "    time_end=row['time10']\n",
    "    if (isNaN(time_end)):\n",
    "        for x in range(9,0,-1):\n",
    "            t=row['time'+str(x)]\n",
    "            if not(isNaN(t)):\n",
    "                time_end= datetime.strptime(t, '%Y-%m-%d %H:%M:%S')\n",
    "                break\n",
    "    else:  \n",
    "        time_end= datetime.strptime(row['time10'], '%Y-%m-%d %H:%M:%S')\n",
    "        \n",
    "    ftr_session_timespan=int((time_end-time_start).total_seconds())\n",
    "\n",
    "    return pd.Series([ftr_unique_sites,ftr_session_timespan,ftr_start_year,ftr_start_month,ftr_start_day,ftr_start_hour,ftr_weekday], \n",
    "                     index=['unique_sites','session_timespan','start_year','start_month','start_day','start_hour','weekday'])\n",
    "\n",
    "# Генерация всех новых признаков в виде dataframe\n",
    "def gen_features2(df):\n",
    "    newdf=df.apply(myfunc1 ,axis=1)\n",
    "    return newdf\n",
    "\n"
   ]
  },
  {
   "cell_type": "markdown",
   "metadata": {},
   "source": [
    "Генерация признаков и сохранение их в файл"
   ]
  },
  {
   "cell_type": "code",
   "execution_count": 62,
   "metadata": {},
   "outputs": [],
   "source": [
    "train_df=read_ftr('train_3_session.pkl')\n",
    "new_train_ftr=gen_features(train_df)\n",
    "save_ftr(new_train_ftr,'train_features.pkl') "
   ]
  },
  {
   "cell_type": "markdown",
   "metadata": {},
   "source": [
    "Чтение новых признаков из файла"
   ]
  },
  {
   "cell_type": "code",
   "execution_count": 63,
   "metadata": {},
   "outputs": [
    {
     "data": {
      "text/html": [
       "<div>\n",
       "<table border=\"1\" class=\"dataframe\">\n",
       "  <thead>\n",
       "    <tr style=\"text-align: right;\">\n",
       "      <th></th>\n",
       "      <th>unique_sites</th>\n",
       "      <th>session_timespan</th>\n",
       "      <th>start_year</th>\n",
       "      <th>start_month</th>\n",
       "      <th>start_day</th>\n",
       "      <th>start_hour</th>\n",
       "      <th>weekday</th>\n",
       "    </tr>\n",
       "  </thead>\n",
       "  <tbody>\n",
       "    <tr>\n",
       "      <th>272112</th>\n",
       "      <td>5</td>\n",
       "      <td>2630546</td>\n",
       "      <td>2013</td>\n",
       "      <td>3</td>\n",
       "      <td>12</td>\n",
       "      <td>21</td>\n",
       "      <td>1</td>\n",
       "    </tr>\n",
       "    <tr>\n",
       "      <th>272115</th>\n",
       "      <td>6</td>\n",
       "      <td>2630255</td>\n",
       "      <td>2013</td>\n",
       "      <td>3</td>\n",
       "      <td>12</td>\n",
       "      <td>21</td>\n",
       "      <td>1</td>\n",
       "    </tr>\n",
       "    <tr>\n",
       "      <th>272118</th>\n",
       "      <td>9</td>\n",
       "      <td>1209</td>\n",
       "      <td>2013</td>\n",
       "      <td>4</td>\n",
       "      <td>12</td>\n",
       "      <td>8</td>\n",
       "      <td>4</td>\n",
       "    </tr>\n",
       "    <tr>\n",
       "      <th>272121</th>\n",
       "      <td>7</td>\n",
       "      <td>11</td>\n",
       "      <td>2013</td>\n",
       "      <td>4</td>\n",
       "      <td>12</td>\n",
       "      <td>8</td>\n",
       "      <td>4</td>\n",
       "    </tr>\n",
       "    <tr>\n",
       "      <th>272124</th>\n",
       "      <td>6</td>\n",
       "      <td>60</td>\n",
       "      <td>2013</td>\n",
       "      <td>4</td>\n",
       "      <td>12</td>\n",
       "      <td>8</td>\n",
       "      <td>4</td>\n",
       "    </tr>\n",
       "  </tbody>\n",
       "</table>\n",
       "</div>"
      ],
      "text/plain": [
       "        unique_sites  session_timespan  start_year  start_month  start_day  \\\n",
       "272112             5           2630546        2013            3         12   \n",
       "272115             6           2630255        2013            3         12   \n",
       "272118             9              1209        2013            4         12   \n",
       "272121             7                11        2013            4         12   \n",
       "272124             6                60        2013            4         12   \n",
       "\n",
       "        start_hour  weekday  \n",
       "272112          21        1  \n",
       "272115          21        1  \n",
       "272118           8        4  \n",
       "272121           8        4  \n",
       "272124           8        4  "
      ]
     },
     "execution_count": 63,
     "metadata": {},
     "output_type": "execute_result"
    }
   ],
   "source": [
    "new_train_ftr=read_ftr('train_features.pkl')\n",
    "new_test_ftr=read_ftr('test_features.pkl')\n",
    "new_train_ftr.head()"
   ]
  },
  {
   "cell_type": "markdown",
   "metadata": {},
   "source": [
    "Добавление признаков к матрице"
   ]
  },
  {
   "cell_type": "code",
   "execution_count": 64,
   "metadata": {
    "collapsed": true
   },
   "outputs": [],
   "source": [
    "train_test_df = pd.concat([train_df, test_df])\n",
    "train_test_df_sites = train_test_df[['site1', 'site2', 'site3', \n",
    "                                     'site4','site5', \n",
    "                                     'site6','site7', 'site8', \n",
    "                                     'site9', 'site10']].fillna(0).astype('int')\n",
    "X_train_test_sparse=convert_to_sparse(train_test_df_sites.values)[:,1:]\n",
    "X_train_sparse=X_train_test_sparse[:train_df.shape[0],:]\n",
    "X_test_sparse = X_train_test_sparse[train_df.shape[0]:,:]\n",
    "y = train_df.user_id.values"
   ]
  },
  {
   "cell_type": "code",
   "execution_count": 77,
   "metadata": {
    "collapsed": true
   },
   "outputs": [],
   "source": [
    "enc = OneHotEncoder()\n",
    "cols=['start_year','start_month','start_day']\n",
    "ohe_ftr_train=new_train_ftr[cols].values\n",
    "ohe_ftr_train=enc.fit_transform(ohe_ftr_train) \n",
    "ohe_ftr_test=new_test_ftr[cols].values\n",
    "ohe_ftr_test=enc.transform(ohe_ftr_test) \n",
    "X_train_sparse_ftr=sparse.hstack([X_train_sparse, ohe_ftr_train])\n",
    "X_test_sparse_ftr=sparse.hstack([X_test_sparse, ohe_ftr_test])"
   ]
  },
  {
   "cell_type": "code",
   "execution_count": 78,
   "metadata": {},
   "outputs": [
    {
     "name": "stdout",
     "output_type": "stream",
     "text": [
      "CV_Score:  0.464\n",
      "Holdout :  0.471\n"
     ]
    }
   ],
   "source": [
    "clf = SGDClassifier(loss='log',random_state=17,n_jobs=-1)\n",
    "get_score(clf,X_train_sparse_ftr,y)\n",
    "# full\n",
    "#CV_Score:  0.526\n",
    "#Holdout :  0.533\n",
    "# 'unique_sites','start_hour','weekday'\n",
    "#CV_Score:  0.434\n",
    "#Holdout :  0.439\n",
    "# 'start_year','start_month','start_day'\n",
    "# CV_Score:  0.464\n",
    "# Holdout :  0.471"
   ]
  },
  {
   "cell_type": "code",
   "execution_count": 74,
   "metadata": {
    "collapsed": true
   },
   "outputs": [],
   "source": [
    "clf.fit(X_train_sparse_ftr,y)\n",
    "y_pred = clf.predict(X_test_sparse_ftr)\n",
    "write_to_submission_file(y_pred,'result_3_ohe.csv')"
   ]
  },
  {
   "cell_type": "code",
   "execution_count": 70,
   "metadata": {},
   "outputs": [
    {
     "name": "stderr",
     "output_type": "stream",
     "text": [
      "C:\\Users\\Evtisov_SS\\AppData\\Local\\Continuum\\Anaconda3\\lib\\site-packages\\sklearn\\utils\\validation.py:429: DataConversionWarning: Data with input dtype int64 was converted to float64 by StandardScaler.\n",
      "  warnings.warn(msg, _DataConversionWarning)\n"
     ]
    }
   ],
   "source": [
    "scalar = StandardScaler()\n",
    "scalar_ftr_train=new_train_ftr[['session_timespan']].values\n",
    "scalar_ftr_train=scalar.fit_transform(scalar_ftr_train)\n",
    "scalar_ftr_test=new_test_ftr[['session_timespan']].values\n",
    "scalar_ftr_test=scalar.transform(scalar_ftr_test) \n",
    "X_train_sparse_ftr=sparse.hstack([X_train_sparse,scalar_ftr_train])\n",
    "X_test_sparse_ftr=sparse.hstack([X_test_sparse, scalar_ftr_test])"
   ]
  },
  {
   "cell_type": "code",
   "execution_count": 71,
   "metadata": {},
   "outputs": [
    {
     "name": "stdout",
     "output_type": "stream",
     "text": [
      "CV_Score:  0.345\n",
      "Holdout :  0.348\n"
     ]
    }
   ],
   "source": [
    "clf = SGDClassifier(loss='log',random_state=17,n_jobs=-1)\n",
    "get_score(clf,X_train_sparse_ftr,y)"
   ]
  },
  {
   "cell_type": "code",
   "execution_count": 81,
   "metadata": {},
   "outputs": [
    {
     "name": "stdout",
     "output_type": "stream",
     "text": [
      "CV_Score:  0.528\n",
      "Holdout :  0.554\n"
     ]
    }
   ],
   "source": [
    "X_train_sparse_ftr=sparse.hstack([X_train_sparse,ohe_ftr_train,scalar_ftr_train])\n",
    "X_test_sparse_ftr=sparse.hstack([X_test_sparse, ohe_ftr_test,scalar_ftr_test])\n",
    "clf = SGDClassifier(loss='log',random_state=17,n_jobs=-1,alpha=1e-5,penalty='l2')\n",
    "get_score(clf,X_train_sparse_ftr,y)\n",
    "# baseline\n",
    "#CV_Score:  0.526\n",
    "#Holdout :  0.534"
   ]
  },
  {
   "cell_type": "code",
   "execution_count": 82,
   "metadata": {
    "collapsed": true
   },
   "outputs": [],
   "source": [
    "clf.fit(X_train_sparse_ftr,y)\n",
    "y_pred = clf.predict(X_test_sparse_ftr)\n",
    "write_to_submission_file(y_pred,'result_3_ohesparce.csv')"
   ]
  },
  {
   "cell_type": "markdown",
   "metadata": {},
   "source": [
    "Подбор гипер параметров"
   ]
  },
  {
   "cell_type": "code",
   "execution_count": null,
   "metadata": {
    "collapsed": true
   },
   "outputs": [],
   "source": [
    "tuned_parameters= [{'alpha':[0.00001, 0.0001, 0.001, 0.01, 0.1, 1]}]\n",
    "tuned_parameters = [{'l1_ratio': np.linspace(0.1,1,10).tolist()}]\n",
    "\n",
    "#tuned_parameters= [{'penalty':['none', 'l1', 'l2', 'elasticnet']}]\n",
    "\n",
    "#tuned_parameters= [{'alpha':10.0**-np.arange(1,7)}]\n",
    "tuned_parameters"
   ]
  },
  {
   "cell_type": "code",
   "execution_count": null,
   "metadata": {
    "collapsed": true
   },
   "outputs": [],
   "source": [
    "sgd_logit=SGDClassifier(loss='log',random_state=17,n_jobs=-1,alpha=1e-5)\n",
    "clf = GridSearchCV(sgd_logit, tuned_parameters, cv=3)\n",
    "clf.fit(X_train_sparse_ftr, y)\n",
    "\n",
    "print(\"Best parameters set found on development set:\")\n",
    "print()\n",
    "print(clf.best_params_)\n",
    "print()\n",
    "print(\"Grid scores on development set:\")\n",
    "print()\n",
    "means = clf.cv_results_['mean_test_score']\n",
    "stds = clf.cv_results_['std_test_score']\n",
    "for mean, std, params in zip(means, stds, clf.cv_results_['params']):\n",
    "    print(\"%0.3f (+/-%0.03f) for %r\"\n",
    "        % (mean, std * 2, params))\n",
    "    print()"
   ]
  },
  {
   "cell_type": "code",
   "execution_count": null,
   "metadata": {
    "collapsed": true
   },
   "outputs": [],
   "source": []
  }
 ],
 "metadata": {
  "kernelspec": {
   "display_name": "Python 3",
   "language": "python",
   "name": "python3"
  },
  "language_info": {
   "codemirror_mode": {
    "name": "ipython",
    "version": 3
   },
   "file_extension": ".py",
   "mimetype": "text/x-python",
   "name": "python",
   "nbconvert_exporter": "python",
   "pygments_lexer": "ipython3",
   "version": "3.5.3"
  }
 },
 "nbformat": 4,
 "nbformat_minor": 2
}

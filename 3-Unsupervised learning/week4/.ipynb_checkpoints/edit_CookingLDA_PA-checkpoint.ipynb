{
 "cells": [
  {
   "cell_type": "markdown",
   "metadata": {},
   "source": [
    "# Programming Assignment: \n",
    "## Готовим LDA по рецептам"
   ]
  },
  {
   "cell_type": "markdown",
   "metadata": {},
   "source": [
    "Как вы уже знаете, в тематическом моделировании делается предположение о том, что для определения тематики порядок слов в документе не важен; об этом гласит гипотеза «мешка слов». Сегодня мы будем работать с несколько нестандартной для тематического моделирования коллекцией, которую можно назвать «мешком ингредиентов», потому что на состоит из рецептов блюд разных кухонь. Тематические модели ищут слова, которые часто вместе встречаются в документах, и составляют из них темы. Мы попробуем применить эту идею к рецептам и найти кулинарные «темы». Эта коллекция хороша тем, что не требует предобработки. Кроме того, эта задача достаточно наглядно иллюстрирует принцип работы тематических моделей.\n",
    "\n",
    "Для выполнения заданий, помимо часто используемых в курсе библиотек, потребуются модули *json* и *gensim*. Первый входит в дистрибутив Anaconda, второй можно поставить командой \n",
    "\n",
    "*pip install gensim*\n",
    "\n",
    "Построение модели занимает некоторое время. На ноутбуке с процессором Intel Core i7 и тактовой частотой 2400 МГц на построение одной модели уходит менее 10 минут."
   ]
  },
  {
   "cell_type": "markdown",
   "metadata": {},
   "source": [
    "### Загрузка данных"
   ]
  },
  {
   "cell_type": "markdown",
   "metadata": {},
   "source": [
    "Коллекция дана в json-формате: для каждого рецепта известны его id, кухня (cuisine) и список ингредиентов, в него входящих. Загрузить данные можно с помощью модуля json (он входит в дистрибутив Anaconda):"
   ]
  },
  {
   "cell_type": "code",
   "execution_count": 1,
   "metadata": {
    "collapsed": true
   },
   "outputs": [],
   "source": [
    "import json"
   ]
  },
  {
   "cell_type": "code",
   "execution_count": 2,
   "metadata": {
    "collapsed": false
   },
   "outputs": [],
   "source": [
    "with open(\"recipes.json\") as f:\n",
    "    recipes = json.load(f)"
   ]
  },
  {
   "cell_type": "code",
   "execution_count": 3,
   "metadata": {
    "collapsed": false
   },
   "outputs": [
    {
     "name": "stdout",
     "output_type": "stream",
     "text": [
      "{'id': 10259, 'ingredients': ['romaine lettuce', 'black olives', 'grape tomatoes', 'garlic', 'pepper', 'purple onion', 'seasoning', 'garbanzo beans', 'feta cheese crumbles'], 'cuisine': 'greek'}\n"
     ]
    }
   ],
   "source": [
    "print (recipes[0])"
   ]
  },
  {
   "cell_type": "markdown",
   "metadata": {},
   "source": [
    "### Составление корпуса"
   ]
  },
  {
   "cell_type": "code",
   "execution_count": 4,
   "metadata": {
    "collapsed": false
   },
   "outputs": [
    {
     "name": "stderr",
     "output_type": "stream",
     "text": [
      "D:\\Anaconda3\\lib\\site-packages\\gensim\\utils.py:855: UserWarning: detected Windows; aliasing chunkize to chunkize_serial\n",
      "  warnings.warn(\"detected Windows; aliasing chunkize to chunkize_serial\")\n"
     ]
    }
   ],
   "source": [
    "from gensim import corpora, models\n",
    "import numpy as np"
   ]
  },
  {
   "cell_type": "markdown",
   "metadata": {},
   "source": [
    "Наша коллекция небольшая, и целиком помещается в оперативную память. Gensim может работать с такими данными и не требует их сохранения на диск в специальном формате. Для этого коллекция должна быть представлена в виде списка списков, каждый внутренний список соответствует отдельному документу и состоит из его слов. Пример коллекции из двух документов: \n",
    "\n",
    "[[\"hello\", \"world\"], [\"programming\", \"in\", \"python\"]]\n",
    "\n",
    "Преобразуем наши данные в такой формат, а затем создадим объекты corpus и dictionary, с которыми будет работать модель."
   ]
  },
  {
   "cell_type": "code",
   "execution_count": 5,
   "metadata": {
    "collapsed": false
   },
   "outputs": [],
   "source": [
    "texts = [recipe[\"ingredients\"] for recipe in recipes]\n",
    "dictionary = corpora.Dictionary(texts)   # составляем словарь\n",
    "corpus = [dictionary.doc2bow(text) for text in texts]  # составляем корпус документов"
   ]
  },
  {
   "cell_type": "code",
   "execution_count": 6,
   "metadata": {
    "collapsed": false
   },
   "outputs": [
    {
     "name": "stdout",
     "output_type": "stream",
     "text": [
      "['romaine lettuce', 'black olives', 'grape tomatoes', 'garlic', 'pepper', 'purple onion', 'seasoning', 'garbanzo beans', 'feta cheese crumbles']\n",
      "[(0, 1), (1, 1), (2, 1), (3, 1), (4, 1), (5, 1), (6, 1), (7, 1), (8, 1)]\n"
     ]
    }
   ],
   "source": [
    "print (texts[0])\n",
    "print (corpus[0])"
   ]
  },
  {
   "cell_type": "markdown",
   "metadata": {},
   "source": [
    "У объекта dictionary есть полезная переменная dictionary.token2id, позволяющая находить соответствие между ингредиентами и их индексами."
   ]
  },
  {
   "cell_type": "markdown",
   "metadata": {},
   "source": [
    "### Обучение модели\n",
    "Вам может понадобиться [документация](https://radimrehurek.com/gensim/models/ldamodel.html) LDA в gensim."
   ]
  },
  {
   "cell_type": "markdown",
   "metadata": {},
   "source": [
    "__Задание 1.__ Обучите модель LDA с 40 темами, установив количество проходов по коллекции 5 и оставив остальные параметры по умолчанию. \n",
    "\n",
    "\n",
    "Затем вызовите метод модели *show_topics*, указав количество тем 40 и количество токенов 10, и сохраните результат (топы ингредиентов в темах) в отдельную переменную. Если при вызове метода *show_topics* указать параметр *formatted=True*, то топы ингредиентов будет удобно выводить на печать, если *formatted=False*, будет удобно работать со списком программно. Выведите топы на печать, рассмотрите темы, а затем ответьте на вопрос:\n",
    "\n",
    "Сколько раз ингредиенты \"salt\", \"sugar\", \"water\", \"mushrooms\", \"chicken\", \"eggs\" встретились среди топов-10 всех 40 тем? При ответе __не нужно__ учитывать составные ингредиенты, например, \"hot water\".\n",
    "\n",
    "Передайте 6 чисел в функцию save_answers1 и загрузите сгенерированный файл в форму.\n",
    "\n",
    "У gensim нет возможности фиксировать случайное приближение через параметры метода, но библиотека использует numpy для инициализации матриц. Поэтому, по утверждению автора библиотеки, фиксировать случайное приближение нужно командой, которая написана в следующей ячейке. __Перед строкой кода с построением модели обязательно вставляйте указанную строку фиксации random.seed.__"
   ]
  },
  {
   "cell_type": "code",
   "execution_count": 7,
   "metadata": {
    "collapsed": false
   },
   "outputs": [],
   "source": [
    "np.random.seed(76543)\n",
    "# здесь код для построения модели:\n",
    "ldamodel = models.ldamodel.LdaModel(corpus, id2word=dictionary, num_topics=40, passes=5)"
   ]
  },
  {
   "cell_type": "code",
   "execution_count": 8,
   "metadata": {
    "collapsed": false
   },
   "outputs": [
    {
     "name": "stdout",
     "output_type": "stream",
     "text": [
      "[(0, '0.164*\"garlic powder\" + 0.094*\"cayenne pepper\" + 0.092*\"paprika\" + 0.062*\"onion powder\" + 0.047*\"ground black pepper\" + 0.040*\"cornmeal\" + 0.038*\"salt\" + 0.035*\"cooked chicken\" + 0.030*\"black pepper\" + 0.025*\"chili powder\"'), (1, '0.063*\"brown rice\" + 0.053*\"shredded cheese\" + 0.047*\"cream cheese, soften\" + 0.047*\"sharp cheddar cheese\" + 0.044*\"light coconut milk\" + 0.033*\"water\" + 0.029*\"hot pepper sauce\" + 0.028*\"dough\" + 0.025*\"vodka\" + 0.024*\"miso paste\"'), (2, '0.171*\"chopped onion\" + 0.104*\"plum tomatoes\" + 0.051*\"chopped celery\" + 0.049*\"feta cheese crumbles\" + 0.037*\"garlic cloves\" + 0.032*\"chopped green bell pepper\" + 0.030*\"roasted red peppers\" + 0.028*\"long-grain rice\" + 0.025*\"olive oil\" + 0.023*\"cooking spray\"'), (3, '0.084*\"mushrooms\" + 0.044*\"ground pork\" + 0.035*\"leeks\" + 0.030*\"pancetta\" + 0.027*\"fresh thyme leaves\" + 0.027*\"wonton wrappers\" + 0.025*\"chili flakes\" + 0.024*\"linguine\" + 0.024*\"pecorino romano cheese\" + 0.023*\"chili sauce\"'), (4, '0.130*\"salt\" + 0.093*\"pepper\" + 0.076*\"eggs\" + 0.072*\"flour\" + 0.062*\"butter\" + 0.060*\"milk\" + 0.051*\"onions\" + 0.048*\"potatoes\" + 0.033*\"water\" + 0.027*\"bacon\"'), (5, '0.146*\"unsalted butter\" + 0.068*\"shallots\" + 0.057*\"heavy cream\" + 0.048*\"dry white wine\" + 0.046*\"light brown sugar\" + 0.044*\"kosher salt\" + 0.039*\"freshly ground pepper\" + 0.037*\"hot water\" + 0.030*\"boiling water\" + 0.024*\"chopped fresh chives\"'), (6, '0.054*\"cucumber\" + 0.045*\"fresh mint\" + 0.043*\"mint leaves\" + 0.040*\"boneless chicken skinless thigh\" + 0.038*\"apple cider vinegar\" + 0.031*\"napa cabbage\" + 0.030*\"english cucumber\" + 0.026*\"sugar\" + 0.025*\"carrots\" + 0.024*\"peppercorns\"'), (7, '0.154*\"coarse salt\" + 0.112*\"large egg whites\" + 0.069*\"sliced mushrooms\" + 0.040*\"crГЁme fraГ®che\" + 0.039*\"poblano peppers\" + 0.035*\"light corn syrup\" + 0.034*\"seasoning salt\" + 0.033*\"artichoke hearts\" + 0.027*\"sweetened coconut flakes\" + 0.026*\"broth\"'), (8, '0.081*\"extra-virgin olive oil\" + 0.076*\"garlic cloves\" + 0.056*\"salt\" + 0.055*\"olive oil\" + 0.047*\"flat leaf parsley\" + 0.045*\"ground black pepper\" + 0.042*\"fresh lemon juice\" + 0.031*\"dry white wine\" + 0.027*\"water\" + 0.022*\"fat free less sodium chicken broth\"'), (9, '0.071*\"dry bread crumbs\" + 0.064*\"russet potatoes\" + 0.050*\"cooking spray\" + 0.048*\"mango\" + 0.044*\"couscous\" + 0.036*\"prosciutto\" + 0.035*\"dried apricot\" + 0.033*\"fat free milk\" + 0.028*\"large eggs\" + 0.028*\"pizza doughs\"'), (10, '0.074*\"onions\" + 0.057*\"green bell pepper\" + 0.053*\"salt\" + 0.041*\"dried thyme\" + 0.040*\"garlic\" + 0.038*\"celery\" + 0.033*\"bay leaves\" + 0.030*\"olive oil\" + 0.024*\"water\" + 0.024*\"chicken stock\"'), (11, '0.119*\"white onion\" + 0.074*\"white vinegar\" + 0.043*\"radishes\" + 0.042*\"garlic cloves\" + 0.037*\"saffron\" + 0.036*\"black peppercorns\" + 0.033*\"broccoli florets\" + 0.030*\"queso fresco\" + 0.024*\"chipotle chile\" + 0.024*\"pimentos\"'), (12, '0.110*\"crushed red pepper flakes\" + 0.074*\"cracked black pepper\" + 0.046*\"lemon wedge\" + 0.038*\"fennel bulb\" + 0.037*\"shredded lettuce\" + 0.036*\"lean ground beef\" + 0.035*\"chili\" + 0.031*\"olives\" + 0.029*\"chopped tomatoes\" + 0.027*\"cremini mushrooms\"'), (13, '0.099*\"sour cream\" + 0.067*\"shredded cheddar cheese\" + 0.056*\"salsa\" + 0.055*\"flour tortillas\" + 0.046*\"ground beef\" + 0.036*\"cheddar cheese\" + 0.035*\"cilantro\" + 0.032*\"chile pepper\" + 0.031*\"green onions\" + 0.027*\"onions\"'), (14, '0.067*\"low sodium chicken broth\" + 0.066*\"cream\" + 0.063*\"frozen peas\" + 0.057*\"long grain white rice\" + 0.046*\"tomato purГ©e\" + 0.044*\"plain yogurt\" + 0.043*\"red chili powder\" + 0.042*\"green peas\" + 0.029*\"penne\" + 0.026*\"sugar pea\"'), (15, '0.155*\"chopped cilantro fresh\" + 0.085*\"fresh lime juice\" + 0.045*\"garlic cloves\" + 0.042*\"salt\" + 0.034*\"crushed red pepper\" + 0.032*\"ground cumin\" + 0.031*\"low salt chicken broth\" + 0.031*\"olive oil\" + 0.031*\"red bell pepper\" + 0.028*\"purple onion\"'), (16, '0.088*\"chopped garlic\" + 0.053*\"sherry vinegar\" + 0.045*\"goat cheese\" + 0.043*\"fettucine\" + 0.042*\"shredded sharp cheddar cheese\" + 0.038*\"non-fat sour cream\" + 0.037*\"red cabbage\" + 0.032*\"marsala wine\" + 0.026*\"ice cubes\" + 0.026*\"asiago\"'), (17, '0.105*\"grated parmesan cheese\" + 0.084*\"olive oil\" + 0.054*\"salt\" + 0.052*\"garlic\" + 0.047*\"ground black pepper\" + 0.039*\"onions\" + 0.035*\"fresh parsley\" + 0.028*\"butter\" + 0.025*\"crushed tomatoes\" + 0.025*\"white wine\"'), (18, '0.064*\"diced tomatoes\" + 0.064*\"dried oregano\" + 0.063*\"tomato sauce\" + 0.055*\"onions\" + 0.048*\"dried basil\" + 0.046*\"olive oil\" + 0.043*\"salt\" + 0.043*\"garlic\" + 0.041*\"tomato paste\" + 0.038*\"water\"'), (19, '0.201*\"sea salt\" + 0.062*\"fine sea salt\" + 0.041*\"unsweetened coconut milk\" + 0.036*\"water\" + 0.035*\"mint\" + 0.033*\"Gochujang base\" + 0.032*\"pork\" + 0.029*\"coconut oil\" + 0.023*\"mint sprigs\" + 0.023*\"red curry paste\"'), (20, '0.123*\"ground cinnamon\" + 0.076*\"ground nutmeg\" + 0.052*\"ground cloves\" + 0.046*\"sugar\" + 0.041*\"ground allspice\" + 0.035*\"sweetened condensed milk\" + 0.031*\"shortening\" + 0.030*\"ground ginger\" + 0.025*\"brandy\" + 0.025*\"almonds\"'), (21, '0.075*\"mayonaise\" + 0.071*\"worcestershire sauce\" + 0.065*\"boneless skinless chicken breast halves\" + 0.043*\"cajun seasoning\" + 0.042*\"ground red pepper\" + 0.040*\"hot sauce\" + 0.037*\"green onions\" + 0.026*\"dijon mustard\" + 0.025*\"butter\" + 0.023*\"pork tenderloin\"'), (22, '0.065*\"strawberries\" + 0.056*\"heavy whipping cream\" + 0.053*\"sugar\" + 0.053*\"self rising flour\" + 0.045*\"powdered sugar\" + 0.039*\"mascarpone\" + 0.037*\"lime zest\" + 0.026*\"pineapple juice\" + 0.024*\"semi-sweet chocolate morsels\" + 0.023*\"white cornmeal\"'), (23, '0.058*\"salt\" + 0.058*\"jalapeno chilies\" + 0.046*\"avocado\" + 0.046*\"chili powder\" + 0.045*\"garlic\" + 0.043*\"corn tortillas\" + 0.036*\"ground cumin\" + 0.032*\"lime\" + 0.032*\"olive oil\" + 0.030*\"black beans\"'), (24, '0.111*\"fish sauce\" + 0.060*\"lime\" + 0.056*\"coconut milk\" + 0.038*\"shallots\" + 0.035*\"sugar\" + 0.033*\"lemongrass\" + 0.030*\"garlic\" + 0.028*\"water\" + 0.023*\"brown sugar\" + 0.022*\"noodles\"'), (25, '0.057*\"parmesan cheese\" + 0.054*\"grated parmesan cheese\" + 0.048*\"shredded mozzarella cheese\" + 0.045*\"mozzarella cheese\" + 0.040*\"ricotta cheese\" + 0.040*\"eggs\" + 0.033*\"italian seasoning\" + 0.033*\"salt\" + 0.032*\"olive oil\" + 0.031*\"bread crumbs\"'), (26, '0.084*\"chopped cilantro\" + 0.059*\"lime juice\" + 0.053*\"lime wedges\" + 0.042*\"medium shrimp\" + 0.042*\"chiles\" + 0.041*\"peeled fresh ginger\" + 0.039*\"serrano chile\" + 0.037*\"vegetable oil\" + 0.035*\"juice\" + 0.032*\"kosher salt\"'), (27, '0.123*\"all-purpose flour\" + 0.098*\"salt\" + 0.073*\"large eggs\" + 0.064*\"sugar\" + 0.056*\"baking powder\" + 0.044*\"unsalted butter\" + 0.037*\"butter\" + 0.033*\"milk\" + 0.031*\"baking soda\" + 0.029*\"eggs\"'), (28, '0.114*\"sliced green onions\" + 0.070*\"diced onions\" + 0.054*\"cooked rice\" + 0.045*\"sausages\" + 0.041*\"taco seasoning mix\" + 0.040*\"sliced black olives\" + 0.038*\"fresh tomatoes\" + 0.034*\"kimchi\" + 0.033*\"meat\" + 0.025*\"tomato juice\"'), (29, '0.064*\"ground cumin\" + 0.053*\"salt\" + 0.046*\"ground coriander\" + 0.042*\"onions\" + 0.039*\"curry powder\" + 0.038*\"garlic\" + 0.027*\"tumeric\" + 0.027*\"olive oil\" + 0.022*\"garam masala\" + 0.022*\"paprika\"'), (30, '0.130*\"chicken broth\" + 0.065*\"cream cheese\" + 0.059*\"chicken breasts\" + 0.058*\"salt\" + 0.052*\"boneless skinless chicken breasts\" + 0.047*\"butter\" + 0.042*\"pepper\" + 0.042*\"cider vinegar\" + 0.041*\"sweet onion\" + 0.032*\"garlic salt\"'), (31, '0.121*\"carrots\" + 0.085*\"celery ribs\" + 0.074*\"onions\" + 0.052*\"bell pepper\" + 0.051*\"green beans\" + 0.046*\"beef broth\" + 0.044*\"beef\" + 0.033*\"firm tofu\" + 0.031*\"vegetable stock\" + 0.024*\"yukon gold potatoes\"'), (32, '0.054*\"rice vinegar\" + 0.053*\"soy sauce\" + 0.050*\"scallions\" + 0.035*\"sesame oil\" + 0.032*\"sugar\" + 0.031*\"green onions\" + 0.029*\"fresh ginger\" + 0.028*\"garlic\" + 0.027*\"vegetable oil\" + 0.026*\"water\"'), (33, '0.087*\"sauce\" + 0.074*\"light soy sauce\" + 0.063*\"cabbage\" + 0.053*\"spring onions\" + 0.039*\"chives\" + 0.039*\"black-eyed peas\" + 0.037*\"lettuce\" + 0.033*\"spices\" + 0.033*\"dark soy sauce\" + 0.024*\"cornflour\"'), (34, '0.107*\"soy sauce\" + 0.047*\"sugar\" + 0.046*\"garlic\" + 0.045*\"sesame oil\" + 0.039*\"corn starch\" + 0.038*\"water\" + 0.035*\"salt\" + 0.035*\"green onions\" + 0.026*\"ginger\" + 0.026*\"vegetable oil\"'), (35, '0.059*\"salt\" + 0.057*\"cumin seed\" + 0.043*\"onions\" + 0.038*\"ground turmeric\" + 0.037*\"clove\" + 0.034*\"water\" + 0.034*\"cinnamon sticks\" + 0.031*\"garam masala\" + 0.027*\"green chilies\" + 0.025*\"coriander seeds\"'), (36, '0.092*\"oil\" + 0.089*\"chicken\" + 0.063*\"rice\" + 0.062*\"salt\" + 0.039*\"onions\" + 0.036*\"white pepper\" + 0.032*\"water\" + 0.028*\"rice wine\" + 0.026*\"red chili peppers\" + 0.026*\"curry leaves\"'), (37, '0.064*\"lemon\" + 0.062*\"cold water\" + 0.049*\"orange juice\" + 0.047*\"sweet potatoes\" + 0.042*\"orange\" + 0.035*\"spinach\" + 0.035*\"sugar\" + 0.034*\"cinnamon\" + 0.034*\"dark brown sugar\" + 0.032*\"lemon zest\"'), (38, '0.070*\"olive oil\" + 0.061*\"salt\" + 0.052*\"purple onion\" + 0.046*\"extra-virgin olive oil\" + 0.042*\"tomatoes\" + 0.037*\"fresh basil\" + 0.036*\"red wine vinegar\" + 0.032*\"garlic cloves\" + 0.031*\"ground black pepper\" + 0.028*\"garlic\"'), (39, '0.080*\"white sugar\" + 0.072*\"butter\" + 0.062*\"vanilla extract\" + 0.057*\"whipping cream\" + 0.055*\"sugar\" + 0.054*\"egg yolks\" + 0.040*\"egg whites\" + 0.039*\"water\" + 0.031*\"eggs\" + 0.030*\"half & half\"')]\n"
     ]
    }
   ],
   "source": [
    "top=ldamodel.show_topics(num_topics=40,num_words=10,formatted=True)\n",
    "print (top)"
   ]
  },
  {
   "cell_type": "code",
   "execution_count": 9,
   "metadata": {
    "collapsed": false
   },
   "outputs": [
    {
     "name": "stdout",
     "output_type": "stream",
     "text": [
      "{'mushrooms': 1, 'water': 12, 'salt': 16, 'chicken': 1, 'sugar': 9, 'eggs': 4}\n"
     ]
    }
   ],
   "source": [
    "top=ldamodel.show_topics(num_topics=40,num_words=10,formatted=False)\n",
    "qty= ( \"salt\", \"sugar\", \"water\", \"mushrooms\", \"chicken\", \"eggs\")\n",
    "qty_list=dict()\n",
    "for word in qty:\n",
    "    qty_list[word]=0\n",
    "    # по топам\n",
    "    for t in top:\n",
    "        # по ингредиентам\n",
    "        for i in t[1]:\n",
    "            if i[0]==word:\n",
    "                qty_list[word]=qty_list[word]+1\n",
    "print (qty_list)"
   ]
  },
  {
   "cell_type": "code",
   "execution_count": 10,
   "metadata": {
    "collapsed": true
   },
   "outputs": [],
   "source": [
    "def save_answers1(c_salt, c_sugar, c_water, c_mushrooms, c_chicken, c_eggs):\n",
    "    with open(\"cooking_LDA_pa_task1.txt\", \"w\") as fout:\n",
    "        fout.write(\" \".join([str(el) for el in [c_salt, c_sugar, c_water, c_mushrooms, c_chicken, c_eggs]]))\n",
    "save_answers1(qty_list['salt'],qty_list[\"sugar\"], qty_list[\"water\"], qty_list[\"mushrooms\"], qty_list[\"chicken\"], qty_list[\"eggs\"])"
   ]
  },
  {
   "cell_type": "markdown",
   "metadata": {},
   "source": [
    "### Фильтрация словаря\n",
    "В топах тем гораздо чаще встречаются первые три рассмотренных ингредиента, чем последние три. При этом наличие в рецепте курицы, яиц и грибов яснее дает понять, что мы будем готовить, чем наличие соли, сахара и воды. Таким образом, даже в рецептах есть слова, часто встречающиеся в текстах и не несущие смысловой нагрузки, и поэтому их не желательно видеть в темах. Наиболее простой прием борьбы с такими фоновыми элементами — фильтрация словаря по частоте. Обычно словарь фильтруют с двух сторон: убирают очень редкие слова (в целях экономии памяти) и очень частые слова (в целях повышения интерпретируемости тем). Мы уберем только частые слова."
   ]
  },
  {
   "cell_type": "code",
   "execution_count": 11,
   "metadata": {
    "collapsed": true
   },
   "outputs": [],
   "source": [
    "import copy\n",
    "dictionary2 = copy.deepcopy(dictionary)"
   ]
  },
  {
   "cell_type": "markdown",
   "metadata": {},
   "source": [
    "__Задание 2.__ У объекта dictionary2 есть переменная *dfs* — это словарь, ключами которого являются id токена, а элементами — число раз, сколько слово встретилось во всей коллекции. Сохраните в отдельный список ингредиенты, которые встретились в коллекции больше 4000 раз. Вызовите метод словаря *filter_tokens*, подав в качестве первого аргумента полученный список популярных ингредиентов. Вычислите две величины: dict_size_before и dict_size_after — размер словаря до и после фильтрации.\n",
    "\n",
    "Затем, используя новый словарь, создайте новый корпус документов, corpus2, по аналогии с тем, как это сделано в начале ноутбука. Вычислите две величины: corpus_size_before и corpus_size_after — суммарное количество ингредиентов в корпусе (для каждого документа вычислите число различных ингредиентов в нем и просуммируйте по всем документам) до и после фильтрации.\n",
    "\n",
    "Передайте величины dict_size_before, dict_size_after, corpus_size_before, corpus_size_after в функцию save_answers2 и загрузите сгенерированный файл в форму."
   ]
  },
  {
   "cell_type": "code",
   "execution_count": 12,
   "metadata": {
    "collapsed": false
   },
   "outputs": [
    {
     "name": "stdout",
     "output_type": "stream",
     "text": [
      "6714 6702\n"
     ]
    }
   ],
   "source": [
    "d=list()\n",
    "#for k for k, v in dictionary2.dfs.items() if v > 4000)\n",
    "#dict_size_before=len(dictionary2)\n",
    "#\n",
    "dict_size_before=len(dictionary2)\n",
    "for i in dictionary2.dfs.items():\n",
    "    if i[1]>4000:\n",
    "        d.append(i[0])\n",
    "dictionary2.filter_tokens(d)\n",
    "dict_size_after=len(dictionary2)\n",
    "print (dict_size_before,dict_size_after)"
   ]
  },
  {
   "cell_type": "code",
   "execution_count": 13,
   "metadata": {
    "collapsed": false
   },
   "outputs": [],
   "source": [
    "corpus2 = [dictionary2.doc2bow(text) for text in texts]  # составляем корпус документов"
   ]
  },
  {
   "cell_type": "code",
   "execution_count": 14,
   "metadata": {
    "collapsed": false
   },
   "outputs": [
    {
     "name": "stdout",
     "output_type": "stream",
     "text": [
      "428249 343665\n"
     ]
    }
   ],
   "source": [
    "def get_corpus_size(cor):\n",
    "    sum=0\n",
    "    for c in cor:\n",
    "        sum=sum+len(c)\n",
    "    return sum\n",
    "\n",
    "corpus_size_before=get_corpus_size(corpus)\n",
    "corpus_size_after=get_corpus_size(corpus2)\n",
    "print (corpus_size_before,corpus_size_after)"
   ]
  },
  {
   "cell_type": "code",
   "execution_count": 15,
   "metadata": {
    "collapsed": true
   },
   "outputs": [],
   "source": [
    "def save_answers2(dict_size_before, dict_size_after, corpus_size_before, corpus_size_after):\n",
    "    with open(\"cooking_LDA_pa_task2.txt\", \"w\") as fout:\n",
    "        fout.write(\" \".join([str(el) for el in [dict_size_before, dict_size_after, corpus_size_before, corpus_size_after]]))\n",
    "save_answers2 (dict_size_before,dict_size_after,corpus_size_before,corpus_size_after)"
   ]
  },
  {
   "cell_type": "markdown",
   "metadata": {},
   "source": [
    "### Сравнение когерентностей\n",
    "__Задание 3.__ Постройте еще одну модель по корпусу corpus2 и словарю dictionary2, остальные параметры оставьте такими же, как при первом построении модели. Сохраните новую модель в другую переменную (не перезаписывайте предыдущую модель). Не забудьте про фиксирование seed!\n",
    "\n",
    "Затем воспользуйтесь методом *top_topics* модели, чтобы вычислить ее когерентность. Передайте в качестве аргумента соответствующий модели корпус. Метод вернет список кортежей (топ токенов, когерентность), отсортированных по убыванию последней. Вычислите среднюю по всем темам когерентность для каждой из двух моделей и передайте в функцию save_answers3. "
   ]
  },
  {
   "cell_type": "code",
   "execution_count": 16,
   "metadata": {
    "collapsed": true
   },
   "outputs": [],
   "source": [
    "np.random.seed(76543)\n",
    "ldamodel2 = models.ldamodel.LdaModel(corpus2, id2word=dictionary2, num_topics=40, passes=5)"
   ]
  },
  {
   "cell_type": "code",
   "execution_count": 17,
   "metadata": {
    "collapsed": false
   },
   "outputs": [],
   "source": [
    "coherence_top=ldamodel.top_topics(corpus)\n",
    "coherence_top2=ldamodel2.top_topics(corpus2)"
   ]
  },
  {
   "cell_type": "code",
   "execution_count": 18,
   "metadata": {
    "collapsed": false
   },
   "outputs": [],
   "source": [
    "def get_avg_coh(top):\n",
    "    coh_list=list()\n",
    "    for t in top:\n",
    "        coh_list.append(t[1])\n",
    "    return np.average(coh_list)"
   ]
  },
  {
   "cell_type": "code",
   "execution_count": 19,
   "metadata": {
    "collapsed": false
   },
   "outputs": [
    {
     "data": {
      "text/plain": [
       "(-685.11429067422785, -753.1392065925711)"
      ]
     },
     "execution_count": 19,
     "metadata": {},
     "output_type": "execute_result"
    }
   ],
   "source": [
    "coherence=get_avg_coh(coherence_top)\n",
    "coherence2=get_avg_coh(coherence_top2)\n",
    "coherence,coherence2"
   ]
  },
  {
   "cell_type": "code",
   "execution_count": 20,
   "metadata": {
    "collapsed": true
   },
   "outputs": [],
   "source": [
    "def save_answers3(coherence, coherence2):\n",
    "    with open(\"cooking_LDA_pa_task3.txt\", \"w\") as fout:\n",
    "        fout.write(\" \".join([\"%3f\"%el for el in [coherence, coherence2]]))\n",
    "save_answers3(coherence,coherence2)"
   ]
  },
  {
   "cell_type": "markdown",
   "metadata": {},
   "source": [
    "Считается, что когерентность хорошо соотносится с человеческими оценками интерпретируемости тем. Поэтому на больших текстовых коллекциях когерентность обычно повышается, если убрать фоновую лексику. Однако в нашем случае этого не произошло. "
   ]
  },
  {
   "cell_type": "markdown",
   "metadata": {},
   "source": [
    "### Изучение влияния гиперпараметра alpha"
   ]
  },
  {
   "cell_type": "markdown",
   "metadata": {},
   "source": [
    "В этом разделе мы будем работать со второй моделью, то есть той, которая построена по сокращенному корпусу. \n",
    "\n",
    "Пока что мы посмотрели только на матрицу темы-слова, теперь давайте посмотрим на матрицу темы-документы. Выведите темы для нулевого (или любого другого) документа из корпуса, воспользовавшись методом *get_document_topics* второй модели:"
   ]
  },
  {
   "cell_type": "code",
   "execution_count": 21,
   "metadata": {
    "collapsed": false
   },
   "outputs": [
    {
     "data": {
      "text/plain": [
       "[(15, 0.34640719601743825), (36, 0.53484280398256179)]"
      ]
     },
     "execution_count": 21,
     "metadata": {},
     "output_type": "execute_result"
    }
   ],
   "source": [
    "ldamodel2.get_document_topics(corpus2[0])"
   ]
  },
  {
   "cell_type": "markdown",
   "metadata": {},
   "source": [
    "Также выведите содержимое переменной *.alpha* второй модели:"
   ]
  },
  {
   "cell_type": "code",
   "execution_count": 22,
   "metadata": {
    "collapsed": false
   },
   "outputs": [
    {
     "data": {
      "text/plain": [
       "array([ 0.025,  0.025,  0.025,  0.025,  0.025,  0.025,  0.025,  0.025,\n",
       "        0.025,  0.025,  0.025,  0.025,  0.025,  0.025,  0.025,  0.025,\n",
       "        0.025,  0.025,  0.025,  0.025,  0.025,  0.025,  0.025,  0.025,\n",
       "        0.025,  0.025,  0.025,  0.025,  0.025,  0.025,  0.025,  0.025,\n",
       "        0.025,  0.025,  0.025,  0.025,  0.025,  0.025,  0.025,  0.025])"
      ]
     },
     "execution_count": 22,
     "metadata": {},
     "output_type": "execute_result"
    }
   ],
   "source": [
    "ldamodel2.alpha"
   ]
  },
  {
   "cell_type": "markdown",
   "metadata": {},
   "source": [
    "У вас должно получиться, что документ характеризуется небольшим числом тем. Попробуем поменять гиперпараметр alpha, задающий априорное распределение Дирихле для распределений тем в документах."
   ]
  },
  {
   "cell_type": "markdown",
   "metadata": {},
   "source": [
    "__Задание 4.__ Обучите третью модель: используйте сокращенный корпус (corpus2 и dictionary2) и установите параметр __alpha=1__, passes=5. Не забудьте про фиксацию seed! Выведите темы новой модели для нулевого документа; должно получиться, что распределение над множеством тем практически равномерное. Чтобы убедиться в том, что во второй модели документы описываются гораздо более разреженными распределениями, чем в третьей, посчитайте суммарное количество элементов, __превосходящих 0.01__, в матрицах темы-документы обеих моделей. Другими словами, запросите темы  модели для каждого документа с параметром *minimum_probability=0.01* и просуммируйте число элементов в получаемых массивах. Передайте две суммы (сначала для модели с alpha по умолчанию, затем для модели в alpha=1) в функцию save_answers4."
   ]
  },
  {
   "cell_type": "code",
   "execution_count": 23,
   "metadata": {
    "collapsed": true
   },
   "outputs": [],
   "source": [
    "np.random.seed(76543)\n",
    "ldamodel3 = models.ldamodel.LdaModel(corpus2, id2word=dictionary2, num_topics=40, passes=5,alpha=1)"
   ]
  },
  {
   "cell_type": "code",
   "execution_count": 24,
   "metadata": {
    "collapsed": false
   },
   "outputs": [
    {
     "name": "stdout",
     "output_type": "stream",
     "text": [
      "196824 1590960\n"
     ]
    }
   ],
   "source": [
    "def count_topics_dest(ldm,corpus,pred):\n",
    "    qty=0\n",
    "    for c in corpus:\n",
    "        qty=qty+len(ldm.get_document_topics(c,minimum_probability=pred))\n",
    "    return qty\n",
    "pred=0.01\n",
    "count_model2=count_topics_dest(ldamodel2,corpus2,pred)\n",
    "count_model3=count_topics_dest(ldamodel3,corpus2,pred)\n",
    "print (count_model2,count_model3)"
   ]
  },
  {
   "cell_type": "code",
   "execution_count": 25,
   "metadata": {
    "collapsed": true
   },
   "outputs": [],
   "source": [
    "def save_answers4(count_model2, count_model3):\n",
    "    with open(\"cooking_LDA_pa_task4.txt\", \"w\") as fout:\n",
    "        fout.write(\" \".join([str(el) for el in [count_model2, count_model3]]))\n",
    "save_answers4(count_model2,count_model3)"
   ]
  },
  {
   "cell_type": "markdown",
   "metadata": {},
   "source": [
    "Таким образом, гиперпараметр __alpha__ влияет на разреженность распределений тем в документах. Аналогично гиперпараметр __eta__ влияет на разреженность распределений слов в темах."
   ]
  },
  {
   "cell_type": "markdown",
   "metadata": {},
   "source": [
    "### LDA как способ понижения размерности\n",
    "Иногда, распределения над темами, найденные с помощью LDA, добавляют в матрицу объекты-признаки как дополнительные, семантические, признаки, и это может улучшить качество решения задачи. Для простоты давайте просто обучим классификатор рецептов на кухни на признаках, полученных из LDA, и измерим точность (accuracy).\n",
    "\n",
    "__Задание 5.__ Используйте модель, построенную по сокращенной выборке с alpha по умолчанию (вторую модель). Составьте матрицу $\\Theta = p(t|d)$ вероятностей тем в документах; вы можете использовать тот же метод get_document_topics, а также вектор правильных ответов y (в том же порядке, в котором рецепты идут в переменной recipes). Создайте объект RandomForestClassifier со 100 деревьями, с помощью функции cross_val_score вычислите среднюю accuracy по трем фолдам (перемешивать данные не нужно) и передайте в функцию save_answers5."
   ]
  },
  {
   "cell_type": "code",
   "execution_count": 105,
   "metadata": {
    "collapsed": false
   },
   "outputs": [],
   "source": [
    "from sklearn.ensemble import RandomForestClassifier\n",
    "from sklearn.model_selection import cross_val_score\n",
    "from sklearn import preprocessing\n",
    "import pandas as pd"
   ]
  },
  {
   "cell_type": "code",
   "execution_count": 106,
   "metadata": {
    "collapsed": false
   },
   "outputs": [],
   "source": [
    "teta=ldamodel2.get_document_topics(corpus2,minimum_probability=0)\n",
    "prob_list=[]\n",
    "for t in teta:\n",
    "    prob_list.append(t)"
   ]
  },
  {
   "cell_type": "code",
   "execution_count": 107,
   "metadata": {
    "collapsed": false
   },
   "outputs": [],
   "source": [
    "def f(x):\n",
    "    return x[1]\n",
    "X=pd.DataFrame(prob_list)\n",
    "for col in X.columns:\n",
    "    X[col]=X[col].apply(f)"
   ]
  },
  {
   "cell_type": "code",
   "execution_count": 108,
   "metadata": {
    "collapsed": false
   },
   "outputs": [],
   "source": [
    "y=[r['cuisine'] for r in recipes]\n",
    "le=preprocessing.LabelEncoder()\n",
    "y=le.fit_transform(y)"
   ]
  },
  {
   "cell_type": "code",
   "execution_count": 103,
   "metadata": {
    "collapsed": false
   },
   "outputs": [
    {
     "name": "stdout",
     "output_type": "stream",
     "text": [
      "0.537915505783\n"
     ]
    }
   ],
   "source": [
    "rf=RandomForestClassifier(n_estimators=100)\n",
    "acc=cross_val_score(rf,X,y,cv=3)\n",
    "print (acc.mean())"
   ]
  },
  {
   "cell_type": "code",
   "execution_count": 104,
   "metadata": {
    "collapsed": false
   },
   "outputs": [],
   "source": [
    "def save_answers5(accuracy):\n",
    "     with open(\"cooking_LDA_pa_task5.txt\", \"w\") as fout:\n",
    "        fout.write(str(accuracy))\n",
    "save_answers5(acc.mean())"
   ]
  },
  {
   "cell_type": "markdown",
   "metadata": {},
   "source": [
    "Для такого большого количества классов это неплохая точность. Вы можете попроовать обучать RandomForest на исходной матрице частот слов, имеющей значительно большую размерность, и увидеть, что accuracy увеличивается на 10–15%. Таким образом, LDA собрал не всю, но достаточно большую часть информации из выборки, в матрице низкого ранга."
   ]
  },
  {
   "cell_type": "markdown",
   "metadata": {},
   "source": [
    "### LDA — вероятностная модель\n",
    "Матричное разложение, использующееся в LDA, интерпретируется как следующий процесс генерации документов.\n",
    "\n",
    "Для документа $d$ длины $n_d$:\n",
    "1. Из априорного распределения Дирихле с параметром alpha сгенерировать распределение над множеством тем: $\\theta_d \\sim Dirichlet(\\alpha)$\n",
    "1. Для каждого слова $w = 1, \\dots, n_d$:\n",
    "    1. Сгенерировать тему из дискретного распределения $t \\sim \\theta_{d}$\n",
    "    1. Сгенерировать слово из дискретного распределения $w \\sim \\phi_{t}$.\n",
    "    \n",
    "Подробнее об этом в [Википедии](https://en.wikipedia.org/wiki/Latent_Dirichlet_allocation).\n",
    "\n",
    "В контексте нашей задачи получается, что, используя данный генеративный процесс, можно создавать новые рецепты. Вы можете передать в функцию модель и число ингредиентов и сгенерировать рецепт :)"
   ]
  },
  {
   "cell_type": "code",
   "execution_count": 51,
   "metadata": {
    "collapsed": false
   },
   "outputs": [],
   "source": [
    "def generate_recipe(model, num_ingredients):\n",
    "    theta = np.random.dirichlet(model.alpha)\n",
    "    for i in range(num_ingredients):\n",
    "        t = np.random.choice(np.arange(model.num_topics), p=theta)\n",
    "        topic = model.show_topic(t, topn=model.num_terms)\n",
    "        topic_distr = [x[1] for x in topic]\n",
    "        terms = [x[0] for x in topic]\n",
    "        w = np.random.choice(terms, p=topic_distr)\n",
    "        print (w)"
   ]
  },
  {
   "cell_type": "code",
   "execution_count": 55,
   "metadata": {
    "collapsed": false
   },
   "outputs": [
    {
     "name": "stdout",
     "output_type": "stream",
     "text": [
      "white vinegar\n",
      "skinless chicken pieces\n",
      "long-grain rice\n",
      "large shrimp\n",
      "pork\n"
     ]
    }
   ],
   "source": [
    "generate_recipe(ldamodel2,5)"
   ]
  },
  {
   "cell_type": "markdown",
   "metadata": {},
   "source": [
    "### Интерпретация построенной модели\n",
    "Вы можете рассмотреть топы ингредиентов каждой темы. Большиснтво тем сами по себе похожи на рецепты; в некоторых собираются продукты одного вида, например, свежие фрукты или разные виды сыра.\n",
    "\n",
    "Попробуем эмпирически соотнести наши темы с национальными кухнями (cuisine). Построим матрицу $A$ размера темы $x$ кухни, ее элементы $a_{tc}$ — суммы $p(t|d)$ по всем документам $d$, которые отнесены к кухне $c$. Нормируем матрицу на частоты рецептов по разным кухням, чтобы избежать дисбаланса между кухнями. Следующая функция получает на вход объект модели, объект корпуса и исходные данные и возвращает нормированную матрицу $A$. Ее удобно визуализировать с помощью seaborn."
   ]
  },
  {
   "cell_type": "code",
   "execution_count": 56,
   "metadata": {
    "collapsed": true
   },
   "outputs": [],
   "source": [
    "import pandas\n",
    "import seaborn\n",
    "from matplotlib import pyplot as plt\n",
    "%matplotlib inline"
   ]
  },
  {
   "cell_type": "code",
   "execution_count": 57,
   "metadata": {
    "collapsed": true
   },
   "outputs": [],
   "source": [
    "def compute_topic_cuisine_matrix(model, corpus, recipes):\n",
    "    # составляем вектор целевых признаков\n",
    "    targets = list(set([recipe[\"cuisine\"] for recipe in recipes]))\n",
    "    # составляем матрицу\n",
    "    tc_matrix = pandas.DataFrame(data=np.zeros((model.num_topics, len(targets))), columns=targets)\n",
    "    for recipe, bow in zip(recipes, corpus):\n",
    "        recipe_topic = model.get_document_topics(bow)\n",
    "        for t, prob in recipe_topic:\n",
    "            tc_matrix[recipe[\"cuisine\"]][t] += prob\n",
    "    # нормируем матрицу\n",
    "    target_sums = pandas.DataFrame(data=np.zeros((1, len(targets))), columns=targets)\n",
    "    for recipe in recipes:\n",
    "        target_sums[recipe[\"cuisine\"]] += 1\n",
    "    return pandas.DataFrame(tc_matrix.values/target_sums.values, columns=tc_matrix.columns)"
   ]
  },
  {
   "cell_type": "code",
   "execution_count": 58,
   "metadata": {
    "collapsed": true
   },
   "outputs": [],
   "source": [
    "def plot_matrix(tc_matrix):\n",
    "    plt.figure(figsize=(10, 10))\n",
    "    seaborn.heatmap(tc_matrix, square=True)"
   ]
  },
  {
   "cell_type": "code",
   "execution_count": 59,
   "metadata": {
    "collapsed": false
   },
   "outputs": [
    {
     "data": {
      "image/png": "[encoded data removed]",
      "text/plain": [
       "<matplotlib.figure.Figure at 0x29d02886ef0>"
      ]
     },
     "metadata": {},
     "output_type": "display_data"
    }
   ],
   "source": [
    "# Визуализируйте матрицу\n",
    "tc_matrix=compute_topic_cuisine_matrix(ldamodel2,corpus2,recipes)\n",
    "plot_matrix(tc_matrix)"
   ]
  },
  {
   "cell_type": "markdown",
   "metadata": {},
   "source": [
    "Чем темнее квадрат в матрице, тем больше связь этой темы с данной кухней. Мы видим, что у нас есть темы, которые связаны с несколькими кухнями. Такие темы показывают набор ингредиентов, которые популярны в кухнях нескольких народов, то есть указывают на схожесть кухонь этих народов. Некоторые темы распределены по всем кухням равномерно, они показывают наборы продуктов, которые часто используются в кулинарии всех стран. "
   ]
  },
  {
   "cell_type": "markdown",
   "metadata": {},
   "source": [
    "Жаль, что в датасете нет названий рецептов, иначе темы было бы проще интерпретировать..."
   ]
  },
  {
   "cell_type": "markdown",
   "metadata": {},
   "source": [
    "### Заключение\n",
    "В этом задании вы построили несколько моделей LDA, посмотрели, на что влияют гиперпараметры модели и как можно использовать построенную модель. "
   ]
  }
 ],
 "metadata": {
  "kernelspec": {
   "display_name": "Python [default]",
   "language": "python",
   "name": "python3"
  },
  "language_info": {
   "codemirror_mode": {
    "name": "ipython",
    "version": 3
   },
   "file_extension": ".py",
   "mimetype": "text/x-python",
   "name": "python",
   "nbconvert_exporter": "python",
   "pygments_lexer": "ipython3",
   "version": "3.5.2"
  }
 },
 "nbformat": 4,
 "nbformat_minor": 0
}
